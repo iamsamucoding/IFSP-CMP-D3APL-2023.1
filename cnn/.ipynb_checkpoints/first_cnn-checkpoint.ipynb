{
 "cells": [
  {
   "cell_type": "markdown",
   "id": "09142599-d99c-4b84-ae6b-4ee2abc7df3a",
   "metadata": {},
   "source": [
    "**D3APL: Aplicações em Ciência de Dados** <br/>\n",
    "IFSP Campinas\n",
    "\n",
    "Prof. Dr. Samuel Martins (Samuka) <br/><br/>\n",
    "\n",
    "<a rel=\"license\" href=\"http://creativecommons.org/licenses/by-nc-sa/4.0/\"><img alt=\"Creative Commons License\" style=\"border-width:0\" src=\"https://i.creativecommons.org/l/by-nc-sa/4.0/88x31.png\" /></a><br />This work is licensed under a <a rel=\"license\" href=\"http://creativecommons.org/licenses/by-nc-sa/4.0/\">Creative Commons Attribution-NonCommercial-ShareAlike 4.0 International License</a>."
   ]
  },
  {
   "cell_type": "markdown",
   "id": "dbed1c92-5c77-4898-8cbb-e847af6f72cc",
   "metadata": {},
   "source": [
    "# Training our first CNN for Multiclass Image Classification"
   ]
  },
  {
   "cell_type": "markdown",
   "id": "d2fb8137-7b1b-42e9-b2e9-75711269596c",
   "metadata": {},
   "source": [
    "## 1. Set up"
   ]
  },
  {
   "cell_type": "markdown",
   "id": "a3542eb6-d992-499f-9ac6-8771676123c6",
   "metadata": {},
   "source": [
    "#### 1.1 TensorFlow + Keras"
   ]
  },
  {
   "cell_type": "code",
   "execution_count": 1,
   "id": "ab093db2-4853-44eb-b588-da0a71ad6dba",
   "metadata": {},
   "outputs": [],
   "source": [
    "import tensorflow as tf"
   ]
  },
  {
   "cell_type": "code",
   "execution_count": 2,
   "id": "9e36de08-c4c0-4632-af0b-bed7b64296ac",
   "metadata": {},
   "outputs": [
    {
     "data": {
      "text/plain": [
       "'2.8.0'"
      ]
     },
     "execution_count": 2,
     "metadata": {},
     "output_type": "execute_result"
    }
   ],
   "source": [
    "tf.__version__"
   ]
  },
  {
   "cell_type": "markdown",
   "id": "f55f5afb-ecab-48f1-ad12-de12d0c38e40",
   "metadata": {},
   "source": [
    "**GPU available?**"
   ]
  },
  {
   "cell_type": "code",
   "execution_count": 3,
   "id": "cf10151d-8abe-49f7-a1f2-9f4050d6dd6e",
   "metadata": {},
   "outputs": [
    {
     "name": "stdout",
     "output_type": "stream",
     "text": [
      "Num GPUs Available:  1\n"
     ]
    }
   ],
   "source": [
    "import tensorflow as tf\n",
    "print(\"Num GPUs Available: \", len(tf.config.list_physical_devices('GPU')))"
   ]
  },
  {
   "cell_type": "markdown",
   "id": "4e17fb00-de23-48bd-ab8a-1b6cc9089043",
   "metadata": {},
   "source": [
    "### 1.2 Fixing the seed for reproducibility (optional)\n",
    "That's a try for reprodubility in Keras. See more on:\n",
    "- https://stackoverflow.com/a/59076062\n",
    "- https://machinelearningmastery.com/reproducible-results-neural-networks-keras/"
   ]
  },
  {
   "cell_type": "code",
   "execution_count": 4,
   "id": "41809176-c43b-4143-940e-e63e26394fe0",
   "metadata": {},
   "outputs": [],
   "source": [
    "import os\n",
    "import tensorflow as tf\n",
    "import numpy as np\n",
    "import random\n",
    "\n",
    "def reset_random_seeds(seed=42):\n",
    "    os.environ['PYTHONHASHSEED'] = str(seed)\n",
    "    tf.random.set_seed(seed)\n",
    "    np.random.seed(seed)\n",
    "    random.seed(seed)\n",
    "\n",
    "    \n",
    "# make some random data\n",
    "reset_random_seeds()"
   ]
  },
  {
   "cell_type": "markdown",
   "id": "47b3b9b6-207c-4b5a-a243-e68b490c7c1b",
   "metadata": {},
   "source": [
    "#### 1.3 Other imports"
   ]
  },
  {
   "cell_type": "code",
   "execution_count": 5,
   "id": "dd9377a2-d2d5-4c3b-825a-f389e6091be2",
   "metadata": {},
   "outputs": [],
   "source": [
    "import numpy as np\n",
    "import matplotlib.pyplot as plt"
   ]
  },
  {
   "cell_type": "markdown",
   "id": "231de637-e2aa-4d28-840a-d8c503f63b75",
   "metadata": {},
   "source": [
    "#### 1.4 CIFAR-10\n",
    "https://keras.io/api/datasets/cifar10/ <br/>\n",
    "https://en.wikipedia.org/wiki/CIFAR-10"
   ]
  },
  {
   "cell_type": "code",
   "execution_count": 6,
   "id": "665e9506-45a0-478b-ad77-5fdbea1a4fc9",
   "metadata": {},
   "outputs": [],
   "source": [
    "from tensorflow.keras.datasets import cifar10"
   ]
  },
  {
   "cell_type": "code",
   "execution_count": 7,
   "id": "7af01078-3198-47ec-913a-6806fd3910b9",
   "metadata": {},
   "outputs": [],
   "source": [
    "(X_train, y_train), (X_test, y_test) = cifar10.load_data()"
   ]
  },
  {
   "cell_type": "markdown",
   "id": "29a052da-0820-4a38-8456-e0508e61cf65",
   "metadata": {},
   "source": [
    "The dataset is already split into a training set and a test set."
   ]
  },
  {
   "cell_type": "code",
   "execution_count": 8,
   "id": "834d107e-754a-4586-91dd-275e3d8d059c",
   "metadata": {},
   "outputs": [
    {
     "data": {
      "text/plain": [
       "['fashion-mnist',\n",
       " 'mnist.npz',\n",
       " 'cifar-10-batches-py',\n",
       " 'cifar-10-batches-py.tar.gz']"
      ]
     },
     "execution_count": 8,
     "metadata": {},
     "output_type": "execute_result"
    }
   ],
   "source": [
    "# download done in folder: \"~/.keras/datasets\"\n",
    "import os\n",
    "os.listdir(os.path.expanduser('~/.keras/datasets'))"
   ]
  },
  {
   "cell_type": "code",
   "execution_count": 9,
   "id": "4aacde3d-5483-468b-9965-d6800199fef9",
   "metadata": {},
   "outputs": [
    {
     "name": "stdout",
     "output_type": "stream",
     "text": [
      "X_train.shape: (50000, 32, 32, 3)\n",
      "y_train.shape: (50000, 1)\n",
      "\n",
      "X_test.shape: (10000, 32, 32, 3)\n",
      "y_test.shape: (10000, 1)\n"
     ]
    }
   ],
   "source": [
    "print(f'X_train.shape: {X_train.shape}')\n",
    "print(f'y_train.shape: {y_train.shape}\\n')\n",
    "\n",
    "print(f'X_test.shape: {X_test.shape}')\n",
    "print(f'y_test.shape: {y_test.shape}')"
   ]
  },
  {
   "cell_type": "code",
   "execution_count": 10,
   "id": "03505222-13d1-466a-accd-6203768047b5",
   "metadata": {},
   "outputs": [],
   "source": [
    "# reshape labels\n",
    "y_train = y_train.ravel()\n",
    "y_test = y_test.ravel()"
   ]
  },
  {
   "cell_type": "code",
   "execution_count": 11,
   "id": "f41ab7e2-d2e0-4f59-993f-5225211a81f8",
   "metadata": {},
   "outputs": [
    {
     "name": "stdout",
     "output_type": "stream",
     "text": [
      "y_train.shape: (50000,)\n",
      "y_test.shape: (10000,)\n"
     ]
    }
   ],
   "source": [
    "print(f'y_train.shape: {y_train.shape}')\n",
    "print(f'y_test.shape: {y_test.shape}')"
   ]
  },
  {
   "cell_type": "code",
   "execution_count": 12,
   "id": "e1cf3eb2-3952-4bec-bc90-362428e990fc",
   "metadata": {},
   "outputs": [
    {
     "name": "stdout",
     "output_type": "stream",
     "text": [
      "Number of Classes: 10\n",
      "Classes: [0 1 2 3 4 5 6 7 8 9]\n"
     ]
    }
   ],
   "source": [
    "print(f'Number of Classes: {np.unique(y_train).shape[0]}')\n",
    "print(f'Classes: {np.unique(y_train)}')"
   ]
  },
  {
   "cell_type": "code",
   "execution_count": 13,
   "id": "445f7cbc-6270-4b4e-ae1f-c46408d5d236",
   "metadata": {},
   "outputs": [
    {
     "data": {
      "text/plain": [
       "['airplane',\n",
       " 'automobile',\n",
       " 'bird',\n",
       " 'cat',\n",
       " 'deer',\n",
       " 'dog',\n",
       " 'frog',\n",
       " 'horse',\n",
       " 'ship',\n",
       " 'truck']"
      ]
     },
     "execution_count": 13,
     "metadata": {},
     "output_type": "execute_result"
    }
   ],
   "source": [
    "class_names = [\"airplane\", \"automobile\", \"bird\", \"cat\", \"deer\", \"dog\", \"frog\", \"horse\", \"ship\", \"truck\"]\n",
    "class_names"
   ]
  },
  {
   "cell_type": "code",
   "execution_count": 14,
   "id": "253161c7-ffeb-459a-b391-cc2908598fcd",
   "metadata": {},
   "outputs": [
    {
     "data": {
      "text/plain": [
       "(50000,)"
      ]
     },
     "execution_count": 14,
     "metadata": {},
     "output_type": "execute_result"
    }
   ],
   "source": [
    "y_train.shape"
   ]
  },
  {
   "cell_type": "code",
   "execution_count": 15,
   "id": "7c4c8ba7-6842-450f-86e2-99c6669f7b1c",
   "metadata": {},
   "outputs": [
    {
     "data": {
      "image/png": "[encoded data removed]",
      "text/plain": [
       "<Figure size 720x216 with 4 Axes>"
      ]
     },
     "metadata": {
      "needs_background": "light"
     },
     "output_type": "display_data"
    }
   ],
   "source": [
    "_, axes = plt.subplots(nrows=1, ncols=4, figsize=(10, 3))\n",
    "for ax, image, label in zip(axes, X_train, y_train):\n",
    "    ax.set_axis_off()\n",
    "    ax.imshow(image)\n",
    "    ax.set_title(f'Image: {class_names[label]}')"
   ]
  },
  {
   "cell_type": "code",
   "execution_count": 16,
   "id": "6bfb14c2-e805-48e0-b39a-bca995b85dd9",
   "metadata": {},
   "outputs": [
    {
     "name": "stdout",
     "output_type": "stream",
     "text": [
      "Min. value of X_train: 0\n",
      "Max. value of X_train: 255\n",
      "\n",
      "Min. value of X_test: 0\n",
      "Max. value of X_test: 255\n"
     ]
    }
   ],
   "source": [
    "# 24-bit color scale\n",
    "print(f'Min. value of X_train: {X_train.min()}')\n",
    "print(f'Max. value of X_train: {X_train.max()}\\n')\n",
    "\n",
    "print(f'Min. value of X_test: {X_train.min()}')\n",
    "print(f'Max. value of X_test: {X_train.max()}')"
   ]
  },
  {
   "cell_type": "markdown",
   "id": "e8fcb542-031b-4f43-a32e-cc095cc1857b",
   "metadata": {},
   "source": [
    "#### 1.5 (Simple) Feature scaling\n",
    "Since we are going to train the neural network using _Gradient Descent_, we must scale the **input features**. For simplicity, we’ll scale the pixel intensities down to the _0–1_ range by dividing them by **255.0** (8-bit gray image):"
   ]
  },
  {
   "cell_type": "code",
   "execution_count": 17,
   "id": "f955f1b1-3ed9-4dad-a05e-fd8b83e19002",
   "metadata": {},
   "outputs": [],
   "source": [
    "X_train = X_train / 255.0\n",
    "X_test = X_test / 255.0"
   ]
  },
  {
   "cell_type": "code",
   "execution_count": 18,
   "id": "26ece1f5-7d6a-4406-bd16-6a6d8017cf1d",
   "metadata": {},
   "outputs": [
    {
     "name": "stdout",
     "output_type": "stream",
     "text": [
      "Min. value of X_train: 0.0\n",
      "Max. value of X_train: 1.0\n",
      "\n",
      "Min. value of X_test: 0.0\n",
      "Max. value of X_test: 1.0\n"
     ]
    }
   ],
   "source": [
    "# rescaled 8-bit gray scale\n",
    "print(f'Min. value of X_train: {X_train.min()}')\n",
    "print(f'Max. value of X_train: {X_train.max()}\\n')\n",
    "\n",
    "print(f'Min. value of X_test: {X_test.min()}')\n",
    "print(f'Max. value of X_test: {X_test.max()}')"
   ]
  },
  {
   "cell_type": "markdown",
   "id": "4ed90771-4316-4286-89b7-8bbe077db038",
   "metadata": {},
   "source": [
    "## 2. Building and Training a CNN via Keras"
   ]
  },
  {
   "cell_type": "markdown",
   "id": "692f75c8-57b8-4d7f-914b-1369e60cdb19",
   "metadata": {},
   "source": [
    "### 2.1 Defining the Network Architecture\n",
    "Proposed architecture for Multiclass Classification:\n",
    "- INPUT [32x32x3]\n",
    "- CONV [32, 4x4x3, 'valid']\n",
    "- RELU\n",
    "- MAX_POOL [2x2, stride=(2,2)]\n",
    "- CONV [32, 4x4x32, 'valid']\n",
    "- RELU\n",
    "- MAX_POOL [2x2, stride=(2,2)]\n",
    "- FLATTEN\n",
    "- FC [256]\n",
    "- RELU\n",
    "- FC [10, 'softmax']\n",
    "\n",
    "\n",
    "- optimizer: SGD with `learning_rate=0.05`\n",
    "- kernel_initializer: \"glorot_uniform\"\n",
    "- bias_initializer: \"zeros\"\n",
    "- **No regularization**"
   ]
  },
  {
   "cell_type": "markdown",
   "id": "4da9ced7-ea7e-4fac-bd1c-bc82851067a9",
   "metadata": {
    "tags": []
   },
   "source": [
    "#### **Defining the Network's Architecture**"
   ]
  },
  {
   "cell_type": "code",
   "execution_count": 19,
   "id": "5c1dbeb7-b314-4497-84c2-fbe3e7bed327",
   "metadata": {},
   "outputs": [
    {
     "name": "stdout",
     "output_type": "stream",
     "text": [
      "X_train.shape: (50000, 32, 32, 3)\n",
      "X_test.shape: (10000, 32, 32, 3)\n"
     ]
    }
   ],
   "source": [
    "print(f'X_train.shape: {X_train.shape}')\n",
    "print(f'X_test.shape: {X_test.shape}')"
   ]
  },
  {
   "cell_type": "code",
   "execution_count": 21,
   "id": "01ce1d0b-a7e9-438b-9301-8668a5ac908f",
   "metadata": {},
   "outputs": [
    {
     "data": {
      "text/plain": [
       "(32, 32, 3)"
      ]
     },
     "execution_count": 21,
     "metadata": {},
     "output_type": "execute_result"
    }
   ],
   "source": [
    "input_shape = X_train.shape[1:]\n",
    "input_shape"
   ]
  },
  {
   "cell_type": "code",
   "execution_count": 30,
   "id": "3ff40b8a-dede-4a4e-9918-f45319e03d4c",
   "metadata": {},
   "outputs": [],
   "source": [
    "from tensorflow.keras import Sequential\n",
    "from tensorflow.keras.layers import Conv2D, MaxPooling2D, Flatten, Dense\n",
    "\n",
    "def build_first_cnn():\n",
    "    model = Sequential([\n",
    "        Conv2D(filters=32, kernel_size=(4, 4), input_shape=input_shape, activation='relu'),\n",
    "        MaxPooling2D(pool_size=(2,2)),\n",
    "        Conv2D(filters=32, kernel_size=(4, 4), activation='relu'),\n",
    "        MaxPooling2D(pool_size=(2,2)),\n",
    "        \n",
    "        Flatten(),\n",
    "        \n",
    "        Dense(256, activation='relu'),\n",
    "        Dense(10, activation='softmax')\n",
    "    ])\n",
    "    \n",
    "    return model\n"
   ]
  },
  {
   "cell_type": "code",
   "execution_count": 31,
   "id": "c17a4f68-0316-4aed-adb6-98a7c6ec0bb2",
   "metadata": {},
   "outputs": [],
   "source": [
    "model = build_first_cnn()"
   ]
  },
  {
   "cell_type": "code",
   "execution_count": 32,
   "id": "77925152-bc32-4433-bf86-8337c636aa07",
   "metadata": {},
   "outputs": [
    {
     "name": "stdout",
     "output_type": "stream",
     "text": [
      "Model: \"sequential_2\"\n",
      "_________________________________________________________________\n",
      " Layer (type)                Output Shape              Param #   \n",
      "=================================================================\n",
      " conv2d_4 (Conv2D)           (None, 29, 29, 32)        1568      \n",
      "                                                                 \n",
      " max_pooling2d_4 (MaxPooling  (None, 14, 14, 32)       0         \n",
      " 2D)                                                             \n",
      "                                                                 \n",
      " conv2d_5 (Conv2D)           (None, 11, 11, 32)        16416     \n",
      "                                                                 \n",
      " max_pooling2d_5 (MaxPooling  (None, 5, 5, 32)         0         \n",
      " 2D)                                                             \n",
      "                                                                 \n",
      " flatten_2 (Flatten)         (None, 800)               0         \n",
      "                                                                 \n",
      " dense_4 (Dense)             (None, 256)               205056    \n",
      "                                                                 \n",
      " dense_5 (Dense)             (None, 10)                2570      \n",
      "                                                                 \n",
      "=================================================================\n",
      "Total params: 225,610\n",
      "Trainable params: 225,610\n",
      "Non-trainable params: 0\n",
      "_________________________________________________________________\n"
     ]
    }
   ],
   "source": [
    "model.summary()"
   ]
  },
  {
   "cell_type": "markdown",
   "id": "b83a1102-71c6-449e-8612-5278665014dc",
   "metadata": {},
   "source": [
    "### Visualizing the Architecture"
   ]
  },
  {
   "cell_type": "markdown",
   "id": "9650b008-41bb-4b2c-9a9a-9024a2498923",
   "metadata": {},
   "source": [
    "#### Native Keras Function: `plot_model`\n",
    "https://www.tensorflow.org/api_docs/python/tf/keras/utils/plot_model\n",
    "\n",
    "Requirements:\n",
    "- `graphviz` software for graph visualization\n",
    "  + `sudo apt-get install graphviz`\n",
    "  + `pip install graphviz`\n",
    "- `pip install pydot`"
   ]
  },
  {
   "cell_type": "code",
   "execution_count": 33,
   "id": "9db8f150-b208-4f51-9c90-a42ece9a79d8",
   "metadata": {},
   "outputs": [
    {
     "data": {
      "image/png": "[encoded data removed]",
      "text/plain": [
       "<IPython.core.display.Image object>"
      ]
     },
     "execution_count": 33,
     "metadata": {},
     "output_type": "execute_result"
    }
   ],
   "source": [
    "from tensorflow.keras.utils import plot_model\n",
    "# vertical\n",
    "plot_model(model, show_shapes=True, show_layer_activations=True)"
   ]
  },
  {
   "cell_type": "markdown",
   "id": "8a44305e-4fb7-4a5f-ae4c-1e0c348be509",
   "metadata": {},
   "source": [
    "#### visualkeras\n",
    "https://github.com/paulgavrikov/visualkeras <br/>\n",
    "https://analyticsindiamag.com/how-to-visualize-deep-learning-models-using-visualkeras/#:~:text=Visualkeras%20is%20a%20python%20package,style%20architecture%20of%20neural%20networks.\n",
    "\n",
    "More indicated for Deep Neural Networks, especially CNNs.\n",
    "\n",
    "Requirements:\n",
    "- `pip install visualkeras`"
   ]
  },
  {
   "cell_type": "code",
   "execution_count": 34,
   "id": "690df2fd-d23e-4078-99f6-155f000e449f",
   "metadata": {},
   "outputs": [],
   "source": [
    "import visualkeras"
   ]
  },
  {
   "cell_type": "code",
   "execution_count": 35,
   "id": "18632bee-7ca4-4e5e-b66f-078a7d185f3b",
   "metadata": {},
   "outputs": [],
   "source": [
    "visualkeras.layered_view(model, legend=True, scale_z=1).show() # display using your system viewer"
   ]
  },
  {
   "cell_type": "markdown",
   "id": "0a85c983-328c-4c21-aaf2-c7feb5bfe523",
   "metadata": {},
   "source": [
    "### 2.2 Compiling: Defining the Loss Function, Optimizer, and Metrics"
   ]
  },
  {
   "cell_type": "markdown",
   "id": "c5c0d544-4ed1-45ae-b27b-4979f80bae9b",
   "metadata": {},
   "source": [
    "#### **Loss:**"
   ]
  },
  {
   "cell_type": "markdown",
   "id": "197f6299-2d6a-454f-8ab1-871cd230a7f8",
   "metadata": {},
   "source": [
    "- `'binary_crossentropy'`: _binary classification_\n",
    "    + E.g.: One or more binary labels, _sigmoid_ as activation function.\n",
    "- `'categorical_crossentropy'`: _multiclass classification_, classes as **one-hot vectors**\n",
    "    + E.g.: [0., 0., 0., 1., 0., 0., 0., 0., 0., 0.] to represent class 3 out of 10 classes\n",
    "- `'sparse_categorical_crossentropy'`: _multiclass classification_, classes as **sparse labels**:\n",
    "    + E.g.: 1, 2, 3, ..., 9, 10\n"
   ]
  },
  {
   "cell_type": "code",
   "execution_count": 38,
   "id": "d7be8c98-8dc9-4957-ba6c-a81c90801acb",
   "metadata": {},
   "outputs": [],
   "source": [
    "# https://keras.io/api/optimizers/sgd/\n",
    "from tensorflow.keras.optimizers import SGD\n",
    "opt = SGD(learning_rate=0.05)\n",
    "\n",
    "model.compile(loss='sparse_categorical_crossentropy', metrics=['accuracy'], optimizer=opt)"
   ]
  },
  {
   "cell_type": "code",
   "execution_count": 39,
   "id": "d80f5275-9699-4d18-b0b8-c9cbcc6e1d39",
   "metadata": {},
   "outputs": [
    {
     "data": {
      "text/plain": [
       "[<keras.layers.convolutional.Conv2D at 0x7f5b298b4d60>,\n",
       " <keras.layers.pooling.MaxPooling2D at 0x7f5bdc45f070>,\n",
       " <keras.layers.convolutional.Conv2D at 0x7f5b298b4460>,\n",
       " <keras.layers.pooling.MaxPooling2D at 0x7f5b298b4af0>,\n",
       " <keras.layers.core.flatten.Flatten at 0x7f5b298b4e80>,\n",
       " <keras.layers.core.dense.Dense at 0x7f5b298b4a30>,\n",
       " <keras.layers.core.dense.Dense at 0x7f5b298d9220>]"
      ]
     },
     "execution_count": 39,
     "metadata": {},
     "output_type": "execute_result"
    }
   ],
   "source": [
    "model.layers"
   ]
  },
  {
   "cell_type": "markdown",
   "id": "16b1b6ce-3283-46ee-83d1-cce66271eddb",
   "metadata": {},
   "source": [
    "### 2.3 Training\n",
    "\n",
    "In case of GPU drivers, we can monitor its use by [_gpustat_](https://github.com/wookayin/gpustat).\n",
    "\n",
    "On terminal, use: `gpustat -cpi`\n"
   ]
  },
  {
   "cell_type": "code",
   "execution_count": 40,
   "id": "a8580290-0b32-43ac-a33d-735d11c6682a",
   "metadata": {},
   "outputs": [
    {
     "name": "stdout",
     "output_type": "stream",
     "text": [
      "Epoch 1/30\n",
      "1250/1250 [==============================] - 4s 3ms/step - loss: 1.7844 - accuracy: 0.3542 - val_loss: 1.4913 - val_accuracy: 0.4665\n",
      "Epoch 2/30\n",
      "1250/1250 [==============================] - 3s 2ms/step - loss: 1.3925 - accuracy: 0.5002 - val_loss: 1.3489 - val_accuracy: 0.5299\n",
      "Epoch 3/30\n",
      "1250/1250 [==============================] - 3s 2ms/step - loss: 1.2281 - accuracy: 0.5632 - val_loss: 1.2078 - val_accuracy: 0.5788\n",
      "Epoch 4/30\n",
      "1250/1250 [==============================] - 3s 2ms/step - loss: 1.1134 - accuracy: 0.6083 - val_loss: 1.1345 - val_accuracy: 0.6079\n",
      "Epoch 5/30\n",
      "1250/1250 [==============================] - 3s 2ms/step - loss: 1.0122 - accuracy: 0.6436 - val_loss: 1.1193 - val_accuracy: 0.6136\n",
      "Epoch 6/30\n",
      "1250/1250 [==============================] - 3s 2ms/step - loss: 0.9305 - accuracy: 0.6759 - val_loss: 1.0989 - val_accuracy: 0.6211\n",
      "Epoch 7/30\n",
      "1250/1250 [==============================] - 3s 2ms/step - loss: 0.8469 - accuracy: 0.7045 - val_loss: 1.0467 - val_accuracy: 0.6491\n",
      "Epoch 8/30\n",
      "1250/1250 [==============================] - 3s 2ms/step - loss: 0.7661 - accuracy: 0.7320 - val_loss: 1.0928 - val_accuracy: 0.6386\n",
      "Epoch 9/30\n",
      "1250/1250 [==============================] - 3s 2ms/step - loss: 0.6894 - accuracy: 0.7594 - val_loss: 1.1596 - val_accuracy: 0.6280\n",
      "Epoch 10/30\n",
      "1250/1250 [==============================] - 3s 2ms/step - loss: 0.6159 - accuracy: 0.7844 - val_loss: 1.1501 - val_accuracy: 0.6407\n",
      "Epoch 11/30\n",
      "1250/1250 [==============================] - 3s 2ms/step - loss: 0.5501 - accuracy: 0.8070 - val_loss: 1.1524 - val_accuracy: 0.6487\n",
      "Epoch 12/30\n",
      "1250/1250 [==============================] - 3s 2ms/step - loss: 0.4887 - accuracy: 0.8275 - val_loss: 1.2271 - val_accuracy: 0.6457\n",
      "Epoch 13/30\n",
      "1250/1250 [==============================] - 3s 2ms/step - loss: 0.4205 - accuracy: 0.8526 - val_loss: 1.3053 - val_accuracy: 0.6497\n",
      "Epoch 14/30\n",
      "1250/1250 [==============================] - 3s 2ms/step - loss: 0.3637 - accuracy: 0.8727 - val_loss: 1.4187 - val_accuracy: 0.6415\n",
      "Epoch 15/30\n",
      "1250/1250 [==============================] - 3s 2ms/step - loss: 0.3210 - accuracy: 0.8879 - val_loss: 1.5561 - val_accuracy: 0.6365\n",
      "Epoch 16/30\n",
      "1250/1250 [==============================] - 3s 2ms/step - loss: 0.2797 - accuracy: 0.9001 - val_loss: 1.6525 - val_accuracy: 0.6332\n",
      "Epoch 17/30\n",
      "1250/1250 [==============================] - 3s 2ms/step - loss: 0.2492 - accuracy: 0.9120 - val_loss: 1.7420 - val_accuracy: 0.6390\n",
      "Epoch 18/30\n",
      "1250/1250 [==============================] - 3s 3ms/step - loss: 0.2150 - accuracy: 0.9245 - val_loss: 1.7840 - val_accuracy: 0.6385\n",
      "Epoch 19/30\n",
      "1250/1250 [==============================] - 3s 2ms/step - loss: 0.1958 - accuracy: 0.9310 - val_loss: 1.9808 - val_accuracy: 0.6286\n",
      "Epoch 20/30\n",
      "1250/1250 [==============================] - 3s 2ms/step - loss: 0.1882 - accuracy: 0.9346 - val_loss: 2.0442 - val_accuracy: 0.6293\n",
      "Epoch 21/30\n",
      "1250/1250 [==============================] - 3s 2ms/step - loss: 0.1731 - accuracy: 0.9402 - val_loss: 2.1058 - val_accuracy: 0.6365\n",
      "Epoch 22/30\n",
      "1250/1250 [==============================] - 3s 2ms/step - loss: 0.1539 - accuracy: 0.9472 - val_loss: 2.1960 - val_accuracy: 0.6376\n",
      "Epoch 23/30\n",
      "1250/1250 [==============================] - 3s 2ms/step - loss: 0.1435 - accuracy: 0.9501 - val_loss: 2.2474 - val_accuracy: 0.6388\n",
      "Epoch 24/30\n",
      "1250/1250 [==============================] - 3s 2ms/step - loss: 0.1266 - accuracy: 0.9563 - val_loss: 2.4568 - val_accuracy: 0.6363\n",
      "Epoch 25/30\n",
      "1250/1250 [==============================] - 3s 2ms/step - loss: 0.1460 - accuracy: 0.9507 - val_loss: 2.3817 - val_accuracy: 0.6347\n",
      "Epoch 26/30\n",
      "1250/1250 [==============================] - 3s 2ms/step - loss: 0.1254 - accuracy: 0.9577 - val_loss: 2.4830 - val_accuracy: 0.6362\n",
      "Epoch 27/30\n",
      "1250/1250 [==============================] - 3s 2ms/step - loss: 0.1130 - accuracy: 0.9613 - val_loss: 2.7253 - val_accuracy: 0.6352\n",
      "Epoch 28/30\n",
      "1250/1250 [==============================] - 3s 2ms/step - loss: 0.1265 - accuracy: 0.9579 - val_loss: 2.7375 - val_accuracy: 0.6252\n",
      "Epoch 29/30\n",
      "1250/1250 [==============================] - 3s 2ms/step - loss: 0.1151 - accuracy: 0.9612 - val_loss: 2.7130 - val_accuracy: 0.6352\n",
      "Epoch 30/30\n",
      "1250/1250 [==============================] - 3s 2ms/step - loss: 0.1168 - accuracy: 0.9612 - val_loss: 2.8378 - val_accuracy: 0.6247\n"
     ]
    }
   ],
   "source": [
    "history = model.fit(X_train, y_train, epochs=30, batch_size=32, validation_split=0.2)"
   ]
  },
  {
   "cell_type": "markdown",
   "id": "9f7dc519-947b-492a-bf99-c6638cf75338",
   "metadata": {},
   "source": [
    "#### **Visualizing the training history**"
   ]
  },
  {
   "cell_type": "code",
   "execution_count": 41,
   "id": "abcb091e-a508-4a5b-9efa-6da9d1b47b95",
   "metadata": {},
   "outputs": [
    {
     "data": {
      "text/html": [
       "<div>\n",
       "<style scoped>\n",
       "    .dataframe tbody tr th:only-of-type {\n",
       "        vertical-align: middle;\n",
       "    }\n",
       "\n",
       "    .dataframe tbody tr th {\n",
       "        vertical-align: top;\n",
       "    }\n",
       "\n",
       "    .dataframe thead th {\n",
       "        text-align: right;\n",
       "    }\n",
       "</style>\n",
       "<table border=\"1\" class=\"dataframe\">\n",
       "  <thead>\n",
       "    <tr style=\"text-align: right;\">\n",
       "      <th></th>\n",
       "      <th>loss</th>\n",
       "      <th>accuracy</th>\n",
       "      <th>val_loss</th>\n",
       "      <th>val_accuracy</th>\n",
       "    </tr>\n",
       "  </thead>\n",
       "  <tbody>\n",
       "    <tr>\n",
       "      <th>0</th>\n",
       "      <td>1.784404</td>\n",
       "      <td>0.354225</td>\n",
       "      <td>1.491316</td>\n",
       "      <td>0.4665</td>\n",
       "    </tr>\n",
       "    <tr>\n",
       "      <th>1</th>\n",
       "      <td>1.392548</td>\n",
       "      <td>0.500225</td>\n",
       "      <td>1.348889</td>\n",
       "      <td>0.5299</td>\n",
       "    </tr>\n",
       "    <tr>\n",
       "      <th>2</th>\n",
       "      <td>1.228142</td>\n",
       "      <td>0.563175</td>\n",
       "      <td>1.207756</td>\n",
       "      <td>0.5788</td>\n",
       "    </tr>\n",
       "    <tr>\n",
       "      <th>3</th>\n",
       "      <td>1.113401</td>\n",
       "      <td>0.608300</td>\n",
       "      <td>1.134540</td>\n",
       "      <td>0.6079</td>\n",
       "    </tr>\n",
       "    <tr>\n",
       "      <th>4</th>\n",
       "      <td>1.012152</td>\n",
       "      <td>0.643650</td>\n",
       "      <td>1.119256</td>\n",
       "      <td>0.6136</td>\n",
       "    </tr>\n",
       "    <tr>\n",
       "      <th>5</th>\n",
       "      <td>0.930486</td>\n",
       "      <td>0.675925</td>\n",
       "      <td>1.098902</td>\n",
       "      <td>0.6211</td>\n",
       "    </tr>\n",
       "    <tr>\n",
       "      <th>6</th>\n",
       "      <td>0.846863</td>\n",
       "      <td>0.704450</td>\n",
       "      <td>1.046736</td>\n",
       "      <td>0.6491</td>\n",
       "    </tr>\n",
       "    <tr>\n",
       "      <th>7</th>\n",
       "      <td>0.766053</td>\n",
       "      <td>0.732000</td>\n",
       "      <td>1.092804</td>\n",
       "      <td>0.6386</td>\n",
       "    </tr>\n",
       "    <tr>\n",
       "      <th>8</th>\n",
       "      <td>0.689392</td>\n",
       "      <td>0.759350</td>\n",
       "      <td>1.159567</td>\n",
       "      <td>0.6280</td>\n",
       "    </tr>\n",
       "    <tr>\n",
       "      <th>9</th>\n",
       "      <td>0.615945</td>\n",
       "      <td>0.784400</td>\n",
       "      <td>1.150094</td>\n",
       "      <td>0.6407</td>\n",
       "    </tr>\n",
       "    <tr>\n",
       "      <th>10</th>\n",
       "      <td>0.550133</td>\n",
       "      <td>0.807000</td>\n",
       "      <td>1.152433</td>\n",
       "      <td>0.6487</td>\n",
       "    </tr>\n",
       "    <tr>\n",
       "      <th>11</th>\n",
       "      <td>0.488683</td>\n",
       "      <td>0.827500</td>\n",
       "      <td>1.227089</td>\n",
       "      <td>0.6457</td>\n",
       "    </tr>\n",
       "    <tr>\n",
       "      <th>12</th>\n",
       "      <td>0.420495</td>\n",
       "      <td>0.852625</td>\n",
       "      <td>1.305311</td>\n",
       "      <td>0.6497</td>\n",
       "    </tr>\n",
       "    <tr>\n",
       "      <th>13</th>\n",
       "      <td>0.363699</td>\n",
       "      <td>0.872650</td>\n",
       "      <td>1.418708</td>\n",
       "      <td>0.6415</td>\n",
       "    </tr>\n",
       "    <tr>\n",
       "      <th>14</th>\n",
       "      <td>0.320984</td>\n",
       "      <td>0.887875</td>\n",
       "      <td>1.556090</td>\n",
       "      <td>0.6365</td>\n",
       "    </tr>\n",
       "    <tr>\n",
       "      <th>15</th>\n",
       "      <td>0.279700</td>\n",
       "      <td>0.900100</td>\n",
       "      <td>1.652450</td>\n",
       "      <td>0.6332</td>\n",
       "    </tr>\n",
       "    <tr>\n",
       "      <th>16</th>\n",
       "      <td>0.249240</td>\n",
       "      <td>0.911975</td>\n",
       "      <td>1.742007</td>\n",
       "      <td>0.6390</td>\n",
       "    </tr>\n",
       "    <tr>\n",
       "      <th>17</th>\n",
       "      <td>0.214977</td>\n",
       "      <td>0.924525</td>\n",
       "      <td>1.783988</td>\n",
       "      <td>0.6385</td>\n",
       "    </tr>\n",
       "    <tr>\n",
       "      <th>18</th>\n",
       "      <td>0.195808</td>\n",
       "      <td>0.931025</td>\n",
       "      <td>1.980758</td>\n",
       "      <td>0.6286</td>\n",
       "    </tr>\n",
       "    <tr>\n",
       "      <th>19</th>\n",
       "      <td>0.188194</td>\n",
       "      <td>0.934625</td>\n",
       "      <td>2.044205</td>\n",
       "      <td>0.6293</td>\n",
       "    </tr>\n",
       "    <tr>\n",
       "      <th>20</th>\n",
       "      <td>0.173139</td>\n",
       "      <td>0.940200</td>\n",
       "      <td>2.105823</td>\n",
       "      <td>0.6365</td>\n",
       "    </tr>\n",
       "    <tr>\n",
       "      <th>21</th>\n",
       "      <td>0.153943</td>\n",
       "      <td>0.947225</td>\n",
       "      <td>2.195956</td>\n",
       "      <td>0.6376</td>\n",
       "    </tr>\n",
       "    <tr>\n",
       "      <th>22</th>\n",
       "      <td>0.143472</td>\n",
       "      <td>0.950125</td>\n",
       "      <td>2.247352</td>\n",
       "      <td>0.6388</td>\n",
       "    </tr>\n",
       "    <tr>\n",
       "      <th>23</th>\n",
       "      <td>0.126575</td>\n",
       "      <td>0.956250</td>\n",
       "      <td>2.456773</td>\n",
       "      <td>0.6363</td>\n",
       "    </tr>\n",
       "    <tr>\n",
       "      <th>24</th>\n",
       "      <td>0.146028</td>\n",
       "      <td>0.950725</td>\n",
       "      <td>2.381716</td>\n",
       "      <td>0.6347</td>\n",
       "    </tr>\n",
       "    <tr>\n",
       "      <th>25</th>\n",
       "      <td>0.125356</td>\n",
       "      <td>0.957700</td>\n",
       "      <td>2.482951</td>\n",
       "      <td>0.6362</td>\n",
       "    </tr>\n",
       "    <tr>\n",
       "      <th>26</th>\n",
       "      <td>0.112968</td>\n",
       "      <td>0.961275</td>\n",
       "      <td>2.725302</td>\n",
       "      <td>0.6352</td>\n",
       "    </tr>\n",
       "    <tr>\n",
       "      <th>27</th>\n",
       "      <td>0.126491</td>\n",
       "      <td>0.957875</td>\n",
       "      <td>2.737518</td>\n",
       "      <td>0.6252</td>\n",
       "    </tr>\n",
       "    <tr>\n",
       "      <th>28</th>\n",
       "      <td>0.115124</td>\n",
       "      <td>0.961175</td>\n",
       "      <td>2.712974</td>\n",
       "      <td>0.6352</td>\n",
       "    </tr>\n",
       "    <tr>\n",
       "      <th>29</th>\n",
       "      <td>0.116779</td>\n",
       "      <td>0.961200</td>\n",
       "      <td>2.837791</td>\n",
       "      <td>0.6247</td>\n",
       "    </tr>\n",
       "  </tbody>\n",
       "</table>\n",
       "</div>"
      ],
      "text/plain": [
       "        loss  accuracy  val_loss  val_accuracy\n",
       "0   1.784404  0.354225  1.491316        0.4665\n",
       "1   1.392548  0.500225  1.348889        0.5299\n",
       "2   1.228142  0.563175  1.207756        0.5788\n",
       "3   1.113401  0.608300  1.134540        0.6079\n",
       "4   1.012152  0.643650  1.119256        0.6136\n",
       "5   0.930486  0.675925  1.098902        0.6211\n",
       "6   0.846863  0.704450  1.046736        0.6491\n",
       "7   0.766053  0.732000  1.092804        0.6386\n",
       "8   0.689392  0.759350  1.159567        0.6280\n",
       "9   0.615945  0.784400  1.150094        0.6407\n",
       "10  0.550133  0.807000  1.152433        0.6487\n",
       "11  0.488683  0.827500  1.227089        0.6457\n",
       "12  0.420495  0.852625  1.305311        0.6497\n",
       "13  0.363699  0.872650  1.418708        0.6415\n",
       "14  0.320984  0.887875  1.556090        0.6365\n",
       "15  0.279700  0.900100  1.652450        0.6332\n",
       "16  0.249240  0.911975  1.742007        0.6390\n",
       "17  0.214977  0.924525  1.783988        0.6385\n",
       "18  0.195808  0.931025  1.980758        0.6286\n",
       "19  0.188194  0.934625  2.044205        0.6293\n",
       "20  0.173139  0.940200  2.105823        0.6365\n",
       "21  0.153943  0.947225  2.195956        0.6376\n",
       "22  0.143472  0.950125  2.247352        0.6388\n",
       "23  0.126575  0.956250  2.456773        0.6363\n",
       "24  0.146028  0.950725  2.381716        0.6347\n",
       "25  0.125356  0.957700  2.482951        0.6362\n",
       "26  0.112968  0.961275  2.725302        0.6352\n",
       "27  0.126491  0.957875  2.737518        0.6252\n",
       "28  0.115124  0.961175  2.712974        0.6352\n",
       "29  0.116779  0.961200  2.837791        0.6247"
      ]
     },
     "execution_count": 41,
     "metadata": {},
     "output_type": "execute_result"
    }
   ],
   "source": [
    "import pandas as pd\n",
    "import matplotlib.pyplot as plt\n",
    "\n",
    "history_df = pd.DataFrame(history.history)\n",
    "history_df"
   ]
  },
  {
   "cell_type": "code",
   "execution_count": 42,
   "id": "f69952b3-0c62-48ed-9257-ed851d6b828a",
   "metadata": {},
   "outputs": [
    {
     "data": {
      "text/plain": [
       "Text(0, 0.5, 'Score')"
      ]
     },
     "execution_count": 42,
     "metadata": {},
     "output_type": "execute_result"
    },
    {
     "data": {
      "image/png": "[encoded data removed]",
      "text/plain": [
       "<Figure size 576x360 with 1 Axes>"
      ]
     },
     "metadata": {
      "needs_background": "light"
     },
     "output_type": "display_data"
    },
    {
     "data": {
      "image/png": "[encoded data removed]",
      "text/plain": [
       "<Figure size 576x360 with 1 Axes>"
      ]
     },
     "metadata": {
      "needs_background": "light"
     },
     "output_type": "display_data"
    }
   ],
   "source": [
    "history_df[['loss', 'val_loss']].plot(figsize=(8, 5))\n",
    "plt.grid(True)\n",
    "plt.xticks(range(30))\n",
    "plt.xlabel('Epochs')\n",
    "plt.ylabel('Score')\n",
    "\n",
    "history_df[['accuracy', 'val_accuracy']].plot(figsize=(8, 5))\n",
    "plt.grid(True)\n",
    "plt.xticks(range(30))\n",
    "plt.xlabel('Epochs')\n",
    "plt.ylabel('Score')"
   ]
  },
  {
   "cell_type": "markdown",
   "id": "f8a66ed4-74aa-4aa3-9e88-13fb86b5314d",
   "metadata": {},
   "source": [
    "These plots give us some insight to the _training process_.  <br/>\n",
    "Our _training_ and _testing loss/accuracy_ start to **diverge** significantly past ***epoch 6***, which implies that our network is modeling the _training data_ **too closely** and ***overfitting***. <br/>\n",
    "This can be attributed to _a larger learning rate_ and the fact we **aren’t** using methods to help **combat overfitting**.\n",
    "\n",
    "Some strategies to _remedy_ this issue include:\n",
    "- changing the _learning rate_\n",
    "- using some regularization technique:\n",
    "    - L1\n",
    "    - L2\n",
    "    - _Dropout_\n",
    "    - **Early Stopping**\n",
    "- obtaining _more data_\n",
    "- applying _data augmentation_\n",
    "\n",
    "We'll see more details about these strategies soon!"
   ]
  },
  {
   "cell_type": "markdown",
   "id": "398e4a2b-5201-4941-9f52-ef97b9192ffe",
   "metadata": {},
   "source": [
    "#### **Effects of Learning Rates**\n",
    "<img src='./figs/effects_of_learning_rates.png' width=500/>\n",
    "\n",
    "Source: Rosebrock, Adrian. Deep learning for computer vision with python: starter bundle. PyImageSearch, 2017."
   ]
  },
  {
   "cell_type": "markdown",
   "id": "71dc4b9d-d057-4a3d-9b87-142290632c4a",
   "metadata": {},
   "source": [
    "## 3. Evaluating and Predicting New Samples by using our Overfitted Model"
   ]
  },
  {
   "cell_type": "markdown",
   "id": "6114493b-379d-4407-8f3f-278806a9c9fb",
   "metadata": {},
   "source": [
    "#### **Evaluation**\n",
    "https://www.tensorflow.org/api_docs/python/tf/keras/Sequential#evaluate"
   ]
  },
  {
   "cell_type": "code",
   "execution_count": 43,
   "id": "41a75d26-ca65-405e-85bf-377a035a82a4",
   "metadata": {},
   "outputs": [
    {
     "name": "stdout",
     "output_type": "stream",
     "text": [
      "313/313 [==============================] - 1s 2ms/step - loss: 2.8372 - accuracy: 0.6196\n"
     ]
    },
    {
     "data": {
      "text/plain": [
       "[2.8372080326080322, 0.6195999979972839]"
      ]
     },
     "execution_count": 43,
     "metadata": {},
     "output_type": "execute_result"
    }
   ],
   "source": [
    "model.evaluate(X_test, y_test)"
   ]
  },
  {
   "cell_type": "markdown",
   "id": "1a6c74cf-ba92-40a3-9bba-728e893a58a8",
   "metadata": {},
   "source": [
    "#### **Prediction**\n",
    "https://www.tensorflow.org/api_docs/python/tf/keras/Sequential#predict"
   ]
  },
  {
   "cell_type": "code",
   "execution_count": 46,
   "id": "3739ea39-55a6-47c9-a5ae-e8d3e41e6230",
   "metadata": {},
   "outputs": [
    {
     "data": {
      "text/plain": [
       "array([[9.9090123e-01, 1.2243913e-07, 1.1255306e-05, ..., 5.9379879e-10,\n",
       "        8.0933981e-03, 4.9373152e-04],\n",
       "       [1.0466338e-08, 9.7970426e-01, 6.3334531e-19, ..., 4.8368316e-21,\n",
       "        2.0295722e-02, 1.1326204e-08],\n",
       "       [4.6665579e-02, 7.8834318e-02, 1.4578145e-09, ..., 1.0366898e-06,\n",
       "        8.7436199e-01, 1.3711637e-04],\n",
       "       ...,\n",
       "       [1.4242402e-13, 1.4534656e-15, 2.2878761e-04, ..., 1.9988553e-03,\n",
       "        4.2243136e-11, 1.9065286e-08],\n",
       "       [3.6127028e-09, 5.1366264e-05, 1.1262575e-09, ..., 1.3592175e-06,\n",
       "        2.2957780e-09, 3.7003847e-10],\n",
       "       [2.8595799e-22, 6.9112338e-21, 8.1472976e-16, ..., 1.0000000e+00,\n",
       "        1.0647864e-16, 5.1190424e-18]], dtype=float32)"
      ]
     },
     "execution_count": 46,
     "metadata": {},
     "output_type": "execute_result"
    }
   ],
   "source": [
    "y_test_proba = model.predict(X_test)\n",
    "y_test_proba"
   ]
  },
  {
   "cell_type": "markdown",
   "id": "cea9d666-911d-41e9-9954-f7b844deb99a",
   "metadata": {},
   "source": [
    "#### **Class Prediction**\n",
    "https://stackoverflow.com/a/69503180/7069696"
   ]
  },
  {
   "cell_type": "code",
   "execution_count": 47,
   "id": "d887c320-b6c1-4c7f-b859-522e65d5f272",
   "metadata": {},
   "outputs": [
    {
     "data": {
      "text/plain": [
       "array([0, 1, 8, ..., 5, 4, 7])"
      ]
     },
     "execution_count": 47,
     "metadata": {},
     "output_type": "execute_result"
    }
   ],
   "source": [
    "y_test_pred = np.argmax(y_test_proba, axis=1)\n",
    "y_test_pred"
   ]
  },
  {
   "cell_type": "code",
   "execution_count": 48,
   "id": "6c9dd684-66be-4eb8-9a1d-798408e95a46",
   "metadata": {},
   "outputs": [
    {
     "name": "stdout",
     "output_type": "stream",
     "text": [
      "              precision    recall  f1-score   support\n",
      "\n",
      "    airplane       0.64      0.69      0.66      1000\n",
      "  automobile       0.70      0.76      0.73      1000\n",
      "        bird       0.52      0.52      0.52      1000\n",
      "         cat       0.45      0.38      0.41      1000\n",
      "        deer       0.59      0.54      0.57      1000\n",
      "         dog       0.55      0.48      0.51      1000\n",
      "        frog       0.72      0.66      0.69      1000\n",
      "       horse       0.63      0.70      0.66      1000\n",
      "        ship       0.67      0.78      0.72      1000\n",
      "       truck       0.67      0.69      0.68      1000\n",
      "\n",
      "    accuracy                           0.62     10000\n",
      "   macro avg       0.61      0.62      0.62     10000\n",
      "weighted avg       0.61      0.62      0.62     10000\n",
      "\n"
     ]
    }
   ],
   "source": [
    "from sklearn.metrics import classification_report\n",
    "\n",
    "print(classification_report(y_test, y_test_pred, target_names=[name for name in class_names]))"
   ]
  },
  {
   "cell_type": "markdown",
   "id": "3bafc6b3-a9c5-4d6f-972f-4796208ca8de",
   "metadata": {},
   "source": [
    "We got a **poor accuracy** of 62%."
   ]
  },
  {
   "cell_type": "markdown",
   "id": "40f4ca35-9744-40ba-9ac1-822ffc932850",
   "metadata": {},
   "source": [
    "## 4. Model Regularization by Early Stopping"
   ]
  },
  {
   "cell_type": "markdown",
   "id": "7ec27fef-918a-4cf5-91fa-f9929898490d",
   "metadata": {},
   "source": [
    "A very different way to **regularize** _iterative learning algorithms_, such as _Gradient Descent_, is **to stop training** as soon as the _validation error_ reaches a **minimum**. This is called **early stopping**.\n",
    "\n",
    "\n",
    "<img src='./figs/early_stopping.png' width=500>\n",
    "\n",
    "Source: https://towardsdatascience.com/a-practical-introduction-to-early-stopping-in-machine-learning-550ac88bc8fd"
   ]
  },
  {
   "cell_type": "markdown",
   "id": "05126eea-8f39-4043-b047-6f4179dd512e",
   "metadata": {},
   "source": [
    "As the _epochs_ go by the algorithm learns, and its **prediction error** on the _training set_ goes down, along with its **prediction error** on the _validation set_. <br/>\n",
    "After a while though, the _validation error_ stops **decreasing** and starts to **go back up**. <br/>\n",
    "This indicates that the model has _started to **overfit the training data**_.\n",
    "\n",
    "With **early stopping** we just ***stop*** _training_ as soon as the **validation error** reaches the _minimum_ (or after a _number of epochs_ **with no improvement**)."
   ]
  },
  {
   "cell_type": "markdown",
   "id": "b11b1e2c-1184-4006-9131-26fef5978b53",
   "metadata": {},
   "source": [
    "### ***Back to our model***"
   ]
  },
  {
   "cell_type": "code",
   "execution_count": 50,
   "id": "9643a365-6091-4d5f-b781-9a8e8ce9b832",
   "metadata": {},
   "outputs": [
    {
     "data": {
      "text/plain": [
       "Text(0, 0.5, 'Score')"
      ]
     },
     "execution_count": 50,
     "metadata": {},
     "output_type": "execute_result"
    },
    {
     "data": {
      "image/png": "[encoded data removed]",
      "text/plain": [
       "<Figure size 576x360 with 1 Axes>"
      ]
     },
     "metadata": {
      "needs_background": "light"
     },
     "output_type": "display_data"
    }
   ],
   "source": [
    "history_df[['loss', 'val_loss']].plot(figsize=(8, 5))\n",
    "plt.grid(True)\n",
    "plt.xticks(range(30))\n",
    "plt.xlabel('Epochs')\n",
    "plt.ylabel('Score')"
   ]
  },
  {
   "cell_type": "markdown",
   "id": "245addea-cb16-4fe5-a5a1-7eb37d5724ab",
   "metadata": {},
   "source": [
    "Apparently, our **early stopping point** is the ***epoch 6***. <br/>\n",
    "So, we should get the _trained model_ (_learned weights and biases_) at **this epoch**. However, our _final trained model_ is the one past 30 epochs."
   ]
  },
  {
   "cell_type": "markdown",
   "id": "0949e689-756a-4ab2-84ba-aec905dbf61a",
   "metadata": {},
   "source": [
    "### **Strategy 1**\n",
    "One possible strategy to get there is to **retrain** our model ***from scratch***, but now with _just_ ***X + 1 epochs*** (PS: the epochs start at 0). <br/>\n",
    "We need to _reset_ our _model weights_ and _biases_ before calling another `fit()`, otherwise Keras will keep training from the _learned weights and biases_ from the first `fit()` with 30 epochs."
   ]
  },
  {
   "cell_type": "code",
   "execution_count": 51,
   "id": "9972d778-c4b2-4ab3-a515-753c1442a868",
   "metadata": {},
   "outputs": [],
   "source": [
    "# creating a new model with new initial weights and biases\n",
    "model = build_first_cnn()\n",
    "\n",
    "opt = tf.keras.optimizers.SGD(learning_rate=0.05)  # just for testing\n",
    "model.compile(loss='sparse_categorical_crossentropy', optimizer=opt, metrics=['accuracy'])"
   ]
  },
  {
   "cell_type": "code",
   "execution_count": 52,
   "id": "54e7897f-cbea-4d86-9732-c5a589c894a7",
   "metadata": {},
   "outputs": [
    {
     "name": "stdout",
     "output_type": "stream",
     "text": [
      "Epoch 1/7\n",
      "1250/1250 [==============================] - 3s 3ms/step - loss: 1.7678 - accuracy: 0.3597 - val_loss: 1.4689 - val_accuracy: 0.4700\n",
      "Epoch 2/7\n",
      "1250/1250 [==============================] - 3s 2ms/step - loss: 1.3689 - accuracy: 0.5117 - val_loss: 1.3003 - val_accuracy: 0.5459\n",
      "Epoch 3/7\n",
      "1250/1250 [==============================] - 3s 2ms/step - loss: 1.1972 - accuracy: 0.5790 - val_loss: 1.1657 - val_accuracy: 0.5862\n",
      "Epoch 4/7\n",
      "1250/1250 [==============================] - 3s 2ms/step - loss: 1.0798 - accuracy: 0.6197 - val_loss: 1.1137 - val_accuracy: 0.6171\n",
      "Epoch 5/7\n",
      "1250/1250 [==============================] - 3s 2ms/step - loss: 0.9786 - accuracy: 0.6587 - val_loss: 1.0839 - val_accuracy: 0.6261\n",
      "Epoch 6/7\n",
      "1250/1250 [==============================] - 3s 2ms/step - loss: 0.8890 - accuracy: 0.6873 - val_loss: 1.0767 - val_accuracy: 0.6311\n",
      "Epoch 7/7\n",
      "1250/1250 [==============================] - 3s 2ms/step - loss: 0.8098 - accuracy: 0.7181 - val_loss: 1.0838 - val_accuracy: 0.6339\n"
     ]
    }
   ],
   "source": [
    "history = model.fit(X_train, y_train, epochs=7, batch_size=32, validation_split=0.2)"
   ]
  },
  {
   "cell_type": "code",
   "execution_count": 53,
   "id": "cf469e9b-7a47-4398-90d2-9ef298a06b00",
   "metadata": {},
   "outputs": [
    {
     "data": {
      "text/plain": [
       "Text(0, 0.5, 'Score')"
      ]
     },
     "execution_count": 53,
     "metadata": {},
     "output_type": "execute_result"
    },
    {
     "data": {
      "image/png": "[encoded data removed]",
      "text/plain": [
       "<Figure size 576x360 with 1 Axes>"
      ]
     },
     "metadata": {
      "needs_background": "light"
     },
     "output_type": "display_data"
    },
    {
     "data": {
      "image/png": "[encoded data removed]",
      "text/plain": [
       "<Figure size 576x360 with 1 Axes>"
      ]
     },
     "metadata": {
      "needs_background": "light"
     },
     "output_type": "display_data"
    }
   ],
   "source": [
    "history_df = pd.DataFrame(history.history)\n",
    "\n",
    "history_df[['loss', 'val_loss']].plot(figsize=(8, 5))\n",
    "plt.grid(True)\n",
    "plt.xticks(range(7))\n",
    "plt.xlabel('Epochs')\n",
    "plt.ylabel('Score')\n",
    "\n",
    "history_df[['accuracy', 'val_accuracy']].plot(figsize=(8, 5))\n",
    "plt.grid(True)\n",
    "plt.xticks(range(7))\n",
    "plt.xlabel('Epochs')\n",
    "plt.ylabel('Score')"
   ]
  },
  {
   "cell_type": "markdown",
   "id": "2a92fc6f-d0f8-4d8a-8360-b7f3d213bfec",
   "metadata": {},
   "source": [
    "### **Strategy 2 - Keras Callbacks**\n",
    "The `fit()` method accepts a **callbacks argument** that lets you specify a list of objects that Keras will _call_ at the _start_ and _end_ of _training_, at the _start_ and _end_ of _each epoch_, and even _before_ and _after processing each batch_.\n",
    "\n",
    "One of this callbacks is `EarlyStopping`: https://keras.io/api/callbacks/early_stopping/"
   ]
  },
  {
   "cell_type": "code",
   "execution_count": 55,
   "id": "b56922d0-a620-4fd3-a276-5d251812276d",
   "metadata": {},
   "outputs": [],
   "source": [
    "from tensorflow.keras.callbacks import EarlyStopping\n",
    "\n",
    "early_stopping_cb = EarlyStopping(patience=3, restore_best_weights=True)"
   ]
  },
  {
   "cell_type": "markdown",
   "id": "f88af7c1-987d-4f09-992d-d80384d344c7",
   "metadata": {},
   "source": [
    "We've just created an **early stopping callback** that will **interrupt** _training_ when it _measures_ **no progress** (no improvement) after 3 epochs (parameter `patience`) on the losso from the **validation set** (default parameter `monitor=\"val_loss\"`).\n",
    "\n",
    "We can now **retrain** our model from _scratch_ again, with **a large number of epochs**, since _training_ will **stop _automatically_** when _there is no more progress_. `EarlyStopping callback` will keep track of the **best weights** and _restore them_ for you at the _end of training_ (parameter `restore_best_weights=True)`)."
   ]
  },
  {
   "cell_type": "code",
   "execution_count": 56,
   "id": "4dae5f2d-6887-43d7-8809-88ee2abc60d2",
   "metadata": {},
   "outputs": [],
   "source": [
    "# creating a new model with new initial weights and biases\n",
    "model = build_first_cnn()\n",
    "\n",
    "opt = tf.keras.optimizers.SGD(learning_rate=0.05)  # just for testing\n",
    "model.compile(loss='sparse_categorical_crossentropy', optimizer=opt, metrics=['accuracy'])"
   ]
  },
  {
   "cell_type": "code",
   "execution_count": 57,
   "id": "55ec8332-b022-4603-976a-7e0da3a278d7",
   "metadata": {},
   "outputs": [
    {
     "name": "stdout",
     "output_type": "stream",
     "text": [
      "Epoch 1/30\n",
      "1250/1250 [==============================] - 3s 3ms/step - loss: 1.8098 - accuracy: 0.3453 - val_loss: 1.5137 - val_accuracy: 0.4615\n",
      "Epoch 2/30\n",
      "1250/1250 [==============================] - 3s 2ms/step - loss: 1.4090 - accuracy: 0.4929 - val_loss: 1.3279 - val_accuracy: 0.5346\n",
      "Epoch 3/30\n",
      "1250/1250 [==============================] - 3s 2ms/step - loss: 1.2451 - accuracy: 0.5588 - val_loss: 1.2045 - val_accuracy: 0.5746\n",
      "Epoch 4/30\n",
      "1250/1250 [==============================] - 3s 2ms/step - loss: 1.1219 - accuracy: 0.6010 - val_loss: 1.1978 - val_accuracy: 0.5918\n",
      "Epoch 5/30\n",
      "1250/1250 [==============================] - 3s 2ms/step - loss: 1.0194 - accuracy: 0.6416 - val_loss: 1.1210 - val_accuracy: 0.6213\n",
      "Epoch 6/30\n",
      "1250/1250 [==============================] - 3s 3ms/step - loss: 0.9329 - accuracy: 0.6733 - val_loss: 1.0948 - val_accuracy: 0.6262\n",
      "Epoch 7/30\n",
      "1250/1250 [==============================] - 3s 2ms/step - loss: 0.8540 - accuracy: 0.7002 - val_loss: 1.1805 - val_accuracy: 0.6132\n",
      "Epoch 8/30\n",
      "1250/1250 [==============================] - 3s 2ms/step - loss: 0.7767 - accuracy: 0.7273 - val_loss: 1.0721 - val_accuracy: 0.6416\n",
      "Epoch 9/30\n",
      "1250/1250 [==============================] - 3s 2ms/step - loss: 0.7048 - accuracy: 0.7530 - val_loss: 1.0945 - val_accuracy: 0.6483\n",
      "Epoch 10/30\n",
      "1250/1250 [==============================] - 3s 2ms/step - loss: 0.6326 - accuracy: 0.7756 - val_loss: 1.0789 - val_accuracy: 0.6570\n",
      "Epoch 11/30\n",
      "1250/1250 [==============================] - 3s 2ms/step - loss: 0.5650 - accuracy: 0.8033 - val_loss: 1.1318 - val_accuracy: 0.6555\n"
     ]
    }
   ],
   "source": [
    "history = model.fit(X_train, y_train, epochs=30, batch_size=32, validation_split=0.2, callbacks=[early_stopping_cb])"
   ]
  },
  {
   "cell_type": "code",
   "execution_count": 59,
   "id": "4f83cdc3-797b-42d5-b5e6-822f047d2655",
   "metadata": {},
   "outputs": [
    {
     "data": {
      "text/plain": [
       "Text(0, 0.5, 'Score')"
      ]
     },
     "execution_count": 59,
     "metadata": {},
     "output_type": "execute_result"
    },
    {
     "data": {
      "image/png": "[encoded data removed]",
      "text/plain": [
       "<Figure size 576x360 with 1 Axes>"
      ]
     },
     "metadata": {
      "needs_background": "light"
     },
     "output_type": "display_data"
    },
    {
     "data": {
      "image/png": "[encoded data removed]",
      "text/plain": [
       "<Figure size 576x360 with 1 Axes>"
      ]
     },
     "metadata": {
      "needs_background": "light"
     },
     "output_type": "display_data"
    }
   ],
   "source": [
    "history_df = pd.DataFrame(history.history)\n",
    "\n",
    "history_df[['loss', 'val_loss']].plot(figsize=(8, 5))\n",
    "plt.grid(True)\n",
    "plt.xlabel('Epochs')\n",
    "plt.ylabel('Score')\n",
    "\n",
    "history_df[['accuracy', 'val_accuracy']].plot(figsize=(8, 5))\n",
    "plt.grid(True)\n",
    "plt.xlabel('Epochs')\n",
    "plt.ylabel('Score')"
   ]
  },
  {
   "cell_type": "markdown",
   "id": "7c9171e0-dd03-4626-8294-6d5083b46782",
   "metadata": {},
   "source": [
    "##### **More about Keras callbacks**\n",
    "https://keras.io/api/callbacks/"
   ]
  },
  {
   "cell_type": "markdown",
   "id": "455ca1cb-20b5-439b-8240-e511abb305c7",
   "metadata": {},
   "source": [
    "## 5. Evaluating and Predicting New Samples with the Regularized model"
   ]
  },
  {
   "cell_type": "markdown",
   "id": "90c3efb4-100a-4bd6-855c-eaff853061bb",
   "metadata": {},
   "source": [
    "#### **Evaluation**\n",
    "https://www.tensorflow.org/api_docs/python/tf/keras/Sequential#evaluate"
   ]
  },
  {
   "cell_type": "code",
   "execution_count": 60,
   "id": "40ebe5b1-e911-49b2-8b26-af5907e7a0b6",
   "metadata": {},
   "outputs": [
    {
     "name": "stdout",
     "output_type": "stream",
     "text": [
      "313/313 [==============================] - 1s 2ms/step - loss: 1.0810 - accuracy: 0.6383\n"
     ]
    },
    {
     "data": {
      "text/plain": [
       "[1.0809539556503296, 0.6383000016212463]"
      ]
     },
     "execution_count": 60,
     "metadata": {},
     "output_type": "execute_result"
    }
   ],
   "source": [
    "model.evaluate(X_test, y_test)"
   ]
  },
  {
   "cell_type": "markdown",
   "id": "d98be7ac-6555-4a0b-8e04-35853317f92f",
   "metadata": {},
   "source": [
    "#### **Prediction**\n",
    "https://www.tensorflow.org/api_docs/python/tf/keras/Sequential#predict"
   ]
  },
  {
   "cell_type": "code",
   "execution_count": 61,
   "id": "9c26bd61-fb42-4d7b-b3d2-f3b985204e3f",
   "metadata": {},
   "outputs": [
    {
     "data": {
      "text/plain": [
       "array([[9.5254660e-02, 2.2352522e-02, 1.5311223e-02, ..., 1.4585398e-02,\n",
       "        8.8627562e-02, 1.4729592e-02],\n",
       "       [3.9582182e-02, 9.1185950e-02, 4.2193537e-06, ..., 2.0727092e-07,\n",
       "        8.5097700e-01, 1.8249186e-02],\n",
       "       [2.4087589e-02, 2.0644803e-01, 2.2183690e-04, ..., 8.1849220e-04,\n",
       "        5.9054089e-01, 1.7565773e-01],\n",
       "       ...,\n",
       "       [1.6727857e-06, 5.6440558e-07, 8.6164407e-02, ..., 1.9142503e-03,\n",
       "        1.3482101e-04, 4.4805856e-05],\n",
       "       [7.7968291e-03, 9.3129569e-01, 1.4551493e-04, ..., 2.8940759e-04,\n",
       "        1.8784399e-03, 8.6619944e-04],\n",
       "       [2.1849378e-06, 8.2406168e-06, 1.2495719e-04, ..., 9.6900302e-01,\n",
       "        1.4593352e-06, 3.5418125e-06]], dtype=float32)"
      ]
     },
     "execution_count": 61,
     "metadata": {},
     "output_type": "execute_result"
    }
   ],
   "source": [
    "y_test_proba = model.predict(X_test)\n",
    "y_test_proba"
   ]
  },
  {
   "cell_type": "markdown",
   "id": "4fc787ee-b863-4311-8b0b-ceee0ed17a5f",
   "metadata": {},
   "source": [
    "#### **Class Prediction**\n",
    "https://stackoverflow.com/a/69503180/7069696"
   ]
  },
  {
   "cell_type": "code",
   "execution_count": 62,
   "id": "9183a85a-49db-4748-9f7a-fc9e7cd29683",
   "metadata": {},
   "outputs": [
    {
     "data": {
      "text/plain": [
       "array([3, 8, 8, ..., 5, 1, 7])"
      ]
     },
     "execution_count": 62,
     "metadata": {},
     "output_type": "execute_result"
    }
   ],
   "source": [
    "y_test_pred = np.argmax(y_test_proba, axis=1)\n",
    "y_test_pred"
   ]
  },
  {
   "cell_type": "code",
   "execution_count": 63,
   "id": "bec34b88-5c94-45a5-a97d-ee7e21be268a",
   "metadata": {},
   "outputs": [
    {
     "name": "stdout",
     "output_type": "stream",
     "text": [
      "              precision    recall  f1-score   support\n",
      "\n",
      "    airplane       0.75      0.60      0.67      1000\n",
      "  automobile       0.75      0.77      0.76      1000\n",
      "        bird       0.50      0.56      0.53      1000\n",
      "         cat       0.49      0.36      0.42      1000\n",
      "        deer       0.53      0.69      0.60      1000\n",
      "         dog       0.53      0.54      0.54      1000\n",
      "        frog       0.75      0.69      0.72      1000\n",
      "       horse       0.74      0.64      0.69      1000\n",
      "        ship       0.71      0.78      0.74      1000\n",
      "       truck       0.67      0.75      0.71      1000\n",
      "\n",
      "    accuracy                           0.64     10000\n",
      "   macro avg       0.64      0.64      0.64     10000\n",
      "weighted avg       0.64      0.64      0.64     10000\n",
      "\n"
     ]
    }
   ],
   "source": [
    "from sklearn.metrics import classification_report\n",
    "\n",
    "print(classification_report(y_test, y_test_pred, target_names=[name for name in class_names]))"
   ]
  },
  {
   "cell_type": "markdown",
   "id": "604cd8e4-3d27-4128-8ad2-64a9ba4d6af2",
   "metadata": {},
   "source": [
    "The resulting _accuracy_ on the **testing set** keeps **poor** but slightly better than using the overfitted model."
   ]
  },
  {
   "cell_type": "markdown",
   "id": "e6a3a7db-b0f5-4638-a074-1134538ad1b5",
   "metadata": {
    "tags": []
   },
   "source": [
    "# Exercise"
   ]
  },
  {
   "cell_type": "markdown",
   "id": "79ee7ec6-30c1-4285-a43e-1dbef982d66f",
   "metadata": {},
   "source": [
    "Repeat the experiments considering different:\n",
    "-  values for _learning_rate_ of SGD\n",
    "- optimizers (e.g., 'nadam')\n",
    "- kernel regularizer (e.g., 'l2')"
   ]
  },
  {
   "cell_type": "markdown",
   "id": "d792dee2-7908-4898-810b-637ae5f4543d",
   "metadata": {},
   "source": []
  },
  {
   "cell_type": "code",
   "execution_count": null,
   "id": "b6ceb723-3eb1-499c-9599-e870146968ad",
   "metadata": {},
   "outputs": [],
   "source": []
  }
 ],
 "metadata": {
  "kernelspec": {
   "display_name": "Python 3",
   "language": "python",
   "name": "python3"
  },
  "language_info": {
   "codemirror_mode": {
    "name": "ipython",
    "version": 3
   },
   "file_extension": ".py",
   "mimetype": "text/x-python",
   "name": "python",
   "nbconvert_exporter": "python",
   "pygments_lexer": "ipython3",
   "version": "3.8.5"
  }
 },
 "nbformat": 4,
 "nbformat_minor": 5
}
