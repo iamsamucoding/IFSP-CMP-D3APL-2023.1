{
 "cells": [
  {
   "cell_type": "markdown",
   "id": "09142599-d99c-4b84-ae6b-4ee2abc7df3a",
   "metadata": {},
   "source": [
    "**D3APL: Aplicações em Ciência de Dados** <br/>\n",
    "IFSP Campinas\n",
    "\n",
    "Prof. Dr. Samuel Martins (Samuka) <br/><br/>\n",
    "\n",
    "<a rel=\"license\" href=\"http://creativecommons.org/licenses/by-nc-sa/4.0/\"><img alt=\"Creative Commons License\" style=\"border-width:0\" src=\"https://i.creativecommons.org/l/by-nc-sa/4.0/88x31.png\" /></a><br />This work is licensed under a <a rel=\"license\" href=\"http://creativecommons.org/licenses/by-nc-sa/4.0/\">Creative Commons Attribution-NonCommercial-ShareAlike 4.0 International License</a>."
   ]
  },
  {
   "cell_type": "markdown",
   "id": "dbed1c92-5c77-4898-8cbb-e847af6f72cc",
   "metadata": {},
   "source": [
    "# Animal Dataset - v2\n",
    "We will evaluate some **multiclass classification** CNNs to predict the classes of the **Animal Dataset**: https://www.kaggle.com/datasets/alessiocorrado99/animals10\n",
    "\n",
    "\n",
    "Target goals:\n",
    "- Data Augmentation"
   ]
  },
  {
   "cell_type": "markdown",
   "id": "d2fb8137-7b1b-42e9-b2e9-75711269596c",
   "metadata": {},
   "source": [
    "## 1. Set up"
   ]
  },
  {
   "cell_type": "markdown",
   "id": "a3542eb6-d992-499f-9ac6-8771676123c6",
   "metadata": {},
   "source": [
    "#### 1.1 TensorFlow"
   ]
  },
  {
   "cell_type": "code",
   "execution_count": null,
   "id": "ab093db2-4853-44eb-b588-da0a71ad6dba",
   "metadata": {},
   "outputs": [],
   "source": [
    "import tensorflow as tf"
   ]
  },
  {
   "cell_type": "code",
   "execution_count": null,
   "id": "9e36de08-c4c0-4632-af0b-bed7b64296ac",
   "metadata": {},
   "outputs": [],
   "source": [
    "tf.__version__"
   ]
  },
  {
   "cell_type": "markdown",
   "id": "f55f5afb-ecab-48f1-ad12-de12d0c38e40",
   "metadata": {},
   "source": [
    "**GPU available?**"
   ]
  },
  {
   "cell_type": "code",
   "execution_count": null,
   "id": "cf10151d-8abe-49f7-a1f2-9f4050d6dd6e",
   "metadata": {},
   "outputs": [],
   "source": [
    "import tensorflow as tf\n",
    "print(\"Num GPUs Available: \", len(tf.config.list_physical_devices('GPU')))"
   ]
  },
  {
   "cell_type": "markdown",
   "id": "4e17fb00-de23-48bd-ab8a-1b6cc9089043",
   "metadata": {},
   "source": [
    "### 1.2 Fixing the seed for reproducibility (optional)\n",
    "That's a try for reprodubility in Keras. See more on:\n",
    "- https://stackoverflow.com/a/59076062\n",
    "- https://machinelearningmastery.com/reproducible-results-neural-networks-keras/"
   ]
  },
  {
   "cell_type": "code",
   "execution_count": null,
   "id": "41809176-c43b-4143-940e-e63e26394fe0",
   "metadata": {},
   "outputs": [],
   "source": [
    "import os\n",
    "import tensorflow as tf\n",
    "import numpy as np\n",
    "import random\n",
    "\n",
    "def reset_random_seeds(seed=42):\n",
    "    os.environ['PYTHONHASHSEED'] = str(seed)\n",
    "    tf.random.set_seed(seed)\n",
    "    np.random.seed(seed)\n",
    "    random.seed(seed)\n",
    "\n",
    "    \n",
    "# make some random data\n",
    "reset_random_seeds()"
   ]
  },
  {
   "cell_type": "markdown",
   "id": "a25efbd0-4d14-4f97-84f7-18e6e103a6b9",
   "metadata": {},
   "source": [
    "### 1.3. Dataset\n",
    "**Animal Dataset**: https://www.kaggle.com/datasets/alessiocorrado99/animals10"
   ]
  },
  {
   "cell_type": "markdown",
   "id": "61214708-7ce5-4b91-9a2d-86acbd3eef02",
   "metadata": {},
   "source": [
    "#### 1.3.1 Load the preprocessed dataset\n",
    "**Preprocessed dataset**: _'../datasets/animals-dataset/preprocessed/'_"
   ]
  },
  {
   "cell_type": "code",
   "execution_count": null,
   "id": "0cf64ef0-0c66-47c6-9233-0e8f61fd0d53",
   "metadata": {},
   "outputs": [],
   "source": [
    "import numpy as np"
   ]
  },
  {
   "cell_type": "code",
   "execution_count": null,
   "id": "5d81fc8f-6d77-4c2c-8a51-9cff09bb9dfc",
   "metadata": {},
   "outputs": [],
   "source": [
    "X_train = np.load('../datasets/animals-dataset/preprocessed/train_data_64x64x3.npy')\n",
    "y_train = np.load('../datasets/animals-dataset/preprocessed/train_labels.npy')\n",
    "\n",
    "X_val = np.load('../datasets/animals-dataset/preprocessed/validation_data_64x64x3.npy')\n",
    "y_val = np.load('../datasets/animals-dataset/preprocessed/validation_labels.npy')\n",
    "\n",
    "X_test = np.load('../datasets/animals-dataset/preprocessed/test_data_64x64x3.npy')\n",
    "y_test = np.load('../datasets/animals-dataset/preprocessed/test_labels.npy')"
   ]
  },
  {
   "cell_type": "code",
   "execution_count": null,
   "id": "df9e1d43-ada4-4a42-9c5f-cd1765465c11",
   "metadata": {},
   "outputs": [],
   "source": [
    "print(f'X_train.shape: {X_train.shape}')\n",
    "print(f'y_train.shape: {y_train.shape}\\n')\n",
    "\n",
    "print(f'X_val.shape: {X_val.shape}')\n",
    "print(f'y_val.shape: {y_val.shape}\\n')\n",
    "\n",
    "print(f'X_test.shape: {X_test.shape}')\n",
    "print(f'y_test.shape: {y_test.shape}')"
   ]
  },
  {
   "cell_type": "code",
   "execution_count": null,
   "id": "a3d74d9b-9f03-49e3-8379-6905ee555c78",
   "metadata": {},
   "outputs": [],
   "source": [
    "# show a training image sample\n",
    "import matplotlib.pyplot as plt\n",
    "\n",
    "plt.imshow(X_train[0])"
   ]
  },
  {
   "cell_type": "markdown",
   "id": "848cac26-25c1-467a-a446-4910a9512320",
   "metadata": {},
   "source": [
    "## 2. Building and Training a CNN via Keras"
   ]
  },
  {
   "cell_type": "markdown",
   "id": "e0677b21-7ca5-42b9-b245-b49558cdf378",
   "metadata": {
    "tags": []
   },
   "source": [
    "### 2.1 Data Augmentation\n",
    "https://www.tensorflow.org/tutorials/images/data_augmentation\n",
    "\n",
    "A **regularization method** that _perturbs_ training examples, _changing their appearance slightly_, before passing them into the network for training.\n",
    "\n",
    "Data augmentation _artificially_ **increases** the size of the _training set_ by generating many _realistic variants_ of each _training instance_. <br/>\n",
    "This _reduces overfitting_, making this a **regularization technique**. <br/>\n",
    "The _generated instances_ should be as _realistic as possible_: ideally, given an image from the augmented training set, a human should not be able to tell whether it was augmented or not. \n",
    "\n",
    "The end result is that a _network_ consistently sees **“new” training data examples** generated from the _original training data_, partially alleviating the need for us to gather more training data (though in general, gathering more training data will rarely hurt your algorithm).\n",
    "\n",
    "Common data augmentation techniques involve applying simple **geometric transformations** such as:\n",
    "1. Translations\n",
    "2. Rotations\n",
    "3. Changes in scale\n",
    "4. Shearing\n",
    "5. Horizontal (and in some cases, vertical) flip\n",
    "\n",
    "<img src='./figs/data_augmentation.png' width=800 />\n",
    "\n",
    "https://nanonets.com/blog/data-augmentation-how-to-use-deep-learning-when-you-have-limited-data-part-2/\n",
    "\n",
    "**IMPORTANT:** Applying a _(small) amount of these transformations_ to an input image will _change its **appearance** slightly_, but **IT DOES NOT CHANGE** the _class label_."
   ]
  },
  {
   "cell_type": "markdown",
   "id": "7e0dfaa2-c442-4726-9147-c80d207638d9",
   "metadata": {},
   "source": [
    "#### **A simple Example**"
   ]
  },
  {
   "cell_type": "code",
   "execution_count": null,
   "id": "27ce8fee-99f3-4c50-806b-ad78543e36dd",
   "metadata": {},
   "outputs": [],
   "source": [
    "# get an image sample from the database\n"
   ]
  },
  {
   "cell_type": "code",
   "execution_count": null,
   "id": "ba4346c8-7cac-44c4-90f6-ded024c118fa",
   "metadata": {},
   "outputs": [],
   "source": [
    "img.shape"
   ]
  },
  {
   "cell_type": "code",
   "execution_count": null,
   "id": "5e410b1b-9fa3-49b8-b501-3ac405136fd2",
   "metadata": {},
   "outputs": [],
   "source": [
    "# Reshape the input image to have an extra dimension ==> this is required by Keras data augmentation methods\n",
    "# the first dimension will be the the total number of images which will be processed by Keras Data Augmentation\n",
    "print(f'Shape before: {img.shape}')\n",
    "\n",
    "img = np.expand_dims(img, axis=0)\n",
    "\n",
    "print(f'Shape after: {img.shape}')"
   ]
  },
  {
   "cell_type": "code",
   "execution_count": null,
   "id": "453dcb4c-5c6f-4690-945a-3b33a4843d1e",
   "metadata": {},
   "outputs": [],
   "source": [
    "# A data augmentation \"model\" with only changes in Rotation.\n",
    "# We’ll allow our input images to be randomly rotated ± 30 degrees\n",
    "\n",
    "from tensorflow.keras import Sequential\n",
    "from tensorflow.keras.layers import RandomFlip, RandomRotation\n",
    "# https://www.tensorflow.org/api_docs/python/tf/keras/layers/RandomFlip\n",
    "# https://www.tensorflow.org/api_docs/python/tf/keras/layers/RandomRotation\n",
    "\n",
    "\n",
    "# Randomly flips images horizontally during training.\n",
    "# Randomly rotates images during TRAINING (not in the inference time).\n",
    "# Factor indicates the interval in which the rotation angle can be. In this case: [-10% * 2pi, 10% * 2pi] = [-36°, +36°] \n",
    "# The input shape to this model is: (..., height, width, channels)\n",
    "\n",
    "\n",
    "\n"
   ]
  },
  {
   "cell_type": "code",
   "execution_count": null,
   "id": "4be503c6-36b4-4783-9d2d-6b7e38e78b56",
   "metadata": {},
   "outputs": [],
   "source": [
    "# let's generate for new images by data augmentation\n",
    "\n",
    "plt.figure(figsize=(10, 10))\n",
    "\n",
    "for i in range(9):\n",
    "    augmented_img = data_augmentation(img)\n",
    "    \n",
    "    ax = plt.subplot(3, 3, i + 1)\n",
    "    plt.imshow(augmented_img[0])\n",
    "    plt.axis(\"off\")"
   ]
  },
  {
   "cell_type": "markdown",
   "id": "07af6f0b-210c-4e6d-8722-43b72f8c1594",
   "metadata": {},
   "source": [
    "#### **A more complex example**"
   ]
  },
  {
   "cell_type": "code",
   "execution_count": null,
   "id": "b16b025b-4c2f-4253-b46d-7c90ebcdb141",
   "metadata": {},
   "outputs": [],
   "source": [
    "# get a batch of 2 images\n",
    "X_train_batch = X_train[[2000, 2]]\n",
    "\n",
    "X_train_batch.shape"
   ]
  },
  {
   "cell_type": "code",
   "execution_count": null,
   "id": "86c9aaf3-c470-43dc-ba70-fcbb35b29807",
   "metadata": {},
   "outputs": [],
   "source": [
    "plt.imshow(X_train_batch[0])"
   ]
  },
  {
   "cell_type": "code",
   "execution_count": null,
   "id": "29c2434b-696b-461e-b8ac-0f9f0b339954",
   "metadata": {},
   "outputs": [],
   "source": [
    "plt.imshow(X_train_batch[1])"
   ]
  },
  {
   "cell_type": "code",
   "execution_count": null,
   "id": "fd06ae3f-7091-4e6c-90d3-0803d690e0ec",
   "metadata": {},
   "outputs": [],
   "source": [
    "\n",
    "\n",
    "\n"
   ]
  },
  {
   "cell_type": "code",
   "execution_count": null,
   "id": "f9092111-200f-4bf1-bdd2-e46fbb798686",
   "metadata": {},
   "outputs": [],
   "source": [
    "fig, axs = plt.subplots(2, 5, figsize=(20, 20))\n",
    "\n",
    "for i in range(5):\n",
    "    augmented_X_batch = data_augmentation(X_train_batch)\n",
    "\n",
    "    axs[0, i].imshow(augmented_X_batch[0])\n",
    "    axs[1, i].imshow(augmented_X_batch[1])"
   ]
  },
  {
   "cell_type": "markdown",
   "id": "9ffc2d79-12a2-414d-a9cb-2fe5b17afea7",
   "metadata": {},
   "source": [
    "### 2.2 Defining the Network Architecture\n",
    "The simplest way to use the Keras preprocessing layers is making the _preprocessing layers_ **part of your model**: <br/>\n",
    "https://www.tensorflow.org/tutorials/images/data_augmentation#option_1_make_the_preprocessing_layers_part_of_your_model\n",
    "\n",
    "\n",
    "That's a simple CNN for _Multiclass Classification_:\n",
    "- INPUT [64x64x3]\n",
    "- **PREPROCESSING LAYERS**\n",
    "- CONV [32, 4x4x3, 'valid']\n",
    "- RELU\n",
    "- MAX_POOL [2x2, stride=(1,1)]\n",
    "- CONV [32, 4x4x3, 'valid']\n",
    "- RELU => MAX_POOL [2x2, stride=(1,1)]\n",
    "- FLATTEN\n",
    "- FC [256]\n",
    "- RELU => FC [10, 'softmax']  # number of classes\n",
    "\n",
    "- optimizer: SGD with `learning_rate=0.01`\n",
    "- kernel_initializer: \"glorot_uniform\"\n",
    "- bias_initializer: \"zeros\"\n",
    "- **Early stopping**"
   ]
  },
  {
   "cell_type": "code",
   "execution_count": null,
   "id": "b31de318-1b03-4bf1-81e4-addb3b059e3d",
   "metadata": {},
   "outputs": [],
   "source": [
    "from tensorflow.keras import Sequential\n",
    "from tensorflow.keras.layers import InputLayer, Dense, Conv2D, MaxPool2D, Flatten\n",
    "from tensorflow.keras.layers import RandomFlip, RandomRotation, RandomTranslation\n",
    "\n",
    "def build_cnn(input_shape, n_classes):\n",
    "    model = Sequential([\n",
    "        InputLayer(input_shape=input_shape),\n",
    "        \n",
    "        # data augmentation layers\n",
    "\n",
    "        \n",
    "        \n",
    "        \n",
    "        \n",
    "        \n",
    "        # CNN\n",
    "        Conv2D(filters=32, kernel_size=(4,4), activation='relu'),\n",
    "        MaxPool2D(pool_size=(2,2)),\n",
    "        Conv2D(filters=32, kernel_size=(4,4), activation='relu'),\n",
    "        MaxPool2D(pool_size=(2,2)),\n",
    "\n",
    "        Flatten(),\n",
    "\n",
    "        Dense(256, activation='relu'),\n",
    "        Dense(n_classes, activation='softmax')\n",
    "    ])\n",
    "    \n",
    "    return model"
   ]
  },
  {
   "cell_type": "code",
   "execution_count": null,
   "id": "9d877603-c3b1-4053-854a-7def148cf2ba",
   "metadata": {},
   "outputs": [],
   "source": [
    "input_shape = (64, 64, 3)\n",
    "n_classes = np.unique(y_train).size\n",
    "\n",
    "model = build_cnn(input_shape, n_classes)\n",
    "opt = tf.keras.optimizers.SGD(learning_rate=0.01)\n",
    "model.compile(loss='sparse_categorical_crossentropy', optimizer=opt, metrics=['accuracy'])"
   ]
  },
  {
   "cell_type": "code",
   "execution_count": null,
   "id": "33eaa63a-3f80-43bb-ac1c-274be540a184",
   "metadata": {},
   "outputs": [],
   "source": [
    "model.summary()"
   ]
  },
  {
   "cell_type": "code",
   "execution_count": null,
   "id": "430a83e6-1a7a-4d73-9c47-149f6e18ea56",
   "metadata": {},
   "outputs": [],
   "source": [
    "from tensorflow.keras.utils import plot_model\n",
    "# vertical\n",
    "plot_model(model, show_shapes=True, show_layer_activations=True)"
   ]
  },
  {
   "cell_type": "markdown",
   "id": "30e3b9d0-a059-4461-a578-75da8a0755e9",
   "metadata": {},
   "source": [
    "##### **Observations**\n",
    "\n",
    "- **Data augmentation** will run on-device, synchronously with the rest of your layers, and benefit from _GPU acceleration_.\n",
    "- **Data augmentation** is **inactive at test time (inference time)** so input images will _only_ be augmented during calls to `Model.fit` (**not** `Model.evaluate` or `Model.predict`)."
   ]
  },
  {
   "cell_type": "markdown",
   "id": "16b1b6ce-3283-46ee-83d1-cce66271eddb",
   "metadata": {},
   "source": [
    "### 2.3 Training with Early Stopping\n",
    "\n",
    "In case of GPU drivers, we can monitor its use by [_gpustat_](https://github.com/wookayin/gpustat).\n",
    "\n",
    "On terminal, use: `gpustat -cpi`\n"
   ]
  },
  {
   "cell_type": "code",
   "execution_count": null,
   "id": "185535ec-22d5-4002-8d6a-9930dda2f52b",
   "metadata": {},
   "outputs": [],
   "source": [
    "X_train.shape"
   ]
  },
  {
   "cell_type": "code",
   "execution_count": null,
   "id": "a378a5ad-de87-4ecd-b738-19a37dc89ce3",
   "metadata": {},
   "outputs": [],
   "source": [
    "early_stopping_cb = tf.keras.callbacks.EarlyStopping(patience=10, restore_best_weights=True)"
   ]
  },
  {
   "cell_type": "code",
   "execution_count": null,
   "id": "e6649b19-d39a-4ede-af51-911181ad0b73",
   "metadata": {},
   "outputs": [],
   "source": [
    "history = model.fit(X_train, y_train, epochs=100, batch_size=32, validation_data=(X_val, y_val), callbacks=[early_stopping_cb])"
   ]
  },
  {
   "cell_type": "markdown",
   "id": "9f7dc519-947b-492a-bf99-c6638cf75338",
   "metadata": {
    "tags": []
   },
   "source": [
    "#### **Visualizing the training history**"
   ]
  },
  {
   "cell_type": "code",
   "execution_count": null,
   "id": "abcb091e-a508-4a5b-9efa-6da9d1b47b95",
   "metadata": {},
   "outputs": [],
   "source": [
    "import pandas as pd\n",
    "import matplotlib.pyplot as plt\n",
    "\n",
    "history_df = pd.DataFrame(history.history)"
   ]
  },
  {
   "cell_type": "code",
   "execution_count": null,
   "id": "f69952b3-0c62-48ed-9257-ed851d6b828a",
   "metadata": {},
   "outputs": [],
   "source": [
    "history_df[['loss', 'val_loss']].plot(figsize=(8, 5))\n",
    "plt.grid(True)\n",
    "# plt.xticks(range(100))\n",
    "plt.xlabel('Epochs')\n",
    "plt.ylabel('Score')\n",
    "\n",
    "history_df[['accuracy', 'val_accuracy']].plot(figsize=(8, 5))\n",
    "plt.grid(True)\n",
    "# plt.xticks(range(100))\n",
    "plt.xlabel('Epochs')\n",
    "plt.ylabel('Score')"
   ]
  },
  {
   "cell_type": "markdown",
   "id": "71dc4b9d-d057-4a3d-9b87-142290632c4a",
   "metadata": {},
   "source": [
    "## 3. Evaluating and Predicting New Samples by using our Overfitted Model"
   ]
  },
  {
   "cell_type": "markdown",
   "id": "6114493b-379d-4407-8f3f-278806a9c9fb",
   "metadata": {},
   "source": [
    "#### **Evaluation**\n",
    "https://www.tensorflow.org/api_docs/python/tf/keras/Sequential#evaluate"
   ]
  },
  {
   "cell_type": "code",
   "execution_count": null,
   "id": "41a75d26-ca65-405e-85bf-377a035a82a4",
   "metadata": {},
   "outputs": [],
   "source": [
    "model.evaluate(X_test, y_test)"
   ]
  },
  {
   "cell_type": "markdown",
   "id": "1a6c74cf-ba92-40a3-9bba-728e893a58a8",
   "metadata": {},
   "source": [
    "#### **Prediction**\n",
    "https://www.tensorflow.org/api_docs/python/tf/keras/Sequential#predict"
   ]
  },
  {
   "cell_type": "code",
   "execution_count": null,
   "id": "3739ea39-55a6-47c9-a5ae-e8d3e41e6230",
   "metadata": {},
   "outputs": [],
   "source": [
    "y_test_proba = model.predict(X_test)\n",
    "y_test_proba"
   ]
  },
  {
   "cell_type": "markdown",
   "id": "cea9d666-911d-41e9-9954-f7b844deb99a",
   "metadata": {},
   "source": [
    "#### **Class Prediction**\n",
    "https://stackoverflow.com/a/69503180/7069696"
   ]
  },
  {
   "cell_type": "code",
   "execution_count": null,
   "id": "d887c320-b6c1-4c7f-b859-522e65d5f272",
   "metadata": {},
   "outputs": [],
   "source": [
    "y_test_pred = np.argmax(y_test_proba, axis=1)\n",
    "y_test_pred"
   ]
  },
  {
   "cell_type": "code",
   "execution_count": null,
   "id": "6c9dd684-66be-4eb8-9a1d-798408e95a46",
   "metadata": {},
   "outputs": [],
   "source": [
    "from sklearn.metrics import classification_report\n",
    "\n",
    "print(classification_report(y_test, y_test_pred))"
   ]
  },
  {
   "cell_type": "markdown",
   "id": "3bafc6b3-a9c5-4d6f-972f-4796208ca8de",
   "metadata": {},
   "source": [
    "We got a better accuracy than the model without **data augmentation**."
   ]
  },
  {
   "cell_type": "code",
   "execution_count": null,
   "id": "bbec1545-5cd7-4be7-b352-81f11a30db56",
   "metadata": {},
   "outputs": [],
   "source": []
  }
 ],
 "metadata": {
  "kernelspec": {
   "display_name": "Python 3 (ipykernel)",
   "language": "python",
   "name": "python3"
  },
  "language_info": {
   "codemirror_mode": {
    "name": "ipython",
    "version": 3
   },
   "file_extension": ".py",
   "mimetype": "text/x-python",
   "name": "python",
   "nbconvert_exporter": "python",
   "pygments_lexer": "ipython3",
   "version": "3.9.5"
  }
 },
 "nbformat": 4,
 "nbformat_minor": 5
}
