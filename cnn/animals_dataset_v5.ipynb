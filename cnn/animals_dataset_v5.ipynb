{
 "cells": [
  {
   "cell_type": "markdown",
   "id": "09142599-d99c-4b84-ae6b-4ee2abc7df3a",
   "metadata": {},
   "source": [
    "**D3APL: Aplicações em Ciência de Dados** <br/>\n",
    "IFSP Campinas\n",
    "\n",
    "Prof. Dr. Samuel Martins (Samuka) <br/><br/>\n",
    "\n",
    "<a rel=\"license\" href=\"http://creativecommons.org/licenses/by-nc-sa/4.0/\"><img alt=\"Creative Commons License\" style=\"border-width:0\" src=\"https://i.creativecommons.org/l/by-nc-sa/4.0/88x31.png\" /></a><br />This work is licensed under a <a rel=\"license\" href=\"http://creativecommons.org/licenses/by-nc-sa/4.0/\">Creative Commons Attribution-NonCommercial-ShareAlike 4.0 International License</a>."
   ]
  },
  {
   "cell_type": "markdown",
   "id": "dbed1c92-5c77-4898-8cbb-e847af6f72cc",
   "metadata": {},
   "source": [
    "# Animal Dataset - v5\n",
    "We will evaluate some **multiclass classification** CNNs to predict the classes of the **Animal Dataset**: https://www.kaggle.com/datasets/alessiocorrado99/animals10\n",
    "\n",
    "\n",
    "Target goals:\n",
    "- Allocating GPU memory on demand\n",
    "- Evaluate VGG16 by transfer learning with the original input: 224x224x3\n",
    "- Training on Large Datasets That Don’t Fit In Memory in Keras"
   ]
  },
  {
   "cell_type": "markdown",
   "id": "d2fb8137-7b1b-42e9-b2e9-75711269596c",
   "metadata": {},
   "source": [
    "## 1. Set up"
   ]
  },
  {
   "cell_type": "markdown",
   "id": "a3542eb6-d992-499f-9ac6-8771676123c6",
   "metadata": {},
   "source": [
    "#### 1.1 TensorFlow"
   ]
  },
  {
   "cell_type": "code",
   "execution_count": 1,
   "id": "ab093db2-4853-44eb-b588-da0a71ad6dba",
   "metadata": {},
   "outputs": [],
   "source": [
    "import tensorflow as tf"
   ]
  },
  {
   "cell_type": "code",
   "execution_count": 2,
   "id": "9e36de08-c4c0-4632-af0b-bed7b64296ac",
   "metadata": {},
   "outputs": [
    {
     "data": {
      "text/plain": [
       "'2.8.0'"
      ]
     },
     "execution_count": 2,
     "metadata": {},
     "output_type": "execute_result"
    }
   ],
   "source": [
    "tf.__version__"
   ]
  },
  {
   "cell_type": "markdown",
   "id": "f55f5afb-ecab-48f1-ad12-de12d0c38e40",
   "metadata": {},
   "source": [
    "**GPU available?**"
   ]
  },
  {
   "cell_type": "code",
   "execution_count": 3,
   "id": "cf10151d-8abe-49f7-a1f2-9f4050d6dd6e",
   "metadata": {},
   "outputs": [
    {
     "name": "stdout",
     "output_type": "stream",
     "text": [
      "Num GPUs Available:  1\n"
     ]
    }
   ],
   "source": [
    "import tensorflow as tf\n",
    "print(\"Num GPUs Available: \", len(tf.config.list_physical_devices('GPU')))"
   ]
  },
  {
   "cell_type": "markdown",
   "id": "405a96ce-6d8e-4b7a-b3a6-b442a7865fa3",
   "metadata": {},
   "source": [
    "### 1.2 Allocating memory on demand\n",
    "By default `TensorFlow` allocates _GPU memory_ for the **lifetime of a process**, not the lifetime of the **session object** (so memory can linger much longer than the object). That is why memory is lingering after you stop the program. <br/>\n",
    "Instead, we can indicate to `TensorFlow` allocates **memory on demand**.\n",
    "\n",
    "Sources: <br/>\n",
    "https://www.tensorflow.org/guide/gpu#limiting_gpu_memory_growth\n",
    "\n",
    "https://python.tutorialink.com/cuda-error-out-of-memory-python-process-utilizes-all-gpu-memory/ <br/>\n",
    "https://blog.fearcat.in/a?ID=00950-b4887eea-22e7-4853-b4de-fe746a9e56e6 <br/>\n",
    "https://stackoverflow.com/a/45553529"
   ]
  },
  {
   "cell_type": "code",
   "execution_count": 4,
   "id": "628add04-bc71-4ffc-91ce-51d49b39e511",
   "metadata": {},
   "outputs": [
    {
     "name": "stdout",
     "output_type": "stream",
     "text": [
      "1 Physical GPUs, 1 Logical GPUs\n"
     ]
    }
   ],
   "source": [
    "gpus = tf.config.list_physical_devices('GPU')\n",
    "\n",
    "if gpus:\n",
    "    try:\n",
    "        # Currently, memory growth needs to be the same across GPUs\n",
    "        for gpu in gpus:\n",
    "            tf.config.experimental.set_memory_growth(gpu, True)\n",
    "        logical_gpus = tf.config.list_logical_devices('GPU')\n",
    "        print(len(gpus), \"Physical GPUs,\", len(logical_gpus), \"Logical GPUs\")\n",
    "    except RuntimeError as e:\n",
    "        # Memory growth must be set before GPUs have been initialized\n",
    "        print(e)"
   ]
  },
  {
   "cell_type": "markdown",
   "id": "4e17fb00-de23-48bd-ab8a-1b6cc9089043",
   "metadata": {},
   "source": [
    "### 1.2 Fixing the seed for reproducibility (optional)\n",
    "That's a try for reprodubility in Keras. See more on:\n",
    "- https://stackoverflow.com/a/59076062\n",
    "- https://machinelearningmastery.com/reproducible-results-neural-networks-keras/"
   ]
  },
  {
   "cell_type": "code",
   "execution_count": 5,
   "id": "41809176-c43b-4143-940e-e63e26394fe0",
   "metadata": {},
   "outputs": [],
   "source": [
    "import os\n",
    "import tensorflow as tf\n",
    "import numpy as np\n",
    "import random\n",
    "\n",
    "def reset_random_seeds(seed=42):\n",
    "    os.environ['PYTHONHASHSEED'] = str(seed)\n",
    "    tf.random.set_seed(seed)\n",
    "    np.random.seed(seed)\n",
    "    random.seed(seed)\n",
    "\n",
    "    \n",
    "# make some random data\n",
    "reset_random_seeds()"
   ]
  },
  {
   "cell_type": "markdown",
   "id": "a25efbd0-4d14-4f97-84f7-18e6e103a6b9",
   "metadata": {},
   "source": [
    "### 1.3. Dataset\n",
    "**Animal Dataset**: https://www.kaggle.com/datasets/alessiocorrado99/animals10"
   ]
  },
  {
   "cell_type": "code",
   "execution_count": 6,
   "id": "4f517d88-8dc2-4339-b788-45fa7f8c5253",
   "metadata": {},
   "outputs": [],
   "source": [
    "import pandas as pd\n",
    "import numpy as np\n",
    "import os"
   ]
  },
  {
   "cell_type": "code",
   "execution_count": 7,
   "id": "5b4511fe-1606-4c2a-afe5-ef9d252cc7a9",
   "metadata": {},
   "outputs": [],
   "source": [
    "# train\n",
    "dataset_df_train = pd.read_csv('../datasets/animals-dataset/preprocessed/train.csv')\n",
    "\n",
    "# validation\n",
    "dataset_df_validation = pd.read_csv('../datasets/animals-dataset/preprocessed/validation.csv')\n",
    "\n",
    "# test\n",
    "dataset_df_test = pd.read_csv('../datasets/animals-dataset/preprocessed/test.csv')"
   ]
  },
  {
   "cell_type": "markdown",
   "id": "848cac26-25c1-467a-a446-4910a9512320",
   "metadata": {},
   "source": [
    "## 2. Building and Training a CNN via Keras"
   ]
  },
  {
   "cell_type": "markdown",
   "id": "a474b87c-b0d8-4079-a16d-5dc72ebf5135",
   "metadata": {},
   "source": [
    "### 2.1 Defining the Network Architecture - VGG16\n",
    "Original paper: https://arxiv.org/pdf/1409.1556.pdf <br/>\n",
    "Tutorial: https://medium.com/@mygreatlearning/everything-you-need-to-know-about-vgg16-7315defb5918 <br/>\n",
    "Tutorial: https://towardsdatascience.com/step-by-step-vgg16-implementation-in-keras-for-beginners-a833c686ae6c\n",
    "\n",
    "\n",
    "<img src='figs/vgg16.png' />\n",
    "\n",
    "<img src='figs/vgg16_architecture.jpeg' />\n"
   ]
  },
  {
   "cell_type": "markdown",
   "id": "1799b058-6752-4dd0-89c4-7399a5736289",
   "metadata": {},
   "source": [
    "<br/>\n",
    "\n",
    "**Getting the VGG16 with trained weights as our base model**"
   ]
  },
  {
   "cell_type": "code",
   "execution_count": null,
   "id": "9785d229-156c-4ea0-abd0-aa7030a41c05",
   "metadata": {},
   "outputs": [],
   "source": [
    "# https://keras.io/api/applications/vgg/\n",
    "# https://towardsdatascience.com/transfer-learning-with-vgg16-and-keras-50ea161580b4\n",
    "\n",
    "from tensorflow.keras.applications import VGG16\n",
    "\n",
    "# consider the original input shape: 224x224x4\n",
    "base_model = VGG16(include_top=None, weights=\"imagenet\", input_shape=(224, 224, 3))\n",
    "base_model.trainable = False"
   ]
  },
  {
   "cell_type": "code",
   "execution_count": 9,
   "id": "858d658e-f62d-4f6a-9415-8360231978fe",
   "metadata": {},
   "outputs": [
    {
     "name": "stdout",
     "output_type": "stream",
     "text": [
      "Model: \"vgg16\"\n",
      "_________________________________________________________________\n",
      " Layer (type)                Output Shape              Param #   \n",
      "=================================================================\n",
      " input_1 (InputLayer)        [(None, 224, 224, 3)]     0         \n",
      "                                                                 \n",
      " block1_conv1 (Conv2D)       (None, 224, 224, 64)      1792      \n",
      "                                                                 \n",
      " block1_conv2 (Conv2D)       (None, 224, 224, 64)      36928     \n",
      "                                                                 \n",
      " block1_pool (MaxPooling2D)  (None, 112, 112, 64)      0         \n",
      "                                                                 \n",
      " block2_conv1 (Conv2D)       (None, 112, 112, 128)     73856     \n",
      "                                                                 \n",
      " block2_conv2 (Conv2D)       (None, 112, 112, 128)     147584    \n",
      "                                                                 \n",
      " block2_pool (MaxPooling2D)  (None, 56, 56, 128)       0         \n",
      "                                                                 \n",
      " block3_conv1 (Conv2D)       (None, 56, 56, 256)       295168    \n",
      "                                                                 \n",
      " block3_conv2 (Conv2D)       (None, 56, 56, 256)       590080    \n",
      "                                                                 \n",
      " block3_conv3 (Conv2D)       (None, 56, 56, 256)       590080    \n",
      "                                                                 \n",
      " block3_pool (MaxPooling2D)  (None, 28, 28, 256)       0         \n",
      "                                                                 \n",
      " block4_conv1 (Conv2D)       (None, 28, 28, 512)       1180160   \n",
      "                                                                 \n",
      " block4_conv2 (Conv2D)       (None, 28, 28, 512)       2359808   \n",
      "                                                                 \n",
      " block4_conv3 (Conv2D)       (None, 28, 28, 512)       2359808   \n",
      "                                                                 \n",
      " block4_pool (MaxPooling2D)  (None, 14, 14, 512)       0         \n",
      "                                                                 \n",
      " block5_conv1 (Conv2D)       (None, 14, 14, 512)       2359808   \n",
      "                                                                 \n",
      " block5_conv2 (Conv2D)       (None, 14, 14, 512)       2359808   \n",
      "                                                                 \n",
      " block5_conv3 (Conv2D)       (None, 14, 14, 512)       2359808   \n",
      "                                                                 \n",
      " block5_pool (MaxPooling2D)  (None, 7, 7, 512)         0         \n",
      "                                                                 \n",
      "=================================================================\n",
      "Total params: 14,714,688\n",
      "Trainable params: 0\n",
      "Non-trainable params: 14,714,688\n",
      "_________________________________________________________________\n"
     ]
    }
   ],
   "source": [
    "base_model.summary()"
   ]
  },
  {
   "cell_type": "markdown",
   "id": "f7e2b2da-6f2d-4359-a3dc-fdd41daea358",
   "metadata": {},
   "source": [
    "Note that **there are no Trainable parameters**."
   ]
  },
  {
   "cell_type": "markdown",
   "id": "d522df07-6ad8-4ff0-8a2c-e8ac5825c428",
   "metadata": {},
   "source": [
    "<br/>\n",
    "\n",
    "**Plugging a Fully-connected network classifier into the base model**"
   ]
  },
  {
   "cell_type": "code",
   "execution_count": 10,
   "id": "f22e1728-9b4c-4f6e-be92-c00e8605bc8e",
   "metadata": {},
   "outputs": [],
   "source": [
    "from tensorflow.keras import Sequential\n",
    "from tensorflow.keras.layers import Flatten, Dense\n",
    "\n",
    "\n",
    "model = Sequential([\n",
    "    # our base model\n",
    "    base_model,\n",
    "    \n",
    "    Flatten(),\n",
    "    \n",
    "    # FC classifier\n",
    "    Dense(128, activation='relu'),\n",
    "    Dense(64, activation='relu'),\n",
    "    \n",
    "    Dense(10, activation='softmax')\n",
    "])"
   ]
  },
  {
   "cell_type": "code",
   "execution_count": 11,
   "id": "8ddcafcb-5a90-44bb-af37-70c73c95599f",
   "metadata": {},
   "outputs": [
    {
     "name": "stdout",
     "output_type": "stream",
     "text": [
      "Model: \"sequential\"\n",
      "_________________________________________________________________\n",
      " Layer (type)                Output Shape              Param #   \n",
      "=================================================================\n",
      " vgg16 (Functional)          (None, 7, 7, 512)         14714688  \n",
      "                                                                 \n",
      " flatten (Flatten)           (None, 25088)             0         \n",
      "                                                                 \n",
      " dense (Dense)               (None, 128)               3211392   \n",
      "                                                                 \n",
      " dense_1 (Dense)             (None, 64)                8256      \n",
      "                                                                 \n",
      " dense_2 (Dense)             (None, 10)                650       \n",
      "                                                                 \n",
      "=================================================================\n",
      "Total params: 17,934,986\n",
      "Trainable params: 3,220,298\n",
      "Non-trainable params: 14,714,688\n",
      "_________________________________________________________________\n"
     ]
    }
   ],
   "source": [
    "model.summary()"
   ]
  },
  {
   "cell_type": "markdown",
   "id": "024edf16-0c3b-41b3-8b77-8308d9835105",
   "metadata": {},
   "source": [
    "Although our **model** has _a lot of parameters_, there is a **smaller** number of **trained parameters**."
   ]
  },
  {
   "cell_type": "code",
   "execution_count": 12,
   "id": "ea814b3b-5930-4a61-a57a-e7bd59ba4863",
   "metadata": {},
   "outputs": [],
   "source": [
    "from tensorflow.keras.optimizers import Adam\n",
    "opt = Adam(learning_rate=0.001)\n",
    "model.compile(loss='sparse_categorical_crossentropy', optimizer=opt, metrics=['accuracy'])"
   ]
  },
  {
   "cell_type": "markdown",
   "id": "6e2bc705-b54e-438d-b246-f8fe52501c8a",
   "metadata": {},
   "source": [
    "### 2.2 Preprocessing"
   ]
  },
  {
   "cell_type": "markdown",
   "id": "8af1e3dd-5b2b-4d8f-92aa-fcfabadbf216",
   "metadata": {},
   "source": [
    "- **Image Resizing**\n",
    "    + Since the **input layer's shape** and the **images' shape** ***are different***, we need to **resize** the images to the **input layer's shape**.\n",
    "    + Let's use the function `c2.resize()` for that: https://learnopencv.com/image-resizing-with-opencv/#resize-by-wdith-height\n",
    "- **Intensity (feature) Scaling**\n",
    "    + Animals dataset contain 24-bit color images, i.e., it is a color image where each channel is a 8-bit grayscale image (values from 0 to 255)\n",
    "    + We will simply rescale the values to [0, 1] by dividing them by 255.\n",
    "- **Label Encoder**\n",
    "    + Encode the string classes into class integers from 0 to n_classes-1\n",
    "    + https://scikit-learn.org/stable/modules/generated/sklearn.preprocessing.LabelEncoder.html"
   ]
  },
  {
   "cell_type": "markdown",
   "id": "fb0ca34b-6ae9-4aa9-ba30-38e26998ec43",
   "metadata": {},
   "source": [
    "However, the _preprocessing data_ **may not fit into our memory**!!! <br/>\n",
    "So, we need to deal with that first!"
   ]
  },
  {
   "cell_type": "markdown",
   "id": "21ebf2a7-849c-43ac-a181-fcb20dd2036b",
   "metadata": {
    "tags": []
   },
   "source": [
    "### 2.3 Training on Large Datasets That Don’t Fit In Memory in Keras"
   ]
  },
  {
   "cell_type": "markdown",
   "id": "e044e334-3fab-4ce8-a6b2-40b1fe9b5f23",
   "metadata": {},
   "source": [
    "As our dataset is **too large to fit in memory**, we have to load the dataset from the _hard disk_ in _batches_ to our memory. <br/>\n",
    "We can do that by creating a **Keras Creation of Custom Generator**.\n",
    "\n",
    "https://medium.com/@mrgarg.rajat/training-on-large-datasets-that-dont-fit-in-memory-in-keras-60a974785d71 <br/>\n",
    "https://medium.datadriveninvestor.com/keras-training-on-large-datasets-3e9d9dbc09d4 <br/>\n",
    "\n",
    "https://www.tensorflow.org/api_docs/python/tf/keras/utils/Sequence"
   ]
  },
  {
   "cell_type": "code",
   "execution_count": 13,
   "id": "440b7e66-9a06-4e50-8efc-efe8107e3ad0",
   "metadata": {},
   "outputs": [],
   "source": [
    "from tensorflow.keras.utils import Sequence\n",
    "import numpy as np\n",
    "import math\n",
    "import cv2\n",
    "\n",
    "from animals_utils import preprocess_animals_dataset\n",
    "\n",
    "\n",
    "class MyGenerator(Sequence):\n",
    "    def __init__(self, dataset_df, label_encoder, batch_size, new_dims=(224, 224)):\n",
    "        self.dataset_df = dataset_df\n",
    "        self.label_encoder = label_encoder\n",
    "        self.batch_size = batch_size\n",
    "        self.new_dims = new_dims\n",
    "    \n",
    "    \n",
    "    def __len__(self):\n",
    "        n_samples = self.dataset_df.shape[0]\n",
    "        \n",
    "        return math.ceil(n_samples / float(self.batch_size))\n",
    "    \n",
    "    \n",
    "    def __getitem__(self, idx):\n",
    "        batch_begin = idx * self.batch_size\n",
    "        batch_end = (idx + 1) * self.batch_size\n",
    "        \n",
    "        batch_df = self.dataset_df[batch_begin:batch_end]\n",
    "        \n",
    "        X_batch, y_batch = preprocess_animals_dataset(batch_df, self.label_encoder, self.new_dims, verbose=0)\n",
    "                \n",
    "        return X_batch, y_batch\n",
    "    "
   ]
  },
  {
   "cell_type": "code",
   "execution_count": 14,
   "id": "30c8ab33-096f-4104-bb78-3001028daa64",
   "metadata": {},
   "outputs": [
    {
     "data": {
      "text/plain": [
       "LabelEncoder()"
      ]
     },
     "execution_count": 14,
     "metadata": {},
     "output_type": "execute_result"
    }
   ],
   "source": [
    "from sklearn.preprocessing import LabelEncoder\n",
    "\n",
    "label_encoder = LabelEncoder()\n",
    "label_encoder.fit(dataset_df_train['class'])"
   ]
  },
  {
   "cell_type": "code",
   "execution_count": 15,
   "id": "4540e614-55bd-4ff2-9690-d58e26a7dc09",
   "metadata": {},
   "outputs": [],
   "source": [
    "batch_size = 32\n",
    "\n",
    "training_batch_generator = MyGenerator(dataset_df_train, label_encoder, batch_size, new_dims=(224, 224))\n",
    "validation_batch_generator = MyGenerator(dataset_df_validation, label_encoder, batch_size, new_dims=(224, 224))\n",
    "test_batch_generator = MyGenerator(dataset_df_test, label_encoder, batch_size, new_dims=(224, 224))"
   ]
  },
  {
   "cell_type": "code",
   "execution_count": 16,
   "id": "703608bc-f4b4-4b08-b729-0569efec72a4",
   "metadata": {},
   "outputs": [],
   "source": [
    "early_stopping_cb = tf.keras.callbacks.EarlyStopping(patience=10, restore_best_weights=True)"
   ]
  },
  {
   "cell_type": "code",
   "execution_count": 17,
   "id": "986d37b2-5519-424e-bbb8-d8d6c8975637",
   "metadata": {},
   "outputs": [
    {
     "name": "stdout",
     "output_type": "stream",
     "text": [
      "Epoch 1/100\n",
      "200/200 [==============================] - 26s 122ms/step - loss: 1.0810 - accuracy: 0.6398 - val_loss: 0.7191 - val_accuracy: 0.7431\n",
      "Epoch 2/100\n",
      "200/200 [==============================] - 26s 126ms/step - loss: 0.4271 - accuracy: 0.8612 - val_loss: 0.6528 - val_accuracy: 0.7794\n",
      "Epoch 3/100\n",
      "200/200 [==============================] - 26s 127ms/step - loss: 0.2133 - accuracy: 0.9373 - val_loss: 0.7022 - val_accuracy: 0.7750\n",
      "Epoch 4/100\n",
      "200/200 [==============================] - 26s 126ms/step - loss: 0.1105 - accuracy: 0.9695 - val_loss: 0.6725 - val_accuracy: 0.7956\n",
      "Epoch 5/100\n",
      "200/200 [==============================] - 27s 126ms/step - loss: 0.0583 - accuracy: 0.9855 - val_loss: 0.6814 - val_accuracy: 0.8025\n",
      "Epoch 6/100\n",
      "200/200 [==============================] - 27s 128ms/step - loss: 0.0241 - accuracy: 0.9966 - val_loss: 0.6498 - val_accuracy: 0.8238\n",
      "Epoch 7/100\n",
      "200/200 [==============================] - 27s 134ms/step - loss: 0.0125 - accuracy: 0.9984 - val_loss: 0.6876 - val_accuracy: 0.8181\n",
      "Epoch 8/100\n",
      "200/200 [==============================] - 27s 130ms/step - loss: 0.0048 - accuracy: 1.0000 - val_loss: 0.6816 - val_accuracy: 0.8250\n",
      "Epoch 9/100\n",
      "200/200 [==============================] - 27s 131ms/step - loss: 0.0024 - accuracy: 1.0000 - val_loss: 0.6863 - val_accuracy: 0.8200\n",
      "Epoch 10/100\n",
      "200/200 [==============================] - 28s 131ms/step - loss: 0.0017 - accuracy: 1.0000 - val_loss: 0.7045 - val_accuracy: 0.8256\n",
      "Epoch 11/100\n",
      "200/200 [==============================] - 27s 131ms/step - loss: 0.0013 - accuracy: 1.0000 - val_loss: 0.7257 - val_accuracy: 0.8250\n",
      "Epoch 12/100\n",
      "200/200 [==============================] - 27s 128ms/step - loss: 0.0010 - accuracy: 1.0000 - val_loss: 0.7369 - val_accuracy: 0.8263\n",
      "Epoch 13/100\n",
      "200/200 [==============================] - 27s 132ms/step - loss: 8.3617e-04 - accuracy: 1.0000 - val_loss: 0.7537 - val_accuracy: 0.8250\n",
      "Epoch 14/100\n",
      "200/200 [==============================] - 28s 133ms/step - loss: 6.6977e-04 - accuracy: 1.0000 - val_loss: 0.7592 - val_accuracy: 0.8263\n",
      "Epoch 15/100\n",
      "200/200 [==============================] - 28s 131ms/step - loss: 5.4255e-04 - accuracy: 1.0000 - val_loss: 0.7748 - val_accuracy: 0.8238\n",
      "Epoch 16/100\n",
      "200/200 [==============================] - 28s 134ms/step - loss: 4.4122e-04 - accuracy: 1.0000 - val_loss: 0.7844 - val_accuracy: 0.8256\n"
     ]
    }
   ],
   "source": [
    "# https://www.tensorflow.org/api_docs/python/tf/keras/Model#fit\n",
    "history = model.fit(training_batch_generator, epochs=100, validation_data=validation_batch_generator, callbacks=[early_stopping_cb],\n",
    "                    # Used for generator or keras.utils.Sequence input only\n",
    "                    use_multiprocessing=True, workers=16, max_queue_size=32)"
   ]
  },
  {
   "cell_type": "markdown",
   "id": "21232634-024f-4a28-8285-1900da1c6dfb",
   "metadata": {
    "tags": []
   },
   "source": [
    "#### **Visualizing the training history**"
   ]
  },
  {
   "cell_type": "code",
   "execution_count": 18,
   "id": "9e6f323a-bb12-4e64-b10d-2d6c2753484f",
   "metadata": {},
   "outputs": [],
   "source": [
    "import pandas as pd\n",
    "import matplotlib.pyplot as plt\n",
    "\n",
    "history_df = pd.DataFrame(history.history)"
   ]
  },
  {
   "cell_type": "code",
   "execution_count": 19,
   "id": "2f3b7d8c-08eb-4c4b-837f-5830ec5d2a77",
   "metadata": {},
   "outputs": [
    {
     "data": {
      "text/plain": [
       "Text(0, 0.5, 'Score')"
      ]
     },
     "execution_count": 19,
     "metadata": {},
     "output_type": "execute_result"
    },
    {
     "data": {
      "image/png": "[encoded data removed]",
      "text/plain": [
       "<Figure size 576x360 with 1 Axes>"
      ]
     },
     "metadata": {
      "needs_background": "light"
     },
     "output_type": "display_data"
    },
    {
     "data": {
      "image/png": "[encoded data removed]",
      "text/plain": [
       "<Figure size 576x360 with 1 Axes>"
      ]
     },
     "metadata": {
      "needs_background": "light"
     },
     "output_type": "display_data"
    }
   ],
   "source": [
    "history_df[['loss', 'val_loss']].plot(figsize=(8, 5))\n",
    "plt.grid(True)\n",
    "# plt.xticks(range(100))\n",
    "plt.xlabel('Epochs')\n",
    "plt.ylabel('Score')\n",
    "\n",
    "history_df[['accuracy', 'val_accuracy']].plot(figsize=(8, 5))\n",
    "plt.grid(True)\n",
    "# plt.xticks(range(100))\n",
    "plt.xlabel('Epochs')\n",
    "plt.ylabel('Score')"
   ]
  },
  {
   "cell_type": "markdown",
   "id": "71dc4b9d-d057-4a3d-9b87-142290632c4a",
   "metadata": {},
   "source": [
    "## 3. Evaluating and Predicting New Samples by using our Overfitted Model"
   ]
  },
  {
   "cell_type": "markdown",
   "id": "6114493b-379d-4407-8f3f-278806a9c9fb",
   "metadata": {},
   "source": [
    "#### **Evaluation**\n",
    "https://www.tensorflow.org/api_docs/python/tf/keras/Sequential#evaluate"
   ]
  },
  {
   "cell_type": "code",
   "execution_count": 20,
   "id": "41a75d26-ca65-405e-85bf-377a035a82a4",
   "metadata": {},
   "outputs": [
    {
     "name": "stdout",
     "output_type": "stream",
     "text": [
      "63/63 [==============================] - 5s 86ms/step - loss: 0.6943 - accuracy: 0.8150\n"
     ]
    },
    {
     "data": {
      "text/plain": [
       "[0.6943294405937195, 0.8149999976158142]"
      ]
     },
     "execution_count": 20,
     "metadata": {},
     "output_type": "execute_result"
    }
   ],
   "source": [
    "model.evaluate(test_batch_generator)"
   ]
  },
  {
   "cell_type": "markdown",
   "id": "1a6c74cf-ba92-40a3-9bba-728e893a58a8",
   "metadata": {},
   "source": [
    "#### **Prediction**\n",
    "https://www.tensorflow.org/api_docs/python/tf/keras/Sequential#predict"
   ]
  },
  {
   "cell_type": "code",
   "execution_count": 21,
   "id": "3739ea39-55a6-47c9-a5ae-e8d3e41e6230",
   "metadata": {},
   "outputs": [
    {
     "data": {
      "text/plain": [
       "array([[9.04837871e-10, 6.34995831e-06, 1.19230970e-06, ...,\n",
       "        1.37827708e-03, 3.56258772e-10, 2.26589347e-09],\n",
       "       [4.97801904e-11, 6.62256545e-13, 1.44866798e-13, ...,\n",
       "        4.28230237e-07, 6.64773412e-14, 1.52565718e-13],\n",
       "       [3.07175273e-04, 1.60718657e-04, 1.09429576e-03, ...,\n",
       "        5.74150860e-01, 5.82435634e-04, 1.32841030e-02],\n",
       "       ...,\n",
       "       [2.67725009e-11, 1.18540255e-09, 9.99999285e-01, ...,\n",
       "        7.67838117e-07, 7.63510416e-14, 4.36011255e-10],\n",
       "       [9.99998927e-01, 1.82912810e-10, 2.17701170e-11, ...,\n",
       "        3.45969815e-11, 1.11398015e-06, 1.29140620e-09],\n",
       "       [4.30094104e-07, 3.37807316e-04, 5.80905102e-08, ...,\n",
       "        5.42806902e-06, 1.14673554e-07, 9.99642372e-01]], dtype=float32)"
      ]
     },
     "execution_count": 21,
     "metadata": {},
     "output_type": "execute_result"
    }
   ],
   "source": [
    "y_test_proba = model.predict(test_batch_generator)\n",
    "y_test_proba"
   ]
  },
  {
   "cell_type": "markdown",
   "id": "cea9d666-911d-41e9-9954-f7b844deb99a",
   "metadata": {},
   "source": [
    "#### **Class Prediction**\n",
    "https://stackoverflow.com/a/69503180/7069696"
   ]
  },
  {
   "cell_type": "code",
   "execution_count": 22,
   "id": "d887c320-b6c1-4c7f-b859-522e65d5f272",
   "metadata": {},
   "outputs": [
    {
     "data": {
      "text/plain": [
       "array([4, 5, 7, ..., 2, 0, 9])"
      ]
     },
     "execution_count": 22,
     "metadata": {},
     "output_type": "execute_result"
    }
   ],
   "source": [
    "y_test_pred = np.argmax(y_test_proba, axis=1)\n",
    "y_test_pred"
   ]
  },
  {
   "cell_type": "code",
   "execution_count": 23,
   "id": "2e3f61ee-f67c-4fdd-8e89-2b91ea869ecf",
   "metadata": {},
   "outputs": [
    {
     "data": {
      "text/plain": [
       "array(['butterfly', 'cat', 'chicken', 'cow', 'dog', 'elephant', 'horse',\n",
       "       'sheep', 'spider', 'squirrel'], dtype=object)"
      ]
     },
     "execution_count": 23,
     "metadata": {},
     "output_type": "execute_result"
    }
   ],
   "source": [
    "label_encoder.classes_"
   ]
  },
  {
   "cell_type": "code",
   "execution_count": 24,
   "id": "6c9dd684-66be-4eb8-9a1d-798408e95a46",
   "metadata": {},
   "outputs": [
    {
     "name": "stdout",
     "output_type": "stream",
     "text": [
      "              precision    recall  f1-score   support\n",
      "\n",
      "   butterfly       0.94      0.94      0.94       200\n",
      "         cat       0.82      0.81      0.81       200\n",
      "     chicken       0.87      0.81      0.84       200\n",
      "         cow       0.74      0.79      0.76       200\n",
      "         dog       0.77      0.74      0.76       200\n",
      "    elephant       0.73      0.93      0.82       200\n",
      "       horse       0.86      0.75      0.80       200\n",
      "       sheep       0.76      0.70      0.73       200\n",
      "      spider       0.85      0.94      0.89       200\n",
      "    squirrel       0.84      0.74      0.79       200\n",
      "\n",
      "    accuracy                           0.81      2000\n",
      "   macro avg       0.82      0.82      0.81      2000\n",
      "weighted avg       0.82      0.81      0.81      2000\n",
      "\n"
     ]
    }
   ],
   "source": [
    "from sklearn.metrics import classification_report\n",
    "\n",
    "y_test = label_encoder.transform(dataset_df_test['class'])\n",
    "class_names = label_encoder.classes_\n",
    "\n",
    "print(classification_report(y_test, y_test_pred, target_names=[name for name in class_names]))"
   ]
  },
  {
   "cell_type": "markdown",
   "id": "3bafc6b3-a9c5-4d6f-972f-4796208ca8de",
   "metadata": {},
   "source": [
    "We got the **best accuracy** so far."
   ]
  },
  {
   "cell_type": "code",
   "execution_count": null,
   "id": "ec851d83-1162-409f-875c-4ce31ebb50b7",
   "metadata": {},
   "outputs": [],
   "source": []
  }
 ],
 "metadata": {
  "kernelspec": {
   "display_name": "Python 3 (ipykernel)",
   "language": "python",
   "name": "python3"
  },
  "language_info": {
   "codemirror_mode": {
    "name": "ipython",
    "version": 3
   },
   "file_extension": ".py",
   "mimetype": "text/x-python",
   "name": "python",
   "nbconvert_exporter": "python",
   "pygments_lexer": "ipython3",
   "version": "3.9.5"
  }
 },
 "nbformat": 4,
 "nbformat_minor": 5
}
