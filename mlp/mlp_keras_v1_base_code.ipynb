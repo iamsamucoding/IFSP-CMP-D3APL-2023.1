{
 "cells": [
  {
   "cell_type": "markdown",
   "id": "09142599-d99c-4b84-ae6b-4ee2abc7df3a",
   "metadata": {},
   "source": [
    "**D3APL: Aplicações em Ciência de Dados** <br/>\n",
    "IFSP Campinas\n",
    "\n",
    "Prof. Dr. Samuel Martins (Samuka) <br/><br/>\n",
    "\n",
    "<a rel=\"license\" href=\"http://creativecommons.org/licenses/by-nc-sa/4.0/\"><img alt=\"Creative Commons License\" style=\"border-width:0\" src=\"https://i.creativecommons.org/l/by-nc-sa/4.0/88x31.png\" /></a><br />This work is licensed under a <a rel=\"license\" href=\"http://creativecommons.org/licenses/by-nc-sa/4.0/\">Creative Commons Attribution-NonCommercial-ShareAlike 4.0 International License</a>."
   ]
  },
  {
   "cell_type": "markdown",
   "id": "dbed1c92-5c77-4898-8cbb-e847af6f72cc",
   "metadata": {},
   "source": [
    "# Multilayer Perceptron (MLP) with Keras"
   ]
  },
  {
   "cell_type": "markdown",
   "id": "d2fb8137-7b1b-42e9-b2e9-75711269596c",
   "metadata": {},
   "source": [
    "## 1. Set up"
   ]
  },
  {
   "cell_type": "markdown",
   "id": "a3542eb6-d992-499f-9ac6-8771676123c6",
   "metadata": {},
   "source": [
    "#### 1.1 TensorFlow + Keras"
   ]
  },
  {
   "cell_type": "code",
   "execution_count": null,
   "id": "ab093db2-4853-44eb-b588-da0a71ad6dba",
   "metadata": {},
   "outputs": [],
   "source": []
  },
  {
   "cell_type": "code",
   "execution_count": null,
   "id": "9e36de08-c4c0-4632-af0b-bed7b64296ac",
   "metadata": {},
   "outputs": [],
   "source": []
  },
  {
   "cell_type": "code",
   "execution_count": null,
   "id": "dde0def4-7b44-4152-92cd-5fac2922825b",
   "metadata": {},
   "outputs": [],
   "source": []
  },
  {
   "cell_type": "markdown",
   "id": "f55f5afb-ecab-48f1-ad12-de12d0c38e40",
   "metadata": {},
   "source": [
    "**GPU available?**"
   ]
  },
  {
   "cell_type": "code",
   "execution_count": null,
   "id": "cf10151d-8abe-49f7-a1f2-9f4050d6dd6e",
   "metadata": {},
   "outputs": [],
   "source": [
    "import tensorflow as tf\n",
    "print(\"Num GPUs Available: \", len(tf.config.list_physical_devices('GPU')))"
   ]
  },
  {
   "cell_type": "markdown",
   "id": "4e17fb00-de23-48bd-ab8a-1b6cc9089043",
   "metadata": {},
   "source": [
    "### 1.2 Fixing the seed for reproducibility (optional)\n",
    "That's a try for reprodubility in Keras. See more on: <br/>\n",
    "https://machinelearningmastery.com/reproducible-results-neural-networks-keras/ <br/>\n",
    "https://www.tensorflow.org/api_docs/python/tf/random/set_seed"
   ]
  },
  {
   "cell_type": "code",
   "execution_count": null,
   "id": "4440090b-9df4-425a-944f-6838e2629149",
   "metadata": {},
   "outputs": [],
   "source": [
    "from numpy.random import seed\n",
    "from tensorflow.random import set_seed\n",
    "\n",
    "seed(42)\n",
    "set_seed(42)"
   ]
  },
  {
   "cell_type": "markdown",
   "id": "47b3b9b6-207c-4b5a-a243-e68b490c7c1b",
   "metadata": {},
   "source": [
    "#### 1.3 Other imports"
   ]
  },
  {
   "cell_type": "code",
   "execution_count": null,
   "id": "dd9377a2-d2d5-4c3b-825a-f389e6091be2",
   "metadata": {},
   "outputs": [],
   "source": [
    "import numpy as np\n",
    "import matplotlib.pyplot as plt"
   ]
  },
  {
   "cell_type": "markdown",
   "id": "231de637-e2aa-4d28-840a-d8c503f63b75",
   "metadata": {},
   "source": [
    "#### 1.4 Loading Fashion MNIST Dataset via Keras\n",
    "https://keras.io/api/datasets/fashion_mnist/"
   ]
  },
  {
   "cell_type": "code",
   "execution_count": null,
   "id": "7af01078-3198-47ec-913a-6806fd3910b9",
   "metadata": {},
   "outputs": [],
   "source": []
  },
  {
   "cell_type": "markdown",
   "id": "29a052da-0820-4a38-8456-e0508e61cf65",
   "metadata": {},
   "source": [
    "The dataset is already split into a training set and a test set."
   ]
  },
  {
   "cell_type": "code",
   "execution_count": null,
   "id": "834d107e-754a-4586-91dd-275e3d8d059c",
   "metadata": {},
   "outputs": [],
   "source": [
    "# download done in folder: \"~/.keras/datasets\"\n",
    "import os\n",
    "os.listdir(os.path.expanduser('~/.keras/datasets'))"
   ]
  },
  {
   "cell_type": "code",
   "execution_count": null,
   "id": "4aacde3d-5483-468b-9965-d6800199fef9",
   "metadata": {},
   "outputs": [],
   "source": [
    "print(f'X_train.shape: {X_train.shape}')\n",
    "print(f'y_train.shape: {y_train.shape}\\n')\n",
    "\n",
    "print(f'X_test.shape: {X_test.shape}')\n",
    "print(f'y_test.shape: {y_test.shape}')"
   ]
  },
  {
   "cell_type": "code",
   "execution_count": null,
   "id": "e1cf3eb2-3952-4bec-bc90-362428e990fc",
   "metadata": {},
   "outputs": [],
   "source": [
    "print(f'Number of Classes: {np.unique(y_train).shape[0]}')\n",
    "print(f'Classes: {np.unique(y_train)}')"
   ]
  },
  {
   "cell_type": "code",
   "execution_count": null,
   "id": "445f7cbc-6270-4b4e-ae1f-c46408d5d236",
   "metadata": {},
   "outputs": [],
   "source": [
    "class_names = [\"T-shirt/top\", \"Trouser\", \"Pullover\", \"Dress\", \"Coat\", \"Sandal\", \"Shirt\", \"Sneaker\", \"Bag\", \"Ankle boot\"]\n",
    "class_names"
   ]
  },
  {
   "cell_type": "code",
   "execution_count": null,
   "id": "7c4c8ba7-6842-450f-86e2-99c6669f7b1c",
   "metadata": {},
   "outputs": [],
   "source": [
    "_, axes = plt.subplots(nrows=1, ncols=4, figsize=(10, 3))\n",
    "for ax, image, label in zip(axes, X_train, y_train):\n",
    "    ax.set_axis_off()\n",
    "    ax.imshow(image, cmap=plt.cm.gray_r, interpolation=\"nearest\")\n",
    "    ax.set_title(f'Image: {class_names[label]}')"
   ]
  },
  {
   "cell_type": "code",
   "execution_count": null,
   "id": "6bfb14c2-e805-48e0-b39a-bca995b85dd9",
   "metadata": {},
   "outputs": [],
   "source": [
    "# 8-bit gray scale\n",
    "print(f'Min. value of X_train: {X_train.min()}')\n",
    "print(f'Max. value of X_train: {X_train.max()}\\n')\n",
    "\n",
    "print(f'Min. value of X_train: {X_train.min()}')\n",
    "print(f'Max. value of X_train: {X_train.max()}')"
   ]
  },
  {
   "cell_type": "markdown",
   "id": "e8fcb542-031b-4f43-a32e-cc095cc1857b",
   "metadata": {},
   "source": [
    "#### 1.5 (Simple) Feature scaling\n",
    "Since we are going to train the neural network using _Gradient Descent_, we must scale the **input features**. For simplicity, we’ll scale the pixel intensities down to the _0–1_ range by dividing them by **255.0** (8-bit gray image):"
   ]
  },
  {
   "cell_type": "code",
   "execution_count": null,
   "id": "f955f1b1-3ed9-4dad-a05e-fd8b83e19002",
   "metadata": {},
   "outputs": [],
   "source": []
  },
  {
   "cell_type": "code",
   "execution_count": null,
   "id": "26ece1f5-7d6a-4406-bd16-6a6d8017cf1d",
   "metadata": {},
   "outputs": [],
   "source": [
    "# rescaled 8-bit gray scale\n",
    "print(f'Min. value of X_train: {X_train.min()}')\n",
    "print(f'Max. value of X_train: {X_train.max()}\\n')\n",
    "\n",
    "print(f'Min. value of X_train: {X_train.min()}')\n",
    "print(f'Max. value of X_train: {X_train.max()}')"
   ]
  },
  {
   "cell_type": "markdown",
   "id": "3e5cd606-7367-4310-883a-81a96a300b8f",
   "metadata": {},
   "source": [
    "#### 1.6 Flattening the images as feature vectors"
   ]
  },
  {
   "cell_type": "code",
   "execution_count": null,
   "id": "bd9be1af-6dd8-442f-a8f6-f5e6c225b160",
   "metadata": {},
   "outputs": [],
   "source": [
    "# X_train.shape ==> (n_train_imgs, img_width, img_height)\n"
   ]
  },
  {
   "cell_type": "code",
   "execution_count": null,
   "id": "c28bcfb7-1192-4a74-86c3-367505594deb",
   "metadata": {},
   "outputs": [],
   "source": [
    "# X_test.shape ==> (n_test_imgs, img_width, img_height)\n"
   ]
  },
  {
   "cell_type": "code",
   "execution_count": null,
   "id": "4e9e8cee-1986-4f05-afe9-f99c6fd6cb9b",
   "metadata": {},
   "outputs": [],
   "source": []
  },
  {
   "cell_type": "code",
   "execution_count": null,
   "id": "21142047-9cdf-448c-9f62-73ddf35ec812",
   "metadata": {},
   "outputs": [],
   "source": [
    "print(f'X_train.shape: {X_train.shape}')\n",
    "print(f'X_test.shape: {X_test.shape}')"
   ]
  },
  {
   "cell_type": "markdown",
   "id": "4ed90771-4316-4286-89b7-8bbe077db038",
   "metadata": {},
   "source": [
    "## 2. Building and Training a MLP via Keras"
   ]
  },
  {
   "cell_type": "markdown",
   "id": "692f75c8-57b8-4d7f-914b-1369e60cdb19",
   "metadata": {},
   "source": [
    "### 2.1 Defining the Network Architecture\n",
    "Proposed architecture for Multiclass Classification:\n",
    "- Input Layer: 784 neurons (number of pixels)\n",
    "- Hidden Layer 1: 256 neurons, ReLu\n",
    "- Hidden Layer 2: 128 neurons, ReLu\n",
    "- Output Layer: 10 neurons, Softmax\n",
    "\n",
    "In short: [784], [256 ReLU, 128 ReLU], [10 Softmax] ==> pyramid"
   ]
  },
  {
   "cell_type": "markdown",
   "id": "4da9ced7-ea7e-4fac-bd1c-bc82851067a9",
   "metadata": {
    "tags": []
   },
   "source": [
    "#### **Defining the Network's Architecture**"
   ]
  },
  {
   "cell_type": "code",
   "execution_count": null,
   "id": "7a0e0365-17ee-40cf-8fa0-ae1a39590aeb",
   "metadata": {},
   "outputs": [],
   "source": [
    "# Sequential: https://www.tensorflow.org/api_docs/python/tf/keras/Sequential\n",
    "# InputLayer: https://www.tensorflow.org/api_docs/python/tf/keras/layers/InputLayer\n",
    "# Dense: https://www.tensorflow.org/api_docs/python/tf/keras/layers/Dense\n",
    "\n",
    "### Default weight and bias initialization:\n",
    "# kernel_initializer='glorot_uniform',\n",
    "# bias_initializer='zeros',\n",
    "\n"
   ]
  },
  {
   "cell_type": "markdown",
   "id": "16e3d2de-bb3b-4121-b787-a5c322d6e26f",
   "metadata": {},
   "source": [
    "##### **Summarizing Architecture**"
   ]
  },
  {
   "cell_type": "code",
   "execution_count": null,
   "id": "cc0e7573-0ad0-4837-844b-bb5871ac6955",
   "metadata": {},
   "outputs": [],
   "source": []
  },
  {
   "cell_type": "markdown",
   "id": "fe1e4594-d1ed-4f73-8eac-39ea9ca4b6ab",
   "metadata": {},
   "source": [
    "##### **Creating a Model (archicture) from a list of Layers**"
   ]
  },
  {
   "cell_type": "code",
   "execution_count": null,
   "id": "2ec41448-55f5-4261-bde7-5e886f69abb8",
   "metadata": {},
   "outputs": [],
   "source": []
  },
  {
   "cell_type": "code",
   "execution_count": null,
   "id": "a5987f9c-e5c0-40f4-b21f-9c49ce069445",
   "metadata": {},
   "outputs": [],
   "source": []
  },
  {
   "cell_type": "markdown",
   "id": "70519ce0-edd7-46ed-b366-622031cd0c49",
   "metadata": {},
   "source": [
    "##### **Named Layers (without spaces)**"
   ]
  },
  {
   "cell_type": "code",
   "execution_count": null,
   "id": "3ff40b8a-dede-4a4e-9918-f45319e03d4c",
   "metadata": {},
   "outputs": [],
   "source": [
    "# Optionally, we can define names for each layer and for the model\n"
   ]
  },
  {
   "cell_type": "code",
   "execution_count": null,
   "id": "c17a4f68-0316-4aed-adb6-98a7c6ec0bb2",
   "metadata": {},
   "outputs": [],
   "source": []
  },
  {
   "cell_type": "markdown",
   "id": "f68223f6-3dca-4971-8ba0-eb326f9af7de",
   "metadata": {},
   "source": [
    "### 2.2 Info about the Architecture"
   ]
  },
  {
   "cell_type": "markdown",
   "id": "9e945e5f-dbbe-47d8-9202-070edfa1fef4",
   "metadata": {},
   "source": [
    "#### **List of layers (except the input layer)**"
   ]
  },
  {
   "cell_type": "code",
   "execution_count": null,
   "id": "f2e39afb-60ff-4e44-8919-a7e70dc2c9e2",
   "metadata": {},
   "outputs": [],
   "source": []
  },
  {
   "cell_type": "markdown",
   "id": "9ae3c1ab-59a9-4cfb-8cd4-797022786705",
   "metadata": {},
   "source": [
    "#### **Getting a specific layer**\n",
    "\n",
    "According to our convention:\n",
    "- Layer 1: Input Layer\n",
    "- Layer 2: Hidden Layer 1\n",
    "- Layer 3: Hidden Layer 2\n",
    "- Layer 4: Output Layer"
   ]
  },
  {
   "cell_type": "code",
   "execution_count": null,
   "id": "5b4bd52e-4135-4b28-96d7-e1a81939cad2",
   "metadata": {},
   "outputs": [],
   "source": []
  },
  {
   "cell_type": "code",
   "execution_count": null,
   "id": "100195ce-c8c5-4ace-929d-4a40ee706fbd",
   "metadata": {},
   "outputs": [],
   "source": []
  },
  {
   "cell_type": "code",
   "execution_count": null,
   "id": "e3aeafd2-24e3-48b3-b8e6-b01343c272e4",
   "metadata": {},
   "outputs": [],
   "source": []
  },
  {
   "cell_type": "markdown",
   "id": "87f70244-472e-4ba1-af9e-2fd385071de5",
   "metadata": {},
   "source": [
    "#### **Accessing the weights and biases of a layer**\n",
    "\n",
    "PS: While the model is not trained, the layer's weights and biases come from the initialization"
   ]
  },
  {
   "cell_type": "code",
   "execution_count": null,
   "id": "e36572ec-6f87-4b9f-b461-07e7dbd9b8fd",
   "metadata": {},
   "outputs": [],
   "source": []
  },
  {
   "cell_type": "code",
   "execution_count": null,
   "id": "7f7bbd5f-bf79-40f9-ae53-88c4ce01e9b1",
   "metadata": {},
   "outputs": [],
   "source": []
  },
  {
   "cell_type": "code",
   "execution_count": null,
   "id": "2aa1cc6e-a33b-4d68-bb71-d1ad125a9132",
   "metadata": {},
   "outputs": [],
   "source": [
    "print('Hidden 1')\n",
    "print(f'weights.shape = {weights.shape}')\n",
    "print(f'biases.shape = {biases.shape}')"
   ]
  },
  {
   "cell_type": "markdown",
   "id": "3dc7e91f-b454-45b5-98ec-024e78fdbce3",
   "metadata": {},
   "source": [
    "**PS:** Note that the **Weight Matrix's shape** has a different _order/convention_ from what we have seen so far."
   ]
  },
  {
   "cell_type": "code",
   "execution_count": null,
   "id": "fecf61d6-6ab5-4686-9a0c-a01e4e8cfd08",
   "metadata": {},
   "outputs": [],
   "source": [
    "print(weights)"
   ]
  },
  {
   "cell_type": "code",
   "execution_count": null,
   "id": "a442348a-bb0b-4d93-95bb-6b1a2df7899e",
   "metadata": {},
   "outputs": [],
   "source": [
    "print(biases)"
   ]
  },
  {
   "cell_type": "markdown",
   "id": "6828eedc-3c42-4325-9316-acb57846c31b",
   "metadata": {},
   "source": [
    "#### **There are other getters (`get_`)**"
   ]
  },
  {
   "cell_type": "code",
   "execution_count": null,
   "id": "a657d5be-3f4d-4ebc-a5b2-82736cd6ec23",
   "metadata": {},
   "outputs": [],
   "source": []
  },
  {
   "cell_type": "code",
   "execution_count": null,
   "id": "80a5bfae-3e4d-4fce-a4da-d68b0bb6b20b",
   "metadata": {},
   "outputs": [],
   "source": []
  },
  {
   "cell_type": "code",
   "execution_count": null,
   "id": "dad3170f-93d2-4d8c-9272-7bd903432027",
   "metadata": {},
   "outputs": [],
   "source": []
  },
  {
   "cell_type": "code",
   "execution_count": null,
   "id": "882bc9a2-a08d-455a-9d1d-cfa0299e50f9",
   "metadata": {},
   "outputs": [],
   "source": []
  },
  {
   "cell_type": "code",
   "execution_count": null,
   "id": "bc6a41bc-b724-46ae-afb3-43f0195cac4d",
   "metadata": {},
   "outputs": [],
   "source": []
  },
  {
   "cell_type": "markdown",
   "id": "fb73252c-8789-449f-8ef9-0bb4f3f629ef",
   "metadata": {},
   "source": [
    "**PS:** There are the corresponding setter methods (`set_`)."
   ]
  },
  {
   "cell_type": "markdown",
   "id": "0a85c983-328c-4c21-aaf2-c7feb5bfe523",
   "metadata": {},
   "source": [
    "### 2.2 Compiling: Defining the Loss Function, Optimizer, and Metrics"
   ]
  },
  {
   "cell_type": "code",
   "execution_count": null,
   "id": "d7be8c98-8dc9-4957-ba6c-a81c90801acb",
   "metadata": {},
   "outputs": [],
   "source": [
    "# Model compilation: https://www.tensorflow.org/api_docs/python/tf/keras/Model#compile\n"
   ]
  },
  {
   "cell_type": "markdown",
   "id": "2e5bccb8-dc2e-4890-91ea-8716d90509a0",
   "metadata": {},
   "source": [
    "#### **Loss:**\n",
    "\n",
    "We use the `\"sparse_categorical_crossentropy\"` loss because we have **sparse labels** (i.e., for each instance, there is just a target class index, from 0 to 9 in this case), and the classes are **exclusive**.\n",
    "\n",
    "If instead we had _one target probability per class_ for each instance (such as one-hot vectors, e.g. [0., 0., 0., 1., 0., 0., 0., 0., 0., 0.] to represent class 3), then we would need to use the `\"categorical_crossentropy\"` loss instead.\n",
    "\n",
    "If we were doing **binary classification** (with one or more binary labels), then we would use the `\"sigmoid\"` _activation function_ in the **output layer**, and we would use the `\"binary_crossentropy\"` loss."
   ]
  },
  {
   "cell_type": "markdown",
   "id": "ce2e1113-6b17-4114-9187-4486660f6f57",
   "metadata": {},
   "source": [
    "#### **Optimizer:**\n",
    "\n",
    "`\"sgd\"` means that we will train the model using simple **Stochastic Gradient Descent** with its default values (see https://www.tensorflow.org/api_docs/python/tf/keras/optimizers/SGD).<br/>\n",
    "To change some default value, for example the _learning rate_, use `optimizer=keras.optimizers.SGD(lr=???)`.\n",
    "\n",
    "There are other otimizers available in Keras: https://www.tensorflow.org/api_docs/python/tf/keras/optimizers"
   ]
  },
  {
   "cell_type": "markdown",
   "id": "a6e89eaf-3b3a-4f2c-96e5-93c2b17e4bda",
   "metadata": {},
   "source": [
    "#### **Metrics:**\n",
    "List of _metrics_ to be evaluated by the model during **training** and **testing**. <br/>\n",
    "Each of this can be a _string_ (name of a built-in function), _function_ or a `tf.keras.metrics.Metric` instance: https://www.tensorflow.org/api_docs/python/tf/keras/metrics\n",
    "\n",
    "**PS:** By default, _F1 score_ **is not** part of keras metrics. To use it, we need to create our own function and pass it to `metrics`: https://aakashgoel12.medium.com/how-to-add-user-defined-function-get-f1-score-in-keras-metrics-3013f979ce0d#:~:text=By%20default%2C%20f1%20score%20is,like%20accuracy%2C%20categorical%20accuracy%20etc. <br/>\n",
    "Other option is to use [**TensorFlow Addons**](https://www.tensorflow.org/addons) that provides several additional functionalities to TensorFlow, such as [**F1 Score**](https://www.tensorflow.org/addons/api_docs/python/tfa/metrics/F1Score): https://stackoverflow.com/a/71705026/7069696\n",
    "\n"
   ]
  },
  {
   "cell_type": "markdown",
   "id": "16b1b6ce-3283-46ee-83d1-cce66271eddb",
   "metadata": {},
   "source": [
    "### 2.4 Training\n",
    "\n",
    "In case of GPU drivers, we can monitor its use by [_gpustat_](https://github.com/wookayin/gpustat).\n",
    "\n",
    "On terminal, use: `gpustat -cpi`\n"
   ]
  },
  {
   "cell_type": "code",
   "execution_count": null,
   "id": "a8580290-0b32-43ac-a33d-735d11c6682a",
   "metadata": {},
   "outputs": [],
   "source": [
    "# https://www.tensorflow.org/api_docs/python/tf/keras/Sequential#fit\n",
    "\n"
   ]
  },
  {
   "cell_type": "markdown",
   "id": "8b311b54-6803-4d99-9533-4415a738ca72",
   "metadata": {},
   "source": [
    "<br/>\n",
    "\n",
    "We are using a _validation set_ during training by the argument `validation_split`: https://www.tensorflow.org/api_docs/python/tf/distribute/experimental/ParameterServerStrategy\n",
    " <br/>\n",
    "For example, `validation_split=0.2` tells Keras to use **the last** 20% of the data (before shuffling) for **validation**. <br/>\n",
    "\n",
    "Additionally, the argument `validation_batch_size` tells the number of samples per **validation batch**. If _unspecified_, will default to `batch_size`."
   ]
  },
  {
   "cell_type": "markdown",
   "id": "c619e00b-fa9a-4748-984a-951604f27f25",
   "metadata": {},
   "source": [
    "#### **Checking the training history object**"
   ]
  },
  {
   "cell_type": "code",
   "execution_count": null,
   "id": "18e5bd5f-c1a2-44cf-beca-63e17d1155e5",
   "metadata": {},
   "outputs": [],
   "source": []
  },
  {
   "cell_type": "code",
   "execution_count": null,
   "id": "e234f8c7-2b90-4ed4-a211-216e5a775b37",
   "metadata": {},
   "outputs": [],
   "source": []
  },
  {
   "cell_type": "code",
   "execution_count": null,
   "id": "e5c3f270-0c8e-4496-91d7-f03602615e5c",
   "metadata": {},
   "outputs": [],
   "source": []
  },
  {
   "cell_type": "code",
   "execution_count": null,
   "id": "99160eef-e499-454f-8d74-017ce2614931",
   "metadata": {},
   "outputs": [],
   "source": []
  },
  {
   "cell_type": "markdown",
   "id": "9f7dc519-947b-492a-bf99-c6638cf75338",
   "metadata": {},
   "source": [
    "#### **Visualizing the training history**"
   ]
  },
  {
   "cell_type": "code",
   "execution_count": null,
   "id": "abcb091e-a508-4a5b-9efa-6da9d1b47b95",
   "metadata": {},
   "outputs": [],
   "source": [
    "import pandas as pd\n",
    "import matplotlib.pyplot as plt\n",
    "\n",
    "history_df = pd.DataFrame(history.history)\n",
    "history_df"
   ]
  },
  {
   "cell_type": "code",
   "execution_count": null,
   "id": "f69952b3-0c62-48ed-9257-ed851d6b828a",
   "metadata": {},
   "outputs": [],
   "source": [
    "history_df.plot(figsize=(8, 5))\n",
    "plt.grid(True)\n",
    "plt.ylim(0, 1) # set the vertical range to [0-1]\n",
    "plt.xlabel('Epochs')\n",
    "plt.ylabel('Score')"
   ]
  },
  {
   "cell_type": "markdown",
   "id": "f8a66ed4-74aa-4aa3-9e88-13fb86b5314d",
   "metadata": {},
   "source": [
    "The _training set_ performance ends up beating the _validation performance_, as is generally the case when you train for long enough. <br/>\n",
    "You can tell that the model _has not quite converged yet_, as the _validation loss_ is still (or could be) going down, so you should probably\n",
    "**continue training**.\n",
    "\n",
    "It’s as simple as calling the `fit()` method again, since Keras **_just_ continues training where it left off**."
   ]
  },
  {
   "cell_type": "code",
   "execution_count": null,
   "id": "df728186-8b63-491d-a5fd-ca621abb1977",
   "metadata": {},
   "outputs": [],
   "source": [
    "history = model.fit(X_train, y_train, epochs=30, batch_size=32, validation_split=0.2)"
   ]
  },
  {
   "cell_type": "markdown",
   "id": "431d0566-f020-4c21-9f6c-7044816cce36",
   "metadata": {},
   "source": [
    "Note that our _training loss_ is lower than that from the last epoch in the previous training. This confirms that our `fit()` method **continues training** where it left off."
   ]
  },
  {
   "cell_type": "markdown",
   "id": "7c9171e0-dd03-4626-8294-6d5083b46782",
   "metadata": {},
   "source": [
    "#### **More about training in Keras**\n",
    "Extracted from \"A. Géron, Hands-on Machine Learning (Chapter 10)\".\n",
    "\n",
    "If the training set was _very skewed_, with some classes being _overrepresented_ and others _underrepresented_, it would be useful to set the `class_weight` argument when calling the `fit()` method, which would give a **larger weight** to _underrepresented classes_ and a **lower weight** to _overrepresented classes_. These weights would be used by Keras when _computing the loss_.\n",
    "\n",
    "If you need _per-instance weights_, set the `sample_weight` argument (if both `class_weight` and `sample_weight` are provided, Keras **multiplies them**).\n",
    "\n",
    "_Per-instance weights_ could be useful if some instances were labeled by _experts_ while others were labeled using a _crowdsourcing platform_: you might want to give more weight to the former."
   ]
  },
  {
   "cell_type": "markdown",
   "id": "378c5f15-1de7-45d0-8c4f-11db59aea0cf",
   "metadata": {},
   "source": [
    "#### **Saving a Model**\n",
    "https://www.tensorflow.org/api_docs/python/tf/keras/Sequential#save"
   ]
  },
  {
   "cell_type": "code",
   "execution_count": null,
   "id": "a80e439e-b0b2-451b-872c-948c31fa0062",
   "metadata": {},
   "outputs": [],
   "source": []
  },
  {
   "cell_type": "markdown",
   "id": "9d249a00-df74-41b1-b4bb-d764fda7f3e7",
   "metadata": {},
   "source": [
    "See also:\n",
    "- `save_spec`: https://www.tensorflow.org/api_docs/python/tf/keras/Sequential#save_spec\n",
    "- `save_weights`: https://www.tensorflow.org/api_docs/python/tf/keras/Sequential#save_weights"
   ]
  },
  {
   "cell_type": "markdown",
   "id": "ccd5fde8-f84f-469d-a5b7-6b879ea24c16",
   "metadata": {},
   "source": [
    "#### **Loading a Model**\n",
    "https://www.tensorflow.org/api_docs/python/tf/keras/Sequential#example_8"
   ]
  },
  {
   "cell_type": "code",
   "execution_count": null,
   "id": "12a1a710-472a-45bd-842d-845e06c0ae5c",
   "metadata": {},
   "outputs": [],
   "source": []
  },
  {
   "cell_type": "code",
   "execution_count": null,
   "id": "69d1ae69-28aa-437c-bb94-66b5ea5e2bdf",
   "metadata": {},
   "outputs": [],
   "source": []
  },
  {
   "cell_type": "markdown",
   "id": "52717e71-8aa2-4fd1-b25a-e35e73ab9c5a",
   "metadata": {},
   "source": [
    "See also:\n",
    "- `load_weights`: https://www.tensorflow.org/api_docs/python/tf/keras/Sequential#load_weights"
   ]
  },
  {
   "cell_type": "markdown",
   "id": "455ca1cb-20b5-439b-8240-e511abb305c7",
   "metadata": {},
   "source": [
    "### 2.5 Evaluating and Predicting New Samples"
   ]
  },
  {
   "cell_type": "markdown",
   "id": "7db26d3c-46e9-437a-a448-4adf4542958a",
   "metadata": {},
   "source": [
    "#### **Evaluation**\n",
    "https://www.tensorflow.org/api_docs/python/tf/keras/Sequential#evaluate"
   ]
  },
  {
   "cell_type": "code",
   "execution_count": null,
   "id": "41a75d26-ca65-405e-85bf-377a035a82a4",
   "metadata": {},
   "outputs": [],
   "source": []
  },
  {
   "cell_type": "markdown",
   "id": "40e0efd4-0647-435c-a57d-c4d617913992",
   "metadata": {},
   "source": [
    "#### **Prediction**\n",
    "https://www.tensorflow.org/api_docs/python/tf/keras/Sequential#predict"
   ]
  },
  {
   "cell_type": "code",
   "execution_count": null,
   "id": "3739ea39-55a6-47c9-a5ae-e8d3e41e6230",
   "metadata": {},
   "outputs": [],
   "source": []
  },
  {
   "cell_type": "markdown",
   "id": "601d558a-9208-4bb3-bde4-67b1c23bc54c",
   "metadata": {},
   "source": [
    "#### **Class Prediction**\n",
    "https://stackoverflow.com/a/69503180/7069696"
   ]
  },
  {
   "cell_type": "code",
   "execution_count": null,
   "id": "d887c320-b6c1-4c7f-b859-522e65d5f272",
   "metadata": {},
   "outputs": [],
   "source": []
  },
  {
   "cell_type": "code",
   "execution_count": null,
   "id": "6c9dd684-66be-4eb8-9a1d-798408e95a46",
   "metadata": {},
   "outputs": [],
   "source": []
  },
  {
   "cell_type": "markdown",
   "id": "e6a3a7db-b0f5-4638-a074-1134538ad1b5",
   "metadata": {},
   "source": [
    "# Exercise"
   ]
  },
  {
   "cell_type": "markdown",
   "id": "79ee7ec6-30c1-4285-a43e-1dbef982d66f",
   "metadata": {},
   "source": [
    "Repeat all steps shown in this notebook for the MNIST dataset available in Keras: <br/>\n",
    "https://keras.io/api/datasets/mnist/"
   ]
  },
  {
   "cell_type": "code",
   "execution_count": null,
   "id": "99933cce-de11-4828-96b1-efdd7d67b9f2",
   "metadata": {},
   "outputs": [],
   "source": []
  }
 ],
 "metadata": {
  "kernelspec": {
   "display_name": "Python 3",
   "language": "python",
   "name": "python3"
  },
  "language_info": {
   "codemirror_mode": {
    "name": "ipython",
    "version": 3
   },
   "file_extension": ".py",
   "mimetype": "text/x-python",
   "name": "python",
   "nbconvert_exporter": "python",
   "pygments_lexer": "ipython3",
   "version": "3.8.5"
  }
 },
 "nbformat": 4,
 "nbformat_minor": 5
}
