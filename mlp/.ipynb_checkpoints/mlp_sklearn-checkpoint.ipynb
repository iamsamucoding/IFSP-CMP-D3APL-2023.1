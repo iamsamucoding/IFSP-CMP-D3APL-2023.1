{
 "cells": [
  {
   "cell_type": "markdown",
   "id": "dee11e74-cdb3-437a-a24b-e15c760e1b7c",
   "metadata": {},
   "source": [
    "**D3APL: Aplicações em Ciência de Dados** <br/>\n",
    "IFSP Campinas\n",
    "\n",
    "Prof. Dr. Samuel Martins (Samuka) <br/><br/>\n",
    "\n",
    "<a rel=\"license\" href=\"http://creativecommons.org/licenses/by-nc-sa/4.0/\"><img alt=\"Creative Commons License\" style=\"border-width:0\" src=\"https://i.creativecommons.org/l/by-nc-sa/4.0/88x31.png\" /></a><br />This work is licensed under a <a rel=\"license\" href=\"http://creativecommons.org/licenses/by-nc-sa/4.0/\">Creative Commons Attribution-NonCommercial-ShareAlike 4.0 International License</a>."
   ]
  },
  {
   "cell_type": "markdown",
   "id": "f8ea0759-e8cf-4f80-834f-bd2c5cea6f83",
   "metadata": {},
   "source": [
    "# Multilayer Perceptron (MLP) with Scikit-learn"
   ]
  },
  {
   "cell_type": "markdown",
   "id": "6f9a910d-98d3-4bfa-8d86-e113e99845a9",
   "metadata": {},
   "source": [
    "## 1. Set up"
   ]
  },
  {
   "cell_type": "markdown",
   "id": "5f513a89-e309-4aae-8c70-5e5b3bf1d229",
   "metadata": {},
   "source": [
    "#### 1.1 Imports"
   ]
  },
  {
   "cell_type": "code",
   "execution_count": 1,
   "id": "4fd679ba-2fc2-4c54-af18-497b054c3342",
   "metadata": {},
   "outputs": [],
   "source": [
    "import numpy as np\n",
    "from sklearn import datasets\n",
    "from sklearn.model_selection import train_test_split\n",
    "import matplotlib.pyplot as plt"
   ]
  },
  {
   "cell_type": "markdown",
   "id": "fdffb2ff-9029-41ba-8489-97e99c5f3844",
   "metadata": {},
   "source": [
    "#### 1.2 Loading MNIST Dataset\n",
    "https://scikit-learn.org/stable/modules/generated/sklearn.datasets.load_digits.html#sklearn.datasets.load_digits"
   ]
  },
  {
   "cell_type": "code",
   "execution_count": 2,
   "id": "3d277432-237a-4e5f-b720-266d7e1d15d3",
   "metadata": {},
   "outputs": [
    {
     "data": {
      "text/plain": [
       "{'data': array([[ 0.,  0.,  5., ...,  0.,  0.,  0.],\n",
       "        [ 0.,  0.,  0., ..., 10.,  0.,  0.],\n",
       "        [ 0.,  0.,  0., ..., 16.,  9.,  0.],\n",
       "        ...,\n",
       "        [ 0.,  0.,  1., ...,  6.,  0.,  0.],\n",
       "        [ 0.,  0.,  2., ..., 12.,  0.,  0.],\n",
       "        [ 0.,  0., 10., ..., 12.,  1.,  0.]]),\n",
       " 'target': array([0, 1, 2, ..., 8, 9, 8]),\n",
       " 'frame': None,\n",
       " 'feature_names': ['pixel_0_0',\n",
       "  'pixel_0_1',\n",
       "  'pixel_0_2',\n",
       "  'pixel_0_3',\n",
       "  'pixel_0_4',\n",
       "  'pixel_0_5',\n",
       "  'pixel_0_6',\n",
       "  'pixel_0_7',\n",
       "  'pixel_1_0',\n",
       "  'pixel_1_1',\n",
       "  'pixel_1_2',\n",
       "  'pixel_1_3',\n",
       "  'pixel_1_4',\n",
       "  'pixel_1_5',\n",
       "  'pixel_1_6',\n",
       "  'pixel_1_7',\n",
       "  'pixel_2_0',\n",
       "  'pixel_2_1',\n",
       "  'pixel_2_2',\n",
       "  'pixel_2_3',\n",
       "  'pixel_2_4',\n",
       "  'pixel_2_5',\n",
       "  'pixel_2_6',\n",
       "  'pixel_2_7',\n",
       "  'pixel_3_0',\n",
       "  'pixel_3_1',\n",
       "  'pixel_3_2',\n",
       "  'pixel_3_3',\n",
       "  'pixel_3_4',\n",
       "  'pixel_3_5',\n",
       "  'pixel_3_6',\n",
       "  'pixel_3_7',\n",
       "  'pixel_4_0',\n",
       "  'pixel_4_1',\n",
       "  'pixel_4_2',\n",
       "  'pixel_4_3',\n",
       "  'pixel_4_4',\n",
       "  'pixel_4_5',\n",
       "  'pixel_4_6',\n",
       "  'pixel_4_7',\n",
       "  'pixel_5_0',\n",
       "  'pixel_5_1',\n",
       "  'pixel_5_2',\n",
       "  'pixel_5_3',\n",
       "  'pixel_5_4',\n",
       "  'pixel_5_5',\n",
       "  'pixel_5_6',\n",
       "  'pixel_5_7',\n",
       "  'pixel_6_0',\n",
       "  'pixel_6_1',\n",
       "  'pixel_6_2',\n",
       "  'pixel_6_3',\n",
       "  'pixel_6_4',\n",
       "  'pixel_6_5',\n",
       "  'pixel_6_6',\n",
       "  'pixel_6_7',\n",
       "  'pixel_7_0',\n",
       "  'pixel_7_1',\n",
       "  'pixel_7_2',\n",
       "  'pixel_7_3',\n",
       "  'pixel_7_4',\n",
       "  'pixel_7_5',\n",
       "  'pixel_7_6',\n",
       "  'pixel_7_7'],\n",
       " 'target_names': array([0, 1, 2, 3, 4, 5, 6, 7, 8, 9]),\n",
       " 'images': array([[[ 0.,  0.,  5., ...,  1.,  0.,  0.],\n",
       "         [ 0.,  0., 13., ..., 15.,  5.,  0.],\n",
       "         [ 0.,  3., 15., ..., 11.,  8.,  0.],\n",
       "         ...,\n",
       "         [ 0.,  4., 11., ..., 12.,  7.,  0.],\n",
       "         [ 0.,  2., 14., ..., 12.,  0.,  0.],\n",
       "         [ 0.,  0.,  6., ...,  0.,  0.,  0.]],\n",
       " \n",
       "        [[ 0.,  0.,  0., ...,  5.,  0.,  0.],\n",
       "         [ 0.,  0.,  0., ...,  9.,  0.,  0.],\n",
       "         [ 0.,  0.,  3., ...,  6.,  0.,  0.],\n",
       "         ...,\n",
       "         [ 0.,  0.,  1., ...,  6.,  0.,  0.],\n",
       "         [ 0.,  0.,  1., ...,  6.,  0.,  0.],\n",
       "         [ 0.,  0.,  0., ..., 10.,  0.,  0.]],\n",
       " \n",
       "        [[ 0.,  0.,  0., ..., 12.,  0.,  0.],\n",
       "         [ 0.,  0.,  3., ..., 14.,  0.,  0.],\n",
       "         [ 0.,  0.,  8., ..., 16.,  0.,  0.],\n",
       "         ...,\n",
       "         [ 0.,  9., 16., ...,  0.,  0.,  0.],\n",
       "         [ 0.,  3., 13., ..., 11.,  5.,  0.],\n",
       "         [ 0.,  0.,  0., ..., 16.,  9.,  0.]],\n",
       " \n",
       "        ...,\n",
       " \n",
       "        [[ 0.,  0.,  1., ...,  1.,  0.,  0.],\n",
       "         [ 0.,  0., 13., ...,  2.,  1.,  0.],\n",
       "         [ 0.,  0., 16., ..., 16.,  5.,  0.],\n",
       "         ...,\n",
       "         [ 0.,  0., 16., ..., 15.,  0.,  0.],\n",
       "         [ 0.,  0., 15., ..., 16.,  0.,  0.],\n",
       "         [ 0.,  0.,  2., ...,  6.,  0.,  0.]],\n",
       " \n",
       "        [[ 0.,  0.,  2., ...,  0.,  0.,  0.],\n",
       "         [ 0.,  0., 14., ..., 15.,  1.,  0.],\n",
       "         [ 0.,  4., 16., ..., 16.,  7.,  0.],\n",
       "         ...,\n",
       "         [ 0.,  0.,  0., ..., 16.,  2.,  0.],\n",
       "         [ 0.,  0.,  4., ..., 16.,  2.,  0.],\n",
       "         [ 0.,  0.,  5., ..., 12.,  0.,  0.]],\n",
       " \n",
       "        [[ 0.,  0., 10., ...,  1.,  0.,  0.],\n",
       "         [ 0.,  2., 16., ...,  1.,  0.,  0.],\n",
       "         [ 0.,  0., 15., ..., 15.,  0.,  0.],\n",
       "         ...,\n",
       "         [ 0.,  4., 16., ..., 16.,  6.,  0.],\n",
       "         [ 0.,  8., 16., ..., 16.,  8.,  0.],\n",
       "         [ 0.,  1.,  8., ..., 12.,  1.,  0.]]]),\n",
       " 'DESCR': \".. _digits_dataset:\\n\\nOptical recognition of handwritten digits dataset\\n--------------------------------------------------\\n\\n**Data Set Characteristics:**\\n\\n    :Number of Instances: 5620\\n    :Number of Attributes: 64\\n    :Attribute Information: 8x8 image of integer pixels in the range 0..16.\\n    :Missing Attribute Values: None\\n    :Creator: E. Alpaydin (alpaydin '@' boun.edu.tr)\\n    :Date: July; 1998\\n\\nThis is a copy of the test set of the UCI ML hand-written digits datasets\\nhttps://archive.ics.uci.edu/ml/datasets/Optical+Recognition+of+Handwritten+Digits\\n\\nThe data set contains images of hand-written digits: 10 classes where\\neach class refers to a digit.\\n\\nPreprocessing programs made available by NIST were used to extract\\nnormalized bitmaps of handwritten digits from a preprinted form. From a\\ntotal of 43 people, 30 contributed to the training set and different 13\\nto the test set. 32x32 bitmaps are divided into nonoverlapping blocks of\\n4x4 and the number of on pixels are counted in each block. This generates\\nan input matrix of 8x8 where each element is an integer in the range\\n0..16. This reduces dimensionality and gives invariance to small\\ndistortions.\\n\\nFor info on NIST preprocessing routines, see M. D. Garris, J. L. Blue, G.\\nT. Candela, D. L. Dimmick, J. Geist, P. J. Grother, S. A. Janet, and C.\\nL. Wilson, NIST Form-Based Handprint Recognition System, NISTIR 5469,\\n1994.\\n\\n.. topic:: References\\n\\n  - C. Kaynak (1995) Methods of Combining Multiple Classifiers and Their\\n    Applications to Handwritten Digit Recognition, MSc Thesis, Institute of\\n    Graduate Studies in Science and Engineering, Bogazici University.\\n  - E. Alpaydin, C. Kaynak (1998) Cascading Classifiers, Kybernetika.\\n  - Ken Tang and Ponnuthurai N. Suganthan and Xi Yao and A. Kai Qin.\\n    Linear dimensionalityreduction using relevance weighted LDA. School of\\n    Electrical and Electronic Engineering Nanyang Technological University.\\n    2005.\\n  - Claudio Gentile. A New Approximate Maximal Margin Classification\\n    Algorithm. NIPS. 2000.\"}"
      ]
     },
     "execution_count": 2,
     "metadata": {},
     "output_type": "execute_result"
    }
   ],
   "source": [
    "digits = datasets.load_digits()\n",
    "digits"
   ]
  },
  {
   "cell_type": "markdown",
   "id": "4961a3fb-34a8-498f-933f-228d35550c25",
   "metadata": {},
   "source": [
    "#### **images vs data**"
   ]
  },
  {
   "cell_type": "markdown",
   "id": "0577e923-c537-4da4-aff1-4cca8eec7303",
   "metadata": {},
   "source": [
    "<b>data{ndarray, dataframe} of shape (1797, 64)</b> <br/>\n",
    "&nbsp;&nbsp;&nbsp;&nbsp; The flattened data matrix. If as_frame=True, data will be a pandas DataFrame.\n",
    "\n",
    "The image's pixels are flattened into a **feature vector (1D array)**.\n"
   ]
  },
  {
   "cell_type": "markdown",
   "id": "d7d1daa1-05e2-4b89-89c6-313db7589512",
   "metadata": {},
   "source": [
    "<b>images: {ndarray} of shape (1797, 8, 8)</b> <br/>\n",
    "&nbsp;&nbsp;&nbsp;&nbsp; The raw image data.\n",
    "\n",
    "Original image resolution."
   ]
  },
  {
   "cell_type": "markdown",
   "id": "219c6eb7-4d69-47a5-acc8-477a94d9110d",
   "metadata": {},
   "source": [
    "#### **Displaying some images**"
   ]
  },
  {
   "cell_type": "code",
   "execution_count": 3,
   "id": "5eea32dc-cdc7-4c8c-b32f-0d1968c8e4ab",
   "metadata": {},
   "outputs": [
    {
     "data": {
      "image/png": "[encoded data removed]",
      "text/plain": [
       "<Figure size 720x216 with 4 Axes>"
      ]
     },
     "metadata": {
      "needs_background": "light"
     },
     "output_type": "display_data"
    }
   ],
   "source": [
    "_, axes = plt.subplots(nrows=1, ncols=4, figsize=(10, 3))\n",
    "for ax, image, label in zip(axes, digits.images, digits.target):\n",
    "    ax.set_axis_off()\n",
    "    ax.imshow(image, cmap=plt.cm.gray_r, interpolation=\"nearest\")\n",
    "    ax.set_title(\"Image: %i\" % label)"
   ]
  },
  {
   "cell_type": "markdown",
   "id": "679238e4-dc75-476e-857c-7ec23554edf2",
   "metadata": {},
   "source": [
    "#### 1.3 Getting the data and labels"
   ]
  },
  {
   "cell_type": "code",
   "execution_count": 4,
   "id": "a90564f9-f148-4618-8e9f-b5dccee6f30c",
   "metadata": {},
   "outputs": [
    {
     "name": "stdout",
     "output_type": "stream",
     "text": [
      "X.shape = (1797, 64)\n",
      "y.shape = (1797,)\n"
     ]
    }
   ],
   "source": [
    "X = digits.data   # feat matrix\n",
    "y = digits.target  # true labels\n",
    "\n",
    "print(f'X.shape = {X.shape}')\n",
    "print(f'y.shape = {y.shape}')"
   ]
  },
  {
   "cell_type": "markdown",
   "id": "ddf992e7-2e1a-42f7-9bf5-77124bfc23f5",
   "metadata": {},
   "source": [
    "#### 1.4 Splitting data into train and test"
   ]
  },
  {
   "cell_type": "code",
   "execution_count": 5,
   "id": "3cbb2915-c87f-46fc-b9cc-50bcf8aa4a25",
   "metadata": {},
   "outputs": [],
   "source": [
    "X_train, X_test, y_train, y_test = train_test_split(X, y, test_size=0.2, random_state=42)"
   ]
  },
  {
   "cell_type": "code",
   "execution_count": 6,
   "id": "c8119e04-ee37-4a32-ad5f-fe6bf52786a6",
   "metadata": {},
   "outputs": [
    {
     "name": "stdout",
     "output_type": "stream",
     "text": [
      "# Training set\n",
      "X_train.shape = (1437, 64)\n",
      "y_train.shape = (1437,)\n",
      "\n",
      "# Testing set\n",
      "X_test.shape = (360, 64)\n",
      "y_test.shape = (360,)\n"
     ]
    }
   ],
   "source": [
    "print('# Training set')\n",
    "print(f'X_train.shape = {X_train.shape}')\n",
    "print(f'y_train.shape = {y_train.shape}\\n')\n",
    "\n",
    "print('# Testing set')\n",
    "print(f'X_test.shape = {X_test.shape}')\n",
    "print(f'y_test.shape = {y_test.shape}')"
   ]
  },
  {
   "cell_type": "markdown",
   "id": "fb9a51a0-2aa2-4b28-9021-ad032a591114",
   "metadata": {},
   "source": [
    "#### 1.5 Feature scaling"
   ]
  },
  {
   "cell_type": "code",
   "execution_count": 7,
   "id": "4eea8835-0574-4aa7-b789-39e4635f98fc",
   "metadata": {},
   "outputs": [],
   "source": [
    "from sklearn.preprocessing import StandardScaler\n",
    "\n",
    "scaler = StandardScaler()\n",
    "\n",
    "X_train = scaler.fit_transform(X_train)\n",
    "X_test = scaler.transform(X_test)"
   ]
  },
  {
   "cell_type": "markdown",
   "id": "c08365a0-6e2c-45e7-9f97-a29390b80829",
   "metadata": {},
   "source": [
    "## 2. Training MLP\n",
    "https://scikit-learn.org/stable/modules/generated/sklearn.neural_network.MLPClassifier.html"
   ]
  },
  {
   "cell_type": "markdown",
   "id": "75037f22-c4e4-4d32-9e56-4680f3cd4559",
   "metadata": {},
   "source": [
    "### 2.1 Imports"
   ]
  },
  {
   "cell_type": "code",
   "execution_count": 8,
   "id": "7def37f6-af4b-4811-8e79-aa34d3a29845",
   "metadata": {},
   "outputs": [],
   "source": [
    "from sklearn.neural_network import MLPClassifier"
   ]
  },
  {
   "cell_type": "markdown",
   "id": "184024b0-ab31-49e1-b1f8-30f77adcf0bf",
   "metadata": {},
   "source": [
    "### 2.2 Training"
   ]
  },
  {
   "cell_type": "code",
   "execution_count": 36,
   "id": "f16a0bee-e1ad-4acd-b985-96f57982e95b",
   "metadata": {},
   "outputs": [],
   "source": [
    "mlp = MLPClassifier(hidden_layer_sizes=(16, 16), solver='sgd', max_iter=1000, random_state=42)"
   ]
  },
  {
   "cell_type": "code",
   "execution_count": 37,
   "id": "f8da5e69-64ad-4566-8886-42ef5a1c57d7",
   "metadata": {},
   "outputs": [
    {
     "data": {
      "text/plain": [
       "MLPClassifier(hidden_layer_sizes=(16, 16), max_iter=1000, random_state=42,\n",
       "              solver='sgd')"
      ]
     },
     "execution_count": 37,
     "metadata": {},
     "output_type": "execute_result"
    }
   ],
   "source": [
    "mlp.fit(X_train, y_train)"
   ]
  },
  {
   "cell_type": "markdown",
   "id": "a26369ed-782c-446d-a656-f83a13a779b5",
   "metadata": {},
   "source": [
    "### 2.3 Getting the number of layers"
   ]
  },
  {
   "cell_type": "code",
   "execution_count": 38,
   "id": "b1497494-6eb8-4bc4-979e-b563935f647f",
   "metadata": {},
   "outputs": [
    {
     "name": "stdout",
     "output_type": "stream",
     "text": [
      "Number of layers: 4\n",
      "Number of hidden layers: 2\n",
      "Number of hidden layers: 2\n"
     ]
    }
   ],
   "source": [
    "print(f'Number of layers: {mlp.n_layers_}')\n",
    "print(f'Number of hidden layers: {mlp.n_layers_ - 2}')\n",
    "print(f'Number of hidden layers: {len(mlp.hidden_layer_sizes)}')"
   ]
  },
  {
   "cell_type": "markdown",
   "id": "9f74822f-c21e-4efa-8a4e-fbc2d3644ea0",
   "metadata": {},
   "source": [
    "### 2.4 Info"
   ]
  },
  {
   "cell_type": "markdown",
   "id": "4a85ca6a-ebd3-4d7f-8a98-907fe1494899",
   "metadata": {},
   "source": [
    "#### **Number of neurons in the hidden layers**"
   ]
  },
  {
   "cell_type": "code",
   "execution_count": 39,
   "id": "442c50e2-f02a-41b4-9ecc-6d7f274e5d62",
   "metadata": {},
   "outputs": [
    {
     "name": "stdout",
     "output_type": "stream",
     "text": [
      "Number of neurons in the hidden layers: (16, 16)\n"
     ]
    }
   ],
   "source": [
    "print(f'Number of neurons in the hidden layers: {mlp.hidden_layer_sizes}')"
   ]
  },
  {
   "cell_type": "markdown",
   "id": "17aaae7a-8943-4fa7-b85c-f134628c1a81",
   "metadata": {},
   "source": [
    "#### **Number of neurons in the output layer**"
   ]
  },
  {
   "cell_type": "code",
   "execution_count": 40,
   "id": "81e9f950-e826-43ee-b858-6b1855d06434",
   "metadata": {},
   "outputs": [
    {
     "name": "stdout",
     "output_type": "stream",
     "text": [
      "Number of neurons in the output layers: 10\n"
     ]
    }
   ],
   "source": [
    "print(f'Number of neurons in the output layers: {mlp.n_outputs_}')"
   ]
  },
  {
   "cell_type": "markdown",
   "id": "b59cdded-db28-45b7-b409-a250e534d1c9",
   "metadata": {},
   "source": [
    "#### **Learned weights of each layer**"
   ]
  },
  {
   "cell_type": "code",
   "execution_count": 41,
   "id": "2e385906-c8c0-48bc-91d2-8b8a9b7d8014",
   "metadata": {},
   "outputs": [
    {
     "data": {
      "text/plain": [
       "3"
      ]
     },
     "execution_count": 41,
     "metadata": {},
     "output_type": "execute_result"
    }
   ],
   "source": [
    "# one matrix per layer except the input layer\n",
    "len(mlp.coefs_)"
   ]
  },
  {
   "cell_type": "code",
   "execution_count": 42,
   "id": "96d5d281-f152-484a-ad87-2ed777e5ea4e",
   "metadata": {},
   "outputs": [
    {
     "name": "stdout",
     "output_type": "stream",
     "text": [
      "Layer 2 Weight Matrix: (64, 16)\n"
     ]
    },
    {
     "data": {
      "text/plain": [
       "array([[-0.06871432,  0.24685601,  0.12706297, ..., -0.15755173,\n",
       "        -0.17426432, -0.1733992 ],\n",
       "       [-0.04546203, -0.06779746,  0.12329014, ..., -0.27040916,\n",
       "         0.03543467, -0.18686343],\n",
       "       [-0.1563613 ,  0.06273254,  0.33586826, ...,  0.00516715,\n",
       "        -0.02907298,  0.05112757],\n",
       "       ...,\n",
       "       [-0.33472542, -0.14453046,  0.23113311, ...,  0.4050612 ,\n",
       "         0.11266748, -0.11114501],\n",
       "       [-0.19121272,  0.1077237 ,  0.17346771, ...,  0.23347824,\n",
       "        -0.01881867,  0.10837241],\n",
       "       [-0.24132786,  0.19296677, -0.13189293, ...,  0.06182985,\n",
       "         0.02324613,  0.1826771 ]])"
      ]
     },
     "execution_count": 42,
     "metadata": {},
     "output_type": "execute_result"
    }
   ],
   "source": [
    "# weights of Layer 2 (hidden layer)\n",
    "print(f'Layer 2 Weight Matrix: {mlp.coefs_[0].shape}')\n",
    "mlp.coefs_[0]"
   ]
  },
  {
   "cell_type": "code",
   "execution_count": 43,
   "id": "f7815778-7990-4d84-835a-414f54c34e99",
   "metadata": {},
   "outputs": [
    {
     "name": "stdout",
     "output_type": "stream",
     "text": [
      "Layer 3 Weight Matrix: (16, 16)\n"
     ]
    },
    {
     "data": {
      "text/plain": [
       "array([[ 1.09312500e-02,  1.91118635e-01, -2.76562602e-01,\n",
       "        -2.18787022e-01,  4.81245896e-01, -2.72618870e-01,\n",
       "        -2.15250286e-01, -4.71588181e-01,  6.88425856e-01,\n",
       "        -3.48591924e-01,  8.96080354e-01,  8.28388744e-02,\n",
       "         5.64435288e-01,  3.84824615e-01,  9.60648055e-01,\n",
       "        -4.36093536e-02],\n",
       "       [ 2.72292557e-01, -1.76760217e-01, -5.96137246e-02,\n",
       "         1.50797487e-02,  6.92556757e-01,  6.31214783e-01,\n",
       "         1.40473768e-01, -1.77534409e-02,  2.52345850e-02,\n",
       "         6.50015716e-01, -4.80617291e-01, -3.96072893e-01,\n",
       "        -3.22246670e-01,  2.85825148e-02, -1.37218988e-01,\n",
       "        -1.21572910e-01],\n",
       "       [-3.39446823e-01, -4.12211797e-01,  9.23508950e-01,\n",
       "        -2.73801162e-01, -1.45231651e-01,  1.01101874e-01,\n",
       "        -2.85318415e-01,  6.13094273e-01,  5.43656317e-01,\n",
       "        -3.22380115e-01,  2.53805520e-01,  1.06023087e+00,\n",
       "         2.14933889e-01, -1.85092486e-02,  1.96740637e-01,\n",
       "        -2.77788781e-01],\n",
       "       [ 5.64144582e-01, -7.91004517e-02,  3.21919230e-01,\n",
       "         1.63313931e-01,  4.31825715e-02,  3.07679522e-02,\n",
       "         3.87573633e-02, -3.22476996e-01, -2.80263836e-01,\n",
       "        -2.96012605e-01,  1.62214573e-01, -1.39981337e-01,\n",
       "        -3.69042740e-01,  5.30474880e-01,  7.92009747e-01,\n",
       "         2.29236808e-01],\n",
       "       [ 6.56322282e-01, -2.54786085e-01,  4.09490837e-01,\n",
       "         4.02651258e-01,  1.07100795e-01, -3.69997359e-01,\n",
       "         3.70520677e-01, -2.09230538e-02, -1.61903127e-01,\n",
       "         2.49811023e-01,  1.02823903e-01,  7.37249405e-02,\n",
       "        -5.18522298e-01,  5.50207700e-01, -1.96795186e-01,\n",
       "        -2.44049450e-01],\n",
       "       [ 3.06178141e-01,  4.73164386e-01,  7.17481557e-01,\n",
       "         5.93530747e-01,  3.98455943e-01,  8.69807492e-03,\n",
       "        -3.92865272e-01, -2.52229344e-01, -1.36322480e-01,\n",
       "        -2.25180862e-01,  6.22118138e-01,  1.85183790e-01,\n",
       "        -2.74147706e-01, -5.36102313e-01,  7.17680436e-01,\n",
       "        -4.21482116e-01],\n",
       "       [ 3.27284468e-01, -2.35293522e-02,  1.16805755e-01,\n",
       "         4.71675898e-01,  3.38268096e-01, -1.19173966e-02,\n",
       "         1.58567054e-01,  1.26604251e-02, -3.04640752e-01,\n",
       "         1.80103918e-01,  4.30701991e-01,  2.38611516e-01,\n",
       "         4.41420242e-01,  3.23374087e-01,  8.68938039e-03,\n",
       "         2.70684780e-01],\n",
       "       [ 3.65452245e-01,  2.07083017e-01, -9.56874496e-02,\n",
       "         3.83504716e-01, -3.21706448e-01,  4.89715399e-01,\n",
       "         6.30469922e-01, -4.28508280e-01,  3.31359546e-01,\n",
       "        -3.95840921e-01, -1.78637460e-01,  1.82697496e-01,\n",
       "        -1.39761702e-01,  3.50391397e-01,  4.58396182e-01,\n",
       "        -5.07080691e-02],\n",
       "       [-5.73364898e-01, -2.50248167e-01,  3.06733593e-02,\n",
       "         8.35485631e-01,  1.75554891e-01, -1.40653341e-01,\n",
       "         1.36400702e-01,  8.01134380e-02,  4.29001877e-01,\n",
       "        -8.31720935e-02,  6.24917827e-02,  1.29518422e-01,\n",
       "         4.67901762e-01,  1.37397101e-01, -4.09991765e-02,\n",
       "         6.76257357e-01],\n",
       "       [-3.66305092e-01,  5.60920971e-01,  3.48703882e-01,\n",
       "        -4.26236914e-01, -2.83983929e-01,  4.96664348e-01,\n",
       "        -3.24836310e-01, -1.02502707e-01, -2.52443982e-01,\n",
       "         7.12352067e-02, -4.80750455e-01,  7.45969987e-01,\n",
       "         5.86594712e-01,  4.71194004e-01,  4.51017423e-01,\n",
       "        -3.08272827e-01],\n",
       "       [ 2.60871759e-01, -3.65680960e-01, -6.68434722e-01,\n",
       "         2.78047851e-01, -2.92990504e-02,  3.22084999e-01,\n",
       "         4.17815365e-01,  7.34267624e-04, -1.73522744e-01,\n",
       "         5.21582635e-01, -1.68882714e-01, -1.33442230e-01,\n",
       "        -4.52055303e-01,  5.81238846e-01,  2.01360057e-01,\n",
       "        -1.51600989e-01],\n",
       "       [-3.93515867e-01,  1.18893118e-01,  4.63328342e-01,\n",
       "         2.37467289e-02,  6.79489793e-01, -9.86425447e-02,\n",
       "        -1.06723047e-01,  2.34046616e-01,  1.34504434e-01,\n",
       "         3.70590615e-01, -2.41669647e-01, -3.63804846e-01,\n",
       "         7.52807229e-01, -9.91276805e-02,  5.30368182e-01,\n",
       "        -1.89027438e-01],\n",
       "       [-2.04490608e-01, -4.60776943e-01,  2.59766845e-01,\n",
       "         1.17074578e-01,  3.63071277e-01,  5.18512343e-02,\n",
       "         3.58386755e-01, -1.64275185e-01,  3.43761737e-01,\n",
       "         2.16691583e-01,  3.78771191e-01,  6.73985379e-01,\n",
       "         9.61201359e-02,  9.64211621e-02, -5.07246195e-01,\n",
       "        -4.24956367e-01],\n",
       "       [ 4.96751521e-01,  7.96261187e-02,  6.51310989e-01,\n",
       "         4.02418759e-01, -2.01085108e-01, -4.35400148e-01,\n",
       "         6.06769527e-02, -7.57546936e-02, -3.11297653e-01,\n",
       "         3.65191355e-02, -2.82483406e-01, -3.97831145e-02,\n",
       "        -2.21416462e-01,  2.74380660e-01, -8.25970867e-02,\n",
       "        -1.40623120e-02],\n",
       "       [-5.59340699e-01, -3.77665634e-01, -1.56503591e-01,\n",
       "         3.42353693e-01,  3.98598770e-01, -2.15792520e-02,\n",
       "         8.56861281e-02,  2.36379444e-01, -1.33507061e-02,\n",
       "        -4.55304401e-01,  4.23208090e-02, -3.88095183e-01,\n",
       "         1.07579060e-01,  6.12976921e-01, -4.48236734e-01,\n",
       "         2.74599591e-02],\n",
       "       [ 8.51680270e-02,  2.46821143e-01, -4.19852432e-02,\n",
       "        -4.59488342e-01,  1.41802164e-01,  2.65653504e-01,\n",
       "        -3.51869552e-01, -2.02436043e-01, -4.54409970e-01,\n",
       "        -2.74645371e-01, -1.21175897e-01, -3.34052137e-01,\n",
       "        -4.46133000e-02,  3.19906278e-01,  5.52077078e-01,\n",
       "        -2.21808956e-01]])"
      ]
     },
     "execution_count": 43,
     "metadata": {},
     "output_type": "execute_result"
    }
   ],
   "source": [
    "# weights of Layer 3 (hidden layer)\n",
    "print(f'Layer 3 Weight Matrix: {mlp.coefs_[1].shape}')\n",
    "mlp.coefs_[1]"
   ]
  },
  {
   "cell_type": "code",
   "execution_count": 44,
   "id": "520d3fd4-7d89-49f4-bd0d-fbed6efd0278",
   "metadata": {},
   "outputs": [
    {
     "name": "stdout",
     "output_type": "stream",
     "text": [
      "Layer 4 Weight Matrix: (16, 10)\n"
     ]
    },
    {
     "data": {
      "text/plain": [
       "array([[ 0.48407297,  0.70717019, -0.04738407, -0.03187725, -0.02958763,\n",
       "        -0.05137282, -0.53960164, -0.50332127, -0.53785223, -0.154068  ],\n",
       "       [ 0.26125037, -0.21583738,  0.3790469 , -0.30756468, -0.343057  ,\n",
       "         0.47929491,  0.13195331, -0.02009864, -0.02761753,  0.43797978],\n",
       "       [-0.60574463,  0.6811273 ,  0.60229724,  0.36856367, -0.57926805,\n",
       "         0.29753785, -0.83346733, -0.88125454,  0.17839848,  0.34220581],\n",
       "       [ 0.40591336,  0.18103525,  0.04341442, -0.1760955 , -0.36662286,\n",
       "        -0.47345451,  0.95033946, -0.64010365,  0.97891594,  0.01327078],\n",
       "       [-0.37973092,  0.59316139, -0.10750281,  0.13032786,  0.82038798,\n",
       "        -0.4613582 , -0.18738005,  0.1037905 ,  0.43685797, -0.14289474],\n",
       "       [ 0.31212446, -0.25565451,  0.13284298, -0.35035094,  0.58724363,\n",
       "         0.67678385, -0.29551584, -0.30665693,  0.34850486, -0.5479761 ],\n",
       "       [ 0.54578158, -0.0283789 , -0.21208045,  0.3096754 , -0.08130449,\n",
       "        -0.13952051,  0.21518985,  0.03119147, -0.4571868 , -0.24912308],\n",
       "       [ 0.41353004, -0.04015236,  0.4229422 , -0.36885243,  0.19088384,\n",
       "        -0.38874515,  0.41349985, -0.12380242, -0.22531055, -0.44100653],\n",
       "       [-0.45325072,  0.10604425,  0.04359593,  0.3100503 , -0.14219223,\n",
       "        -0.42957027,  0.09301071,  0.66394301, -0.45364763, -0.51271145],\n",
       "       [-0.56323777,  0.31726295,  0.20918154, -0.09561462,  0.5079357 ,\n",
       "         0.17445495,  0.3590658 ,  0.2601856 , -0.41454767, -0.43501758],\n",
       "       [-0.4419033 , -0.74200496, -0.04342312,  0.5320556 , -0.4929627 ,\n",
       "        -0.7453711 , -0.24892895,  0.63587555,  0.32351868,  0.42144526],\n",
       "       [-0.57225838, -0.75385873,  0.94583615,  0.8693482 , -0.66435389,\n",
       "         0.7060145 ,  0.02631033,  0.16173083,  0.00502984, -0.17062024],\n",
       "       [-0.25058705,  0.50658016, -0.40123147, -0.67450759, -0.22141436,\n",
       "         0.30003196, -0.41235384,  0.44787058,  0.45326334, -0.44221518],\n",
       "       [ 0.39221801, -0.29652322,  0.38073182, -0.91803139,  0.36395282,\n",
       "         0.20756951,  0.64495047,  0.09989341,  0.12008828,  0.384055  ],\n",
       "       [ 0.52148729,  0.10593809, -1.1670751 ,  0.31700869,  0.44083807,\n",
       "         0.32553974, -0.50340417,  0.31011014, -0.50985783,  0.81900194],\n",
       "       [-0.41342723,  0.13185629,  0.40818916, -0.46289615,  0.41004033,\n",
       "        -0.09445111,  0.60153117,  0.27468195,  0.08784505,  0.16603243]])"
      ]
     },
     "execution_count": 44,
     "metadata": {},
     "output_type": "execute_result"
    }
   ],
   "source": [
    "# weights of Layer 4 (output layer)\n",
    "print(f'Layer 4 Weight Matrix: {mlp.coefs_[2].shape}')\n",
    "mlp.coefs_[2]"
   ]
  },
  {
   "cell_type": "markdown",
   "id": "103334bf-e812-4b4d-b2bc-01872251cba1",
   "metadata": {},
   "source": [
    "#### **Biases of each layer**"
   ]
  },
  {
   "cell_type": "code",
   "execution_count": 45,
   "id": "f95e3729-eeeb-489d-8688-26b350587a28",
   "metadata": {},
   "outputs": [
    {
     "data": {
      "text/plain": [
       "3"
      ]
     },
     "execution_count": 45,
     "metadata": {},
     "output_type": "execute_result"
    }
   ],
   "source": [
    "# one array per layer except the input layer\n",
    "len(mlp.intercepts_)"
   ]
  },
  {
   "cell_type": "code",
   "execution_count": 46,
   "id": "215788e3-d285-4036-b555-226fc5f2d59a",
   "metadata": {},
   "outputs": [
    {
     "name": "stdout",
     "output_type": "stream",
     "text": [
      "Layer 2 Biases: (16,)\n"
     ]
    },
    {
     "data": {
      "text/plain": [
       "array([ 0.6153247 ,  0.10752294,  0.57631293,  0.25008334,  0.11378158,\n",
       "        0.53149962, -0.08131384,  0.23041616,  0.16974321, -0.00497844,\n",
       "       -0.12202641,  0.24435843,  0.08343577,  0.29772185, -0.0775454 ,\n",
       "        0.002115  ])"
      ]
     },
     "execution_count": 46,
     "metadata": {},
     "output_type": "execute_result"
    }
   ],
   "source": [
    "# biases of Layer 2 (hidden layer)\n",
    "print(f'Layer 2 Biases: {mlp.intercepts_[0].shape}')\n",
    "mlp.intercepts_[0]"
   ]
  },
  {
   "cell_type": "code",
   "execution_count": 47,
   "id": "d972e568-4914-4a21-b852-5365d9aa11fe",
   "metadata": {},
   "outputs": [
    {
     "name": "stdout",
     "output_type": "stream",
     "text": [
      "Layer 3 Biases: (16,)\n"
     ]
    },
    {
     "data": {
      "text/plain": [
       "array([-0.34194534, -0.32119591,  0.26426929,  0.6152752 , -0.21409874,\n",
       "        0.52608964, -0.36281034, -0.04861216,  0.19801893,  0.39499572,\n",
       "        0.38138076,  0.46114506,  0.17944054,  0.43381692, -0.32702105,\n",
       "        0.42205299])"
      ]
     },
     "execution_count": 47,
     "metadata": {},
     "output_type": "execute_result"
    }
   ],
   "source": [
    "# biases of Layer 3 (hidden layer)\n",
    "print(f'Layer 3 Biases: {mlp.intercepts_[1].shape}')\n",
    "mlp.intercepts_[1]"
   ]
  },
  {
   "cell_type": "code",
   "execution_count": 48,
   "id": "0d94bc54-8499-4368-a069-8696936c33f0",
   "metadata": {},
   "outputs": [
    {
     "name": "stdout",
     "output_type": "stream",
     "text": [
      "Layer 4 Biases: (10,)\n"
     ]
    },
    {
     "data": {
      "text/plain": [
       "array([ 0.14634231, -0.15313673, -0.31767165, -0.0512691 ,  0.32584958,\n",
       "        0.17224809,  0.36971001, -0.15642755,  0.8563809 , -0.21314285])"
      ]
     },
     "execution_count": 48,
     "metadata": {},
     "output_type": "execute_result"
    }
   ],
   "source": [
    "# biases of Layer 4 (output layer)\n",
    "print(f'Layer 4 Biases: {mlp.intercepts_[2].shape}')\n",
    "mlp.intercepts_[2]"
   ]
  },
  {
   "cell_type": "markdown",
   "id": "7365976b-4d0e-46e8-ab99-b90a899e7efe",
   "metadata": {},
   "source": [
    "## 3. Experiments"
   ]
  },
  {
   "cell_type": "markdown",
   "id": "707eafe8-c207-49fd-bb43-fe957b7c512a",
   "metadata": {},
   "source": [
    "### 3.1 Predictions"
   ]
  },
  {
   "cell_type": "code",
   "execution_count": 49,
   "id": "c4c57973-6126-4f59-95b7-ce9bebe5c1a7",
   "metadata": {},
   "outputs": [],
   "source": [
    "y_test_pred = mlp.predict(X_test)"
   ]
  },
  {
   "cell_type": "code",
   "execution_count": 50,
   "id": "f6013235-5fae-47dc-9ab1-60390cdadba2",
   "metadata": {},
   "outputs": [],
   "source": [
    "from sklearn.metrics import classification_report"
   ]
  },
  {
   "cell_type": "code",
   "execution_count": 51,
   "id": "f6697e36-89d5-4cde-b4f0-63ea45ae030f",
   "metadata": {},
   "outputs": [
    {
     "name": "stdout",
     "output_type": "stream",
     "text": [
      "              precision    recall  f1-score   support\n",
      "\n",
      "           0       0.97      0.97      0.97        33\n",
      "           1       0.97      1.00      0.98        28\n",
      "           2       0.94      0.97      0.96        33\n",
      "           3       0.97      0.94      0.96        34\n",
      "           4       1.00      1.00      1.00        46\n",
      "           5       0.96      0.91      0.93        47\n",
      "           6       0.97      0.97      0.97        35\n",
      "           7       0.97      0.97      0.97        34\n",
      "           8       0.97      0.97      0.97        30\n",
      "           9       0.93      0.95      0.94        40\n",
      "\n",
      "    accuracy                           0.96       360\n",
      "   macro avg       0.96      0.97      0.96       360\n",
      "weighted avg       0.96      0.96      0.96       360\n",
      "\n"
     ]
    }
   ],
   "source": [
    "print(classification_report(y_test, y_test_pred))"
   ]
  },
  {
   "cell_type": "markdown",
   "id": "80722232-339b-4550-93cf-33dc1ec84f21",
   "metadata": {},
   "source": [
    "### 3.2 Visualizing Errors"
   ]
  },
  {
   "cell_type": "code",
   "execution_count": 52,
   "id": "7747be44-68d6-492d-b0f2-ed6940754381",
   "metadata": {},
   "outputs": [],
   "source": [
    "test_errors_mask = y_test != y_test_pred"
   ]
  },
  {
   "cell_type": "code",
   "execution_count": 53,
   "id": "b8402c06-cfd2-4c6e-b9d2-f002f86bf67f",
   "metadata": {},
   "outputs": [
    {
     "data": {
      "text/plain": [
       "array([[ 60],\n",
       "       [ 71],\n",
       "       [133],\n",
       "       [149],\n",
       "       [156],\n",
       "       [159],\n",
       "       [193],\n",
       "       [204],\n",
       "       [234],\n",
       "       [244],\n",
       "       [262],\n",
       "       [320],\n",
       "       [339]])"
      ]
     },
     "execution_count": 53,
     "metadata": {},
     "output_type": "execute_result"
    }
   ],
   "source": [
    "test_errors_indices = np.argwhere(test_errors_mask)\n",
    "test_errors_indices"
   ]
  },
  {
   "cell_type": "code",
   "execution_count": 54,
   "id": "480a69d1-8364-4dbc-a73e-d67005759d03",
   "metadata": {},
   "outputs": [
    {
     "data": {
      "text/plain": [
       "array([ 60,  71, 133, 149, 156, 159, 193, 204, 234, 244, 262, 320, 339])"
      ]
     },
     "execution_count": 54,
     "metadata": {},
     "output_type": "execute_result"
    }
   ],
   "source": [
    "test_errors_indices = test_errors_indices.ravel()\n",
    "test_errors_indices"
   ]
  },
  {
   "cell_type": "code",
   "execution_count": 55,
   "id": "dbcb621d-6a0c-4f79-b00a-e5841bb1bc57",
   "metadata": {},
   "outputs": [
    {
     "name": "stdout",
     "output_type": "stream",
     "text": [
      "Number of misclassified test image: 13\n"
     ]
    }
   ],
   "source": [
    "print(f'Number of misclassified test image: {test_errors_indices.size}')"
   ]
  },
  {
   "cell_type": "code",
   "execution_count": 56,
   "id": "023960a7-7587-4fd2-8f14-fd2664634a73",
   "metadata": {},
   "outputs": [],
   "source": [
    "img_idx = 71\n",
    "\n",
    "img_error = X_test[img_idx]\n",
    "\n",
    "# inverting normalization\n",
    "img_error = scaler.inverse_transform(img_error)\n",
    "\n",
    "# image resolution: 8 x 8\n",
    "img_error = np.reshape(img_error, (8, 8))\n"
   ]
  },
  {
   "cell_type": "code",
   "execution_count": 57,
   "id": "18d39771-b01f-4d4b-aafd-29d8814d855f",
   "metadata": {},
   "outputs": [
    {
     "data": {
      "text/plain": [
       "Text(0.5, 1.0, 'Test Image 71 - True: 5, Predicted: 9')"
      ]
     },
     "execution_count": 57,
     "metadata": {},
     "output_type": "execute_result"
    },
    {
     "data": {
      "image/png": "[encoded data removed]",
      "text/plain": [
       "<Figure size 432x288 with 1 Axes>"
      ]
     },
     "metadata": {
      "needs_background": "light"
     },
     "output_type": "display_data"
    }
   ],
   "source": [
    "plt.imshow(img_error, cmap=plt.cm.gray_r, interpolation=\"nearest\")\n",
    "plt.title(f'Test Image {img_idx} - True: {y_test[img_idx]}, Predicted: {y_test_pred[img_idx]}')"
   ]
  },
  {
   "cell_type": "code",
   "execution_count": null,
   "id": "598a2294-6661-4aac-a938-d29ef9cd109e",
   "metadata": {},
   "outputs": [],
   "source": []
  }
 ],
 "metadata": {
  "kernelspec": {
   "display_name": "Python 3",
   "language": "python",
   "name": "python3"
  },
  "language_info": {
   "codemirror_mode": {
    "name": "ipython",
    "version": 3
   },
   "file_extension": ".py",
   "mimetype": "text/x-python",
   "name": "python",
   "nbconvert_exporter": "python",
   "pygments_lexer": "ipython3",
   "version": "3.8.5"
  }
 },
 "nbformat": 4,
 "nbformat_minor": 5
}
