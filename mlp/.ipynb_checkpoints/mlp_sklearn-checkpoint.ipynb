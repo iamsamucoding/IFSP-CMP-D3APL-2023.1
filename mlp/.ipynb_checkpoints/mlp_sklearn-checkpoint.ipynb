{
 "cells": [
  {
   "cell_type": "markdown",
   "id": "dee11e74-cdb3-437a-a24b-e15c760e1b7c",
   "metadata": {},
   "source": [
    "**D3APL: Aplicações em Ciência de Dados** <br/>\n",
    "IFSP Campinas\n",
    "\n",
    "Prof. Dr. Samuel Martins (Samuka) <br/><br/>\n",
    "\n",
    "<a rel=\"license\" href=\"http://creativecommons.org/licenses/by-nc-sa/4.0/\"><img alt=\"Creative Commons License\" style=\"border-width:0\" src=\"https://i.creativecommons.org/l/by-nc-sa/4.0/88x31.png\" /></a><br />This work is licensed under a <a rel=\"license\" href=\"http://creativecommons.org/licenses/by-nc-sa/4.0/\">Creative Commons Attribution-NonCommercial-ShareAlike 4.0 International License</a>."
   ]
  },
  {
   "cell_type": "markdown",
   "id": "f8ea0759-e8cf-4f80-834f-bd2c5cea6f83",
   "metadata": {},
   "source": [
    "# Multilayer Perceptron (MLP) with Scikit-learn"
   ]
  },
  {
   "cell_type": "markdown",
   "id": "6f9a910d-98d3-4bfa-8d86-e113e99845a9",
   "metadata": {},
   "source": [
    "## 1. Set up"
   ]
  },
  {
   "cell_type": "markdown",
   "id": "5f513a89-e309-4aae-8c70-5e5b3bf1d229",
   "metadata": {},
   "source": [
    "#### 1.1 Imports"
   ]
  },
  {
   "cell_type": "code",
   "execution_count": 1,
   "id": "4fd679ba-2fc2-4c54-af18-497b054c3342",
   "metadata": {},
   "outputs": [
    {
     "ename": "ModuleNotFoundError",
     "evalue": "No module named 'sklearn'",
     "output_type": "error",
     "traceback": [
      "\u001b[0;31m---------------------------------------------------------------------------\u001b[0m",
      "\u001b[0;31mModuleNotFoundError\u001b[0m                       Traceback (most recent call last)",
      "Cell \u001b[0;32mIn[1], line 2\u001b[0m\n\u001b[1;32m      1\u001b[0m \u001b[38;5;28;01mimport\u001b[39;00m \u001b[38;5;21;01mnumpy\u001b[39;00m \u001b[38;5;28;01mas\u001b[39;00m \u001b[38;5;21;01mnp\u001b[39;00m\n\u001b[0;32m----> 2\u001b[0m \u001b[38;5;28;01mfrom\u001b[39;00m \u001b[38;5;21;01msklearn\u001b[39;00m \u001b[38;5;28;01mimport\u001b[39;00m datasets\n\u001b[1;32m      3\u001b[0m \u001b[38;5;28;01mfrom\u001b[39;00m \u001b[38;5;21;01msklearn\u001b[39;00m\u001b[38;5;21;01m.\u001b[39;00m\u001b[38;5;21;01mmodel_selection\u001b[39;00m \u001b[38;5;28;01mimport\u001b[39;00m train_test_split\n\u001b[1;32m      4\u001b[0m \u001b[38;5;28;01mimport\u001b[39;00m \u001b[38;5;21;01mmatplotlib\u001b[39;00m\u001b[38;5;21;01m.\u001b[39;00m\u001b[38;5;21;01mpyplot\u001b[39;00m \u001b[38;5;28;01mas\u001b[39;00m \u001b[38;5;21;01mplt\u001b[39;00m\n",
      "\u001b[0;31mModuleNotFoundError\u001b[0m: No module named 'sklearn'"
     ]
    }
   ],
   "source": [
    "import numpy as np\n",
    "from sklearn import datasets\n",
    "from sklearn.model_selection import train_test_split\n",
    "import matplotlib.pyplot as plt"
   ]
  },
  {
   "cell_type": "markdown",
   "id": "fdffb2ff-9029-41ba-8489-97e99c5f3844",
   "metadata": {},
   "source": [
    "#### 1.2 Loading MNIST Dataset\n",
    "https://scikit-learn.org/stable/modules/generated/sklearn.datasets.load_digits.html#sklearn.datasets.load_digits"
   ]
  },
  {
   "cell_type": "code",
   "execution_count": null,
   "id": "3d277432-237a-4e5f-b720-266d7e1d15d3",
   "metadata": {},
   "outputs": [],
   "source": []
  },
  {
   "cell_type": "markdown",
   "id": "4961a3fb-34a8-498f-933f-228d35550c25",
   "metadata": {},
   "source": [
    "#### **images vs data**"
   ]
  },
  {
   "cell_type": "markdown",
   "id": "0577e923-c537-4da4-aff1-4cca8eec7303",
   "metadata": {},
   "source": [
    "<b>data{ndarray, dataframe} of shape (1797, 64)</b> <br/>\n",
    "&nbsp;&nbsp;&nbsp;&nbsp; The flattened data matrix. If as_frame=True, data will be a pandas DataFrame.\n",
    "\n",
    "The image's pixels are flattened into a **feature vector (1D array)**.\n"
   ]
  },
  {
   "cell_type": "markdown",
   "id": "d7d1daa1-05e2-4b89-89c6-313db7589512",
   "metadata": {},
   "source": [
    "<b>images: {ndarray} of shape (1797, 8, 8)</b> <br/>\n",
    "&nbsp;&nbsp;&nbsp;&nbsp; The raw image data.\n",
    "\n",
    "Original image resolution."
   ]
  },
  {
   "cell_type": "markdown",
   "id": "219c6eb7-4d69-47a5-acc8-477a94d9110d",
   "metadata": {},
   "source": [
    "#### **Displaying some images**"
   ]
  },
  {
   "cell_type": "code",
   "execution_count": null,
   "id": "5eea32dc-cdc7-4c8c-b32f-0d1968c8e4ab",
   "metadata": {},
   "outputs": [],
   "source": [
    "_, axes = plt.subplots(nrows=1, ncols=4, figsize=(10, 3))\n",
    "for ax, image, label in zip(axes, digits.images, digits.target):\n",
    "    ax.set_axis_off()\n",
    "    ax.imshow(image, cmap=plt.cm.gray_r, interpolation=\"nearest\")\n",
    "    ax.set_title(\"Image: %i\" % label)"
   ]
  },
  {
   "cell_type": "markdown",
   "id": "679238e4-dc75-476e-857c-7ec23554edf2",
   "metadata": {},
   "source": [
    "#### 1.3 Getting the data and labels"
   ]
  },
  {
   "cell_type": "code",
   "execution_count": null,
   "id": "a90564f9-f148-4618-8e9f-b5dccee6f30c",
   "metadata": {},
   "outputs": [],
   "source": [
    "\n",
    "\n",
    "print(f'X.shape = {X.shape}')\n",
    "print(f'y.shape = {y.shape}')"
   ]
  },
  {
   "cell_type": "markdown",
   "id": "ddf992e7-2e1a-42f7-9bf5-77124bfc23f5",
   "metadata": {},
   "source": [
    "#### 1.4 Splitting data into train and test"
   ]
  },
  {
   "cell_type": "code",
   "execution_count": null,
   "id": "3cbb2915-c87f-46fc-b9cc-50bcf8aa4a25",
   "metadata": {},
   "outputs": [],
   "source": [
    "X_train, X_test, y_train, y_test = train_test_split(X, y, test_size=0.2, random_state=42)"
   ]
  },
  {
   "cell_type": "code",
   "execution_count": null,
   "id": "c8119e04-ee37-4a32-ad5f-fe6bf52786a6",
   "metadata": {},
   "outputs": [],
   "source": [
    "print('# Training set')\n",
    "print(f'X_train.shape = {X_train.shape}')\n",
    "print(f'y_train.shape = {y_train.shape}\\n')\n",
    "\n",
    "print('# Testing set')\n",
    "print(f'X_test.shape = {X_test.shape}')\n",
    "print(f'y_test.shape = {y_test.shape}')"
   ]
  },
  {
   "cell_type": "markdown",
   "id": "fb9a51a0-2aa2-4b28-9021-ad032a591114",
   "metadata": {},
   "source": [
    "#### 1.5 Feature scaling"
   ]
  },
  {
   "cell_type": "code",
   "execution_count": null,
   "id": "4eea8835-0574-4aa7-b789-39e4635f98fc",
   "metadata": {},
   "outputs": [],
   "source": []
  },
  {
   "cell_type": "markdown",
   "id": "c08365a0-6e2c-45e7-9f97-a29390b80829",
   "metadata": {},
   "source": [
    "## 2. Training MLP\n",
    "https://scikit-learn.org/stable/modules/generated/sklearn.neural_network.MLPClassifier.html"
   ]
  },
  {
   "cell_type": "markdown",
   "id": "75037f22-c4e4-4d32-9e56-4680f3cd4559",
   "metadata": {},
   "source": [
    "### 2.1 Imports"
   ]
  },
  {
   "cell_type": "code",
   "execution_count": null,
   "id": "7def37f6-af4b-4811-8e79-aa34d3a29845",
   "metadata": {},
   "outputs": [],
   "source": []
  },
  {
   "cell_type": "markdown",
   "id": "184024b0-ab31-49e1-b1f8-30f77adcf0bf",
   "metadata": {},
   "source": [
    "### 2.2 Training"
   ]
  },
  {
   "cell_type": "code",
   "execution_count": null,
   "id": "f16a0bee-e1ad-4acd-b985-96f57982e95b",
   "metadata": {},
   "outputs": [],
   "source": []
  },
  {
   "cell_type": "code",
   "execution_count": null,
   "id": "f8da5e69-64ad-4566-8886-42ef5a1c57d7",
   "metadata": {},
   "outputs": [],
   "source": []
  },
  {
   "cell_type": "markdown",
   "id": "a26369ed-782c-446d-a656-f83a13a779b5",
   "metadata": {},
   "source": [
    "### 2.3 Getting the number of layers"
   ]
  },
  {
   "cell_type": "code",
   "execution_count": null,
   "id": "b1497494-6eb8-4bc4-979e-b563935f647f",
   "metadata": {},
   "outputs": [],
   "source": [
    "print(f'Number of layers: {}')\n",
    "print(f'Number of hidden layers: {}')"
   ]
  },
  {
   "cell_type": "markdown",
   "id": "9f74822f-c21e-4efa-8a4e-fbc2d3644ea0",
   "metadata": {},
   "source": [
    "### 2.4 Info"
   ]
  },
  {
   "cell_type": "markdown",
   "id": "4a85ca6a-ebd3-4d7f-8a98-907fe1494899",
   "metadata": {},
   "source": [
    "#### **Number of neurons in the hidden layers**"
   ]
  },
  {
   "cell_type": "code",
   "execution_count": null,
   "id": "442c50e2-f02a-41b4-9ecc-6d7f274e5d62",
   "metadata": {},
   "outputs": [],
   "source": [
    "print(f'Number of neurons in the hidden layers: {}')"
   ]
  },
  {
   "cell_type": "markdown",
   "id": "17aaae7a-8943-4fa7-b85c-f134628c1a81",
   "metadata": {},
   "source": [
    "#### **Number of neurons in the output layer**"
   ]
  },
  {
   "cell_type": "code",
   "execution_count": null,
   "id": "81e9f950-e826-43ee-b858-6b1855d06434",
   "metadata": {},
   "outputs": [],
   "source": [
    "print(f'Number of neurons in the output layers: {}')"
   ]
  },
  {
   "cell_type": "markdown",
   "id": "b59cdded-db28-45b7-b409-a250e534d1c9",
   "metadata": {},
   "source": [
    "#### **Learned weights of each layer**"
   ]
  },
  {
   "cell_type": "code",
   "execution_count": null,
   "id": "2e385906-c8c0-48bc-91d2-8b8a9b7d8014",
   "metadata": {},
   "outputs": [],
   "source": [
    "# one matrix per layer except the input layer\n"
   ]
  },
  {
   "cell_type": "code",
   "execution_count": null,
   "id": "96d5d281-f152-484a-ad87-2ed777e5ea4e",
   "metadata": {},
   "outputs": [],
   "source": [
    "# weights of Layer 2 (hidden layer)\n",
    "print(f'Layer 2 Weight Matrix: {}')\n"
   ]
  },
  {
   "cell_type": "code",
   "execution_count": null,
   "id": "f7815778-7990-4d84-835a-414f54c34e99",
   "metadata": {},
   "outputs": [],
   "source": [
    "# weights of Layer 3 (hidden layer)\n",
    "print(f'Layer 3 Weight Matrix: {}')\n"
   ]
  },
  {
   "cell_type": "code",
   "execution_count": null,
   "id": "520d3fd4-7d89-49f4-bd0d-fbed6efd0278",
   "metadata": {},
   "outputs": [],
   "source": [
    "# weights of Layer 4 (output layer)\n",
    "print(f'Layer 2 Weight Matrix: {}')\n"
   ]
  },
  {
   "cell_type": "markdown",
   "id": "103334bf-e812-4b4d-b2bc-01872251cba1",
   "metadata": {},
   "source": [
    "#### **Biases of each layer**"
   ]
  },
  {
   "cell_type": "code",
   "execution_count": null,
   "id": "f95e3729-eeeb-489d-8688-26b350587a28",
   "metadata": {},
   "outputs": [],
   "source": [
    "# one array per layer except the input layer\n"
   ]
  },
  {
   "cell_type": "code",
   "execution_count": null,
   "id": "215788e3-d285-4036-b555-226fc5f2d59a",
   "metadata": {},
   "outputs": [],
   "source": [
    "# biases of Layer 2 (hidden layer)\n",
    "print(f'Layer 2 Biases: {}')\n"
   ]
  },
  {
   "cell_type": "code",
   "execution_count": null,
   "id": "d972e568-4914-4a21-b852-5365d9aa11fe",
   "metadata": {},
   "outputs": [],
   "source": [
    "# biases of Layer 3 (hidden layer)\n",
    "print(f'Layer 3 Biases: {}')\n"
   ]
  },
  {
   "cell_type": "code",
   "execution_count": null,
   "id": "0d94bc54-8499-4368-a069-8696936c33f0",
   "metadata": {},
   "outputs": [],
   "source": [
    "# biases of Layer 4 (output layer)\n",
    "print(f'Layer 4 Biases: {}')\n"
   ]
  },
  {
   "cell_type": "markdown",
   "id": "7365976b-4d0e-46e8-ab99-b90a899e7efe",
   "metadata": {},
   "source": [
    "## 3. Experiments"
   ]
  },
  {
   "cell_type": "markdown",
   "id": "707eafe8-c207-49fd-bb43-fe957b7c512a",
   "metadata": {},
   "source": [
    "### 3.1 Predictions"
   ]
  },
  {
   "cell_type": "code",
   "execution_count": null,
   "id": "c4c57973-6126-4f59-95b7-ce9bebe5c1a7",
   "metadata": {},
   "outputs": [],
   "source": []
  },
  {
   "cell_type": "code",
   "execution_count": null,
   "id": "f6013235-5fae-47dc-9ab1-60390cdadba2",
   "metadata": {},
   "outputs": [],
   "source": [
    "from sklearn.metrics import classification_report"
   ]
  },
  {
   "cell_type": "code",
   "execution_count": null,
   "id": "f6697e36-89d5-4cde-b4f0-63ea45ae030f",
   "metadata": {},
   "outputs": [],
   "source": [
    "print(classification_report(y_test, y_test_pred))"
   ]
  },
  {
   "cell_type": "markdown",
   "id": "80722232-339b-4550-93cf-33dc1ec84f21",
   "metadata": {},
   "source": [
    "### 3.2 Visualizing Errors"
   ]
  },
  {
   "cell_type": "code",
   "execution_count": null,
   "id": "7747be44-68d6-492d-b0f2-ed6940754381",
   "metadata": {},
   "outputs": [],
   "source": [
    "test_errors_mask = y_test != y_test_pred"
   ]
  },
  {
   "cell_type": "code",
   "execution_count": null,
   "id": "b8402c06-cfd2-4c6e-b9d2-f002f86bf67f",
   "metadata": {},
   "outputs": [],
   "source": [
    "test_errors_indices = np.argwhere(test_errors_mask)\n",
    "test_errors_indices"
   ]
  },
  {
   "cell_type": "code",
   "execution_count": null,
   "id": "480a69d1-8364-4dbc-a73e-d67005759d03",
   "metadata": {},
   "outputs": [],
   "source": [
    "test_errors_indices = test_errors_indices.ravel()\n",
    "test_errors_indices"
   ]
  },
  {
   "cell_type": "code",
   "execution_count": null,
   "id": "dbcb621d-6a0c-4f79-b00a-e5841bb1bc57",
   "metadata": {},
   "outputs": [],
   "source": [
    "print(f'Number of misclassified test image: {test_errors_indices.size}')"
   ]
  },
  {
   "cell_type": "code",
   "execution_count": null,
   "id": "023960a7-7587-4fd2-8f14-fd2664634a73",
   "metadata": {},
   "outputs": [],
   "source": [
    "img_idx = 71\n",
    "\n",
    "img_error = X_test[img_idx]\n",
    "\n",
    "# inverting normalization\n",
    "img_error = scaler.inverse_transform(img_error)\n",
    "\n",
    "# image resolution: 8 x 8\n",
    "img_error = np.reshape(img_error, (8, 8))\n"
   ]
  },
  {
   "cell_type": "code",
   "execution_count": null,
   "id": "18d39771-b01f-4d4b-aafd-29d8814d855f",
   "metadata": {},
   "outputs": [],
   "source": [
    "plt.imshow(img_error, cmap=plt.cm.gray_r, interpolation=\"nearest\")\n",
    "plt.title(f'Test Image {img_idx} - True: {y_test[img_idx]}, Predicted: {y_test_pred[img_idx]}')"
   ]
  },
  {
   "cell_type": "code",
   "execution_count": null,
   "id": "598a2294-6661-4aac-a938-d29ef9cd109e",
   "metadata": {},
   "outputs": [],
   "source": []
  }
 ],
 "metadata": {
  "kernelspec": {
   "display_name": "Python 3 (ipykernel)",
   "language": "python",
   "name": "python3"
  },
  "language_info": {
   "codemirror_mode": {
    "name": "ipython",
    "version": 3
   },
   "file_extension": ".py",
   "mimetype": "text/x-python",
   "name": "python",
   "nbconvert_exporter": "python",
   "pygments_lexer": "ipython3",
   "version": "3.9.5"
  }
 },
 "nbformat": 4,
 "nbformat_minor": 5
}
