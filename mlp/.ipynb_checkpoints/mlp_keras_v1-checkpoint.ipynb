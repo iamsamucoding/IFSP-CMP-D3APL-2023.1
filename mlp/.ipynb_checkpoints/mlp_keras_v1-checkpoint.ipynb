{
 "cells": [
  {
   "cell_type": "markdown",
   "id": "09142599-d99c-4b84-ae6b-4ee2abc7df3a",
   "metadata": {},
   "source": [
    "**D3APL: Aplicações em Ciência de Dados** <br/>\n",
    "IFSP Campinas\n",
    "\n",
    "Prof. Dr. Samuel Martins (Samuka) <br/><br/>\n",
    "\n",
    "<a rel=\"license\" href=\"http://creativecommons.org/licenses/by-nc-sa/4.0/\"><img alt=\"Creative Commons License\" style=\"border-width:0\" src=\"https://i.creativecommons.org/l/by-nc-sa/4.0/88x31.png\" /></a><br />This work is licensed under a <a rel=\"license\" href=\"http://creativecommons.org/licenses/by-nc-sa/4.0/\">Creative Commons Attribution-NonCommercial-ShareAlike 4.0 International License</a>."
   ]
  },
  {
   "cell_type": "markdown",
   "id": "dbed1c92-5c77-4898-8cbb-e847af6f72cc",
   "metadata": {},
   "source": [
    "# Multilayer Perceptron (MLP) with Keras"
   ]
  },
  {
   "cell_type": "markdown",
   "id": "d2fb8137-7b1b-42e9-b2e9-75711269596c",
   "metadata": {},
   "source": [
    "## 1. Set up"
   ]
  },
  {
   "cell_type": "markdown",
   "id": "a3542eb6-d992-499f-9ac6-8771676123c6",
   "metadata": {},
   "source": [
    "#### 1.1 TensorFlow + Keras"
   ]
  },
  {
   "cell_type": "code",
   "execution_count": 1,
   "id": "ab093db2-4853-44eb-b588-da0a71ad6dba",
   "metadata": {
    "tags": []
   },
   "outputs": [
    {
     "name": "stderr",
     "output_type": "stream",
     "text": [
      "2023-03-16 19:25:47.322912: I tensorflow/core/platform/cpu_feature_guard.cc:193] This TensorFlow binary is optimized with oneAPI Deep Neural Network Library (oneDNN) to use the following CPU instructions in performance-critical operations:  AVX2 FMA\n",
      "To enable them in other operations, rebuild TensorFlow with the appropriate compiler flags.\n"
     ]
    }
   ],
   "source": [
    "import tensorflow as tf\n",
    "from tensorflow import keras"
   ]
  },
  {
   "cell_type": "code",
   "execution_count": 2,
   "id": "9e36de08-c4c0-4632-af0b-bed7b64296ac",
   "metadata": {
    "tags": []
   },
   "outputs": [
    {
     "data": {
      "text/plain": [
       "'2.11.0'"
      ]
     },
     "execution_count": 2,
     "metadata": {},
     "output_type": "execute_result"
    }
   ],
   "source": [
    "tf.__version__"
   ]
  },
  {
   "cell_type": "code",
   "execution_count": 3,
   "id": "dde0def4-7b44-4152-92cd-5fac2922825b",
   "metadata": {
    "tags": []
   },
   "outputs": [
    {
     "data": {
      "text/plain": [
       "'2.11.0'"
      ]
     },
     "execution_count": 3,
     "metadata": {},
     "output_type": "execute_result"
    }
   ],
   "source": [
    "keras.__version__"
   ]
  },
  {
   "cell_type": "markdown",
   "id": "f55f5afb-ecab-48f1-ad12-de12d0c38e40",
   "metadata": {},
   "source": [
    "**GPU available?**"
   ]
  },
  {
   "cell_type": "code",
   "execution_count": 4,
   "id": "cf10151d-8abe-49f7-a1f2-9f4050d6dd6e",
   "metadata": {
    "tags": []
   },
   "outputs": [
    {
     "name": "stdout",
     "output_type": "stream",
     "text": [
      "Num GPUs Available:  0\n"
     ]
    }
   ],
   "source": [
    "import tensorflow as tf\n",
    "print(\"Num GPUs Available: \", len(tf.config.list_physical_devices('GPU')))"
   ]
  },
  {
   "cell_type": "markdown",
   "id": "4e17fb00-de23-48bd-ab8a-1b6cc9089043",
   "metadata": {},
   "source": [
    "### 1.2 Fixing the seed for reproducibility (optional)\n",
    "That's a try for reprodubility in Keras. See more on: <br/>\n",
    "https://machinelearningmastery.com/reproducible-results-neural-networks-keras/ <br/>\n",
    "https://www.tensorflow.org/api_docs/python/tf/random/set_seed"
   ]
  },
  {
   "cell_type": "code",
   "execution_count": 5,
   "id": "4440090b-9df4-425a-944f-6838e2629149",
   "metadata": {
    "tags": []
   },
   "outputs": [],
   "source": [
    "from numpy.random import seed\n",
    "from tensorflow.random import set_seed\n",
    "\n",
    "seed(42)\n",
    "set_seed(42)"
   ]
  },
  {
   "cell_type": "markdown",
   "id": "47b3b9b6-207c-4b5a-a243-e68b490c7c1b",
   "metadata": {},
   "source": [
    "#### 1.3 Other imports"
   ]
  },
  {
   "cell_type": "code",
   "execution_count": 6,
   "id": "dd9377a2-d2d5-4c3b-825a-f389e6091be2",
   "metadata": {
    "tags": []
   },
   "outputs": [],
   "source": [
    "import numpy as np\n",
    "import matplotlib.pyplot as plt"
   ]
  },
  {
   "cell_type": "markdown",
   "id": "231de637-e2aa-4d28-840a-d8c503f63b75",
   "metadata": {},
   "source": [
    "#### 1.4 Loading Fashion MNIST Dataset via Keras\n",
    "https://keras.io/api/datasets/fashion_mnist/"
   ]
  },
  {
   "cell_type": "code",
   "execution_count": 7,
   "id": "7af01078-3198-47ec-913a-6806fd3910b9",
   "metadata": {
    "tags": []
   },
   "outputs": [],
   "source": [
    "(X_train, y_train), (X_test, y_test) = keras.datasets.fashion_mnist.load_data()"
   ]
  },
  {
   "cell_type": "markdown",
   "id": "29a052da-0820-4a38-8456-e0508e61cf65",
   "metadata": {},
   "source": [
    "The dataset is already split into a training set and a test set."
   ]
  },
  {
   "cell_type": "code",
   "execution_count": 8,
   "id": "834d107e-754a-4586-91dd-275e3d8d059c",
   "metadata": {
    "tags": []
   },
   "outputs": [
    {
     "data": {
      "text/plain": [
       "['mnist.npz', 'fashion-mnist']"
      ]
     },
     "execution_count": 8,
     "metadata": {},
     "output_type": "execute_result"
    }
   ],
   "source": [
    "# download done in folder: \"~/.keras/datasets\"\n",
    "import os\n",
    "os.listdir(os.path.expanduser('~/.keras/datasets'))"
   ]
  },
  {
   "cell_type": "code",
   "execution_count": 9,
   "id": "4aacde3d-5483-468b-9965-d6800199fef9",
   "metadata": {
    "tags": []
   },
   "outputs": [
    {
     "name": "stdout",
     "output_type": "stream",
     "text": [
      "X_train.shape: (60000, 28, 28)\n",
      "y_train.shape: (60000,)\n",
      "\n",
      "X_test.shape: (10000, 28, 28)\n",
      "y_test.shape: (10000,)\n"
     ]
    }
   ],
   "source": [
    "print(f'X_train.shape: {X_train.shape}')\n",
    "print(f'y_train.shape: {y_train.shape}\\n')\n",
    "\n",
    "print(f'X_test.shape: {X_test.shape}')\n",
    "print(f'y_test.shape: {y_test.shape}')"
   ]
  },
  {
   "cell_type": "code",
   "execution_count": 10,
   "id": "09cd0cc8-b3aa-4eab-91e9-87b539461de9",
   "metadata": {
    "tags": []
   },
   "outputs": [
    {
     "data": {
      "text/plain": [
       "array([9, 0, 0, ..., 3, 0, 5], dtype=uint8)"
      ]
     },
     "execution_count": 10,
     "metadata": {},
     "output_type": "execute_result"
    }
   ],
   "source": [
    "y_train"
   ]
  },
  {
   "cell_type": "code",
   "execution_count": 11,
   "id": "65d5e2ce-f1a3-4932-a3d6-d7604d120e83",
   "metadata": {
    "tags": []
   },
   "outputs": [
    {
     "data": {
      "text/plain": [
       "array([9, 2, 1, ..., 8, 1, 5], dtype=uint8)"
      ]
     },
     "execution_count": 11,
     "metadata": {},
     "output_type": "execute_result"
    }
   ],
   "source": [
    "y_test"
   ]
  },
  {
   "cell_type": "code",
   "execution_count": 12,
   "id": "94c1672e-11c2-4495-92c5-8b81e97745c2",
   "metadata": {
    "tags": []
   },
   "outputs": [
    {
     "data": {
      "text/plain": [
       "array([0, 1, 2, 3, 4, 5, 6, 7, 8, 9], dtype=uint8)"
      ]
     },
     "execution_count": 12,
     "metadata": {},
     "output_type": "execute_result"
    }
   ],
   "source": [
    "np.unique(y_train)"
   ]
  },
  {
   "cell_type": "code",
   "execution_count": 13,
   "id": "3d121d95-8a2b-42aa-b5b6-bd5887c866e3",
   "metadata": {
    "tags": []
   },
   "outputs": [
    {
     "data": {
      "text/plain": [
       "array([0, 1, 2, 3, 4, 5, 6, 7, 8, 9], dtype=uint8)"
      ]
     },
     "execution_count": 13,
     "metadata": {},
     "output_type": "execute_result"
    }
   ],
   "source": [
    "np.unique(y_test)"
   ]
  },
  {
   "cell_type": "code",
   "execution_count": 14,
   "id": "e1cf3eb2-3952-4bec-bc90-362428e990fc",
   "metadata": {
    "tags": []
   },
   "outputs": [
    {
     "name": "stdout",
     "output_type": "stream",
     "text": [
      "Number of Classes: 10\n",
      "Classes: [0 1 2 3 4 5 6 7 8 9]\n"
     ]
    }
   ],
   "source": [
    "print(f'Number of Classes: {np.unique(y_train).shape[0]}')\n",
    "print(f'Classes: {np.unique(y_train)}')"
   ]
  },
  {
   "cell_type": "code",
   "execution_count": 15,
   "id": "445f7cbc-6270-4b4e-ae1f-c46408d5d236",
   "metadata": {
    "tags": []
   },
   "outputs": [
    {
     "data": {
      "text/plain": [
       "['T-shirt/top',\n",
       " 'Trouser',\n",
       " 'Pullover',\n",
       " 'Dress',\n",
       " 'Coat',\n",
       " 'Sandal',\n",
       " 'Shirt',\n",
       " 'Sneaker',\n",
       " 'Bag',\n",
       " 'Ankle boot']"
      ]
     },
     "execution_count": 15,
     "metadata": {},
     "output_type": "execute_result"
    }
   ],
   "source": [
    "class_names = [\"T-shirt/top\", \"Trouser\", \"Pullover\", \"Dress\", \"Coat\", \"Sandal\", \"Shirt\", \"Sneaker\", \"Bag\", \"Ankle boot\"]\n",
    "class_names"
   ]
  },
  {
   "cell_type": "code",
   "execution_count": 16,
   "id": "7c4c8ba7-6842-450f-86e2-99c6669f7b1c",
   "metadata": {
    "tags": []
   },
   "outputs": [
    {
     "data": {
      "image/png": "[encoded data removed]",
      "text/plain": [
       "<Figure size 1000x300 with 4 Axes>"
      ]
     },
     "metadata": {},
     "output_type": "display_data"
    }
   ],
   "source": [
    "_, axes = plt.subplots(nrows=1, ncols=4, figsize=(10, 3))\n",
    "for ax, image, label in zip(axes, X_train, y_train):\n",
    "    ax.set_axis_off()\n",
    "    ax.imshow(image, cmap=plt.cm.gray_r, interpolation=\"nearest\")\n",
    "    ax.set_title(f'Image: {class_names[label]}')"
   ]
  },
  {
   "cell_type": "code",
   "execution_count": 17,
   "id": "6bfb14c2-e805-48e0-b39a-bca995b85dd9",
   "metadata": {
    "tags": []
   },
   "outputs": [
    {
     "name": "stdout",
     "output_type": "stream",
     "text": [
      "Min. value of X_train: 0\n",
      "Max. value of X_train: 255\n",
      "\n",
      "Min. value of X_test: 0\n",
      "Max. value of X_test: 255\n"
     ]
    }
   ],
   "source": [
    "# 8-bit gray scale\n",
    "print(f'Min. value of X_train: {X_train.min()}')\n",
    "print(f'Max. value of X_train: {X_train.max()}\\n')\n",
    "\n",
    "print(f'Min. value of X_test: {X_test.min()}')\n",
    "print(f'Max. value of X_test: {X_test.max()}')"
   ]
  },
  {
   "cell_type": "markdown",
   "id": "e8fcb542-031b-4f43-a32e-cc095cc1857b",
   "metadata": {},
   "source": [
    "#### 1.5 (Simple) Feature scaling\n",
    "Since we are going to train the neural network using _Gradient Descent_, we must scale the **input features**. For simplicity, we’ll scale the pixel intensities down to the _0–1_ range by dividing them by **255.0** (8-bit gray image):"
   ]
  },
  {
   "cell_type": "code",
   "execution_count": 18,
   "id": "f955f1b1-3ed9-4dad-a05e-fd8b83e19002",
   "metadata": {
    "tags": []
   },
   "outputs": [],
   "source": [
    "X_train = X_train / 255.0\n",
    "X_test = X_test / 255.0"
   ]
  },
  {
   "cell_type": "code",
   "execution_count": 19,
   "id": "26ece1f5-7d6a-4406-bd16-6a6d8017cf1d",
   "metadata": {
    "tags": []
   },
   "outputs": [
    {
     "name": "stdout",
     "output_type": "stream",
     "text": [
      "Min. value of X_train: 0.0\n",
      "Max. value of X_train: 1.0\n",
      "\n",
      "Min. value of X_test: 0.0\n",
      "Max. value of X_test: 1.0\n"
     ]
    }
   ],
   "source": [
    "# 8-bit gray scale\n",
    "print(f'Min. value of X_train: {X_train.min()}')\n",
    "print(f'Max. value of X_train: {X_train.max()}\\n')\n",
    "\n",
    "print(f'Min. value of X_test: {X_test.min()}')\n",
    "print(f'Max. value of X_test: {X_test.max()}')"
   ]
  },
  {
   "cell_type": "markdown",
   "id": "3e5cd606-7367-4310-883a-81a96a300b8f",
   "metadata": {},
   "source": [
    "#### 1.6 Flattening the images as feature vectors"
   ]
  },
  {
   "cell_type": "code",
   "execution_count": 20,
   "id": "bd9be1af-6dd8-442f-a8f6-f5e6c225b160",
   "metadata": {
    "tags": []
   },
   "outputs": [
    {
     "data": {
      "text/plain": [
       "784"
      ]
     },
     "execution_count": 20,
     "metadata": {},
     "output_type": "execute_result"
    }
   ],
   "source": [
    "# X_train.shape ==> (n_train_imgs, img_width, img_height)\n",
    "n_train_imgs, img_width, img_height = X_train.shape\n",
    "\n",
    "# n_pixes == number of feats\n",
    "n_pixels = img_width * img_height\n",
    "n_pixels"
   ]
  },
  {
   "cell_type": "code",
   "execution_count": 21,
   "id": "c28bcfb7-1192-4a74-86c3-367505594deb",
   "metadata": {
    "tags": []
   },
   "outputs": [
    {
     "data": {
      "text/plain": [
       "10000"
      ]
     },
     "execution_count": 21,
     "metadata": {},
     "output_type": "execute_result"
    }
   ],
   "source": [
    "# X_test.shape ==> (n_test_imgs, img_width, img_height)\n",
    "n_test_imgs = X_test.shape[0]\n",
    "n_test_imgs"
   ]
  },
  {
   "cell_type": "code",
   "execution_count": 22,
   "id": "4e9e8cee-1986-4f05-afe9-f99c6fd6cb9b",
   "metadata": {
    "tags": []
   },
   "outputs": [],
   "source": [
    "# 60000, 28, 28 ===> 60000, 784\n",
    "X_train = np.reshape(X_train, (n_train_imgs, n_pixels))\n",
    "\n",
    "# 10000, 28, 28 ===> 10000, 784\n",
    "X_test = np.reshape(X_test, (n_test_imgs, n_pixels))"
   ]
  },
  {
   "cell_type": "code",
   "execution_count": 23,
   "id": "21142047-9cdf-448c-9f62-73ddf35ec812",
   "metadata": {
    "tags": []
   },
   "outputs": [
    {
     "name": "stdout",
     "output_type": "stream",
     "text": [
      "X_train.shape: (60000, 784)\n",
      "X_test.shape: (10000, 784)\n"
     ]
    }
   ],
   "source": [
    "print(f'X_train.shape: {X_train.shape}')\n",
    "print(f'X_test.shape: {X_test.shape}')"
   ]
  },
  {
   "cell_type": "markdown",
   "id": "4ed90771-4316-4286-89b7-8bbe077db038",
   "metadata": {},
   "source": [
    "## 2. Building and Training a MLP via Keras"
   ]
  },
  {
   "cell_type": "markdown",
   "id": "692f75c8-57b8-4d7f-914b-1369e60cdb19",
   "metadata": {},
   "source": [
    "### 2.1 Defining the Network Architecture\n",
    "Proposed architecture for Multiclass Classification:\n",
    "- Input Layer: 784 neurons (number of pixels)\n",
    "- Hidden Layer 1: 256 neurons, ReLu\n",
    "- Hidden Layer 2: 128 neurons, ReLu\n",
    "- Output Layer: 10 neurons, Softmax\n",
    "\n",
    "In short: [784], [256 ReLU, 128 ReLU], [10 Softmax] ==> pyramid"
   ]
  },
  {
   "cell_type": "markdown",
   "id": "4da9ced7-ea7e-4fac-bd1c-bc82851067a9",
   "metadata": {
    "tags": []
   },
   "source": [
    "#### **Defining the Network's Architecture**"
   ]
  },
  {
   "cell_type": "code",
   "execution_count": 24,
   "id": "7a0e0365-17ee-40cf-8fa0-ae1a39590aeb",
   "metadata": {
    "tags": []
   },
   "outputs": [
    {
     "name": "stderr",
     "output_type": "stream",
     "text": [
      "2023-03-16 19:39:36.005100: I tensorflow/core/platform/cpu_feature_guard.cc:193] This TensorFlow binary is optimized with oneAPI Deep Neural Network Library (oneDNN) to use the following CPU instructions in performance-critical operations:  AVX2 FMA\n",
      "To enable them in other operations, rebuild TensorFlow with the appropriate compiler flags.\n"
     ]
    }
   ],
   "source": [
    "# Sequential: https://www.tensorflow.org/api_docs/python/tf/keras/Sequential\n",
    "# InputLayer: https://www.tensorflow.org/api_docs/python/tf/keras/layers/InputLayer\n",
    "# Dense: https://www.tensorflow.org/api_docs/python/tf/keras/layers/Dense\n",
    "\n",
    "### Default weight and bias initialization:\n",
    "# kernel_initializer='glorot_uniform',\n",
    "# bias_initializer='zeros',\n",
    "\n",
    "from tensorflow.keras import Sequential\n",
    "from tensorflow.keras.layers import InputLayer, Dense\n",
    "\n",
    "model = Sequential()\n",
    "model.add(InputLayer(input_shape=(n_pixels,)))\n",
    "model.add(Dense(256, activation='relu'))\n",
    "model.add(Dense(128, activation='relu'))\n",
    "model.add(Dense(10, activation='softmax'))"
   ]
  },
  {
   "cell_type": "markdown",
   "id": "16e3d2de-bb3b-4121-b787-a5c322d6e26f",
   "metadata": {},
   "source": [
    "##### **Summarizing Architecture**"
   ]
  },
  {
   "cell_type": "code",
   "execution_count": 25,
   "id": "cc0e7573-0ad0-4837-844b-bb5871ac6955",
   "metadata": {
    "tags": []
   },
   "outputs": [
    {
     "name": "stdout",
     "output_type": "stream",
     "text": [
      "Model: \"sequential\"\n",
      "_________________________________________________________________\n",
      " Layer (type)                Output Shape              Param #   \n",
      "=================================================================\n",
      " dense (Dense)               (None, 256)               200960    \n",
      "                                                                 \n",
      " dense_1 (Dense)             (None, 128)               32896     \n",
      "                                                                 \n",
      " dense_2 (Dense)             (None, 10)                1290      \n",
      "                                                                 \n",
      "=================================================================\n",
      "Total params: 235,146\n",
      "Trainable params: 235,146\n",
      "Non-trainable params: 0\n",
      "_________________________________________________________________\n"
     ]
    }
   ],
   "source": [
    "model.summary()"
   ]
  },
  {
   "cell_type": "markdown",
   "id": "fe1e4594-d1ed-4f73-8eac-39ea9ca4b6ab",
   "metadata": {},
   "source": [
    "##### **Creating a Model (archicture) from a list of Layers**"
   ]
  },
  {
   "cell_type": "code",
   "execution_count": 28,
   "id": "2ec41448-55f5-4261-bde7-5e886f69abb8",
   "metadata": {
    "tags": []
   },
   "outputs": [],
   "source": [
    "model = Sequential(\n",
    "    layers=[\n",
    "        InputLayer(input_shape=(n_pixels,)),\n",
    "        Dense(256, activation='relu'),\n",
    "        Dense(128, activation='relu'),\n",
    "        Dense(10, activation='softmax')\n",
    "    ]\n",
    ")"
   ]
  },
  {
   "cell_type": "code",
   "execution_count": 31,
   "id": "e1b02b25-359a-49f7-b721-a9717d04ba76",
   "metadata": {
    "tags": []
   },
   "outputs": [],
   "source": [
    "model = Sequential([\n",
    "        InputLayer(input_shape=(n_pixels,)),\n",
    "        Dense(256, activation='relu'),\n",
    "        Dense(128, activation='relu'),\n",
    "        Dense(10, activation='softmax')\n",
    "    ]\n",
    ")"
   ]
  },
  {
   "cell_type": "code",
   "execution_count": 32,
   "id": "dcaf1755-b8fc-48d0-85d0-b2483d92c4b9",
   "metadata": {
    "tags": []
   },
   "outputs": [],
   "source": [
    "model = Sequential([\n",
    "        Dense(256, activation='relu', input_shape=(n_pixels,)),\n",
    "        Dense(128, activation='relu'),\n",
    "        Dense(10, activation='softmax')\n",
    "    ]\n",
    ")"
   ]
  },
  {
   "cell_type": "code",
   "execution_count": 33,
   "id": "a5987f9c-e5c0-40f4-b21f-9c49ce069445",
   "metadata": {
    "tags": []
   },
   "outputs": [
    {
     "name": "stdout",
     "output_type": "stream",
     "text": [
      "Model: \"sequential_5\"\n",
      "_________________________________________________________________\n",
      " Layer (type)                Output Shape              Param #   \n",
      "=================================================================\n",
      " dense_15 (Dense)            (None, 256)               200960    \n",
      "                                                                 \n",
      " dense_16 (Dense)            (None, 128)               32896     \n",
      "                                                                 \n",
      " dense_17 (Dense)            (None, 10)                1290      \n",
      "                                                                 \n",
      "=================================================================\n",
      "Total params: 235,146\n",
      "Trainable params: 235,146\n",
      "Non-trainable params: 0\n",
      "_________________________________________________________________\n"
     ]
    }
   ],
   "source": [
    "model.summary()"
   ]
  },
  {
   "cell_type": "markdown",
   "id": "70519ce0-edd7-46ed-b366-622031cd0c49",
   "metadata": {},
   "source": [
    "##### **Named Layers (without spaces)**"
   ]
  },
  {
   "cell_type": "code",
   "execution_count": 35,
   "id": "3ff40b8a-dede-4a4e-9918-f45319e03d4c",
   "metadata": {
    "tags": []
   },
   "outputs": [],
   "source": [
    "# Optionally, we can define names for each layer and for the model\n",
    "model = Sequential(name='MyMLP')\n",
    "model.add(InputLayer(input_shape=(n_pixels,), name='Input'))\n",
    "model.add(Dense(256, activation='relu', name='Hidden_1'))\n",
    "model.add(Dense(128, activation='relu', name='Hidden_2'))\n",
    "model.add(Dense(10, activation='softmax', name='Output'))"
   ]
  },
  {
   "cell_type": "code",
   "execution_count": 36,
   "id": "c17a4f68-0316-4aed-adb6-98a7c6ec0bb2",
   "metadata": {
    "tags": []
   },
   "outputs": [
    {
     "name": "stdout",
     "output_type": "stream",
     "text": [
      "Model: \"MyMLP\"\n",
      "_________________________________________________________________\n",
      " Layer (type)                Output Shape              Param #   \n",
      "=================================================================\n",
      " Hidden_1 (Dense)            (None, 256)               200960    \n",
      "                                                                 \n",
      " Hidden_2 (Dense)            (None, 128)               32896     \n",
      "                                                                 \n",
      " Output (Dense)              (None, 10)                1290      \n",
      "                                                                 \n",
      "=================================================================\n",
      "Total params: 235,146\n",
      "Trainable params: 235,146\n",
      "Non-trainable params: 0\n",
      "_________________________________________________________________\n"
     ]
    }
   ],
   "source": [
    "model.summary()"
   ]
  },
  {
   "cell_type": "markdown",
   "id": "f68223f6-3dca-4971-8ba0-eb326f9af7de",
   "metadata": {},
   "source": [
    "### 2.2 Info about the Architecture"
   ]
  },
  {
   "cell_type": "code",
   "execution_count": 37,
   "id": "10c4b6c1-02ec-4f8e-8fc1-14bc2e280add",
   "metadata": {
    "tags": []
   },
   "outputs": [
    {
     "data": {
      "text/plain": [
       "keras.engine.sequential.Sequential"
      ]
     },
     "execution_count": 37,
     "metadata": {},
     "output_type": "execute_result"
    }
   ],
   "source": [
    "type(model)"
   ]
  },
  {
   "cell_type": "markdown",
   "id": "9e945e5f-dbbe-47d8-9202-070edfa1fef4",
   "metadata": {},
   "source": [
    "#### **List of layers (except the input layer)**"
   ]
  },
  {
   "cell_type": "code",
   "execution_count": 38,
   "id": "f2e39afb-60ff-4e44-8919-a7e70dc2c9e2",
   "metadata": {
    "tags": []
   },
   "outputs": [
    {
     "data": {
      "text/plain": [
       "[<keras.layers.core.dense.Dense at 0x15ccb0e80>,\n",
       " <keras.layers.core.dense.Dense at 0x15c922760>,\n",
       " <keras.layers.core.dense.Dense at 0x15ce24af0>]"
      ]
     },
     "execution_count": 38,
     "metadata": {},
     "output_type": "execute_result"
    }
   ],
   "source": [
    "model.layers"
   ]
  },
  {
   "cell_type": "markdown",
   "id": "9ae3c1ab-59a9-4cfb-8cd4-797022786705",
   "metadata": {},
   "source": [
    "#### **Getting a specific layer**\n",
    "\n",
    "According to our convention:\n",
    "- Layer 1: Input Layer\n",
    "- Layer 2: Hidden Layer 1\n",
    "- Layer 3: Hidden Layer 2\n",
    "- Layer 4: Output Layer"
   ]
  },
  {
   "cell_type": "code",
   "execution_count": 41,
   "id": "5b4bd52e-4135-4b28-96d7-e1a81939cad2",
   "metadata": {
    "tags": []
   },
   "outputs": [
    {
     "data": {
      "text/plain": [
       "<keras.layers.core.dense.Dense at 0x15ccb0e80>"
      ]
     },
     "execution_count": 41,
     "metadata": {},
     "output_type": "execute_result"
    }
   ],
   "source": [
    "hidden_1 = model.layers[0]\n",
    "hidden_1"
   ]
  },
  {
   "cell_type": "code",
   "execution_count": 42,
   "id": "100195ce-c8c5-4ace-929d-4a40ee706fbd",
   "metadata": {
    "tags": []
   },
   "outputs": [
    {
     "name": "stdout",
     "output_type": "stream",
     "text": [
      "# of neurons/units: 256\n"
     ]
    }
   ],
   "source": [
    "print(f'# of neurons/units: {hidden_1.units}')"
   ]
  },
  {
   "cell_type": "code",
   "execution_count": 43,
   "id": "e3aeafd2-24e3-48b3-b8e6-b01343c272e4",
   "metadata": {
    "tags": []
   },
   "outputs": [
    {
     "data": {
      "text/plain": [
       "'Hidden_1'"
      ]
     },
     "execution_count": 43,
     "metadata": {},
     "output_type": "execute_result"
    }
   ],
   "source": [
    "hidden_1.name"
   ]
  },
  {
   "cell_type": "code",
   "execution_count": 44,
   "id": "1d9361d1-93f4-44af-aae3-a907748def43",
   "metadata": {
    "tags": []
   },
   "outputs": [
    {
     "data": {
      "text/plain": [
       "<KerasTensor: shape=(None, 784) dtype=float32 (created by layer 'Input')>"
      ]
     },
     "execution_count": 44,
     "metadata": {},
     "output_type": "execute_result"
    }
   ],
   "source": [
    "hidden_1.input"
   ]
  },
  {
   "cell_type": "code",
   "execution_count": 45,
   "id": "2cff23a4-cc4f-4498-8655-fe9a483da051",
   "metadata": {
    "tags": []
   },
   "outputs": [
    {
     "data": {
      "text/plain": [
       "<KerasTensor: shape=(None, 256) dtype=float32 (created by layer 'Hidden_1')>"
      ]
     },
     "execution_count": 45,
     "metadata": {},
     "output_type": "execute_result"
    }
   ],
   "source": [
    "hidden_1.output"
   ]
  },
  {
   "cell_type": "code",
   "execution_count": 46,
   "id": "b6d8edde-05ae-4b75-baf5-d2533b6afe01",
   "metadata": {
    "tags": []
   },
   "outputs": [
    {
     "data": {
      "text/plain": [
       "<function keras.activations.relu(x, alpha=0.0, max_value=None, threshold=0.0)>"
      ]
     },
     "execution_count": 46,
     "metadata": {},
     "output_type": "execute_result"
    }
   ],
   "source": [
    "hidden_1.activation"
   ]
  },
  {
   "cell_type": "markdown",
   "id": "87f70244-472e-4ba1-af9e-2fd385071de5",
   "metadata": {},
   "source": [
    "#### **Accessing the weights and biases of a layer**\n",
    "\n",
    "PS: While the model is not trained, the layer's weights and biases come from the initialization"
   ]
  },
  {
   "cell_type": "code",
   "execution_count": 47,
   "id": "e36572ec-6f87-4b9f-b461-07e7dbd9b8fd",
   "metadata": {
    "tags": []
   },
   "outputs": [
    {
     "data": {
      "text/plain": [
       "<keras.layers.core.dense.Dense at 0x15ccb0e80>"
      ]
     },
     "execution_count": 47,
     "metadata": {},
     "output_type": "execute_result"
    }
   ],
   "source": [
    "hidden_1"
   ]
  },
  {
   "cell_type": "code",
   "execution_count": 49,
   "id": "7f7bbd5f-bf79-40f9-ae53-88c4ce01e9b1",
   "metadata": {
    "tags": []
   },
   "outputs": [],
   "source": [
    "weights, biases = hidden_1.get_weights()"
   ]
  },
  {
   "cell_type": "code",
   "execution_count": 50,
   "id": "2aa1cc6e-a33b-4d68-bb71-d1ad125a9132",
   "metadata": {
    "tags": []
   },
   "outputs": [
    {
     "name": "stdout",
     "output_type": "stream",
     "text": [
      "Hidden 1\n",
      "weights.shape = (784, 256)\n",
      "biases.shape = (256,)\n"
     ]
    }
   ],
   "source": [
    "print('Hidden 1')\n",
    "print(f'weights.shape = {weights.shape}')\n",
    "print(f'biases.shape = {biases.shape}')"
   ]
  },
  {
   "cell_type": "markdown",
   "id": "3dc7e91f-b454-45b5-98ec-024e78fdbce3",
   "metadata": {},
   "source": [
    "**PS:** Note that the **Weight Matrix's shape** has a different _order/convention_ from what we have seen so far."
   ]
  },
  {
   "cell_type": "code",
   "execution_count": 51,
   "id": "fecf61d6-6ab5-4686-9a0c-a01e4e8cfd08",
   "metadata": {
    "tags": []
   },
   "outputs": [
    {
     "name": "stdout",
     "output_type": "stream",
     "text": [
      "[[-0.03848871 -0.04634656  0.0537259  ...  0.00453672 -0.06285494\n",
      "   0.02017101]\n",
      " [-0.05468823 -0.01894339 -0.02139134 ... -0.00347861 -0.02012902\n",
      "  -0.01337277]\n",
      " [-0.05315357 -0.05320115 -0.05811667 ... -0.01265867 -0.06076793\n",
      "  -0.05442214]\n",
      " ...\n",
      " [ 0.03988574 -0.00069561 -0.01975283 ...  0.05364312 -0.06276075\n",
      "  -0.06523611]\n",
      " [-0.06489778  0.04470589  0.05540647 ...  0.07469817 -0.07456182\n",
      "   0.00386228]\n",
      " [ 0.04956496 -0.03352408 -0.05055039 ...  0.05491981  0.00628447\n",
      "   0.03604066]]\n"
     ]
    }
   ],
   "source": [
    "print(weights)"
   ]
  },
  {
   "cell_type": "code",
   "execution_count": 52,
   "id": "a442348a-bb0b-4d93-95bb-6b1a2df7899e",
   "metadata": {
    "tags": []
   },
   "outputs": [
    {
     "name": "stdout",
     "output_type": "stream",
     "text": [
      "[0. 0. 0. 0. 0. 0. 0. 0. 0. 0. 0. 0. 0. 0. 0. 0. 0. 0. 0. 0. 0. 0. 0. 0.\n",
      " 0. 0. 0. 0. 0. 0. 0. 0. 0. 0. 0. 0. 0. 0. 0. 0. 0. 0. 0. 0. 0. 0. 0. 0.\n",
      " 0. 0. 0. 0. 0. 0. 0. 0. 0. 0. 0. 0. 0. 0. 0. 0. 0. 0. 0. 0. 0. 0. 0. 0.\n",
      " 0. 0. 0. 0. 0. 0. 0. 0. 0. 0. 0. 0. 0. 0. 0. 0. 0. 0. 0. 0. 0. 0. 0. 0.\n",
      " 0. 0. 0. 0. 0. 0. 0. 0. 0. 0. 0. 0. 0. 0. 0. 0. 0. 0. 0. 0. 0. 0. 0. 0.\n",
      " 0. 0. 0. 0. 0. 0. 0. 0. 0. 0. 0. 0. 0. 0. 0. 0. 0. 0. 0. 0. 0. 0. 0. 0.\n",
      " 0. 0. 0. 0. 0. 0. 0. 0. 0. 0. 0. 0. 0. 0. 0. 0. 0. 0. 0. 0. 0. 0. 0. 0.\n",
      " 0. 0. 0. 0. 0. 0. 0. 0. 0. 0. 0. 0. 0. 0. 0. 0. 0. 0. 0. 0. 0. 0. 0. 0.\n",
      " 0. 0. 0. 0. 0. 0. 0. 0. 0. 0. 0. 0. 0. 0. 0. 0. 0. 0. 0. 0. 0. 0. 0. 0.\n",
      " 0. 0. 0. 0. 0. 0. 0. 0. 0. 0. 0. 0. 0. 0. 0. 0. 0. 0. 0. 0. 0. 0. 0. 0.\n",
      " 0. 0. 0. 0. 0. 0. 0. 0. 0. 0. 0. 0. 0. 0. 0. 0.]\n"
     ]
    }
   ],
   "source": [
    "print(biases)"
   ]
  },
  {
   "cell_type": "markdown",
   "id": "6828eedc-3c42-4325-9316-acb57846c31b",
   "metadata": {},
   "source": [
    "#### **There are other getters (`get_`)**"
   ]
  },
  {
   "cell_type": "code",
   "execution_count": 54,
   "id": "a657d5be-3f4d-4ebc-a5b2-82736cd6ec23",
   "metadata": {
    "tags": []
   },
   "outputs": [
    {
     "data": {
      "text/plain": [
       "{'name': 'Hidden_1',\n",
       " 'trainable': True,\n",
       " 'dtype': 'float32',\n",
       " 'units': 256,\n",
       " 'activation': 'relu',\n",
       " 'use_bias': True,\n",
       " 'kernel_initializer': {'class_name': 'GlorotUniform',\n",
       "  'config': {'seed': None}},\n",
       " 'bias_initializer': {'class_name': 'Zeros', 'config': {}},\n",
       " 'kernel_regularizer': None,\n",
       " 'bias_regularizer': None,\n",
       " 'activity_regularizer': None,\n",
       " 'kernel_constraint': None,\n",
       " 'bias_constraint': None}"
      ]
     },
     "execution_count": 54,
     "metadata": {},
     "output_type": "execute_result"
    }
   ],
   "source": [
    "hidden_1.get_config()"
   ]
  },
  {
   "cell_type": "code",
   "execution_count": 58,
   "id": "80a5bfae-3e4d-4fce-a4da-d68b0bb6b20b",
   "metadata": {
    "tags": []
   },
   "outputs": [
    {
     "data": {
      "text/plain": [
       "<KerasTensor: shape=(None, 784) dtype=float32 (created by layer 'Input')>"
      ]
     },
     "execution_count": 58,
     "metadata": {},
     "output_type": "execute_result"
    }
   ],
   "source": [
    "hidden_1.get_input_at(0)"
   ]
  },
  {
   "cell_type": "code",
   "execution_count": 59,
   "id": "dad3170f-93d2-4d8c-9272-7bd903432027",
   "metadata": {
    "tags": []
   },
   "outputs": [
    {
     "data": {
      "text/plain": [
       "<KerasTensor: shape=(None, 256) dtype=float32 (created by layer 'Hidden_1')>"
      ]
     },
     "execution_count": 59,
     "metadata": {},
     "output_type": "execute_result"
    }
   ],
   "source": [
    "hidden_1.get_output_at(0)"
   ]
  },
  {
   "cell_type": "markdown",
   "id": "fb73252c-8789-449f-8ef9-0bb4f3f629ef",
   "metadata": {},
   "source": [
    "**PS:** There are the corresponding setter methods (`set_`)."
   ]
  },
  {
   "cell_type": "markdown",
   "id": "0a85c983-328c-4c21-aaf2-c7feb5bfe523",
   "metadata": {},
   "source": [
    "### 2.2 Compiling: Defining the Loss Function, Optimizer, and Metrics"
   ]
  },
  {
   "cell_type": "code",
   "execution_count": 60,
   "id": "d7be8c98-8dc9-4957-ba6c-a81c90801acb",
   "metadata": {
    "tags": []
   },
   "outputs": [],
   "source": [
    "# Model compilation: https://www.tensorflow.org/api_docs/python/tf/keras/Model#compile\n",
    "model.compile(loss='sparse_categorical_crossentropy', optimizer='sgd', metrics=['accuracy'])"
   ]
  },
  {
   "cell_type": "markdown",
   "id": "2e5bccb8-dc2e-4890-91ea-8716d90509a0",
   "metadata": {},
   "source": [
    "#### **Loss:**\n",
    "\n",
    "We use the `\"sparse_categorical_crossentropy\"` loss because we have **sparse labels** (i.e., for each instance, there is just a target class index, from 0 to 9 in this case), and the classes are **exclusive**.\n",
    "\n",
    "If instead we had _one target probability per class_ for each instance (such as one-hot vectors, e.g. [0., 0., 0., 1., 0., 0., 0., 0., 0., 0.] to represent class 3), then we would need to use the `\"categorical_crossentropy\"` loss instead.\n",
    "\n",
    "If we were doing **binary classification** (with one or more binary labels), then we would use the `\"sigmoid\"` _activation function_ in the **output layer**, and we would use the `\"binary_crossentropy\"` loss."
   ]
  },
  {
   "cell_type": "markdown",
   "id": "ce2e1113-6b17-4114-9187-4486660f6f57",
   "metadata": {},
   "source": [
    "#### **Optimizer:**\n",
    "\n",
    "`\"sgd\"` means that we will train the model using simple **Stochastic Gradient Descent** with its default values (see https://www.tensorflow.org/api_docs/python/tf/keras/optimizers/SGD).<br/>\n",
    "To change some default value, for example the _learning rate_, use `optimizer=keras.optimizers.SGD(lr=???)`.\n",
    "\n",
    "There are other otimizers available in Keras: https://www.tensorflow.org/api_docs/python/tf/keras/optimizers"
   ]
  },
  {
   "cell_type": "markdown",
   "id": "a6e89eaf-3b3a-4f2c-96e5-93c2b17e4bda",
   "metadata": {},
   "source": [
    "#### **Metrics:**\n",
    "List of _metrics_ to be evaluated by the model during **training** and **testing**. <br/>\n",
    "Each of this can be a _string_ (name of a built-in function), _function_ or a `tf.keras.metrics.Metric` instance: https://www.tensorflow.org/api_docs/python/tf/keras/metrics\n",
    "\n",
    "**PS:** By default, _F1 score_ **is not** part of keras metrics. To use it, we need to create our own function and pass it to `metrics`: https://aakashgoel12.medium.com/how-to-add-user-defined-function-get-f1-score-in-keras-metrics-3013f979ce0d#:~:text=By%20default%2C%20f1%20score%20is,like%20accuracy%2C%20categorical%20accuracy%20etc. <br/>\n",
    "Other option is to use [**TensorFlow Addons**](https://www.tensorflow.org/addons) that provides several additional functionalities to TensorFlow, such as [**F1 Score**](https://www.tensorflow.org/addons/api_docs/python/tfa/metrics/F1Score): https://stackoverflow.com/a/71705026/7069696\n",
    "\n"
   ]
  },
  {
   "cell_type": "markdown",
   "id": "16b1b6ce-3283-46ee-83d1-cce66271eddb",
   "metadata": {},
   "source": [
    "### 2.4 Training\n",
    "\n",
    "In case of GPU drivers, we can monitor its use by [_gpustat_](https://github.com/wookayin/gpustat).\n",
    "\n",
    "On terminal, use: `gpustat -cpi`\n"
   ]
  },
  {
   "cell_type": "code",
   "execution_count": 62,
   "id": "a8580290-0b32-43ac-a33d-735d11c6682a",
   "metadata": {
    "tags": []
   },
   "outputs": [
    {
     "name": "stdout",
     "output_type": "stream",
     "text": [
      "Epoch 1/30\n",
      "1500/1500 [==============================] - 3s 2ms/step - loss: 0.4683 - accuracy: 0.8375 - val_loss: 0.4503 - val_accuracy: 0.8445\n",
      "Epoch 2/30\n",
      "1500/1500 [==============================] - 3s 2ms/step - loss: 0.4340 - accuracy: 0.8495 - val_loss: 0.4485 - val_accuracy: 0.8416\n",
      "Epoch 3/30\n",
      "1500/1500 [==============================] - 3s 2ms/step - loss: 0.4110 - accuracy: 0.8566 - val_loss: 0.4213 - val_accuracy: 0.8573\n",
      "Epoch 4/30\n",
      "1500/1500 [==============================] - 3s 2ms/step - loss: 0.3933 - accuracy: 0.8614 - val_loss: 0.3948 - val_accuracy: 0.8616\n",
      "Epoch 5/30\n",
      "1500/1500 [==============================] - 3s 2ms/step - loss: 0.3771 - accuracy: 0.8674 - val_loss: 0.3927 - val_accuracy: 0.8608\n",
      "Epoch 6/30\n",
      "1500/1500 [==============================] - 3s 2ms/step - loss: 0.3646 - accuracy: 0.8720 - val_loss: 0.3752 - val_accuracy: 0.8690\n",
      "Epoch 7/30\n",
      "1500/1500 [==============================] - 3s 2ms/step - loss: 0.3527 - accuracy: 0.8761 - val_loss: 0.3742 - val_accuracy: 0.8697\n",
      "Epoch 8/30\n",
      "1500/1500 [==============================] - 3s 2ms/step - loss: 0.3448 - accuracy: 0.8774 - val_loss: 0.3818 - val_accuracy: 0.8652\n",
      "Epoch 9/30\n",
      "1500/1500 [==============================] - 3s 2ms/step - loss: 0.3348 - accuracy: 0.8811 - val_loss: 0.3632 - val_accuracy: 0.8706\n",
      "Epoch 10/30\n",
      "1500/1500 [==============================] - 3s 2ms/step - loss: 0.3270 - accuracy: 0.8831 - val_loss: 0.3593 - val_accuracy: 0.8732\n",
      "Epoch 11/30\n",
      "1500/1500 [==============================] - 3s 2ms/step - loss: 0.3185 - accuracy: 0.8861 - val_loss: 0.3598 - val_accuracy: 0.8698\n",
      "Epoch 12/30\n",
      "1500/1500 [==============================] - 3s 2ms/step - loss: 0.3131 - accuracy: 0.8869 - val_loss: 0.3491 - val_accuracy: 0.8754\n",
      "Epoch 13/30\n",
      "1500/1500 [==============================] - 3s 2ms/step - loss: 0.3062 - accuracy: 0.8897 - val_loss: 0.3523 - val_accuracy: 0.8730\n",
      "Epoch 14/30\n",
      "1500/1500 [==============================] - 3s 2ms/step - loss: 0.3004 - accuracy: 0.8921 - val_loss: 0.3363 - val_accuracy: 0.8814\n",
      "Epoch 15/30\n",
      "1500/1500 [==============================] - 3s 2ms/step - loss: 0.2945 - accuracy: 0.8945 - val_loss: 0.3378 - val_accuracy: 0.8791\n",
      "Epoch 16/30\n",
      "1500/1500 [==============================] - 3s 2ms/step - loss: 0.2890 - accuracy: 0.8973 - val_loss: 0.3458 - val_accuracy: 0.8761\n",
      "Epoch 17/30\n",
      "1500/1500 [==============================] - 3s 2ms/step - loss: 0.2837 - accuracy: 0.8971 - val_loss: 0.3365 - val_accuracy: 0.8798\n",
      "Epoch 18/30\n",
      "1500/1500 [==============================] - 3s 2ms/step - loss: 0.2787 - accuracy: 0.9000 - val_loss: 0.3314 - val_accuracy: 0.8817\n",
      "Epoch 19/30\n",
      "1500/1500 [==============================] - 3s 2ms/step - loss: 0.2727 - accuracy: 0.9019 - val_loss: 0.3318 - val_accuracy: 0.8805\n",
      "Epoch 20/30\n",
      "1500/1500 [==============================] - 3s 2ms/step - loss: 0.2678 - accuracy: 0.9044 - val_loss: 0.3309 - val_accuracy: 0.8826\n",
      "Epoch 21/30\n",
      "1500/1500 [==============================] - 3s 2ms/step - loss: 0.2643 - accuracy: 0.9053 - val_loss: 0.3224 - val_accuracy: 0.8868\n",
      "Epoch 22/30\n",
      "1500/1500 [==============================] - 3s 2ms/step - loss: 0.2599 - accuracy: 0.9070 - val_loss: 0.3309 - val_accuracy: 0.8792\n",
      "Epoch 23/30\n",
      "1500/1500 [==============================] - 3s 2ms/step - loss: 0.2566 - accuracy: 0.9079 - val_loss: 0.3372 - val_accuracy: 0.8789\n",
      "Epoch 24/30\n",
      "1500/1500 [==============================] - 3s 2ms/step - loss: 0.2519 - accuracy: 0.9102 - val_loss: 0.3206 - val_accuracy: 0.8855\n",
      "Epoch 25/30\n",
      "1500/1500 [==============================] - 3s 2ms/step - loss: 0.2473 - accuracy: 0.9102 - val_loss: 0.3139 - val_accuracy: 0.8873\n",
      "Epoch 26/30\n",
      "1500/1500 [==============================] - 3s 2ms/step - loss: 0.2428 - accuracy: 0.9137 - val_loss: 0.3233 - val_accuracy: 0.8841\n",
      "Epoch 27/30\n",
      "1500/1500 [==============================] - 3s 2ms/step - loss: 0.2400 - accuracy: 0.9138 - val_loss: 0.3145 - val_accuracy: 0.8867\n",
      "Epoch 28/30\n",
      "1500/1500 [==============================] - 4s 2ms/step - loss: 0.2370 - accuracy: 0.9149 - val_loss: 0.3122 - val_accuracy: 0.8896\n",
      "Epoch 29/30\n",
      "1500/1500 [==============================] - 4s 2ms/step - loss: 0.2325 - accuracy: 0.9170 - val_loss: 0.3334 - val_accuracy: 0.8818\n",
      "Epoch 30/30\n",
      "1500/1500 [==============================] - 3s 2ms/step - loss: 0.2289 - accuracy: 0.9185 - val_loss: 0.3198 - val_accuracy: 0.8863\n"
     ]
    }
   ],
   "source": [
    "# https://www.tensorflow.org/api_docs/python/tf/keras/Sequential#fit\n",
    "\n",
    "history = model.fit(X_train, y_train, epochs=30, batch_size=32, validation_split=0.2)"
   ]
  },
  {
   "cell_type": "markdown",
   "id": "8b311b54-6803-4d99-9533-4415a738ca72",
   "metadata": {},
   "source": [
    "<br/>\n",
    "\n",
    "We are using a _validation set_ during training by the argument `validation_split`: https://www.tensorflow.org/api_docs/python/tf/distribute/experimental/ParameterServerStrategy\n",
    " <br/>\n",
    "For example, `validation_split=0.2` tells Keras to use **the last** 20% of the data (before shuffling) for **validation**. <br/>\n",
    "\n",
    "Additionally, the argument `validation_batch_size` tells the number of samples per **validation batch**. If _unspecified_, will default to `batch_size`."
   ]
  },
  {
   "cell_type": "markdown",
   "id": "c619e00b-fa9a-4748-984a-951604f27f25",
   "metadata": {},
   "source": [
    "#### **Checking the training history object**"
   ]
  },
  {
   "cell_type": "code",
   "execution_count": 63,
   "id": "18e5bd5f-c1a2-44cf-beca-63e17d1155e5",
   "metadata": {
    "tags": []
   },
   "outputs": [
    {
     "data": {
      "text/plain": [
       "<keras.callbacks.History at 0x15f7b7a00>"
      ]
     },
     "execution_count": 63,
     "metadata": {},
     "output_type": "execute_result"
    }
   ],
   "source": [
    "history"
   ]
  },
  {
   "cell_type": "code",
   "execution_count": 64,
   "id": "e234f8c7-2b90-4ed4-a211-216e5a775b37",
   "metadata": {
    "tags": []
   },
   "outputs": [
    {
     "data": {
      "text/plain": [
       "{'verbose': 1, 'epochs': 30, 'steps': 1500}"
      ]
     },
     "execution_count": 64,
     "metadata": {},
     "output_type": "execute_result"
    }
   ],
   "source": [
    "history.params"
   ]
  },
  {
   "cell_type": "code",
   "execution_count": null,
   "id": "e5c3f270-0c8e-4496-91d7-f03602615e5c",
   "metadata": {},
   "outputs": [],
   "source": [
    "params"
   ]
  },
  {
   "cell_type": "code",
   "execution_count": 66,
   "id": "99160eef-e499-454f-8d74-017ce2614931",
   "metadata": {
    "tags": []
   },
   "outputs": [
    {
     "data": {
      "text/plain": [
       "[0,\n",
       " 1,\n",
       " 2,\n",
       " 3,\n",
       " 4,\n",
       " 5,\n",
       " 6,\n",
       " 7,\n",
       " 8,\n",
       " 9,\n",
       " 10,\n",
       " 11,\n",
       " 12,\n",
       " 13,\n",
       " 14,\n",
       " 15,\n",
       " 16,\n",
       " 17,\n",
       " 18,\n",
       " 19,\n",
       " 20,\n",
       " 21,\n",
       " 22,\n",
       " 23,\n",
       " 24,\n",
       " 25,\n",
       " 26,\n",
       " 27,\n",
       " 28,\n",
       " 29]"
      ]
     },
     "execution_count": 66,
     "metadata": {},
     "output_type": "execute_result"
    }
   ],
   "source": [
    "history.epoch"
   ]
  },
  {
   "cell_type": "code",
   "execution_count": 67,
   "id": "7eff7ba5-030b-410d-b07a-403fd82a6ae6",
   "metadata": {
    "tags": []
   },
   "outputs": [
    {
     "data": {
      "text/plain": [
       "{'loss': [0.46825769543647766,\n",
       "  0.43395406007766724,\n",
       "  0.4110054671764374,\n",
       "  0.393265962600708,\n",
       "  0.3771434426307678,\n",
       "  0.3646193742752075,\n",
       "  0.35271385312080383,\n",
       "  0.34476253390312195,\n",
       "  0.3347579836845398,\n",
       "  0.3269611895084381,\n",
       "  0.31854283809661865,\n",
       "  0.3131202459335327,\n",
       "  0.3061816096305847,\n",
       "  0.3004074692726135,\n",
       "  0.294491171836853,\n",
       "  0.2889903783798218,\n",
       "  0.283717542886734,\n",
       "  0.27867040038108826,\n",
       "  0.272714227437973,\n",
       "  0.2677532434463501,\n",
       "  0.2643187940120697,\n",
       "  0.2598939538002014,\n",
       "  0.25658053159713745,\n",
       "  0.25188595056533813,\n",
       "  0.24731093645095825,\n",
       "  0.24276576936244965,\n",
       "  0.23998787999153137,\n",
       "  0.23696653544902802,\n",
       "  0.23252010345458984,\n",
       "  0.22894035279750824],\n",
       " 'accuracy': [0.8374791741371155,\n",
       "  0.8494791388511658,\n",
       "  0.8566250205039978,\n",
       "  0.8613541722297668,\n",
       "  0.8674166798591614,\n",
       "  0.871999979019165,\n",
       "  0.8761249780654907,\n",
       "  0.8773958086967468,\n",
       "  0.8811041712760925,\n",
       "  0.8830833435058594,\n",
       "  0.886062502861023,\n",
       "  0.8868749737739563,\n",
       "  0.8897291421890259,\n",
       "  0.8921041488647461,\n",
       "  0.8944583535194397,\n",
       "  0.8972708582878113,\n",
       "  0.8971250057220459,\n",
       "  0.8999583125114441,\n",
       "  0.9018541574478149,\n",
       "  0.9043541550636292,\n",
       "  0.9052916765213013,\n",
       "  0.9069791436195374,\n",
       "  0.9078750014305115,\n",
       "  0.9102083444595337,\n",
       "  0.9101874828338623,\n",
       "  0.913729190826416,\n",
       "  0.9138333201408386,\n",
       "  0.9148749709129333,\n",
       "  0.9170416593551636,\n",
       "  0.918541669845581],\n",
       " 'val_loss': [0.4503057897090912,\n",
       "  0.4485476016998291,\n",
       "  0.42132568359375,\n",
       "  0.39478108286857605,\n",
       "  0.39274051785469055,\n",
       "  0.37517622113227844,\n",
       "  0.3742304742336273,\n",
       "  0.38180986046791077,\n",
       "  0.3631868362426758,\n",
       "  0.3592822253704071,\n",
       "  0.35981279611587524,\n",
       "  0.3490690588951111,\n",
       "  0.35233449935913086,\n",
       "  0.3362785279750824,\n",
       "  0.3377944231033325,\n",
       "  0.3458039164543152,\n",
       "  0.33647358417510986,\n",
       "  0.33144035935401917,\n",
       "  0.33183857798576355,\n",
       "  0.3308786451816559,\n",
       "  0.32241615653038025,\n",
       "  0.3308785557746887,\n",
       "  0.33719170093536377,\n",
       "  0.320625901222229,\n",
       "  0.3139326870441437,\n",
       "  0.32327550649642944,\n",
       "  0.3144673705101013,\n",
       "  0.31218063831329346,\n",
       "  0.33339762687683105,\n",
       "  0.3197666108608246],\n",
       " 'val_accuracy': [0.8445000052452087,\n",
       "  0.8415833115577698,\n",
       "  0.8573333621025085,\n",
       "  0.8615833520889282,\n",
       "  0.8607500195503235,\n",
       "  0.8690000176429749,\n",
       "  0.8696666955947876,\n",
       "  0.8652499914169312,\n",
       "  0.8705833554267883,\n",
       "  0.8731666803359985,\n",
       "  0.8697500228881836,\n",
       "  0.8754166960716248,\n",
       "  0.8730000257492065,\n",
       "  0.8814166784286499,\n",
       "  0.8790833353996277,\n",
       "  0.8760833144187927,\n",
       "  0.8797500133514404,\n",
       "  0.8817499876022339,\n",
       "  0.8805000185966492,\n",
       "  0.8825833201408386,\n",
       "  0.8868333101272583,\n",
       "  0.8791666626930237,\n",
       "  0.8789166808128357,\n",
       "  0.8855000138282776,\n",
       "  0.8872500061988831,\n",
       "  0.8840833306312561,\n",
       "  0.8866666555404663,\n",
       "  0.8895833492279053,\n",
       "  0.8818333148956299,\n",
       "  0.8862500190734863]}"
      ]
     },
     "execution_count": 67,
     "metadata": {},
     "output_type": "execute_result"
    }
   ],
   "source": [
    "history.history"
   ]
  },
  {
   "cell_type": "markdown",
   "id": "9f7dc519-947b-492a-bf99-c6638cf75338",
   "metadata": {},
   "source": [
    "#### **Visualizing the training history**"
   ]
  },
  {
   "cell_type": "code",
   "execution_count": 68,
   "id": "abcb091e-a508-4a5b-9efa-6da9d1b47b95",
   "metadata": {
    "tags": []
   },
   "outputs": [
    {
     "data": {
      "text/html": [
       "<div>\n",
       "<style scoped>\n",
       "    .dataframe tbody tr th:only-of-type {\n",
       "        vertical-align: middle;\n",
       "    }\n",
       "\n",
       "    .dataframe tbody tr th {\n",
       "        vertical-align: top;\n",
       "    }\n",
       "\n",
       "    .dataframe thead th {\n",
       "        text-align: right;\n",
       "    }\n",
       "</style>\n",
       "<table border=\"1\" class=\"dataframe\">\n",
       "  <thead>\n",
       "    <tr style=\"text-align: right;\">\n",
       "      <th></th>\n",
       "      <th>loss</th>\n",
       "      <th>accuracy</th>\n",
       "      <th>val_loss</th>\n",
       "      <th>val_accuracy</th>\n",
       "    </tr>\n",
       "  </thead>\n",
       "  <tbody>\n",
       "    <tr>\n",
       "      <th>0</th>\n",
       "      <td>0.468258</td>\n",
       "      <td>0.837479</td>\n",
       "      <td>0.450306</td>\n",
       "      <td>0.844500</td>\n",
       "    </tr>\n",
       "    <tr>\n",
       "      <th>1</th>\n",
       "      <td>0.433954</td>\n",
       "      <td>0.849479</td>\n",
       "      <td>0.448548</td>\n",
       "      <td>0.841583</td>\n",
       "    </tr>\n",
       "    <tr>\n",
       "      <th>2</th>\n",
       "      <td>0.411005</td>\n",
       "      <td>0.856625</td>\n",
       "      <td>0.421326</td>\n",
       "      <td>0.857333</td>\n",
       "    </tr>\n",
       "    <tr>\n",
       "      <th>3</th>\n",
       "      <td>0.393266</td>\n",
       "      <td>0.861354</td>\n",
       "      <td>0.394781</td>\n",
       "      <td>0.861583</td>\n",
       "    </tr>\n",
       "    <tr>\n",
       "      <th>4</th>\n",
       "      <td>0.377143</td>\n",
       "      <td>0.867417</td>\n",
       "      <td>0.392741</td>\n",
       "      <td>0.860750</td>\n",
       "    </tr>\n",
       "    <tr>\n",
       "      <th>5</th>\n",
       "      <td>0.364619</td>\n",
       "      <td>0.872000</td>\n",
       "      <td>0.375176</td>\n",
       "      <td>0.869000</td>\n",
       "    </tr>\n",
       "    <tr>\n",
       "      <th>6</th>\n",
       "      <td>0.352714</td>\n",
       "      <td>0.876125</td>\n",
       "      <td>0.374230</td>\n",
       "      <td>0.869667</td>\n",
       "    </tr>\n",
       "    <tr>\n",
       "      <th>7</th>\n",
       "      <td>0.344763</td>\n",
       "      <td>0.877396</td>\n",
       "      <td>0.381810</td>\n",
       "      <td>0.865250</td>\n",
       "    </tr>\n",
       "    <tr>\n",
       "      <th>8</th>\n",
       "      <td>0.334758</td>\n",
       "      <td>0.881104</td>\n",
       "      <td>0.363187</td>\n",
       "      <td>0.870583</td>\n",
       "    </tr>\n",
       "    <tr>\n",
       "      <th>9</th>\n",
       "      <td>0.326961</td>\n",
       "      <td>0.883083</td>\n",
       "      <td>0.359282</td>\n",
       "      <td>0.873167</td>\n",
       "    </tr>\n",
       "    <tr>\n",
       "      <th>10</th>\n",
       "      <td>0.318543</td>\n",
       "      <td>0.886063</td>\n",
       "      <td>0.359813</td>\n",
       "      <td>0.869750</td>\n",
       "    </tr>\n",
       "    <tr>\n",
       "      <th>11</th>\n",
       "      <td>0.313120</td>\n",
       "      <td>0.886875</td>\n",
       "      <td>0.349069</td>\n",
       "      <td>0.875417</td>\n",
       "    </tr>\n",
       "    <tr>\n",
       "      <th>12</th>\n",
       "      <td>0.306182</td>\n",
       "      <td>0.889729</td>\n",
       "      <td>0.352334</td>\n",
       "      <td>0.873000</td>\n",
       "    </tr>\n",
       "    <tr>\n",
       "      <th>13</th>\n",
       "      <td>0.300407</td>\n",
       "      <td>0.892104</td>\n",
       "      <td>0.336279</td>\n",
       "      <td>0.881417</td>\n",
       "    </tr>\n",
       "    <tr>\n",
       "      <th>14</th>\n",
       "      <td>0.294491</td>\n",
       "      <td>0.894458</td>\n",
       "      <td>0.337794</td>\n",
       "      <td>0.879083</td>\n",
       "    </tr>\n",
       "    <tr>\n",
       "      <th>15</th>\n",
       "      <td>0.288990</td>\n",
       "      <td>0.897271</td>\n",
       "      <td>0.345804</td>\n",
       "      <td>0.876083</td>\n",
       "    </tr>\n",
       "    <tr>\n",
       "      <th>16</th>\n",
       "      <td>0.283718</td>\n",
       "      <td>0.897125</td>\n",
       "      <td>0.336474</td>\n",
       "      <td>0.879750</td>\n",
       "    </tr>\n",
       "    <tr>\n",
       "      <th>17</th>\n",
       "      <td>0.278670</td>\n",
       "      <td>0.899958</td>\n",
       "      <td>0.331440</td>\n",
       "      <td>0.881750</td>\n",
       "    </tr>\n",
       "    <tr>\n",
       "      <th>18</th>\n",
       "      <td>0.272714</td>\n",
       "      <td>0.901854</td>\n",
       "      <td>0.331839</td>\n",
       "      <td>0.880500</td>\n",
       "    </tr>\n",
       "    <tr>\n",
       "      <th>19</th>\n",
       "      <td>0.267753</td>\n",
       "      <td>0.904354</td>\n",
       "      <td>0.330879</td>\n",
       "      <td>0.882583</td>\n",
       "    </tr>\n",
       "    <tr>\n",
       "      <th>20</th>\n",
       "      <td>0.264319</td>\n",
       "      <td>0.905292</td>\n",
       "      <td>0.322416</td>\n",
       "      <td>0.886833</td>\n",
       "    </tr>\n",
       "    <tr>\n",
       "      <th>21</th>\n",
       "      <td>0.259894</td>\n",
       "      <td>0.906979</td>\n",
       "      <td>0.330879</td>\n",
       "      <td>0.879167</td>\n",
       "    </tr>\n",
       "    <tr>\n",
       "      <th>22</th>\n",
       "      <td>0.256581</td>\n",
       "      <td>0.907875</td>\n",
       "      <td>0.337192</td>\n",
       "      <td>0.878917</td>\n",
       "    </tr>\n",
       "    <tr>\n",
       "      <th>23</th>\n",
       "      <td>0.251886</td>\n",
       "      <td>0.910208</td>\n",
       "      <td>0.320626</td>\n",
       "      <td>0.885500</td>\n",
       "    </tr>\n",
       "    <tr>\n",
       "      <th>24</th>\n",
       "      <td>0.247311</td>\n",
       "      <td>0.910187</td>\n",
       "      <td>0.313933</td>\n",
       "      <td>0.887250</td>\n",
       "    </tr>\n",
       "    <tr>\n",
       "      <th>25</th>\n",
       "      <td>0.242766</td>\n",
       "      <td>0.913729</td>\n",
       "      <td>0.323276</td>\n",
       "      <td>0.884083</td>\n",
       "    </tr>\n",
       "    <tr>\n",
       "      <th>26</th>\n",
       "      <td>0.239988</td>\n",
       "      <td>0.913833</td>\n",
       "      <td>0.314467</td>\n",
       "      <td>0.886667</td>\n",
       "    </tr>\n",
       "    <tr>\n",
       "      <th>27</th>\n",
       "      <td>0.236967</td>\n",
       "      <td>0.914875</td>\n",
       "      <td>0.312181</td>\n",
       "      <td>0.889583</td>\n",
       "    </tr>\n",
       "    <tr>\n",
       "      <th>28</th>\n",
       "      <td>0.232520</td>\n",
       "      <td>0.917042</td>\n",
       "      <td>0.333398</td>\n",
       "      <td>0.881833</td>\n",
       "    </tr>\n",
       "    <tr>\n",
       "      <th>29</th>\n",
       "      <td>0.228940</td>\n",
       "      <td>0.918542</td>\n",
       "      <td>0.319767</td>\n",
       "      <td>0.886250</td>\n",
       "    </tr>\n",
       "  </tbody>\n",
       "</table>\n",
       "</div>"
      ],
      "text/plain": [
       "        loss  accuracy  val_loss  val_accuracy\n",
       "0   0.468258  0.837479  0.450306      0.844500\n",
       "1   0.433954  0.849479  0.448548      0.841583\n",
       "2   0.411005  0.856625  0.421326      0.857333\n",
       "3   0.393266  0.861354  0.394781      0.861583\n",
       "4   0.377143  0.867417  0.392741      0.860750\n",
       "5   0.364619  0.872000  0.375176      0.869000\n",
       "6   0.352714  0.876125  0.374230      0.869667\n",
       "7   0.344763  0.877396  0.381810      0.865250\n",
       "8   0.334758  0.881104  0.363187      0.870583\n",
       "9   0.326961  0.883083  0.359282      0.873167\n",
       "10  0.318543  0.886063  0.359813      0.869750\n",
       "11  0.313120  0.886875  0.349069      0.875417\n",
       "12  0.306182  0.889729  0.352334      0.873000\n",
       "13  0.300407  0.892104  0.336279      0.881417\n",
       "14  0.294491  0.894458  0.337794      0.879083\n",
       "15  0.288990  0.897271  0.345804      0.876083\n",
       "16  0.283718  0.897125  0.336474      0.879750\n",
       "17  0.278670  0.899958  0.331440      0.881750\n",
       "18  0.272714  0.901854  0.331839      0.880500\n",
       "19  0.267753  0.904354  0.330879      0.882583\n",
       "20  0.264319  0.905292  0.322416      0.886833\n",
       "21  0.259894  0.906979  0.330879      0.879167\n",
       "22  0.256581  0.907875  0.337192      0.878917\n",
       "23  0.251886  0.910208  0.320626      0.885500\n",
       "24  0.247311  0.910187  0.313933      0.887250\n",
       "25  0.242766  0.913729  0.323276      0.884083\n",
       "26  0.239988  0.913833  0.314467      0.886667\n",
       "27  0.236967  0.914875  0.312181      0.889583\n",
       "28  0.232520  0.917042  0.333398      0.881833\n",
       "29  0.228940  0.918542  0.319767      0.886250"
      ]
     },
     "execution_count": 68,
     "metadata": {},
     "output_type": "execute_result"
    }
   ],
   "source": [
    "import pandas as pd\n",
    "import matplotlib.pyplot as plt\n",
    "\n",
    "history_df = pd.DataFrame(history.history)\n",
    "history_df"
   ]
  },
  {
   "cell_type": "code",
   "execution_count": 69,
   "id": "f69952b3-0c62-48ed-9257-ed851d6b828a",
   "metadata": {
    "tags": []
   },
   "outputs": [
    {
     "data": {
      "text/plain": [
       "Text(0, 0.5, 'Score')"
      ]
     },
     "execution_count": 69,
     "metadata": {},
     "output_type": "execute_result"
    },
    {
     "data": {
      "image/png": "[encoded data removed]",
      "text/plain": [
       "<Figure size 800x500 with 1 Axes>"
      ]
     },
     "metadata": {},
     "output_type": "display_data"
    }
   ],
   "source": [
    "history_df.plot(figsize=(8, 5))\n",
    "plt.grid(True)\n",
    "plt.ylim(0, 1) # set the vertical range to [0-1]\n",
    "plt.xlabel('Epochs')\n",
    "plt.ylabel('Score')"
   ]
  },
  {
   "cell_type": "markdown",
   "id": "f8a66ed4-74aa-4aa3-9e88-13fb86b5314d",
   "metadata": {},
   "source": [
    "The _training set_ performance ends up beating the _validation performance_, as is generally the case when you train for long enough. <br/>\n",
    "You can tell that the model _has not quite converged yet_, as the _validation loss_ is still (or could be) going down, so you should probably\n",
    "**continue training**.\n",
    "\n",
    "It’s as simple as calling the `fit()` method again, since Keras **_just_ continues training where it left off**."
   ]
  },
  {
   "cell_type": "code",
   "execution_count": 70,
   "id": "df728186-8b63-491d-a5fd-ca621abb1977",
   "metadata": {
    "tags": []
   },
   "outputs": [
    {
     "name": "stdout",
     "output_type": "stream",
     "text": [
      "Epoch 1/30\n",
      "1500/1500 [==============================] - 3s 2ms/step - loss: 0.2260 - accuracy: 0.9184 - val_loss: 0.3130 - val_accuracy: 0.8902\n",
      "Epoch 2/30\n",
      "1500/1500 [==============================] - 3s 2ms/step - loss: 0.2225 - accuracy: 0.9204 - val_loss: 0.3227 - val_accuracy: 0.8836\n",
      "Epoch 3/30\n",
      "1500/1500 [==============================] - 3s 2ms/step - loss: 0.2198 - accuracy: 0.9207 - val_loss: 0.3170 - val_accuracy: 0.8874\n",
      "Epoch 4/30\n",
      "1500/1500 [==============================] - 3s 2ms/step - loss: 0.2161 - accuracy: 0.9224 - val_loss: 0.3120 - val_accuracy: 0.8895\n",
      "Epoch 5/30\n",
      "1500/1500 [==============================] - 3s 2ms/step - loss: 0.2119 - accuracy: 0.9242 - val_loss: 0.3120 - val_accuracy: 0.8899\n",
      "Epoch 6/30\n",
      "1500/1500 [==============================] - 4s 2ms/step - loss: 0.2093 - accuracy: 0.9255 - val_loss: 0.3123 - val_accuracy: 0.8898\n",
      "Epoch 7/30\n",
      "1500/1500 [==============================] - 3s 2ms/step - loss: 0.2049 - accuracy: 0.9270 - val_loss: 0.3116 - val_accuracy: 0.8906\n",
      "Epoch 8/30\n",
      "1500/1500 [==============================] - 3s 2ms/step - loss: 0.2037 - accuracy: 0.9268 - val_loss: 0.3338 - val_accuracy: 0.8882\n",
      "Epoch 9/30\n",
      "1500/1500 [==============================] - 3s 2ms/step - loss: 0.1997 - accuracy: 0.9284 - val_loss: 0.3217 - val_accuracy: 0.8839\n",
      "Epoch 10/30\n",
      "1500/1500 [==============================] - 4s 2ms/step - loss: 0.1963 - accuracy: 0.9305 - val_loss: 0.3095 - val_accuracy: 0.8894\n",
      "Epoch 11/30\n",
      "1500/1500 [==============================] - 3s 2ms/step - loss: 0.1937 - accuracy: 0.9317 - val_loss: 0.3139 - val_accuracy: 0.8901\n",
      "Epoch 12/30\n",
      "1500/1500 [==============================] - 3s 2ms/step - loss: 0.1913 - accuracy: 0.9320 - val_loss: 0.3114 - val_accuracy: 0.8917\n",
      "Epoch 13/30\n",
      "1500/1500 [==============================] - 4s 3ms/step - loss: 0.1879 - accuracy: 0.9329 - val_loss: 0.3259 - val_accuracy: 0.8890\n",
      "Epoch 14/30\n",
      "1500/1500 [==============================] - 3s 2ms/step - loss: 0.1857 - accuracy: 0.9330 - val_loss: 0.3121 - val_accuracy: 0.8932\n",
      "Epoch 15/30\n",
      "1500/1500 [==============================] - 3s 2ms/step - loss: 0.1828 - accuracy: 0.9352 - val_loss: 0.3169 - val_accuracy: 0.8903\n",
      "Epoch 16/30\n",
      "1500/1500 [==============================] - 3s 2ms/step - loss: 0.1804 - accuracy: 0.9362 - val_loss: 0.3267 - val_accuracy: 0.8885\n",
      "Epoch 17/30\n",
      "1500/1500 [==============================] - 3s 2ms/step - loss: 0.1770 - accuracy: 0.9370 - val_loss: 0.3101 - val_accuracy: 0.8928\n",
      "Epoch 18/30\n",
      "1500/1500 [==============================] - 3s 2ms/step - loss: 0.1749 - accuracy: 0.9384 - val_loss: 0.3187 - val_accuracy: 0.8884\n",
      "Epoch 19/30\n",
      "1500/1500 [==============================] - 3s 2ms/step - loss: 0.1711 - accuracy: 0.9393 - val_loss: 0.3209 - val_accuracy: 0.8877\n",
      "Epoch 20/30\n",
      "1500/1500 [==============================] - 3s 2ms/step - loss: 0.1679 - accuracy: 0.9402 - val_loss: 0.3163 - val_accuracy: 0.8920\n",
      "Epoch 21/30\n",
      "1500/1500 [==============================] - 3s 2ms/step - loss: 0.1661 - accuracy: 0.9406 - val_loss: 0.3129 - val_accuracy: 0.8904\n",
      "Epoch 22/30\n",
      "1500/1500 [==============================] - 3s 2ms/step - loss: 0.1634 - accuracy: 0.9419 - val_loss: 0.3338 - val_accuracy: 0.8870\n",
      "Epoch 23/30\n",
      "1500/1500 [==============================] - 4s 2ms/step - loss: 0.1617 - accuracy: 0.9421 - val_loss: 0.3323 - val_accuracy: 0.8871\n",
      "Epoch 24/30\n",
      "1500/1500 [==============================] - 3s 2ms/step - loss: 0.1593 - accuracy: 0.9437 - val_loss: 0.3209 - val_accuracy: 0.8914\n",
      "Epoch 25/30\n",
      "1500/1500 [==============================] - 3s 2ms/step - loss: 0.1554 - accuracy: 0.9451 - val_loss: 0.3070 - val_accuracy: 0.8944\n",
      "Epoch 26/30\n",
      "1500/1500 [==============================] - 3s 2ms/step - loss: 0.1522 - accuracy: 0.9463 - val_loss: 0.3252 - val_accuracy: 0.8888\n",
      "Epoch 27/30\n",
      "1500/1500 [==============================] - 3s 2ms/step - loss: 0.1508 - accuracy: 0.9464 - val_loss: 0.3235 - val_accuracy: 0.8915\n",
      "Epoch 28/30\n",
      "1500/1500 [==============================] - 3s 2ms/step - loss: 0.1502 - accuracy: 0.9468 - val_loss: 0.3139 - val_accuracy: 0.8940\n",
      "Epoch 29/30\n",
      "1500/1500 [==============================] - 3s 2ms/step - loss: 0.1469 - accuracy: 0.9478 - val_loss: 0.3515 - val_accuracy: 0.8825\n",
      "Epoch 30/30\n",
      "1500/1500 [==============================] - 3s 2ms/step - loss: 0.1439 - accuracy: 0.9497 - val_loss: 0.3230 - val_accuracy: 0.8910\n"
     ]
    }
   ],
   "source": [
    "history = model.fit(X_train, y_train, epochs=30, batch_size=32, validation_split=0.2)"
   ]
  },
  {
   "cell_type": "markdown",
   "id": "431d0566-f020-4c21-9f6c-7044816cce36",
   "metadata": {},
   "source": [
    "Note that our _training loss_ is lower than that from the last epoch in the previous training. This confirms that our `fit()` method **continues training** where it left off."
   ]
  },
  {
   "cell_type": "code",
   "execution_count": 71,
   "id": "5410db7d-3d76-42c2-87ae-b7f2df55a7ba",
   "metadata": {
    "tags": []
   },
   "outputs": [
    {
     "data": {
      "text/html": [
       "<div>\n",
       "<style scoped>\n",
       "    .dataframe tbody tr th:only-of-type {\n",
       "        vertical-align: middle;\n",
       "    }\n",
       "\n",
       "    .dataframe tbody tr th {\n",
       "        vertical-align: top;\n",
       "    }\n",
       "\n",
       "    .dataframe thead th {\n",
       "        text-align: right;\n",
       "    }\n",
       "</style>\n",
       "<table border=\"1\" class=\"dataframe\">\n",
       "  <thead>\n",
       "    <tr style=\"text-align: right;\">\n",
       "      <th></th>\n",
       "      <th>loss</th>\n",
       "      <th>accuracy</th>\n",
       "      <th>val_loss</th>\n",
       "      <th>val_accuracy</th>\n",
       "    </tr>\n",
       "  </thead>\n",
       "  <tbody>\n",
       "    <tr>\n",
       "      <th>0</th>\n",
       "      <td>0.226020</td>\n",
       "      <td>0.918417</td>\n",
       "      <td>0.312982</td>\n",
       "      <td>0.890167</td>\n",
       "    </tr>\n",
       "    <tr>\n",
       "      <th>1</th>\n",
       "      <td>0.222543</td>\n",
       "      <td>0.920396</td>\n",
       "      <td>0.322712</td>\n",
       "      <td>0.883583</td>\n",
       "    </tr>\n",
       "    <tr>\n",
       "      <th>2</th>\n",
       "      <td>0.219777</td>\n",
       "      <td>0.920687</td>\n",
       "      <td>0.317036</td>\n",
       "      <td>0.887417</td>\n",
       "    </tr>\n",
       "    <tr>\n",
       "      <th>3</th>\n",
       "      <td>0.216067</td>\n",
       "      <td>0.922417</td>\n",
       "      <td>0.312016</td>\n",
       "      <td>0.889500</td>\n",
       "    </tr>\n",
       "    <tr>\n",
       "      <th>4</th>\n",
       "      <td>0.211880</td>\n",
       "      <td>0.924167</td>\n",
       "      <td>0.312048</td>\n",
       "      <td>0.889917</td>\n",
       "    </tr>\n",
       "    <tr>\n",
       "      <th>5</th>\n",
       "      <td>0.209269</td>\n",
       "      <td>0.925479</td>\n",
       "      <td>0.312264</td>\n",
       "      <td>0.889750</td>\n",
       "    </tr>\n",
       "    <tr>\n",
       "      <th>6</th>\n",
       "      <td>0.204936</td>\n",
       "      <td>0.927021</td>\n",
       "      <td>0.311639</td>\n",
       "      <td>0.890583</td>\n",
       "    </tr>\n",
       "    <tr>\n",
       "      <th>7</th>\n",
       "      <td>0.203726</td>\n",
       "      <td>0.926833</td>\n",
       "      <td>0.333806</td>\n",
       "      <td>0.888250</td>\n",
       "    </tr>\n",
       "    <tr>\n",
       "      <th>8</th>\n",
       "      <td>0.199695</td>\n",
       "      <td>0.928417</td>\n",
       "      <td>0.321749</td>\n",
       "      <td>0.883917</td>\n",
       "    </tr>\n",
       "    <tr>\n",
       "      <th>9</th>\n",
       "      <td>0.196313</td>\n",
       "      <td>0.930479</td>\n",
       "      <td>0.309502</td>\n",
       "      <td>0.889417</td>\n",
       "    </tr>\n",
       "    <tr>\n",
       "      <th>10</th>\n",
       "      <td>0.193747</td>\n",
       "      <td>0.931708</td>\n",
       "      <td>0.313944</td>\n",
       "      <td>0.890083</td>\n",
       "    </tr>\n",
       "    <tr>\n",
       "      <th>11</th>\n",
       "      <td>0.191258</td>\n",
       "      <td>0.931979</td>\n",
       "      <td>0.311417</td>\n",
       "      <td>0.891667</td>\n",
       "    </tr>\n",
       "    <tr>\n",
       "      <th>12</th>\n",
       "      <td>0.187942</td>\n",
       "      <td>0.932854</td>\n",
       "      <td>0.325865</td>\n",
       "      <td>0.889000</td>\n",
       "    </tr>\n",
       "    <tr>\n",
       "      <th>13</th>\n",
       "      <td>0.185734</td>\n",
       "      <td>0.933000</td>\n",
       "      <td>0.312084</td>\n",
       "      <td>0.893250</td>\n",
       "    </tr>\n",
       "    <tr>\n",
       "      <th>14</th>\n",
       "      <td>0.182781</td>\n",
       "      <td>0.935250</td>\n",
       "      <td>0.316881</td>\n",
       "      <td>0.890250</td>\n",
       "    </tr>\n",
       "    <tr>\n",
       "      <th>15</th>\n",
       "      <td>0.180388</td>\n",
       "      <td>0.936229</td>\n",
       "      <td>0.326679</td>\n",
       "      <td>0.888500</td>\n",
       "    </tr>\n",
       "    <tr>\n",
       "      <th>16</th>\n",
       "      <td>0.176998</td>\n",
       "      <td>0.937042</td>\n",
       "      <td>0.310140</td>\n",
       "      <td>0.892750</td>\n",
       "    </tr>\n",
       "    <tr>\n",
       "      <th>17</th>\n",
       "      <td>0.174854</td>\n",
       "      <td>0.938396</td>\n",
       "      <td>0.318699</td>\n",
       "      <td>0.888417</td>\n",
       "    </tr>\n",
       "    <tr>\n",
       "      <th>18</th>\n",
       "      <td>0.171076</td>\n",
       "      <td>0.939271</td>\n",
       "      <td>0.320918</td>\n",
       "      <td>0.887667</td>\n",
       "    </tr>\n",
       "    <tr>\n",
       "      <th>19</th>\n",
       "      <td>0.167863</td>\n",
       "      <td>0.940188</td>\n",
       "      <td>0.316274</td>\n",
       "      <td>0.892000</td>\n",
       "    </tr>\n",
       "    <tr>\n",
       "      <th>20</th>\n",
       "      <td>0.166062</td>\n",
       "      <td>0.940604</td>\n",
       "      <td>0.312871</td>\n",
       "      <td>0.890417</td>\n",
       "    </tr>\n",
       "    <tr>\n",
       "      <th>21</th>\n",
       "      <td>0.163421</td>\n",
       "      <td>0.941938</td>\n",
       "      <td>0.333774</td>\n",
       "      <td>0.887000</td>\n",
       "    </tr>\n",
       "    <tr>\n",
       "      <th>22</th>\n",
       "      <td>0.161678</td>\n",
       "      <td>0.942104</td>\n",
       "      <td>0.332303</td>\n",
       "      <td>0.887083</td>\n",
       "    </tr>\n",
       "    <tr>\n",
       "      <th>23</th>\n",
       "      <td>0.159345</td>\n",
       "      <td>0.943729</td>\n",
       "      <td>0.320938</td>\n",
       "      <td>0.891417</td>\n",
       "    </tr>\n",
       "    <tr>\n",
       "      <th>24</th>\n",
       "      <td>0.155399</td>\n",
       "      <td>0.945083</td>\n",
       "      <td>0.307040</td>\n",
       "      <td>0.894417</td>\n",
       "    </tr>\n",
       "    <tr>\n",
       "      <th>25</th>\n",
       "      <td>0.152156</td>\n",
       "      <td>0.946271</td>\n",
       "      <td>0.325160</td>\n",
       "      <td>0.888833</td>\n",
       "    </tr>\n",
       "    <tr>\n",
       "      <th>26</th>\n",
       "      <td>0.150816</td>\n",
       "      <td>0.946396</td>\n",
       "      <td>0.323524</td>\n",
       "      <td>0.891500</td>\n",
       "    </tr>\n",
       "    <tr>\n",
       "      <th>27</th>\n",
       "      <td>0.150161</td>\n",
       "      <td>0.946771</td>\n",
       "      <td>0.313940</td>\n",
       "      <td>0.894000</td>\n",
       "    </tr>\n",
       "    <tr>\n",
       "      <th>28</th>\n",
       "      <td>0.146872</td>\n",
       "      <td>0.947833</td>\n",
       "      <td>0.351543</td>\n",
       "      <td>0.882500</td>\n",
       "    </tr>\n",
       "    <tr>\n",
       "      <th>29</th>\n",
       "      <td>0.143860</td>\n",
       "      <td>0.949729</td>\n",
       "      <td>0.322974</td>\n",
       "      <td>0.891000</td>\n",
       "    </tr>\n",
       "  </tbody>\n",
       "</table>\n",
       "</div>"
      ],
      "text/plain": [
       "        loss  accuracy  val_loss  val_accuracy\n",
       "0   0.226020  0.918417  0.312982      0.890167\n",
       "1   0.222543  0.920396  0.322712      0.883583\n",
       "2   0.219777  0.920687  0.317036      0.887417\n",
       "3   0.216067  0.922417  0.312016      0.889500\n",
       "4   0.211880  0.924167  0.312048      0.889917\n",
       "5   0.209269  0.925479  0.312264      0.889750\n",
       "6   0.204936  0.927021  0.311639      0.890583\n",
       "7   0.203726  0.926833  0.333806      0.888250\n",
       "8   0.199695  0.928417  0.321749      0.883917\n",
       "9   0.196313  0.930479  0.309502      0.889417\n",
       "10  0.193747  0.931708  0.313944      0.890083\n",
       "11  0.191258  0.931979  0.311417      0.891667\n",
       "12  0.187942  0.932854  0.325865      0.889000\n",
       "13  0.185734  0.933000  0.312084      0.893250\n",
       "14  0.182781  0.935250  0.316881      0.890250\n",
       "15  0.180388  0.936229  0.326679      0.888500\n",
       "16  0.176998  0.937042  0.310140      0.892750\n",
       "17  0.174854  0.938396  0.318699      0.888417\n",
       "18  0.171076  0.939271  0.320918      0.887667\n",
       "19  0.167863  0.940188  0.316274      0.892000\n",
       "20  0.166062  0.940604  0.312871      0.890417\n",
       "21  0.163421  0.941938  0.333774      0.887000\n",
       "22  0.161678  0.942104  0.332303      0.887083\n",
       "23  0.159345  0.943729  0.320938      0.891417\n",
       "24  0.155399  0.945083  0.307040      0.894417\n",
       "25  0.152156  0.946271  0.325160      0.888833\n",
       "26  0.150816  0.946396  0.323524      0.891500\n",
       "27  0.150161  0.946771  0.313940      0.894000\n",
       "28  0.146872  0.947833  0.351543      0.882500\n",
       "29  0.143860  0.949729  0.322974      0.891000"
      ]
     },
     "execution_count": 71,
     "metadata": {},
     "output_type": "execute_result"
    }
   ],
   "source": [
    "import pandas as pd\n",
    "import matplotlib.pyplot as plt\n",
    "\n",
    "history_df = pd.DataFrame(history.history)\n",
    "history_df"
   ]
  },
  {
   "cell_type": "code",
   "execution_count": 72,
   "id": "01b87433-b600-4a90-8639-c2707eea9d04",
   "metadata": {
    "tags": []
   },
   "outputs": [
    {
     "data": {
      "text/plain": [
       "Text(0, 0.5, 'Score')"
      ]
     },
     "execution_count": 72,
     "metadata": {},
     "output_type": "execute_result"
    },
    {
     "data": {
      "image/png": "[encoded data removed]",
      "text/plain": [
       "<Figure size 800x500 with 1 Axes>"
      ]
     },
     "metadata": {},
     "output_type": "display_data"
    }
   ],
   "source": [
    "history_df.plot(figsize=(8, 5))\n",
    "plt.grid(True)\n",
    "plt.ylim(0, 1) # set the vertical range to [0-1]\n",
    "plt.xlabel('Epochs')\n",
    "plt.ylabel('Score')"
   ]
  },
  {
   "cell_type": "markdown",
   "id": "7c9171e0-dd03-4626-8294-6d5083b46782",
   "metadata": {},
   "source": [
    "#### **More about training in Keras**\n",
    "Extracted from \"A. Géron, Hands-on Machine Learning (Chapter 10)\".\n",
    "\n",
    "If the training set was _very skewed_, with some classes being _overrepresented_ and others _underrepresented_, it would be useful to set the `class_weight` argument when calling the `fit()` method, which would give a **larger weight** to _underrepresented classes_ and a **lower weight** to _overrepresented classes_. These weights would be used by Keras when _computing the loss_.\n",
    "\n",
    "If you need _per-instance weights_, set the `sample_weight` argument (if both `class_weight` and `sample_weight` are provided, Keras **multiplies them**).\n",
    "\n",
    "_Per-instance weights_ could be useful if some instances were labeled by _experts_ while others were labeled using a _crowdsourcing platform_: you might want to give more weight to the former."
   ]
  },
  {
   "cell_type": "markdown",
   "id": "378c5f15-1de7-45d0-8c4f-11db59aea0cf",
   "metadata": {},
   "source": [
    "#### **Saving a Model**\n",
    "https://www.tensorflow.org/api_docs/python/tf/keras/Sequential#save"
   ]
  },
  {
   "cell_type": "code",
   "execution_count": 73,
   "id": "a80e439e-b0b2-451b-872c-948c31fa0062",
   "metadata": {
    "tags": []
   },
   "outputs": [],
   "source": [
    "model.save('./models/mlp_keras_fashionmnist_v1.h5')"
   ]
  },
  {
   "cell_type": "markdown",
   "id": "9d249a00-df74-41b1-b4bb-d764fda7f3e7",
   "metadata": {},
   "source": [
    "See also:\n",
    "- `save_spec`: https://www.tensorflow.org/api_docs/python/tf/keras/Sequential#save_spec\n",
    "- `save_weights`: https://www.tensorflow.org/api_docs/python/tf/keras/Sequential#save_weights"
   ]
  },
  {
   "cell_type": "markdown",
   "id": "ccd5fde8-f84f-469d-a5b7-6b879ea24c16",
   "metadata": {},
   "source": [
    "#### **Loading a Model**\n",
    "https://www.tensorflow.org/api_docs/python/tf/keras/Sequential#example_8"
   ]
  },
  {
   "cell_type": "code",
   "execution_count": 74,
   "id": "12a1a710-472a-45bd-842d-845e06c0ae5c",
   "metadata": {
    "tags": []
   },
   "outputs": [],
   "source": [
    "from tensorflow.keras.models import load_model\n",
    "\n",
    "loaded_model = load_model('./models/mlp_keras_fashionmnist_v1.h5')"
   ]
  },
  {
   "cell_type": "code",
   "execution_count": 75,
   "id": "69d1ae69-28aa-437c-bb94-66b5ea5e2bdf",
   "metadata": {
    "tags": []
   },
   "outputs": [
    {
     "name": "stdout",
     "output_type": "stream",
     "text": [
      "Model: \"MyMLP\"\n",
      "_________________________________________________________________\n",
      " Layer (type)                Output Shape              Param #   \n",
      "=================================================================\n",
      " Hidden_1 (Dense)            (None, 256)               200960    \n",
      "                                                                 \n",
      " Hidden_2 (Dense)            (None, 128)               32896     \n",
      "                                                                 \n",
      " Output (Dense)              (None, 10)                1290      \n",
      "                                                                 \n",
      "=================================================================\n",
      "Total params: 235,146\n",
      "Trainable params: 235,146\n",
      "Non-trainable params: 0\n",
      "_________________________________________________________________\n"
     ]
    }
   ],
   "source": [
    "loaded_model.summary()"
   ]
  },
  {
   "cell_type": "markdown",
   "id": "52717e71-8aa2-4fd1-b25a-e35e73ab9c5a",
   "metadata": {},
   "source": [
    "See also:\n",
    "- `load_weights`: https://www.tensorflow.org/api_docs/python/tf/keras/Sequential#load_weights"
   ]
  },
  {
   "cell_type": "markdown",
   "id": "455ca1cb-20b5-439b-8240-e511abb305c7",
   "metadata": {},
   "source": [
    "### 2.5 Evaluating and Predicting New Samples"
   ]
  },
  {
   "cell_type": "markdown",
   "id": "7db26d3c-46e9-437a-a448-4adf4542958a",
   "metadata": {},
   "source": [
    "#### **Evaluation**\n",
    "https://www.tensorflow.org/api_docs/python/tf/keras/Sequential#evaluate"
   ]
  },
  {
   "cell_type": "code",
   "execution_count": null,
   "id": "41a75d26-ca65-405e-85bf-377a035a82a4",
   "metadata": {},
   "outputs": [],
   "source": []
  },
  {
   "cell_type": "markdown",
   "id": "40e0efd4-0647-435c-a57d-c4d617913992",
   "metadata": {},
   "source": [
    "#### **Prediction**\n",
    "https://www.tensorflow.org/api_docs/python/tf/keras/Sequential#predict"
   ]
  },
  {
   "cell_type": "code",
   "execution_count": null,
   "id": "3739ea39-55a6-47c9-a5ae-e8d3e41e6230",
   "metadata": {},
   "outputs": [],
   "source": []
  },
  {
   "cell_type": "markdown",
   "id": "601d558a-9208-4bb3-bde4-67b1c23bc54c",
   "metadata": {},
   "source": [
    "#### **Class Prediction**\n",
    "https://stackoverflow.com/a/69503180/7069696"
   ]
  },
  {
   "cell_type": "code",
   "execution_count": null,
   "id": "d887c320-b6c1-4c7f-b859-522e65d5f272",
   "metadata": {},
   "outputs": [],
   "source": []
  },
  {
   "cell_type": "code",
   "execution_count": null,
   "id": "6c9dd684-66be-4eb8-9a1d-798408e95a46",
   "metadata": {},
   "outputs": [],
   "source": []
  },
  {
   "cell_type": "markdown",
   "id": "e6a3a7db-b0f5-4638-a074-1134538ad1b5",
   "metadata": {},
   "source": [
    "# Exercise"
   ]
  },
  {
   "cell_type": "markdown",
   "id": "79ee7ec6-30c1-4285-a43e-1dbef982d66f",
   "metadata": {},
   "source": [
    "Repeat all steps shown in this notebook for the MNIST dataset available in Keras: <br/>\n",
    "https://keras.io/api/datasets/mnist/"
   ]
  },
  {
   "cell_type": "code",
   "execution_count": null,
   "id": "99933cce-de11-4828-96b1-efdd7d67b9f2",
   "metadata": {},
   "outputs": [],
   "source": []
  }
 ],
 "metadata": {
  "kernelspec": {
   "display_name": "Python 3 (ipykernel)",
   "language": "python",
   "name": "python3"
  },
  "language_info": {
   "codemirror_mode": {
    "name": "ipython",
    "version": 3
   },
   "file_extension": ".py",
   "mimetype": "text/x-python",
   "name": "python",
   "nbconvert_exporter": "python",
   "pygments_lexer": "ipython3",
   "version": "3.9.5"
  }
 },
 "nbformat": 4,
 "nbformat_minor": 5
}
