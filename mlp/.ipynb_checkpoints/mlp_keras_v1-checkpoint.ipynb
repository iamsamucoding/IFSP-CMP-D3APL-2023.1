{
 "cells": [
  {
   "cell_type": "markdown",
   "id": "09142599-d99c-4b84-ae6b-4ee2abc7df3a",
   "metadata": {},
   "source": [
    "**D3APL: Aplicações em Ciência de Dados** <br/>\n",
    "IFSP Campinas\n",
    "\n",
    "Prof. Dr. Samuel Martins (Samuka) <br/><br/>\n",
    "\n",
    "<a rel=\"license\" href=\"http://creativecommons.org/licenses/by-nc-sa/4.0/\"><img alt=\"Creative Commons License\" style=\"border-width:0\" src=\"https://i.creativecommons.org/l/by-nc-sa/4.0/88x31.png\" /></a><br />This work is licensed under a <a rel=\"license\" href=\"http://creativecommons.org/licenses/by-nc-sa/4.0/\">Creative Commons Attribution-NonCommercial-ShareAlike 4.0 International License</a>."
   ]
  },
  {
   "cell_type": "markdown",
   "id": "dbed1c92-5c77-4898-8cbb-e847af6f72cc",
   "metadata": {},
   "source": [
    "# Multilayer Perceptron (MLP) with Keras"
   ]
  },
  {
   "cell_type": "markdown",
   "id": "d2fb8137-7b1b-42e9-b2e9-75711269596c",
   "metadata": {},
   "source": [
    "## 1. Set up"
   ]
  },
  {
   "cell_type": "markdown",
   "id": "a3542eb6-d992-499f-9ac6-8771676123c6",
   "metadata": {},
   "source": [
    "#### 1.1 TensorFlow + Keras"
   ]
  },
  {
   "cell_type": "code",
   "execution_count": 1,
   "id": "ab093db2-4853-44eb-b588-da0a71ad6dba",
   "metadata": {},
   "outputs": [],
   "source": [
    "import tensorflow as tf\n",
    "from tensorflow import keras"
   ]
  },
  {
   "cell_type": "code",
   "execution_count": 2,
   "id": "9e36de08-c4c0-4632-af0b-bed7b64296ac",
   "metadata": {},
   "outputs": [
    {
     "data": {
      "text/plain": [
       "'2.8.0'"
      ]
     },
     "execution_count": 2,
     "metadata": {},
     "output_type": "execute_result"
    }
   ],
   "source": [
    "tf.__version__"
   ]
  },
  {
   "cell_type": "code",
   "execution_count": 3,
   "id": "dde0def4-7b44-4152-92cd-5fac2922825b",
   "metadata": {},
   "outputs": [
    {
     "data": {
      "text/plain": [
       "'2.8.0'"
      ]
     },
     "execution_count": 3,
     "metadata": {},
     "output_type": "execute_result"
    }
   ],
   "source": [
    "keras.__version__"
   ]
  },
  {
   "cell_type": "markdown",
   "id": "f55f5afb-ecab-48f1-ad12-de12d0c38e40",
   "metadata": {},
   "source": [
    "**GPU available?**"
   ]
  },
  {
   "cell_type": "code",
   "execution_count": 4,
   "id": "cf10151d-8abe-49f7-a1f2-9f4050d6dd6e",
   "metadata": {},
   "outputs": [
    {
     "name": "stdout",
     "output_type": "stream",
     "text": [
      "Num GPUs Available:  1\n"
     ]
    }
   ],
   "source": [
    "print(\"Num GPUs Available: \", len(tf.config.list_physical_devices('GPU')))"
   ]
  },
  {
   "cell_type": "markdown",
   "id": "4e17fb00-de23-48bd-ab8a-1b6cc9089043",
   "metadata": {},
   "source": [
    "### 1.2 Fixing the seed for reproducibility (optional)\n",
    "That's a try for reprodubility in Keras. See more on: <br/>\n",
    "https://machinelearningmastery.com/reproducible-results-neural-networks-keras/ <br/>\n",
    "https://www.tensorflow.org/api_docs/python/tf/random/set_seed"
   ]
  },
  {
   "cell_type": "code",
   "execution_count": 5,
   "id": "4440090b-9df4-425a-944f-6838e2629149",
   "metadata": {},
   "outputs": [],
   "source": [
    "from numpy.random import seed\n",
    "from tensorflow.random import set_seed\n",
    "\n",
    "seed(42)\n",
    "set_seed(42)"
   ]
  },
  {
   "cell_type": "markdown",
   "id": "47b3b9b6-207c-4b5a-a243-e68b490c7c1b",
   "metadata": {},
   "source": [
    "#### 1.3 Other imports"
   ]
  },
  {
   "cell_type": "code",
   "execution_count": 6,
   "id": "dd9377a2-d2d5-4c3b-825a-f389e6091be2",
   "metadata": {},
   "outputs": [],
   "source": [
    "import numpy as np\n",
    "import matplotlib.pyplot as plt"
   ]
  },
  {
   "cell_type": "markdown",
   "id": "231de637-e2aa-4d28-840a-d8c503f63b75",
   "metadata": {},
   "source": [
    "#### 1.4 Loading Fashion MNIST Dataset via Keras\n",
    "https://keras.io/api/datasets/fashion_mnist/"
   ]
  },
  {
   "cell_type": "code",
   "execution_count": 7,
   "id": "7af01078-3198-47ec-913a-6806fd3910b9",
   "metadata": {},
   "outputs": [],
   "source": [
    "(X_train, y_train), (X_test, y_test) = keras.datasets.fashion_mnist.load_data()"
   ]
  },
  {
   "cell_type": "markdown",
   "id": "29a052da-0820-4a38-8456-e0508e61cf65",
   "metadata": {},
   "source": [
    "The dataset is already split into a training set and a test set."
   ]
  },
  {
   "cell_type": "code",
   "execution_count": 8,
   "id": "834d107e-754a-4586-91dd-275e3d8d059c",
   "metadata": {},
   "outputs": [
    {
     "data": {
      "text/plain": [
       "['fashion-mnist', 'mnist.npz']"
      ]
     },
     "execution_count": 8,
     "metadata": {},
     "output_type": "execute_result"
    }
   ],
   "source": [
    "# download done in folder: \"~/.keras/datasets\"\n",
    "import os\n",
    "os.listdir(os.path.expanduser('~/.keras/datasets'))"
   ]
  },
  {
   "cell_type": "code",
   "execution_count": 9,
   "id": "4aacde3d-5483-468b-9965-d6800199fef9",
   "metadata": {},
   "outputs": [
    {
     "name": "stdout",
     "output_type": "stream",
     "text": [
      "X_train.shape: (60000, 28, 28)\n",
      "y_train.shape: (60000,)\n",
      "\n",
      "X_test.shape: (10000, 28, 28)\n",
      "y_test.shape: (10000,)\n"
     ]
    }
   ],
   "source": [
    "print(f'X_train.shape: {X_train.shape}')\n",
    "print(f'y_train.shape: {y_train.shape}\\n')\n",
    "\n",
    "print(f'X_test.shape: {X_test.shape}')\n",
    "print(f'y_test.shape: {y_test.shape}')"
   ]
  },
  {
   "cell_type": "code",
   "execution_count": 10,
   "id": "4680e727-4472-4345-bb20-b9e264112214",
   "metadata": {},
   "outputs": [
    {
     "data": {
      "text/plain": [
       "array([9, 0, 0, ..., 3, 0, 5], dtype=uint8)"
      ]
     },
     "execution_count": 10,
     "metadata": {},
     "output_type": "execute_result"
    }
   ],
   "source": [
    "y_train"
   ]
  },
  {
   "cell_type": "code",
   "execution_count": 11,
   "id": "20023db2-6b03-4059-9c20-ab3c2c3e9ed7",
   "metadata": {},
   "outputs": [
    {
     "data": {
      "text/plain": [
       "array([0, 1, 2, 3, 4, 5, 6, 7, 8, 9], dtype=uint8)"
      ]
     },
     "execution_count": 11,
     "metadata": {},
     "output_type": "execute_result"
    }
   ],
   "source": [
    "np.unique(y_train)"
   ]
  },
  {
   "cell_type": "code",
   "execution_count": 12,
   "id": "e1cf3eb2-3952-4bec-bc90-362428e990fc",
   "metadata": {},
   "outputs": [
    {
     "name": "stdout",
     "output_type": "stream",
     "text": [
      "Number of Classes: 10\n",
      "Classes: [0 1 2 3 4 5 6 7 8 9]\n"
     ]
    }
   ],
   "source": [
    "print(f'Number of Classes: {np.unique(y_train).shape[0]}')\n",
    "print(f'Classes: {np.unique(y_train)}')"
   ]
  },
  {
   "cell_type": "code",
   "execution_count": 13,
   "id": "445f7cbc-6270-4b4e-ae1f-c46408d5d236",
   "metadata": {},
   "outputs": [
    {
     "data": {
      "text/plain": [
       "['T-shirt/top',\n",
       " 'Trouser',\n",
       " 'Pullover',\n",
       " 'Dress',\n",
       " 'Coat',\n",
       " 'Sandal',\n",
       " 'Shirt',\n",
       " 'Sneaker',\n",
       " 'Bag',\n",
       " 'Ankle boot']"
      ]
     },
     "execution_count": 13,
     "metadata": {},
     "output_type": "execute_result"
    }
   ],
   "source": [
    "class_names = [\"T-shirt/top\", \"Trouser\", \"Pullover\", \"Dress\", \"Coat\", \"Sandal\", \"Shirt\", \"Sneaker\", \"Bag\", \"Ankle boot\"]\n",
    "class_names"
   ]
  },
  {
   "cell_type": "code",
   "execution_count": 14,
   "id": "7c4c8ba7-6842-450f-86e2-99c6669f7b1c",
   "metadata": {},
   "outputs": [
    {
     "data": {
      "image/png": "[encoded data removed]",
      "text/plain": [
       "<Figure size 720x216 with 4 Axes>"
      ]
     },
     "metadata": {
      "needs_background": "light"
     },
     "output_type": "display_data"
    }
   ],
   "source": [
    "_, axes = plt.subplots(nrows=1, ncols=4, figsize=(10, 3))\n",
    "for ax, image, label in zip(axes, X_train, y_train):\n",
    "    ax.set_axis_off()\n",
    "    ax.imshow(image, cmap=plt.cm.gray_r, interpolation=\"nearest\")\n",
    "    ax.set_title(f'Image: {class_names[label]}')"
   ]
  },
  {
   "cell_type": "code",
   "execution_count": 15,
   "id": "6bfb14c2-e805-48e0-b39a-bca995b85dd9",
   "metadata": {},
   "outputs": [
    {
     "name": "stdout",
     "output_type": "stream",
     "text": [
      "Min. value of X_train: 0\n",
      "Max. value of X_train: 255\n",
      "\n",
      "Min. value of X_test: 0\n",
      "Max. value of X_test: 255\n"
     ]
    }
   ],
   "source": [
    "# 8-bit gray scale\n",
    "print(f'Min. value of X_train: {X_train.min()}')\n",
    "print(f'Max. value of X_train: {X_train.max()}\\n')\n",
    "\n",
    "print(f'Min. value of X_test: {X_test.min()}')\n",
    "print(f'Max. value of X_test: {X_test.max()}')"
   ]
  },
  {
   "cell_type": "markdown",
   "id": "e8fcb542-031b-4f43-a32e-cc095cc1857b",
   "metadata": {},
   "source": [
    "#### 1.5 (Simple) Feature scaling\n",
    "Since we are going to train the neural network using _Gradient Descent_, we must scale the **input features**. For simplicity, we’ll scale the pixel intensities down to the _0–1_ range by dividing them by **255.0** (8-bit gray image):"
   ]
  },
  {
   "cell_type": "code",
   "execution_count": 16,
   "id": "f955f1b1-3ed9-4dad-a05e-fd8b83e19002",
   "metadata": {},
   "outputs": [],
   "source": [
    "X_train = X_train / 255.0\n",
    "X_test = X_test / 255.0"
   ]
  },
  {
   "cell_type": "code",
   "execution_count": 17,
   "id": "26ece1f5-7d6a-4406-bd16-6a6d8017cf1d",
   "metadata": {},
   "outputs": [
    {
     "name": "stdout",
     "output_type": "stream",
     "text": [
      "Min. value of X_train: 0.0\n",
      "Max. value of X_train: 1.0\n",
      "\n",
      "Min. value of X_test: 0.0\n",
      "Max. value of X_test: 1.0\n"
     ]
    }
   ],
   "source": [
    "# rescaled 8-bit gray scale\n",
    "print(f'Min. value of X_train: {X_train.min()}')\n",
    "print(f'Max. value of X_train: {X_train.max()}\\n')\n",
    "\n",
    "print(f'Min. value of X_test: {X_test.min()}')\n",
    "print(f'Max. value of X_test: {X_test.max()}')"
   ]
  },
  {
   "cell_type": "markdown",
   "id": "3e5cd606-7367-4310-883a-81a96a300b8f",
   "metadata": {},
   "source": [
    "#### 1.6 Flattening the images as feature vectors"
   ]
  },
  {
   "cell_type": "code",
   "execution_count": 18,
   "id": "bd9be1af-6dd8-442f-a8f6-f5e6c225b160",
   "metadata": {},
   "outputs": [
    {
     "data": {
      "text/plain": [
       "784"
      ]
     },
     "execution_count": 18,
     "metadata": {},
     "output_type": "execute_result"
    }
   ],
   "source": [
    "# X_train.shape ==> (n_train_imgs, img_width, img_height)\n",
    "n_train_imgs, img_width, img_height = X_train.shape\n",
    "\n",
    "n_pixels = img_width * img_height\n",
    "n_pixels"
   ]
  },
  {
   "cell_type": "code",
   "execution_count": 19,
   "id": "c28bcfb7-1192-4a74-86c3-367505594deb",
   "metadata": {},
   "outputs": [
    {
     "data": {
      "text/plain": [
       "10000"
      ]
     },
     "execution_count": 19,
     "metadata": {},
     "output_type": "execute_result"
    }
   ],
   "source": [
    "# X_test.shape ==> (n_test_imgs, img_width, img_height)\n",
    "n_test_imgs = X_test.shape[0]\n",
    "n_test_imgs"
   ]
  },
  {
   "cell_type": "code",
   "execution_count": 20,
   "id": "4e9e8cee-1986-4f05-afe9-f99c6fd6cb9b",
   "metadata": {},
   "outputs": [],
   "source": [
    "X_train = np.reshape(X_train, (n_train_imgs, n_pixels))\n",
    "X_test = np.reshape(X_test, (n_test_imgs, n_pixels))"
   ]
  },
  {
   "cell_type": "code",
   "execution_count": 21,
   "id": "21142047-9cdf-448c-9f62-73ddf35ec812",
   "metadata": {},
   "outputs": [
    {
     "name": "stdout",
     "output_type": "stream",
     "text": [
      "X_train.shape: (60000, 784)\n",
      "X_test.shape: (10000, 784)\n"
     ]
    }
   ],
   "source": [
    "print(f'X_train.shape: {X_train.shape}')\n",
    "print(f'X_test.shape: {X_test.shape}')"
   ]
  },
  {
   "cell_type": "markdown",
   "id": "4ed90771-4316-4286-89b7-8bbe077db038",
   "metadata": {},
   "source": [
    "## 2. Building and Training a MLP via Keras"
   ]
  },
  {
   "cell_type": "markdown",
   "id": "692f75c8-57b8-4d7f-914b-1369e60cdb19",
   "metadata": {},
   "source": [
    "### 2.1 Defining the Network Architecture\n",
    "Proposed architecture for Multiclass Classification:\n",
    "- Input Layer: 784 neurons (number of pixels)\n",
    "- Hidden Layer 1: 256 neurons, ReLu\n",
    "- Hidden Layer 2: 128 neurons, ReLu\n",
    "- Output Layer: 10 neurons, Softmax\n",
    "\n",
    "In short: [784], [256 ReLU, 128 ReLU], [10 Softmax] ==> pyramid"
   ]
  },
  {
   "cell_type": "markdown",
   "id": "4da9ced7-ea7e-4fac-bd1c-bc82851067a9",
   "metadata": {
    "tags": []
   },
   "source": [
    "#### **Defining the Network's Architecture**"
   ]
  },
  {
   "cell_type": "code",
   "execution_count": 22,
   "id": "7a0e0365-17ee-40cf-8fa0-ae1a39590aeb",
   "metadata": {},
   "outputs": [],
   "source": [
    "# Sequential: https://www.tensorflow.org/api_docs/python/tf/keras/Sequential\n",
    "# InputLayer: https://www.tensorflow.org/api_docs/python/tf/keras/layers/InputLayer\n",
    "# Dense: https://www.tensorflow.org/api_docs/python/tf/keras/layers/Dense\n",
    "\n",
    "### Default weight and bias initialization:\n",
    "# kernel_initializer='glorot_uniform',\n",
    "# bias_initializer='zeros',\n",
    "\n",
    "\n",
    "from tensorflow.keras import Sequential\n",
    "from tensorflow.keras.layers import InputLayer, Dense\n",
    "\n",
    "model = Sequential()\n",
    "model.add(InputLayer(input_shape=(n_pixels,)))  # InputLayer will be ignored in the .summary() method.\n",
    "model.add(Dense(300, activation='relu'))\n",
    "model.add(Dense(100, activation='relu'))\n",
    "model.add(Dense(10, activation='softmax'))"
   ]
  },
  {
   "cell_type": "markdown",
   "id": "16e3d2de-bb3b-4121-b787-a5c322d6e26f",
   "metadata": {},
   "source": [
    "##### **Summarizing Architecture**"
   ]
  },
  {
   "cell_type": "code",
   "execution_count": 23,
   "id": "cc0e7573-0ad0-4837-844b-bb5871ac6955",
   "metadata": {},
   "outputs": [
    {
     "name": "stdout",
     "output_type": "stream",
     "text": [
      "Model: \"sequential\"\n",
      "_________________________________________________________________\n",
      " Layer (type)                Output Shape              Param #   \n",
      "=================================================================\n",
      " dense (Dense)               (None, 300)               235500    \n",
      "                                                                 \n",
      " dense_1 (Dense)             (None, 100)               30100     \n",
      "                                                                 \n",
      " dense_2 (Dense)             (None, 10)                1010      \n",
      "                                                                 \n",
      "=================================================================\n",
      "Total params: 266,610\n",
      "Trainable params: 266,610\n",
      "Non-trainable params: 0\n",
      "_________________________________________________________________\n"
     ]
    }
   ],
   "source": [
    "model.summary()"
   ]
  },
  {
   "cell_type": "markdown",
   "id": "fe1e4594-d1ed-4f73-8eac-39ea9ca4b6ab",
   "metadata": {},
   "source": [
    "##### **Creating a Model (archicture) from a list of Layers**"
   ]
  },
  {
   "cell_type": "code",
   "execution_count": 24,
   "id": "2ec41448-55f5-4261-bde7-5e886f69abb8",
   "metadata": {},
   "outputs": [],
   "source": [
    "model = Sequential(\n",
    "    layers=[\n",
    "        InputLayer(input_shape=(n_pixels,)),\n",
    "        Dense(300, activation='relu'),\n",
    "        Dense(100, activation='relu'),\n",
    "        Dense(10, activation='softmax')\n",
    "    ]\n",
    ")"
   ]
  },
  {
   "cell_type": "code",
   "execution_count": 26,
   "id": "a5987f9c-e5c0-40f4-b21f-9c49ce069445",
   "metadata": {},
   "outputs": [
    {
     "name": "stdout",
     "output_type": "stream",
     "text": [
      "Model: \"sequential_1\"\n",
      "_________________________________________________________________\n",
      " Layer (type)                Output Shape              Param #   \n",
      "=================================================================\n",
      " dense_3 (Dense)             (None, 300)               235500    \n",
      "                                                                 \n",
      " dense_4 (Dense)             (None, 100)               30100     \n",
      "                                                                 \n",
      " dense_5 (Dense)             (None, 10)                1010      \n",
      "                                                                 \n",
      "=================================================================\n",
      "Total params: 266,610\n",
      "Trainable params: 266,610\n",
      "Non-trainable params: 0\n",
      "_________________________________________________________________\n"
     ]
    }
   ],
   "source": [
    "model.summary()"
   ]
  },
  {
   "cell_type": "markdown",
   "id": "98007f43-23ab-4d31-b8d6-96f878fbb18e",
   "metadata": {},
   "source": [
    "##### **Creating a Model (archicture) from a list of Layers 2**"
   ]
  },
  {
   "cell_type": "code",
   "execution_count": 27,
   "id": "4d31dc36-3e32-4bff-a5d3-e3557f663f7d",
   "metadata": {},
   "outputs": [],
   "source": [
    "model = Sequential([\n",
    "    InputLayer(input_shape=(n_pixels,)),\n",
    "    Dense(300, activation='relu'),\n",
    "    Dense(100, activation='relu'),\n",
    "    Dense(10, activation='softmax')\n",
    "])"
   ]
  },
  {
   "cell_type": "code",
   "execution_count": 28,
   "id": "6523cd3d-46eb-4b62-95ab-af8968ce6bd4",
   "metadata": {},
   "outputs": [
    {
     "name": "stdout",
     "output_type": "stream",
     "text": [
      "Model: \"sequential_2\"\n",
      "_________________________________________________________________\n",
      " Layer (type)                Output Shape              Param #   \n",
      "=================================================================\n",
      " dense_6 (Dense)             (None, 300)               235500    \n",
      "                                                                 \n",
      " dense_7 (Dense)             (None, 100)               30100     \n",
      "                                                                 \n",
      " dense_8 (Dense)             (None, 10)                1010      \n",
      "                                                                 \n",
      "=================================================================\n",
      "Total params: 266,610\n",
      "Trainable params: 266,610\n",
      "Non-trainable params: 0\n",
      "_________________________________________________________________\n"
     ]
    }
   ],
   "source": [
    "model.summary()"
   ]
  },
  {
   "cell_type": "markdown",
   "id": "5674bde9-385f-4a8f-8969-f2d93ba689d5",
   "metadata": {},
   "source": [
    "##### **Creating a Model (archicture) from a list of Layers 3**"
   ]
  },
  {
   "cell_type": "code",
   "execution_count": 29,
   "id": "fd8d8ab5-e6cf-4b19-a2fd-7b4b2b50da00",
   "metadata": {},
   "outputs": [],
   "source": [
    "model = Sequential([\n",
    "    Dense(300, activation='relu', input_shape=(n_pixels,)), ## similarly, InputLayer(input_shape=(n_pixels,)),\n",
    "    Dense(100, activation='relu'),\n",
    "    Dense(10, activation='softmax')\n",
    "])"
   ]
  },
  {
   "cell_type": "code",
   "execution_count": 30,
   "id": "9c8d90b9-d0c8-4973-a3dc-ee1d7de8cf83",
   "metadata": {},
   "outputs": [
    {
     "name": "stdout",
     "output_type": "stream",
     "text": [
      "Model: \"sequential_3\"\n",
      "_________________________________________________________________\n",
      " Layer (type)                Output Shape              Param #   \n",
      "=================================================================\n",
      " dense_9 (Dense)             (None, 300)               235500    \n",
      "                                                                 \n",
      " dense_10 (Dense)            (None, 100)               30100     \n",
      "                                                                 \n",
      " dense_11 (Dense)            (None, 10)                1010      \n",
      "                                                                 \n",
      "=================================================================\n",
      "Total params: 266,610\n",
      "Trainable params: 266,610\n",
      "Non-trainable params: 0\n",
      "_________________________________________________________________\n"
     ]
    }
   ],
   "source": [
    "model.summary()"
   ]
  },
  {
   "cell_type": "markdown",
   "id": "70519ce0-edd7-46ed-b366-622031cd0c49",
   "metadata": {},
   "source": [
    "##### **Named Layers (without spaces)**"
   ]
  },
  {
   "cell_type": "code",
   "execution_count": 31,
   "id": "3ff40b8a-dede-4a4e-9918-f45319e03d4c",
   "metadata": {},
   "outputs": [],
   "source": [
    "# Optionally, we can define names for each layer and for the model\n",
    "model = Sequential(name='MyMLP')\n",
    "model.add(InputLayer(input_shape=(n_pixels,), name='Input'))  # InputLayer will be ignored in the .summary() method.\n",
    "model.add(Dense(300, activation='relu', name='Hidden_1'))\n",
    "model.add(Dense(100, activation='relu', name='Hidden_2'))\n",
    "model.add(Dense(10, activation='softmax', name='Output'))"
   ]
  },
  {
   "cell_type": "code",
   "execution_count": 32,
   "id": "c17a4f68-0316-4aed-adb6-98a7c6ec0bb2",
   "metadata": {},
   "outputs": [
    {
     "name": "stdout",
     "output_type": "stream",
     "text": [
      "Model: \"MyMLP\"\n",
      "_________________________________________________________________\n",
      " Layer (type)                Output Shape              Param #   \n",
      "=================================================================\n",
      " Hidden_1 (Dense)            (None, 300)               235500    \n",
      "                                                                 \n",
      " Hidden_2 (Dense)            (None, 100)               30100     \n",
      "                                                                 \n",
      " Output (Dense)              (None, 10)                1010      \n",
      "                                                                 \n",
      "=================================================================\n",
      "Total params: 266,610\n",
      "Trainable params: 266,610\n",
      "Non-trainable params: 0\n",
      "_________________________________________________________________\n"
     ]
    }
   ],
   "source": [
    "model.summary()"
   ]
  },
  {
   "cell_type": "markdown",
   "id": "f68223f6-3dca-4971-8ba0-eb326f9af7de",
   "metadata": {},
   "source": [
    "### 2.2 Info about the Architecture"
   ]
  },
  {
   "cell_type": "code",
   "execution_count": 33,
   "id": "4e545ba4-b3dd-490e-a381-880878a21302",
   "metadata": {},
   "outputs": [
    {
     "data": {
      "text/plain": [
       "keras.engine.sequential.Sequential"
      ]
     },
     "execution_count": 33,
     "metadata": {},
     "output_type": "execute_result"
    }
   ],
   "source": [
    "type(model)"
   ]
  },
  {
   "cell_type": "markdown",
   "id": "9e945e5f-dbbe-47d8-9202-070edfa1fef4",
   "metadata": {},
   "source": [
    "#### **List of layers (except the input layer)**"
   ]
  },
  {
   "cell_type": "code",
   "execution_count": 34,
   "id": "f2e39afb-60ff-4e44-8919-a7e70dc2c9e2",
   "metadata": {},
   "outputs": [
    {
     "data": {
      "text/plain": [
       "[<keras.layers.core.dense.Dense at 0x7f45618a0df0>,\n",
       " <keras.layers.core.dense.Dense at 0x7f45618ad640>,\n",
       " <keras.layers.core.dense.Dense at 0x7f45618cd940>]"
      ]
     },
     "execution_count": 34,
     "metadata": {},
     "output_type": "execute_result"
    }
   ],
   "source": [
    "model.layers"
   ]
  },
  {
   "cell_type": "markdown",
   "id": "9ae3c1ab-59a9-4cfb-8cd4-797022786705",
   "metadata": {},
   "source": [
    "#### **Getting a specific layer**\n",
    "\n",
    "According to our convention:\n",
    "- Layer 1: Input Layer (not appear)\n",
    "- Layer 2: Hidden Layer 1\n",
    "- Layer 3: Hidden Layer 2\n",
    "- Layer 4: Output Layer"
   ]
  },
  {
   "cell_type": "code",
   "execution_count": 35,
   "id": "5b4bd52e-4135-4b28-96d7-e1a81939cad2",
   "metadata": {},
   "outputs": [
    {
     "data": {
      "text/plain": [
       "<keras.layers.core.dense.Dense at 0x7f45618a0df0>"
      ]
     },
     "execution_count": 35,
     "metadata": {},
     "output_type": "execute_result"
    }
   ],
   "source": [
    "hidden_1 = model.layers[0]\n",
    "hidden_1"
   ]
  },
  {
   "cell_type": "code",
   "execution_count": 36,
   "id": "bd3dd107-294e-4355-a661-b790becc4e68",
   "metadata": {},
   "outputs": [
    {
     "name": "stdout",
     "output_type": "stream",
     "text": [
      "Name: Hidden_1\n",
      "Layer Type: <class 'keras.layers.core.dense.Dense'>\n",
      "In: KerasTensor(type_spec=TensorSpec(shape=(None, 784), dtype=tf.float32, name='Input'), name='Input', description=\"created by layer 'Input'\")\n",
      "Out: KerasTensor(type_spec=TensorSpec(shape=(None, 300), dtype=tf.float32, name=None), name='Hidden_1/Relu:0', description=\"created by layer 'Hidden_1'\")\n",
      "Activation: <function relu at 0x7f4575b2fd30>\n"
     ]
    }
   ],
   "source": [
    "print(f'Name: {hidden_1.name}')\n",
    "print(f'Layer Type: {type(hidden_1)}')\n",
    "print(f'In: {hidden_1.input}')\n",
    "print(f'Out: {hidden_1.output}')\n",
    "print(f'Activation: {hidden_1.activation}')"
   ]
  },
  {
   "cell_type": "code",
   "execution_count": 37,
   "id": "100195ce-c8c5-4ace-929d-4a40ee706fbd",
   "metadata": {},
   "outputs": [
    {
     "name": "stdout",
     "output_type": "stream",
     "text": [
      "Name: Hidden_2\n",
      "Layer Type: <class 'keras.layers.core.dense.Dense'>\n",
      "In: KerasTensor(type_spec=TensorSpec(shape=(None, 300), dtype=tf.float32, name=None), name='Hidden_1/Relu:0', description=\"created by layer 'Hidden_1'\")\n",
      "Out: KerasTensor(type_spec=TensorSpec(shape=(None, 100), dtype=tf.float32, name=None), name='Hidden_2/Relu:0', description=\"created by layer 'Hidden_2'\")\n",
      "Activation: <function relu at 0x7f4575b2fd30>\n"
     ]
    }
   ],
   "source": [
    "hidden_2 = model.layers[1]\n",
    "\n",
    "print(f'Name: {hidden_2.name}')\n",
    "print(f'Layer Type: {type(hidden_2)}')\n",
    "print(f'In: {hidden_2.input}')\n",
    "print(f'Out: {hidden_2.output}')\n",
    "print(f'Activation: {hidden_2.activation}')"
   ]
  },
  {
   "cell_type": "code",
   "execution_count": 38,
   "id": "e3aeafd2-24e3-48b3-b8e6-b01343c272e4",
   "metadata": {},
   "outputs": [
    {
     "name": "stdout",
     "output_type": "stream",
     "text": [
      "Name: Output\n",
      "Layer Type: <class 'keras.layers.core.dense.Dense'>\n",
      "In: KerasTensor(type_spec=TensorSpec(shape=(None, 100), dtype=tf.float32, name=None), name='Hidden_2/Relu:0', description=\"created by layer 'Hidden_2'\")\n",
      "Out: KerasTensor(type_spec=TensorSpec(shape=(None, 10), dtype=tf.float32, name=None), name='Output/Softmax:0', description=\"created by layer 'Output'\")\n",
      "Activation: <function softmax at 0x7f4575b2f310>\n"
     ]
    }
   ],
   "source": [
    "output_layer = model.layers[-1]\n",
    "\n",
    "print(f'Name: {output_layer.name}')\n",
    "print(f'Layer Type: {type(output_layer)}')\n",
    "print(f'In: {output_layer.input}')\n",
    "print(f'Out: {output_layer.output}')\n",
    "print(f'Activation: {output_layer.activation}')"
   ]
  },
  {
   "cell_type": "markdown",
   "id": "87f70244-472e-4ba1-af9e-2fd385071de5",
   "metadata": {},
   "source": [
    "#### **Accessing the weights and biases of a layer**\n",
    "\n",
    "PS: While the model is not trained, the layer's weights and biases come from the initialization"
   ]
  },
  {
   "cell_type": "code",
   "execution_count": 39,
   "id": "e36572ec-6f87-4b9f-b461-07e7dbd9b8fd",
   "metadata": {},
   "outputs": [
    {
     "data": {
      "text/plain": [
       "<keras.layers.core.dense.Dense at 0x7f45618a0df0>"
      ]
     },
     "execution_count": 39,
     "metadata": {},
     "output_type": "execute_result"
    }
   ],
   "source": [
    "hidden_1"
   ]
  },
  {
   "cell_type": "code",
   "execution_count": 41,
   "id": "7f7bbd5f-bf79-40f9-ae53-88c4ce01e9b1",
   "metadata": {},
   "outputs": [],
   "source": [
    "weights, biases = hidden_1.get_weights()"
   ]
  },
  {
   "cell_type": "code",
   "execution_count": 42,
   "id": "2aa1cc6e-a33b-4d68-bb71-d1ad125a9132",
   "metadata": {},
   "outputs": [
    {
     "name": "stdout",
     "output_type": "stream",
     "text": [
      "Hidden 1\n",
      "weights.shape = (784, 300)\n",
      "biases.shape = (300,)\n"
     ]
    }
   ],
   "source": [
    "print('Hidden 1')\n",
    "print(f'weights.shape = {weights.shape}')\n",
    "print(f'biases.shape = {biases.shape}')"
   ]
  },
  {
   "cell_type": "markdown",
   "id": "3dc7e91f-b454-45b5-98ec-024e78fdbce3",
   "metadata": {},
   "source": [
    "**PS:** Note that the **Weight Matrix's shape** has a different _order/convention_ from what we have seen so far."
   ]
  },
  {
   "cell_type": "code",
   "execution_count": 43,
   "id": "fecf61d6-6ab5-4686-9a0c-a01e4e8cfd08",
   "metadata": {},
   "outputs": [
    {
     "name": "stdout",
     "output_type": "stream",
     "text": [
      "[[ 0.03920511 -0.05047874  0.00778998 ... -0.00154202  0.03673068\n",
      "  -0.02356979]\n",
      " [ 0.00053629 -0.06476027  0.05111872 ... -0.01320956  0.00399469\n",
      "   0.02567215]\n",
      " [-0.00978931  0.05025364  0.03208762 ...  0.03616872  0.01343644\n",
      "   0.05057935]\n",
      " ...\n",
      " [-0.00219713  0.07104462 -0.00649424 ... -0.01882197 -0.05907766\n",
      "  -0.03837427]\n",
      " [-0.06180862 -0.0102722  -0.01663607 ... -0.06564827 -0.0235218\n",
      "  -0.0135572 ]\n",
      " [ 0.05268741  0.00585784  0.00585079 ...  0.06534539 -0.01226592\n",
      "   0.01532225]]\n"
     ]
    }
   ],
   "source": [
    "print(weights)"
   ]
  },
  {
   "cell_type": "code",
   "execution_count": 44,
   "id": "a442348a-bb0b-4d93-95bb-6b1a2df7899e",
   "metadata": {},
   "outputs": [
    {
     "name": "stdout",
     "output_type": "stream",
     "text": [
      "[0. 0. 0. 0. 0. 0. 0. 0. 0. 0. 0. 0. 0. 0. 0. 0. 0. 0. 0. 0. 0. 0. 0. 0.\n",
      " 0. 0. 0. 0. 0. 0. 0. 0. 0. 0. 0. 0. 0. 0. 0. 0. 0. 0. 0. 0. 0. 0. 0. 0.\n",
      " 0. 0. 0. 0. 0. 0. 0. 0. 0. 0. 0. 0. 0. 0. 0. 0. 0. 0. 0. 0. 0. 0. 0. 0.\n",
      " 0. 0. 0. 0. 0. 0. 0. 0. 0. 0. 0. 0. 0. 0. 0. 0. 0. 0. 0. 0. 0. 0. 0. 0.\n",
      " 0. 0. 0. 0. 0. 0. 0. 0. 0. 0. 0. 0. 0. 0. 0. 0. 0. 0. 0. 0. 0. 0. 0. 0.\n",
      " 0. 0. 0. 0. 0. 0. 0. 0. 0. 0. 0. 0. 0. 0. 0. 0. 0. 0. 0. 0. 0. 0. 0. 0.\n",
      " 0. 0. 0. 0. 0. 0. 0. 0. 0. 0. 0. 0. 0. 0. 0. 0. 0. 0. 0. 0. 0. 0. 0. 0.\n",
      " 0. 0. 0. 0. 0. 0. 0. 0. 0. 0. 0. 0. 0. 0. 0. 0. 0. 0. 0. 0. 0. 0. 0. 0.\n",
      " 0. 0. 0. 0. 0. 0. 0. 0. 0. 0. 0. 0. 0. 0. 0. 0. 0. 0. 0. 0. 0. 0. 0. 0.\n",
      " 0. 0. 0. 0. 0. 0. 0. 0. 0. 0. 0. 0. 0. 0. 0. 0. 0. 0. 0. 0. 0. 0. 0. 0.\n",
      " 0. 0. 0. 0. 0. 0. 0. 0. 0. 0. 0. 0. 0. 0. 0. 0. 0. 0. 0. 0. 0. 0. 0. 0.\n",
      " 0. 0. 0. 0. 0. 0. 0. 0. 0. 0. 0. 0. 0. 0. 0. 0. 0. 0. 0. 0. 0. 0. 0. 0.\n",
      " 0. 0. 0. 0. 0. 0. 0. 0. 0. 0. 0. 0.]\n"
     ]
    }
   ],
   "source": [
    "print(biases)"
   ]
  },
  {
   "cell_type": "markdown",
   "id": "6828eedc-3c42-4325-9316-acb57846c31b",
   "metadata": {},
   "source": [
    "#### **There are other getters (`get_`)**"
   ]
  },
  {
   "cell_type": "code",
   "execution_count": 45,
   "id": "a657d5be-3f4d-4ebc-a5b2-82736cd6ec23",
   "metadata": {},
   "outputs": [
    {
     "name": "stdout",
     "output_type": "stream",
     "text": [
      "{'name': 'Hidden_1', 'trainable': True, 'dtype': 'float32', 'units': 300, 'activation': 'relu', 'use_bias': True, 'kernel_initializer': {'class_name': 'GlorotUniform', 'config': {'seed': None}}, 'bias_initializer': {'class_name': 'Zeros', 'config': {}}, 'kernel_regularizer': None, 'bias_regularizer': None, 'activity_regularizer': None, 'kernel_constraint': None, 'bias_constraint': None}\n"
     ]
    }
   ],
   "source": [
    "print(hidden_1.get_config())"
   ]
  },
  {
   "cell_type": "code",
   "execution_count": 48,
   "id": "80a5bfae-3e4d-4fce-a4da-d68b0bb6b20b",
   "metadata": {},
   "outputs": [
    {
     "data": {
      "text/plain": [
       "<KerasTensor: shape=(None, 784) dtype=float32 (created by layer 'Input')>"
      ]
     },
     "execution_count": 48,
     "metadata": {},
     "output_type": "execute_result"
    }
   ],
   "source": [
    "hidden_1.get_input_at(0)"
   ]
  },
  {
   "cell_type": "code",
   "execution_count": 51,
   "id": "dad3170f-93d2-4d8c-9272-7bd903432027",
   "metadata": {},
   "outputs": [
    {
     "data": {
      "text/plain": [
       "(None, 784)"
      ]
     },
     "execution_count": 51,
     "metadata": {},
     "output_type": "execute_result"
    }
   ],
   "source": [
    "hidden_1.get_input_shape_at(0)"
   ]
  },
  {
   "cell_type": "code",
   "execution_count": 52,
   "id": "882bc9a2-a08d-455a-9d1d-cfa0299e50f9",
   "metadata": {},
   "outputs": [
    {
     "data": {
      "text/plain": [
       "<KerasTensor: shape=(None, 300) dtype=float32 (created by layer 'Hidden_1')>"
      ]
     },
     "execution_count": 52,
     "metadata": {},
     "output_type": "execute_result"
    }
   ],
   "source": [
    "hidden_1.get_output_at(0)"
   ]
  },
  {
   "cell_type": "code",
   "execution_count": 54,
   "id": "bc6a41bc-b724-46ae-afb3-43f0195cac4d",
   "metadata": {},
   "outputs": [
    {
     "data": {
      "text/plain": [
       "(None, 300)"
      ]
     },
     "execution_count": 54,
     "metadata": {},
     "output_type": "execute_result"
    }
   ],
   "source": [
    "hidden_1.get_output_shape_at(0)"
   ]
  },
  {
   "cell_type": "markdown",
   "id": "fb73252c-8789-449f-8ef9-0bb4f3f629ef",
   "metadata": {},
   "source": [
    "**PS:** There are the corresponding setter methods (`set_`)."
   ]
  },
  {
   "cell_type": "markdown",
   "id": "0a85c983-328c-4c21-aaf2-c7feb5bfe523",
   "metadata": {},
   "source": [
    "### 2.2 Compiling: Defining the Loss Function, Optimizer, and Metrics"
   ]
  },
  {
   "cell_type": "code",
   "execution_count": 56,
   "id": "d7be8c98-8dc9-4957-ba6c-a81c90801acb",
   "metadata": {},
   "outputs": [],
   "source": [
    "# Model compilation: https://www.tensorflow.org/api_docs/python/tf/keras/Model#compile\n",
    "model.compile(loss='sparse_categorical_crossentropy', optimizer='sgd', metrics=['accuracy'])"
   ]
  },
  {
   "cell_type": "markdown",
   "id": "2e5bccb8-dc2e-4890-91ea-8716d90509a0",
   "metadata": {},
   "source": [
    "#### **Loss:**\n",
    "\n",
    "We use the `\"sparse_categorical_crossentropy\"` loss because we have **sparse labels** (i.e., for each instance, there is just a target class index, from 0 to 9 in this case), and the classes are **exclusive**.\n",
    "\n",
    "If instead we had _one target probability per class_ for each instance (such as one-hot vectors, e.g. [0., 0., 0., 1., 0., 0., 0., 0., 0., 0.] to represent class 3), then we would need to use the `\"categorical_crossentropy\"` loss instead.\n",
    "\n",
    "If we were doing **binary classification** (with one or more binary labels), then we would use the `\"sigmoid\"` _activation function_ in the **output layer**, and we would use the `\"binary_crossentropy\"` loss."
   ]
  },
  {
   "cell_type": "markdown",
   "id": "ce2e1113-6b17-4114-9187-4486660f6f57",
   "metadata": {},
   "source": [
    "#### **Optimizer:**\n",
    "\n",
    "`\"sgd\"` means that we will train the model using simple **Stochastic Gradient Descent** with its default values (see https://www.tensorflow.org/api_docs/python/tf/keras/optimizers/SGD).<br/>\n",
    "To change some default value, for example the _learning rate_, use `optimizer=tensorflow.keras.optimizers.SGD(learning_rate=???)`.\n",
    "\n",
    "There are other otimizers available in Keras: https://www.tensorflow.org/api_docs/python/tf/keras/optimizers"
   ]
  },
  {
   "cell_type": "markdown",
   "id": "a6e89eaf-3b3a-4f2c-96e5-93c2b17e4bda",
   "metadata": {},
   "source": [
    "#### **Metrics:**\n",
    "List of _metrics_ to be evaluated by the model during **training** and **testing**. <br/>\n",
    "Each of this can be a _string_ (name of a built-in function), _function_ or a `tf.keras.metrics.Metric` instance: https://www.tensorflow.org/api_docs/python/tf/keras/metrics\n",
    "\n",
    "**PS:** By default, _F1 score_ **is not** part of keras metrics. To use it, we need to create our own function and pass it to `metrics`: https://aakashgoel12.medium.com/how-to-add-user-defined-function-get-f1-score-in-keras-metrics-3013f979ce0d#:~:text=By%20default%2C%20f1%20score%20is,like%20accuracy%2C%20categorical%20accuracy%20etc. <br/>\n",
    "Other option is to use [**TensorFlow Addons**](https://www.tensorflow.org/addons) that provides several additional functionalities to TensorFlow, such as [**F1 Score**](https://www.tensorflow.org/addons/api_docs/python/tfa/metrics/F1Score): https://stackoverflow.com/a/71705026/7069696\n",
    "\n"
   ]
  },
  {
   "cell_type": "markdown",
   "id": "16b1b6ce-3283-46ee-83d1-cce66271eddb",
   "metadata": {},
   "source": [
    "### 2.4 Training\n",
    "\n",
    "In case of GPU drivers, we can monitor its use by [_gpustat_](https://github.com/wookayin/gpustat).\n",
    "\n",
    "On terminal, use: `gpustat -cpi`\n"
   ]
  },
  {
   "cell_type": "code",
   "execution_count": 57,
   "id": "a8580290-0b32-43ac-a33d-735d11c6682a",
   "metadata": {},
   "outputs": [
    {
     "name": "stdout",
     "output_type": "stream",
     "text": [
      "Epoch 1/30\n",
      "1500/1500 [==============================] - 3s 2ms/step - loss: 0.7503 - accuracy: 0.7526 - val_loss: 0.5354 - val_accuracy: 0.8168\n",
      "Epoch 2/30\n",
      "1500/1500 [==============================] - 2s 2ms/step - loss: 0.5005 - accuracy: 0.8276 - val_loss: 0.5036 - val_accuracy: 0.8199\n",
      "Epoch 3/30\n",
      "1500/1500 [==============================] - 2s 1ms/step - loss: 0.4539 - accuracy: 0.8422 - val_loss: 0.4546 - val_accuracy: 0.8402\n",
      "Epoch 4/30\n",
      "1500/1500 [==============================] - 2s 2ms/step - loss: 0.4261 - accuracy: 0.8513 - val_loss: 0.4156 - val_accuracy: 0.8529\n",
      "Epoch 5/30\n",
      "1500/1500 [==============================] - 2s 1ms/step - loss: 0.4048 - accuracy: 0.8581 - val_loss: 0.4102 - val_accuracy: 0.8553\n",
      "Epoch 6/30\n",
      "1500/1500 [==============================] - 2s 1ms/step - loss: 0.3891 - accuracy: 0.8633 - val_loss: 0.3890 - val_accuracy: 0.8633\n",
      "Epoch 7/30\n",
      "1500/1500 [==============================] - 2s 1ms/step - loss: 0.3737 - accuracy: 0.8693 - val_loss: 0.3857 - val_accuracy: 0.8638\n",
      "Epoch 8/30\n",
      "1500/1500 [==============================] - 2s 1ms/step - loss: 0.3636 - accuracy: 0.8722 - val_loss: 0.3891 - val_accuracy: 0.8617\n",
      "Epoch 9/30\n",
      "1500/1500 [==============================] - 2s 1ms/step - loss: 0.3524 - accuracy: 0.8755 - val_loss: 0.3748 - val_accuracy: 0.8673\n",
      "Epoch 10/30\n",
      "1500/1500 [==============================] - 2s 1ms/step - loss: 0.3435 - accuracy: 0.8783 - val_loss: 0.3665 - val_accuracy: 0.8708\n",
      "Epoch 11/30\n",
      "1500/1500 [==============================] - 2s 1ms/step - loss: 0.3337 - accuracy: 0.8813 - val_loss: 0.3685 - val_accuracy: 0.8658\n",
      "Epoch 12/30\n",
      "1500/1500 [==============================] - 2s 2ms/step - loss: 0.3276 - accuracy: 0.8836 - val_loss: 0.3549 - val_accuracy: 0.8726\n",
      "Epoch 13/30\n",
      "1500/1500 [==============================] - 2s 2ms/step - loss: 0.3189 - accuracy: 0.8852 - val_loss: 0.3574 - val_accuracy: 0.8718\n",
      "Epoch 14/30\n",
      "1500/1500 [==============================] - 2s 2ms/step - loss: 0.3125 - accuracy: 0.8883 - val_loss: 0.3387 - val_accuracy: 0.8783\n",
      "Epoch 15/30\n",
      "1500/1500 [==============================] - 2s 1ms/step - loss: 0.3056 - accuracy: 0.8902 - val_loss: 0.3415 - val_accuracy: 0.8775\n",
      "Epoch 16/30\n",
      "1500/1500 [==============================] - 2s 1ms/step - loss: 0.2993 - accuracy: 0.8927 - val_loss: 0.3609 - val_accuracy: 0.8682\n",
      "Epoch 17/30\n",
      "1500/1500 [==============================] - 2s 1ms/step - loss: 0.2933 - accuracy: 0.8947 - val_loss: 0.3377 - val_accuracy: 0.8783\n",
      "Epoch 18/30\n",
      "1500/1500 [==============================] - 2s 1ms/step - loss: 0.2877 - accuracy: 0.8970 - val_loss: 0.3333 - val_accuracy: 0.8802\n",
      "Epoch 19/30\n",
      "1500/1500 [==============================] - 2s 1ms/step - loss: 0.2814 - accuracy: 0.8992 - val_loss: 0.3331 - val_accuracy: 0.8806\n",
      "Epoch 20/30\n",
      "1500/1500 [==============================] - 2s 1ms/step - loss: 0.2757 - accuracy: 0.9013 - val_loss: 0.3339 - val_accuracy: 0.8814\n",
      "Epoch 21/30\n",
      "1500/1500 [==============================] - 2s 1ms/step - loss: 0.2720 - accuracy: 0.9013 - val_loss: 0.3237 - val_accuracy: 0.8848\n",
      "Epoch 22/30\n",
      "1500/1500 [==============================] - 2s 2ms/step - loss: 0.2667 - accuracy: 0.9042 - val_loss: 0.3282 - val_accuracy: 0.8826\n",
      "Epoch 23/30\n",
      "1500/1500 [==============================] - 2s 2ms/step - loss: 0.2631 - accuracy: 0.9051 - val_loss: 0.3383 - val_accuracy: 0.8801\n",
      "Epoch 24/30\n",
      "1500/1500 [==============================] - 2s 2ms/step - loss: 0.2578 - accuracy: 0.9075 - val_loss: 0.3191 - val_accuracy: 0.8846\n",
      "Epoch 25/30\n",
      "1500/1500 [==============================] - 2s 2ms/step - loss: 0.2527 - accuracy: 0.9090 - val_loss: 0.3141 - val_accuracy: 0.8888\n",
      "Epoch 26/30\n",
      "1500/1500 [==============================] - 2s 2ms/step - loss: 0.2489 - accuracy: 0.9118 - val_loss: 0.3191 - val_accuracy: 0.8858\n",
      "Epoch 27/30\n",
      "1500/1500 [==============================] - 2s 2ms/step - loss: 0.2447 - accuracy: 0.9115 - val_loss: 0.3151 - val_accuracy: 0.8891\n",
      "Epoch 28/30\n",
      "1500/1500 [==============================] - 2s 1ms/step - loss: 0.2412 - accuracy: 0.9129 - val_loss: 0.3120 - val_accuracy: 0.8891\n",
      "Epoch 29/30\n",
      "1500/1500 [==============================] - 2s 1ms/step - loss: 0.2365 - accuracy: 0.9150 - val_loss: 0.3372 - val_accuracy: 0.8774\n",
      "Epoch 30/30\n",
      "1500/1500 [==============================] - 2s 1ms/step - loss: 0.2327 - accuracy: 0.9156 - val_loss: 0.3195 - val_accuracy: 0.8877\n"
     ]
    }
   ],
   "source": [
    "# https://www.tensorflow.org/api_docs/python/tf/keras/Sequential#fit\n",
    "\n",
    "# handout cross-validation\n",
    "history = model.fit(X_train, y_train, epochs=30, batch_size=32, validation_split=0.2)"
   ]
  },
  {
   "cell_type": "markdown",
   "id": "8b311b54-6803-4d99-9533-4415a738ca72",
   "metadata": {},
   "source": [
    "<br/>\n",
    "\n",
    "We are using a _validation set_ during training by the argument `validation_split`: https://www.tensorflow.org/api_docs/python/tf/distribute/experimental/ParameterServerStrategy\n",
    " <br/>\n",
    "For example, `validation_split=0.2` tells Keras to use **the last** 20% of the data (before shuffling) for **validation**. <br/>\n",
    "\n",
    "Additionally, the argument `validation_batch_size` tells the number of samples per **validation batch**. If _unspecified_, will default to `batch_size`."
   ]
  },
  {
   "cell_type": "markdown",
   "id": "c619e00b-fa9a-4748-984a-951604f27f25",
   "metadata": {},
   "source": [
    "#### **Checking the training history object**"
   ]
  },
  {
   "cell_type": "code",
   "execution_count": 58,
   "id": "18e5bd5f-c1a2-44cf-beca-63e17d1155e5",
   "metadata": {},
   "outputs": [
    {
     "data": {
      "text/plain": [
       "<keras.callbacks.History at 0x7f449c4c19d0>"
      ]
     },
     "execution_count": 58,
     "metadata": {},
     "output_type": "execute_result"
    }
   ],
   "source": [
    "history"
   ]
  },
  {
   "cell_type": "code",
   "execution_count": 59,
   "id": "e234f8c7-2b90-4ed4-a211-216e5a775b37",
   "metadata": {},
   "outputs": [
    {
     "data": {
      "text/plain": [
       "{'verbose': 1, 'epochs': 30, 'steps': 1500}"
      ]
     },
     "execution_count": 59,
     "metadata": {},
     "output_type": "execute_result"
    }
   ],
   "source": [
    "history.params"
   ]
  },
  {
   "cell_type": "code",
   "execution_count": 61,
   "id": "e5c3f270-0c8e-4496-91d7-f03602615e5c",
   "metadata": {},
   "outputs": [
    {
     "data": {
      "text/plain": [
       "[0,\n",
       " 1,\n",
       " 2,\n",
       " 3,\n",
       " 4,\n",
       " 5,\n",
       " 6,\n",
       " 7,\n",
       " 8,\n",
       " 9,\n",
       " 10,\n",
       " 11,\n",
       " 12,\n",
       " 13,\n",
       " 14,\n",
       " 15,\n",
       " 16,\n",
       " 17,\n",
       " 18,\n",
       " 19,\n",
       " 20,\n",
       " 21,\n",
       " 22,\n",
       " 23,\n",
       " 24,\n",
       " 25,\n",
       " 26,\n",
       " 27,\n",
       " 28,\n",
       " 29]"
      ]
     },
     "execution_count": 61,
     "metadata": {},
     "output_type": "execute_result"
    }
   ],
   "source": [
    "history.epoch"
   ]
  },
  {
   "cell_type": "code",
   "execution_count": 62,
   "id": "99160eef-e499-454f-8d74-017ce2614931",
   "metadata": {},
   "outputs": [
    {
     "data": {
      "text/plain": [
       "{'loss': [0.7502742409706116,\n",
       "  0.5004643797874451,\n",
       "  0.4539327323436737,\n",
       "  0.4260876774787903,\n",
       "  0.4047841429710388,\n",
       "  0.389060378074646,\n",
       "  0.3737466633319855,\n",
       "  0.3636373281478882,\n",
       "  0.35243940353393555,\n",
       "  0.3434669077396393,\n",
       "  0.3337419629096985,\n",
       "  0.3275514245033264,\n",
       "  0.31893086433410645,\n",
       "  0.3125018775463104,\n",
       "  0.3056294023990631,\n",
       "  0.299288809299469,\n",
       "  0.29333654046058655,\n",
       "  0.2877306342124939,\n",
       "  0.28139105439186096,\n",
       "  0.2757306396961212,\n",
       "  0.2720458507537842,\n",
       "  0.2666909098625183,\n",
       "  0.2630671262741089,\n",
       "  0.25776100158691406,\n",
       "  0.25272423028945923,\n",
       "  0.248931422829628,\n",
       "  0.24469530582427979,\n",
       "  0.2412092536687851,\n",
       "  0.2365448772907257,\n",
       "  0.232662633061409],\n",
       " 'accuracy': [0.7526041865348816,\n",
       "  0.8276458382606506,\n",
       "  0.8422499895095825,\n",
       "  0.8513333201408386,\n",
       "  0.8580625057220459,\n",
       "  0.8632708191871643,\n",
       "  0.8693333268165588,\n",
       "  0.8722083568572998,\n",
       "  0.8755416870117188,\n",
       "  0.8783125281333923,\n",
       "  0.8813124895095825,\n",
       "  0.8835625052452087,\n",
       "  0.8851875066757202,\n",
       "  0.8882708549499512,\n",
       "  0.8901875019073486,\n",
       "  0.8926666378974915,\n",
       "  0.8946874737739563,\n",
       "  0.8969791531562805,\n",
       "  0.8992083072662354,\n",
       "  0.9012500047683716,\n",
       "  0.9012916684150696,\n",
       "  0.9042083621025085,\n",
       "  0.9051458239555359,\n",
       "  0.9074791669845581,\n",
       "  0.9089999794960022,\n",
       "  0.9117500185966492,\n",
       "  0.9115208387374878,\n",
       "  0.9128749966621399,\n",
       "  0.9149791598320007,\n",
       "  0.9156249761581421],\n",
       " 'val_loss': [0.5354426503181458,\n",
       "  0.5036180019378662,\n",
       "  0.45462745428085327,\n",
       "  0.4155862331390381,\n",
       "  0.41023412346839905,\n",
       "  0.3889711797237396,\n",
       "  0.38568371534347534,\n",
       "  0.38907474279403687,\n",
       "  0.3748137950897217,\n",
       "  0.3664758801460266,\n",
       "  0.3685045838356018,\n",
       "  0.35486096143722534,\n",
       "  0.35736238956451416,\n",
       "  0.33867865800857544,\n",
       "  0.3415432274341583,\n",
       "  0.3608676791191101,\n",
       "  0.3377349376678467,\n",
       "  0.3332597315311432,\n",
       "  0.33314812183380127,\n",
       "  0.333897203207016,\n",
       "  0.323731005191803,\n",
       "  0.3282276690006256,\n",
       "  0.33825448155403137,\n",
       "  0.3191450536251068,\n",
       "  0.31410863995552063,\n",
       "  0.3190743923187256,\n",
       "  0.3150521516799927,\n",
       "  0.31198495626449585,\n",
       "  0.3371695876121521,\n",
       "  0.3195178210735321],\n",
       " 'val_accuracy': [0.8168333172798157,\n",
       "  0.8199166655540466,\n",
       "  0.8401666879653931,\n",
       "  0.8529166579246521,\n",
       "  0.8553333282470703,\n",
       "  0.8633333444595337,\n",
       "  0.8638333082199097,\n",
       "  0.8616666793823242,\n",
       "  0.8672500252723694,\n",
       "  0.8708333373069763,\n",
       "  0.8657500147819519,\n",
       "  0.8725833296775818,\n",
       "  0.871833324432373,\n",
       "  0.878250002861023,\n",
       "  0.8774999976158142,\n",
       "  0.8681666851043701,\n",
       "  0.878333330154419,\n",
       "  0.8801666498184204,\n",
       "  0.8805833458900452,\n",
       "  0.8814166784286499,\n",
       "  0.8847500085830688,\n",
       "  0.8825833201408386,\n",
       "  0.8800833225250244,\n",
       "  0.8845833539962769,\n",
       "  0.8887500166893005,\n",
       "  0.8858333230018616,\n",
       "  0.8890833258628845,\n",
       "  0.8890833258628845,\n",
       "  0.8774166703224182,\n",
       "  0.887666642665863]}"
      ]
     },
     "execution_count": 62,
     "metadata": {},
     "output_type": "execute_result"
    }
   ],
   "source": [
    "history.history"
   ]
  },
  {
   "cell_type": "markdown",
   "id": "9f7dc519-947b-492a-bf99-c6638cf75338",
   "metadata": {},
   "source": [
    "#### **Visualizing the training history**"
   ]
  },
  {
   "cell_type": "code",
   "execution_count": 63,
   "id": "abcb091e-a508-4a5b-9efa-6da9d1b47b95",
   "metadata": {},
   "outputs": [
    {
     "data": {
      "text/html": [
       "<div>\n",
       "<style scoped>\n",
       "    .dataframe tbody tr th:only-of-type {\n",
       "        vertical-align: middle;\n",
       "    }\n",
       "\n",
       "    .dataframe tbody tr th {\n",
       "        vertical-align: top;\n",
       "    }\n",
       "\n",
       "    .dataframe thead th {\n",
       "        text-align: right;\n",
       "    }\n",
       "</style>\n",
       "<table border=\"1\" class=\"dataframe\">\n",
       "  <thead>\n",
       "    <tr style=\"text-align: right;\">\n",
       "      <th></th>\n",
       "      <th>loss</th>\n",
       "      <th>accuracy</th>\n",
       "      <th>val_loss</th>\n",
       "      <th>val_accuracy</th>\n",
       "    </tr>\n",
       "  </thead>\n",
       "  <tbody>\n",
       "    <tr>\n",
       "      <th>0</th>\n",
       "      <td>0.750274</td>\n",
       "      <td>0.752604</td>\n",
       "      <td>0.535443</td>\n",
       "      <td>0.816833</td>\n",
       "    </tr>\n",
       "    <tr>\n",
       "      <th>1</th>\n",
       "      <td>0.500464</td>\n",
       "      <td>0.827646</td>\n",
       "      <td>0.503618</td>\n",
       "      <td>0.819917</td>\n",
       "    </tr>\n",
       "    <tr>\n",
       "      <th>2</th>\n",
       "      <td>0.453933</td>\n",
       "      <td>0.842250</td>\n",
       "      <td>0.454627</td>\n",
       "      <td>0.840167</td>\n",
       "    </tr>\n",
       "    <tr>\n",
       "      <th>3</th>\n",
       "      <td>0.426088</td>\n",
       "      <td>0.851333</td>\n",
       "      <td>0.415586</td>\n",
       "      <td>0.852917</td>\n",
       "    </tr>\n",
       "    <tr>\n",
       "      <th>4</th>\n",
       "      <td>0.404784</td>\n",
       "      <td>0.858063</td>\n",
       "      <td>0.410234</td>\n",
       "      <td>0.855333</td>\n",
       "    </tr>\n",
       "    <tr>\n",
       "      <th>5</th>\n",
       "      <td>0.389060</td>\n",
       "      <td>0.863271</td>\n",
       "      <td>0.388971</td>\n",
       "      <td>0.863333</td>\n",
       "    </tr>\n",
       "    <tr>\n",
       "      <th>6</th>\n",
       "      <td>0.373747</td>\n",
       "      <td>0.869333</td>\n",
       "      <td>0.385684</td>\n",
       "      <td>0.863833</td>\n",
       "    </tr>\n",
       "    <tr>\n",
       "      <th>7</th>\n",
       "      <td>0.363637</td>\n",
       "      <td>0.872208</td>\n",
       "      <td>0.389075</td>\n",
       "      <td>0.861667</td>\n",
       "    </tr>\n",
       "    <tr>\n",
       "      <th>8</th>\n",
       "      <td>0.352439</td>\n",
       "      <td>0.875542</td>\n",
       "      <td>0.374814</td>\n",
       "      <td>0.867250</td>\n",
       "    </tr>\n",
       "    <tr>\n",
       "      <th>9</th>\n",
       "      <td>0.343467</td>\n",
       "      <td>0.878313</td>\n",
       "      <td>0.366476</td>\n",
       "      <td>0.870833</td>\n",
       "    </tr>\n",
       "    <tr>\n",
       "      <th>10</th>\n",
       "      <td>0.333742</td>\n",
       "      <td>0.881312</td>\n",
       "      <td>0.368505</td>\n",
       "      <td>0.865750</td>\n",
       "    </tr>\n",
       "    <tr>\n",
       "      <th>11</th>\n",
       "      <td>0.327551</td>\n",
       "      <td>0.883563</td>\n",
       "      <td>0.354861</td>\n",
       "      <td>0.872583</td>\n",
       "    </tr>\n",
       "    <tr>\n",
       "      <th>12</th>\n",
       "      <td>0.318931</td>\n",
       "      <td>0.885188</td>\n",
       "      <td>0.357362</td>\n",
       "      <td>0.871833</td>\n",
       "    </tr>\n",
       "    <tr>\n",
       "      <th>13</th>\n",
       "      <td>0.312502</td>\n",
       "      <td>0.888271</td>\n",
       "      <td>0.338679</td>\n",
       "      <td>0.878250</td>\n",
       "    </tr>\n",
       "    <tr>\n",
       "      <th>14</th>\n",
       "      <td>0.305629</td>\n",
       "      <td>0.890188</td>\n",
       "      <td>0.341543</td>\n",
       "      <td>0.877500</td>\n",
       "    </tr>\n",
       "    <tr>\n",
       "      <th>15</th>\n",
       "      <td>0.299289</td>\n",
       "      <td>0.892667</td>\n",
       "      <td>0.360868</td>\n",
       "      <td>0.868167</td>\n",
       "    </tr>\n",
       "    <tr>\n",
       "      <th>16</th>\n",
       "      <td>0.293337</td>\n",
       "      <td>0.894687</td>\n",
       "      <td>0.337735</td>\n",
       "      <td>0.878333</td>\n",
       "    </tr>\n",
       "    <tr>\n",
       "      <th>17</th>\n",
       "      <td>0.287731</td>\n",
       "      <td>0.896979</td>\n",
       "      <td>0.333260</td>\n",
       "      <td>0.880167</td>\n",
       "    </tr>\n",
       "    <tr>\n",
       "      <th>18</th>\n",
       "      <td>0.281391</td>\n",
       "      <td>0.899208</td>\n",
       "      <td>0.333148</td>\n",
       "      <td>0.880583</td>\n",
       "    </tr>\n",
       "    <tr>\n",
       "      <th>19</th>\n",
       "      <td>0.275731</td>\n",
       "      <td>0.901250</td>\n",
       "      <td>0.333897</td>\n",
       "      <td>0.881417</td>\n",
       "    </tr>\n",
       "    <tr>\n",
       "      <th>20</th>\n",
       "      <td>0.272046</td>\n",
       "      <td>0.901292</td>\n",
       "      <td>0.323731</td>\n",
       "      <td>0.884750</td>\n",
       "    </tr>\n",
       "    <tr>\n",
       "      <th>21</th>\n",
       "      <td>0.266691</td>\n",
       "      <td>0.904208</td>\n",
       "      <td>0.328228</td>\n",
       "      <td>0.882583</td>\n",
       "    </tr>\n",
       "    <tr>\n",
       "      <th>22</th>\n",
       "      <td>0.263067</td>\n",
       "      <td>0.905146</td>\n",
       "      <td>0.338254</td>\n",
       "      <td>0.880083</td>\n",
       "    </tr>\n",
       "    <tr>\n",
       "      <th>23</th>\n",
       "      <td>0.257761</td>\n",
       "      <td>0.907479</td>\n",
       "      <td>0.319145</td>\n",
       "      <td>0.884583</td>\n",
       "    </tr>\n",
       "    <tr>\n",
       "      <th>24</th>\n",
       "      <td>0.252724</td>\n",
       "      <td>0.909000</td>\n",
       "      <td>0.314109</td>\n",
       "      <td>0.888750</td>\n",
       "    </tr>\n",
       "    <tr>\n",
       "      <th>25</th>\n",
       "      <td>0.248931</td>\n",
       "      <td>0.911750</td>\n",
       "      <td>0.319074</td>\n",
       "      <td>0.885833</td>\n",
       "    </tr>\n",
       "    <tr>\n",
       "      <th>26</th>\n",
       "      <td>0.244695</td>\n",
       "      <td>0.911521</td>\n",
       "      <td>0.315052</td>\n",
       "      <td>0.889083</td>\n",
       "    </tr>\n",
       "    <tr>\n",
       "      <th>27</th>\n",
       "      <td>0.241209</td>\n",
       "      <td>0.912875</td>\n",
       "      <td>0.311985</td>\n",
       "      <td>0.889083</td>\n",
       "    </tr>\n",
       "    <tr>\n",
       "      <th>28</th>\n",
       "      <td>0.236545</td>\n",
       "      <td>0.914979</td>\n",
       "      <td>0.337170</td>\n",
       "      <td>0.877417</td>\n",
       "    </tr>\n",
       "    <tr>\n",
       "      <th>29</th>\n",
       "      <td>0.232663</td>\n",
       "      <td>0.915625</td>\n",
       "      <td>0.319518</td>\n",
       "      <td>0.887667</td>\n",
       "    </tr>\n",
       "  </tbody>\n",
       "</table>\n",
       "</div>"
      ],
      "text/plain": [
       "        loss  accuracy  val_loss  val_accuracy\n",
       "0   0.750274  0.752604  0.535443      0.816833\n",
       "1   0.500464  0.827646  0.503618      0.819917\n",
       "2   0.453933  0.842250  0.454627      0.840167\n",
       "3   0.426088  0.851333  0.415586      0.852917\n",
       "4   0.404784  0.858063  0.410234      0.855333\n",
       "5   0.389060  0.863271  0.388971      0.863333\n",
       "6   0.373747  0.869333  0.385684      0.863833\n",
       "7   0.363637  0.872208  0.389075      0.861667\n",
       "8   0.352439  0.875542  0.374814      0.867250\n",
       "9   0.343467  0.878313  0.366476      0.870833\n",
       "10  0.333742  0.881312  0.368505      0.865750\n",
       "11  0.327551  0.883563  0.354861      0.872583\n",
       "12  0.318931  0.885188  0.357362      0.871833\n",
       "13  0.312502  0.888271  0.338679      0.878250\n",
       "14  0.305629  0.890188  0.341543      0.877500\n",
       "15  0.299289  0.892667  0.360868      0.868167\n",
       "16  0.293337  0.894687  0.337735      0.878333\n",
       "17  0.287731  0.896979  0.333260      0.880167\n",
       "18  0.281391  0.899208  0.333148      0.880583\n",
       "19  0.275731  0.901250  0.333897      0.881417\n",
       "20  0.272046  0.901292  0.323731      0.884750\n",
       "21  0.266691  0.904208  0.328228      0.882583\n",
       "22  0.263067  0.905146  0.338254      0.880083\n",
       "23  0.257761  0.907479  0.319145      0.884583\n",
       "24  0.252724  0.909000  0.314109      0.888750\n",
       "25  0.248931  0.911750  0.319074      0.885833\n",
       "26  0.244695  0.911521  0.315052      0.889083\n",
       "27  0.241209  0.912875  0.311985      0.889083\n",
       "28  0.236545  0.914979  0.337170      0.877417\n",
       "29  0.232663  0.915625  0.319518      0.887667"
      ]
     },
     "execution_count": 63,
     "metadata": {},
     "output_type": "execute_result"
    }
   ],
   "source": [
    "import pandas as pd\n",
    "import matplotlib.pyplot as plt\n",
    "\n",
    "history_df = pd.DataFrame(history.history)\n",
    "history_df"
   ]
  },
  {
   "cell_type": "code",
   "execution_count": 64,
   "id": "f69952b3-0c62-48ed-9257-ed851d6b828a",
   "metadata": {},
   "outputs": [
    {
     "data": {
      "text/plain": [
       "Text(0, 0.5, 'Score')"
      ]
     },
     "execution_count": 64,
     "metadata": {},
     "output_type": "execute_result"
    },
    {
     "data": {
      "image/png": "[encoded data removed]",
      "text/plain": [
       "<Figure size 576x360 with 1 Axes>"
      ]
     },
     "metadata": {
      "needs_background": "light"
     },
     "output_type": "display_data"
    }
   ],
   "source": [
    "history_df.plot(figsize=(8, 5))\n",
    "plt.grid(True)\n",
    "plt.ylim(0, 1) # set the vertical range to [0-1]\n",
    "plt.xlabel('Epochs')\n",
    "plt.ylabel('Score')"
   ]
  },
  {
   "cell_type": "markdown",
   "id": "f8a66ed4-74aa-4aa3-9e88-13fb86b5314d",
   "metadata": {},
   "source": [
    "The _training set_ performance ends up beating the _validation performance_, as is generally the case when you train for long enough. <br/>\n",
    "You can tell that the model _has not quite converged yet_, as the _validation loss_ is still (or could be) going down, so you should probably\n",
    "**continue training**.\n",
    "\n",
    "It’s as simple as calling the `fit()` method again, since Keras **_just_ continues training where it left off**."
   ]
  },
  {
   "cell_type": "code",
   "execution_count": 65,
   "id": "df728186-8b63-491d-a5fd-ca621abb1977",
   "metadata": {},
   "outputs": [
    {
     "name": "stdout",
     "output_type": "stream",
     "text": [
      "Epoch 1/30\n",
      "1500/1500 [==============================] - 2s 2ms/step - loss: 0.2296 - accuracy: 0.9154 - val_loss: 0.3138 - val_accuracy: 0.8891\n",
      "Epoch 2/30\n",
      "1500/1500 [==============================] - 2s 2ms/step - loss: 0.2257 - accuracy: 0.9188 - val_loss: 0.3235 - val_accuracy: 0.8827\n",
      "Epoch 3/30\n",
      "1500/1500 [==============================] - 2s 1ms/step - loss: 0.2223 - accuracy: 0.9206 - val_loss: 0.3304 - val_accuracy: 0.8827\n",
      "Epoch 4/30\n",
      "1500/1500 [==============================] - 2s 2ms/step - loss: 0.2193 - accuracy: 0.9203 - val_loss: 0.3105 - val_accuracy: 0.8894\n",
      "Epoch 5/30\n",
      "1500/1500 [==============================] - 2s 1ms/step - loss: 0.2145 - accuracy: 0.9228 - val_loss: 0.3053 - val_accuracy: 0.8912\n",
      "Epoch 6/30\n",
      "1500/1500 [==============================] - 2s 2ms/step - loss: 0.2119 - accuracy: 0.9252 - val_loss: 0.3085 - val_accuracy: 0.8905\n",
      "Epoch 7/30\n",
      "1500/1500 [==============================] - 2s 2ms/step - loss: 0.2069 - accuracy: 0.9261 - val_loss: 0.3088 - val_accuracy: 0.8910\n",
      "Epoch 8/30\n",
      "1500/1500 [==============================] - 2s 1ms/step - loss: 0.2062 - accuracy: 0.9268 - val_loss: 0.3320 - val_accuracy: 0.8845\n",
      "Epoch 9/30\n",
      "1500/1500 [==============================] - 2s 1ms/step - loss: 0.2016 - accuracy: 0.9286 - val_loss: 0.3164 - val_accuracy: 0.8863\n",
      "Epoch 10/30\n",
      "1500/1500 [==============================] - 2s 1ms/step - loss: 0.1980 - accuracy: 0.9292 - val_loss: 0.3069 - val_accuracy: 0.8938\n",
      "Epoch 11/30\n",
      "1500/1500 [==============================] - 2s 1ms/step - loss: 0.1944 - accuracy: 0.9306 - val_loss: 0.3130 - val_accuracy: 0.8911\n",
      "Epoch 12/30\n",
      "1500/1500 [==============================] - 2s 2ms/step - loss: 0.1927 - accuracy: 0.9312 - val_loss: 0.3056 - val_accuracy: 0.8916\n",
      "Epoch 13/30\n",
      "1500/1500 [==============================] - 2s 1ms/step - loss: 0.1890 - accuracy: 0.9330 - val_loss: 0.3265 - val_accuracy: 0.8864\n",
      "Epoch 14/30\n",
      "1500/1500 [==============================] - 2s 2ms/step - loss: 0.1872 - accuracy: 0.9333 - val_loss: 0.3078 - val_accuracy: 0.8929\n",
      "Epoch 15/30\n",
      "1500/1500 [==============================] - 2s 2ms/step - loss: 0.1836 - accuracy: 0.9344 - val_loss: 0.3204 - val_accuracy: 0.8898\n",
      "Epoch 16/30\n",
      "1500/1500 [==============================] - 2s 2ms/step - loss: 0.1812 - accuracy: 0.9355 - val_loss: 0.3156 - val_accuracy: 0.8915\n",
      "Epoch 17/30\n",
      "1500/1500 [==============================] - 2s 1ms/step - loss: 0.1776 - accuracy: 0.9372 - val_loss: 0.3176 - val_accuracy: 0.8897\n",
      "Epoch 18/30\n",
      "1500/1500 [==============================] - 2s 1ms/step - loss: 0.1749 - accuracy: 0.9380 - val_loss: 0.3091 - val_accuracy: 0.8916\n",
      "Epoch 19/30\n",
      "1500/1500 [==============================] - 2s 1ms/step - loss: 0.1713 - accuracy: 0.9393 - val_loss: 0.3192 - val_accuracy: 0.8875\n",
      "Epoch 20/30\n",
      "1500/1500 [==============================] - 2s 1ms/step - loss: 0.1671 - accuracy: 0.9406 - val_loss: 0.3146 - val_accuracy: 0.8923\n",
      "Epoch 21/30\n",
      "1500/1500 [==============================] - 2s 2ms/step - loss: 0.1666 - accuracy: 0.9410 - val_loss: 0.3080 - val_accuracy: 0.8942\n",
      "Epoch 22/30\n",
      "1500/1500 [==============================] - 2s 2ms/step - loss: 0.1637 - accuracy: 0.9418 - val_loss: 0.3305 - val_accuracy: 0.8858\n",
      "Epoch 23/30\n",
      "1500/1500 [==============================] - 2s 2ms/step - loss: 0.1613 - accuracy: 0.9437 - val_loss: 0.3328 - val_accuracy: 0.8877\n",
      "Epoch 24/30\n",
      "1500/1500 [==============================] - 2s 2ms/step - loss: 0.1588 - accuracy: 0.9444 - val_loss: 0.3177 - val_accuracy: 0.8928\n",
      "Epoch 25/30\n",
      "1500/1500 [==============================] - 2s 2ms/step - loss: 0.1560 - accuracy: 0.9447 - val_loss: 0.3104 - val_accuracy: 0.8955\n",
      "Epoch 26/30\n",
      "1500/1500 [==============================] - 2s 2ms/step - loss: 0.1535 - accuracy: 0.9451 - val_loss: 0.3218 - val_accuracy: 0.8892\n",
      "Epoch 27/30\n",
      "1500/1500 [==============================] - 2s 2ms/step - loss: 0.1505 - accuracy: 0.9464 - val_loss: 0.3212 - val_accuracy: 0.8904\n",
      "Epoch 28/30\n",
      "1500/1500 [==============================] - 2s 2ms/step - loss: 0.1488 - accuracy: 0.9482 - val_loss: 0.3159 - val_accuracy: 0.8935\n",
      "Epoch 29/30\n",
      "1500/1500 [==============================] - 2s 2ms/step - loss: 0.1454 - accuracy: 0.9493 - val_loss: 0.3483 - val_accuracy: 0.8838\n",
      "Epoch 30/30\n",
      "1500/1500 [==============================] - 2s 2ms/step - loss: 0.1428 - accuracy: 0.9500 - val_loss: 0.3220 - val_accuracy: 0.8905\n"
     ]
    }
   ],
   "source": [
    "history = model.fit(X_train, y_train, epochs=30, batch_size=32, validation_split=0.2)"
   ]
  },
  {
   "cell_type": "markdown",
   "id": "431d0566-f020-4c21-9f6c-7044816cce36",
   "metadata": {},
   "source": [
    "Note that our _training loss_ is lower than that from the last epoch in the previous training. This confirms that our `fit()` method **continues training** where it left off."
   ]
  },
  {
   "cell_type": "code",
   "execution_count": 66,
   "id": "2c9dd641-ca39-4602-aec7-355e1970341b",
   "metadata": {},
   "outputs": [
    {
     "data": {
      "text/plain": [
       "Text(0, 0.5, 'Score')"
      ]
     },
     "execution_count": 66,
     "metadata": {},
     "output_type": "execute_result"
    },
    {
     "data": {
      "image/png": "[encoded data removed]",
      "text/plain": [
       "<Figure size 576x360 with 1 Axes>"
      ]
     },
     "metadata": {
      "needs_background": "light"
     },
     "output_type": "display_data"
    }
   ],
   "source": [
    "import pandas as pd\n",
    "import matplotlib.pyplot as plt\n",
    "\n",
    "history_df = pd.DataFrame(history.history)\n",
    "history_df.plot(figsize=(8, 5))\n",
    "plt.grid(True)\n",
    "plt.ylim(0, 1) # set the vertical range to [0-1]\n",
    "plt.xlabel('Epochs')\n",
    "plt.ylabel('Score')"
   ]
  },
  {
   "cell_type": "markdown",
   "id": "7c9171e0-dd03-4626-8294-6d5083b46782",
   "metadata": {},
   "source": [
    "#### **More about training in Keras**\n",
    "Extracted from \"A. Géron, Hands-on Machine Learning (Chapter 10)\".\n",
    "\n",
    "If the training set was _very skewed_, with some classes being _overrepresented_ and others _underrepresented_, it would be useful to set the `class_weight` argument when calling the `fit()` method, which would give a **larger weight** to _underrepresented classes_ and a **lower weight** to _overrepresented classes_. These weights would be used by Keras when _computing the loss_.\n",
    "\n",
    "If you need _per-instance weights_, set the `sample_weight` argument (if both `class_weight` and `sample_weight` are provided, Keras **multiplies them**).\n",
    "\n",
    "_Per-instance weights_ could be useful if some instances were labeled by _experts_ while others were labeled using a _crowdsourcing platform_: you might want to give more weight to the former."
   ]
  },
  {
   "cell_type": "markdown",
   "id": "378c5f15-1de7-45d0-8c4f-11db59aea0cf",
   "metadata": {},
   "source": [
    "#### **Saving a Model**\n",
    "https://www.tensorflow.org/api_docs/python/tf/keras/Sequential#save"
   ]
  },
  {
   "cell_type": "code",
   "execution_count": 67,
   "id": "a80e439e-b0b2-451b-872c-948c31fa0062",
   "metadata": {},
   "outputs": [],
   "source": [
    "model.save('./models/mpl_keras_fashionmnist_v1.h5')"
   ]
  },
  {
   "cell_type": "markdown",
   "id": "9d249a00-df74-41b1-b4bb-d764fda7f3e7",
   "metadata": {},
   "source": [
    "See also:\n",
    "- `save_spec`: https://www.tensorflow.org/api_docs/python/tf/keras/Sequential#save_spec\n",
    "- `save_weights`: https://www.tensorflow.org/api_docs/python/tf/keras/Sequential#save_weights"
   ]
  },
  {
   "cell_type": "markdown",
   "id": "ccd5fde8-f84f-469d-a5b7-6b879ea24c16",
   "metadata": {},
   "source": [
    "#### **Loading a Model**\n",
    "https://www.tensorflow.org/api_docs/python/tf/keras/Sequential#example_8"
   ]
  },
  {
   "cell_type": "code",
   "execution_count": 70,
   "id": "12a1a710-472a-45bd-842d-845e06c0ae5c",
   "metadata": {},
   "outputs": [],
   "source": [
    "from tensorflow.keras.models import load_model\n",
    "\n",
    "model_loaded = load_model('./models/mpl_keras_fashionmnist_v1.h5')"
   ]
  },
  {
   "cell_type": "code",
   "execution_count": 71,
   "id": "69d1ae69-28aa-437c-bb94-66b5ea5e2bdf",
   "metadata": {},
   "outputs": [
    {
     "name": "stdout",
     "output_type": "stream",
     "text": [
      "Model: \"MyMLP\"\n",
      "_________________________________________________________________\n",
      " Layer (type)                Output Shape              Param #   \n",
      "=================================================================\n",
      " Hidden_1 (Dense)            (None, 300)               235500    \n",
      "                                                                 \n",
      " Hidden_2 (Dense)            (None, 100)               30100     \n",
      "                                                                 \n",
      " Output (Dense)              (None, 10)                1010      \n",
      "                                                                 \n",
      "=================================================================\n",
      "Total params: 266,610\n",
      "Trainable params: 266,610\n",
      "Non-trainable params: 0\n",
      "_________________________________________________________________\n"
     ]
    }
   ],
   "source": [
    "model_loaded.summary()"
   ]
  },
  {
   "cell_type": "markdown",
   "id": "52717e71-8aa2-4fd1-b25a-e35e73ab9c5a",
   "metadata": {},
   "source": [
    "See also:\n",
    "- `load_weights`: https://www.tensorflow.org/api_docs/python/tf/keras/Sequential#load_weights"
   ]
  },
  {
   "cell_type": "markdown",
   "id": "455ca1cb-20b5-439b-8240-e511abb305c7",
   "metadata": {},
   "source": [
    "### 2.5 Evaluating and Predicting New Samples"
   ]
  },
  {
   "cell_type": "markdown",
   "id": "7db26d3c-46e9-437a-a448-4adf4542958a",
   "metadata": {},
   "source": [
    "#### **Evaluation**\n",
    "https://www.tensorflow.org/api_docs/python/tf/keras/Sequential#evaluate"
   ]
  },
  {
   "cell_type": "code",
   "execution_count": 72,
   "id": "41a75d26-ca65-405e-85bf-377a035a82a4",
   "metadata": {},
   "outputs": [
    {
     "name": "stdout",
     "output_type": "stream",
     "text": [
      "313/313 [==============================] - 1s 1ms/step - loss: 0.3453 - accuracy: 0.8865\n"
     ]
    },
    {
     "data": {
      "text/plain": [
       "[0.3452740013599396, 0.8865000009536743]"
      ]
     },
     "execution_count": 72,
     "metadata": {},
     "output_type": "execute_result"
    }
   ],
   "source": [
    "model.evaluate(X_test, y_test)"
   ]
  },
  {
   "cell_type": "markdown",
   "id": "40e0efd4-0647-435c-a57d-c4d617913992",
   "metadata": {},
   "source": [
    "#### **Prediction**\n",
    "https://www.tensorflow.org/api_docs/python/tf/keras/Sequential#predict"
   ]
  },
  {
   "cell_type": "code",
   "execution_count": 75,
   "id": "3739ea39-55a6-47c9-a5ae-e8d3e41e6230",
   "metadata": {},
   "outputs": [
    {
     "data": {
      "text/plain": [
       "array([[3.8673801e-07, 8.2577031e-08, 5.1885036e-07, ..., 3.9793216e-03,\n",
       "        4.2139877e-06, 9.9558455e-01],\n",
       "       [1.0672682e-05, 1.3055955e-09, 9.9403954e-01, ..., 5.5167747e-15,\n",
       "        3.8343146e-09, 1.1083816e-11],\n",
       "       [1.7905662e-06, 9.9999821e-01, 1.2643647e-11, ..., 1.9205910e-13,\n",
       "        1.3763464e-13, 4.7880155e-12],\n",
       "       ...,\n",
       "       [2.3397277e-03, 3.9147166e-09, 1.1789161e-03, ..., 5.3574645e-06,\n",
       "        9.9612170e-01, 4.2537170e-08],\n",
       "       [2.8240697e-07, 9.9997175e-01, 2.3590284e-08, ..., 5.1166662e-09,\n",
       "        7.1079315e-10, 7.7335834e-08],\n",
       "       [8.8637995e-07, 2.3563324e-07, 1.4741031e-06, ..., 2.4393508e-03,\n",
       "        4.6066300e-05, 5.2993896e-06]], dtype=float32)"
      ]
     },
     "execution_count": 75,
     "metadata": {},
     "output_type": "execute_result"
    }
   ],
   "source": [
    "y_test_proba = model.predict(X_test)\n",
    "y_test_proba"
   ]
  },
  {
   "cell_type": "code",
   "execution_count": 76,
   "id": "f2c9d375-b382-4ae1-be31-5930d3fb147f",
   "metadata": {},
   "outputs": [
    {
     "data": {
      "text/plain": [
       "(10000, 10)"
      ]
     },
     "execution_count": 76,
     "metadata": {},
     "output_type": "execute_result"
    }
   ],
   "source": [
    "y_test_proba.shape"
   ]
  },
  {
   "cell_type": "markdown",
   "id": "601d558a-9208-4bb3-bde4-67b1c23bc54c",
   "metadata": {},
   "source": [
    "#### **Class Prediction**\n",
    "https://stackoverflow.com/a/69503180/7069696"
   ]
  },
  {
   "cell_type": "code",
   "execution_count": 81,
   "id": "d887c320-b6c1-4c7f-b859-522e65d5f272",
   "metadata": {},
   "outputs": [
    {
     "data": {
      "text/plain": [
       "array([9, 2, 1, ..., 8, 1, 5])"
      ]
     },
     "execution_count": 81,
     "metadata": {},
     "output_type": "execute_result"
    }
   ],
   "source": [
    "y_test_pred = np.argmax(y_test_proba, axis=1)\n",
    "y_test_pred"
   ]
  },
  {
   "cell_type": "code",
   "execution_count": 86,
   "id": "6c9dd684-66be-4eb8-9a1d-798408e95a46",
   "metadata": {},
   "outputs": [
    {
     "name": "stdout",
     "output_type": "stream",
     "text": [
      "              precision    recall  f1-score   support\n",
      "\n",
      " T-shirt/top       0.84      0.84      0.84      1000\n",
      "     Trouser       0.99      0.97      0.98      1000\n",
      "    Pullover       0.85      0.74      0.79      1000\n",
      "       Dress       0.89      0.88      0.89      1000\n",
      "        Coat       0.73      0.90      0.80      1000\n",
      "      Sandal       0.98      0.95      0.96      1000\n",
      "       Shirt       0.75      0.70      0.72      1000\n",
      "     Sneaker       0.93      0.96      0.95      1000\n",
      "         Bag       0.97      0.96      0.97      1000\n",
      "  Ankle boot       0.97      0.96      0.96      1000\n",
      "\n",
      "    accuracy                           0.89     10000\n",
      "   macro avg       0.89      0.89      0.89     10000\n",
      "weighted avg       0.89      0.89      0.89     10000\n",
      "\n"
     ]
    }
   ],
   "source": [
    "from sklearn.metrics import classification_report\n",
    "\n",
    "print(classification_report(y_test, y_test_pred, target_names=class_names))"
   ]
  },
  {
   "cell_type": "markdown",
   "id": "e6a3a7db-b0f5-4638-a074-1134538ad1b5",
   "metadata": {},
   "source": [
    "# Exercise"
   ]
  },
  {
   "cell_type": "markdown",
   "id": "79ee7ec6-30c1-4285-a43e-1dbef982d66f",
   "metadata": {},
   "source": [
    "Repeat all steps shown in this notebook for the MNIST dataset available in Keras: <br/>\n",
    "https://keras.io/api/datasets/mnist/"
   ]
  },
  {
   "cell_type": "code",
   "execution_count": null,
   "id": "99933cce-de11-4828-96b1-efdd7d67b9f2",
   "metadata": {},
   "outputs": [],
   "source": []
  }
 ],
 "metadata": {
  "kernelspec": {
   "display_name": "Python 3",
   "language": "python",
   "name": "python3"
  },
  "language_info": {
   "codemirror_mode": {
    "name": "ipython",
    "version": 3
   },
   "file_extension": ".py",
   "mimetype": "text/x-python",
   "name": "python",
   "nbconvert_exporter": "python",
   "pygments_lexer": "ipython3",
   "version": "3.8.5"
  }
 },
 "nbformat": 4,
 "nbformat_minor": 5
}
