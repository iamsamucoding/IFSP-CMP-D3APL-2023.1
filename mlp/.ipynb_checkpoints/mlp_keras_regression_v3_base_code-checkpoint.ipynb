{
 "cells": [
  {
   "cell_type": "markdown",
   "id": "09142599-d99c-4b84-ae6b-4ee2abc7df3a",
   "metadata": {},
   "source": [
    "**D3APL: Aplicações em Ciência de Dados** <br/>\n",
    "IFSP Campinas\n",
    "\n",
    "Prof. Dr. Samuel Martins (Samuka) <br/><br/>\n",
    "\n",
    "<a rel=\"license\" href=\"http://creativecommons.org/licenses/by-nc-sa/4.0/\"><img alt=\"Creative Commons License\" style=\"border-width:0\" src=\"https://i.creativecommons.org/l/by-nc-sa/4.0/88x31.png\" /></a><br />This work is licensed under a <a rel=\"license\" href=\"http://creativecommons.org/licenses/by-nc-sa/4.0/\">Creative Commons Attribution-NonCommercial-ShareAlike 4.0 International License</a>."
   ]
  },
  {
   "cell_type": "markdown",
   "id": "dbed1c92-5c77-4898-8cbb-e847af6f72cc",
   "metadata": {},
   "source": [
    "# Regression Multilayer Perceptron (MLP) with Keras - V3\n",
    "In this notebook, we will see how to wrap a Keras Model to be used in Sklearn environment. <br/>\n",
    "We'll see:\n",
    "- Fine-Tuning: `GridSearchCV`\n",
    "\n",
    "The set up is the same from the previous version."
   ]
  },
  {
   "cell_type": "markdown",
   "id": "d2fb8137-7b1b-42e9-b2e9-75711269596c",
   "metadata": {},
   "source": [
    "## 1. Set up"
   ]
  },
  {
   "cell_type": "markdown",
   "id": "a3542eb6-d992-499f-9ac6-8771676123c6",
   "metadata": {},
   "source": [
    "#### 1.1 TensorFlow + Keras"
   ]
  },
  {
   "cell_type": "code",
   "execution_count": null,
   "id": "ab093db2-4853-44eb-b588-da0a71ad6dba",
   "metadata": {},
   "outputs": [],
   "source": [
    "import tensorflow as tf\n",
    "from tensorflow import keras"
   ]
  },
  {
   "cell_type": "markdown",
   "id": "4e17fb00-de23-48bd-ab8a-1b6cc9089043",
   "metadata": {},
   "source": [
    "### 1.2 Fixing the seed for reproducibility (optional)\n",
    "That's a try for reprodubility in Keras. See more on: <br/>\n",
    "https://machinelearningmastery.com/reproducible-results-neural-networks-keras/ <br/>\n",
    "https://www.tensorflow.org/api_docs/python/tf/random/set_seed"
   ]
  },
  {
   "cell_type": "code",
   "execution_count": null,
   "id": "4440090b-9df4-425a-944f-6838e2629149",
   "metadata": {},
   "outputs": [],
   "source": [
    "from numpy.random import seed\n",
    "from tensorflow.random import set_seed\n",
    "\n",
    "seed(42)\n",
    "set_seed(42)"
   ]
  },
  {
   "cell_type": "markdown",
   "id": "47b3b9b6-207c-4b5a-a243-e68b490c7c1b",
   "metadata": {},
   "source": [
    "#### 1.3 Other imports"
   ]
  },
  {
   "cell_type": "code",
   "execution_count": null,
   "id": "dd9377a2-d2d5-4c3b-825a-f389e6091be2",
   "metadata": {},
   "outputs": [],
   "source": [
    "import numpy as np\n",
    "import matplotlib.pyplot as plt"
   ]
  },
  {
   "cell_type": "markdown",
   "id": "231de637-e2aa-4d28-840a-d8c503f63b75",
   "metadata": {},
   "source": [
    "#### 1.4 Loading California Housing Dataset via Scikit-learn\n",
    "https://scikit-learn.org/stable/modules/generated/sklearn.datasets.fetch_california_housing.html"
   ]
  },
  {
   "cell_type": "code",
   "execution_count": null,
   "id": "43d8c6ee-e171-44b1-ba0a-b1baca99c5d3",
   "metadata": {},
   "outputs": [],
   "source": [
    "from sklearn.datasets import fetch_california_housing\n",
    "\n",
    "housing = fetch_california_housing()\n",
    "housing"
   ]
  },
  {
   "cell_type": "code",
   "execution_count": null,
   "id": "7af01078-3198-47ec-913a-6806fd3910b9",
   "metadata": {},
   "outputs": [],
   "source": [
    "# extracting the feature matrix and labels\n",
    "X = housing.data\n",
    "y = housing.target"
   ]
  },
  {
   "cell_type": "code",
   "execution_count": null,
   "id": "370d5a99-2328-467f-8f67-9f540674d6b3",
   "metadata": {},
   "outputs": [],
   "source": [
    "print(f'X.shape = {X.shape}')\n",
    "print(f'y.shape = {y.shape}')"
   ]
  },
  {
   "cell_type": "markdown",
   "id": "e7376982-3480-4050-89d6-cfd79e3d7611",
   "metadata": {},
   "source": [
    "#### 1.5 Spliting Data into Train and Test Sets"
   ]
  },
  {
   "cell_type": "code",
   "execution_count": null,
   "id": "f3d47354-906f-4acf-bebf-bcf4ff6331f1",
   "metadata": {},
   "outputs": [],
   "source": [
    "from sklearn.model_selection import train_test_split\n",
    "\n",
    "X_train, X_test, y_train, y_test = train_test_split(X, y, train_size=0.8, random_state=42)"
   ]
  },
  {
   "cell_type": "code",
   "execution_count": null,
   "id": "6e978312-5735-49fd-a59c-24d64444d896",
   "metadata": {},
   "outputs": [],
   "source": [
    "print(f'X_train.shape = {X_train.shape}')\n",
    "print(f'y_train.shape = {y_train.shape}\\n')\n",
    "\n",
    "print(f'X_test.shape = {X_test.shape}')\n",
    "print(f'y_test.shape = {y_test.shape}\\n')"
   ]
  },
  {
   "cell_type": "markdown",
   "id": "66929861-cd2c-4727-bd7c-9838d3249327",
   "metadata": {},
   "source": [
    "#### 1.7 Normalization\n",
    "For simplicity, we are going to use the `StandardScaler()` without taking into account possible problems with outliers, etc.\n",
    "\n",
    "When normalizing the dataset before, our _cross-validation_ results will suffer a little from **data-snooping bias**."
   ]
  },
  {
   "cell_type": "code",
   "execution_count": null,
   "id": "2a89da78-8d64-4f66-aac7-65a0922e7cad",
   "metadata": {},
   "outputs": [],
   "source": [
    "from sklearn.preprocessing import StandardScaler\n",
    "\n",
    "scaler = StandardScaler()\n",
    "scaler.fit(X_train)\n",
    "\n",
    "X_train = scaler.transform(X_train)\n",
    "X_test = scaler.transform(X_test)"
   ]
  },
  {
   "cell_type": "markdown",
   "id": "4ed90771-4316-4286-89b7-8bbe077db038",
   "metadata": {},
   "source": [
    "## 2. Wrapping Keras Model to Sklearn"
   ]
  },
  {
   "cell_type": "markdown",
   "id": "692f75c8-57b8-4d7f-914b-1369e60cdb19",
   "metadata": {},
   "source": [
    "### 2.1 Defining the Network Architecture\n",
    "Proposed architecture for Multiclass Classification:\n",
    "- Input Layer: 8 neurons\n",
    "- Hidden Layer: 30 neurons, ReLu\n",
    "- Output Layer: 1 neuron (no activation)**\n",
    "\n",
    "\n",
    "In short: [8], [30 ReLU], [1]"
   ]
  },
  {
   "cell_type": "markdown",
   "id": "4da9ced7-ea7e-4fac-bd1c-bc82851067a9",
   "metadata": {
    "tags": []
   },
   "source": [
    "#### **Wrapping with Hyperparameters to Optimize**"
   ]
  },
  {
   "cell_type": "markdown",
   "id": "bfc7989e-da43-4e06-8883-f2a016c027fe",
   "metadata": {},
   "source": [
    "##### **A function that builds a Keras Model**\n",
    "Create a function that returns a **Keras model**, taking as _parameters_ things you want to verify using _cross-valdiation_ and _model selection_.\n",
    "\n",
    "https://machinelearningmastery.com/use-keras-deep-learning-models-scikit-learn-python/"
   ]
  },
  {
   "cell_type": "markdown",
   "id": "59ffa4db-f162-435e-a698-96141a8e2143",
   "metadata": {},
   "source": [
    "We want to _optimize_ three hyperparameters:\n",
    "- The **weight initilization type** in the hidden layer;\n",
    "- The _number of hidden neurons_;\n",
    "- The **learning rate** of SGD.\n",
    "\n",
    "For that, we pass three parameters to our building model function:"
   ]
  },
  {
   "cell_type": "code",
   "execution_count": null,
   "id": "687743f5-0176-4caa-9155-7bbec8b42de1",
   "metadata": {},
   "outputs": [],
   "source": []
  },
  {
   "cell_type": "markdown",
   "id": "58babd52-0967-48dc-8558-e89907940f35",
   "metadata": {},
   "source": [
    "##### **Wrapping**\n",
    "**Current alternative - SciKeras** <br/>\n",
    "https://github.com/adriangb/scikeras <br/>\n",
    "https://www.adriangb.com/scikeras/stable/migration.html"
   ]
  },
  {
   "cell_type": "code",
   "execution_count": null,
   "id": "6f43374a-f235-4dcd-84f0-589b8358587a",
   "metadata": {},
   "outputs": [],
   "source": []
  },
  {
   "cell_type": "markdown",
   "id": "16b1b6ce-3283-46ee-83d1-cce66271eddb",
   "metadata": {
    "tags": []
   },
   "source": [
    "### 2.2 Fine-Tuning\n",
    "\n",
    "https://machinelearningmastery.com/use-keras-deep-learning-models-scikit-learn-python/ <br/>\n",
    "https://scikit-learn.org/stable/modules/generated/sklearn.model_selection.GridSearchCV.html\n",
    "\n",
    "Observations:\n",
    "- My experiments are using a GPU drive which has limited memory. Therefore, I am using only a single job for cross-validation.\n",
    "- The score functions is `neg_mean_squared_error` just to have the notion of _\"the lower, the better\"_. This is crucial for **fine-tunning**."
   ]
  },
  {
   "cell_type": "markdown",
   "id": "cdfd556a-370b-4e42-9fc6-059b16990442",
   "metadata": {},
   "source": [
    "In case of GPU drivers, we can monitor its use by [_gpustat_](https://github.com/wookayin/gpustat).\n",
    "\n",
    "On terminal, use: `gpustat -cpi`\n"
   ]
  },
  {
   "cell_type": "code",
   "execution_count": null,
   "id": "eba6fac7-aef4-4d39-900a-71e4086acb87",
   "metadata": {},
   "outputs": [],
   "source": []
  },
  {
   "cell_type": "code",
   "execution_count": null,
   "id": "02b99bd2-e30d-484b-aea0-9a13774816b0",
   "metadata": {},
   "outputs": [],
   "source": []
  },
  {
   "cell_type": "code",
   "execution_count": null,
   "id": "5899992f-7437-493d-8161-0c3f33472a84",
   "metadata": {},
   "outputs": [],
   "source": [
    "# best params\n"
   ]
  },
  {
   "cell_type": "code",
   "execution_count": null,
   "id": "a67c6c88-a6ae-4e6c-a70a-f10783dec801",
   "metadata": {},
   "outputs": [],
   "source": [
    "# get the RMSE\n"
   ]
  },
  {
   "cell_type": "code",
   "execution_count": null,
   "id": "2ac84f8f-d34b-443e-8617-cd46cf901991",
   "metadata": {},
   "outputs": [],
   "source": [
    "# get the best estimator\n"
   ]
  },
  {
   "cell_type": "code",
   "execution_count": null,
   "id": "04e821c1-8870-4977-9ba5-2c96f79cd4b5",
   "metadata": {},
   "outputs": [],
   "source": []
  },
  {
   "cell_type": "code",
   "execution_count": null,
   "id": "9533a02c-531d-498c-b5ce-2e2b70dc7225",
   "metadata": {},
   "outputs": [],
   "source": [
    "# extract the true model from the wrapping\n"
   ]
  },
  {
   "cell_type": "code",
   "execution_count": null,
   "id": "e9e8779a-4d70-49a7-b763-513f40c92d28",
   "metadata": {},
   "outputs": [],
   "source": []
  },
  {
   "cell_type": "markdown",
   "id": "5de84a48-8c7b-4b16-afe6-66a262444ff0",
   "metadata": {},
   "source": [
    "### 2.4 Evaluating and Predicting New Samples"
   ]
  },
  {
   "cell_type": "markdown",
   "id": "e579a15c-8a02-47d1-a97d-e3159fabb3cf",
   "metadata": {},
   "source": [
    "#### **Evaluation**\n",
    "https://www.tensorflow.org/api_docs/python/tf/keras/Sequential#evaluate"
   ]
  },
  {
   "cell_type": "code",
   "execution_count": null,
   "id": "356b77de-5171-459e-8932-2d4c6452ffeb",
   "metadata": {},
   "outputs": [],
   "source": []
  },
  {
   "cell_type": "markdown",
   "id": "0ea28a2d-9561-4704-bb14-809a98a8c955",
   "metadata": {},
   "source": [
    "#### **Prediction**\n",
    "https://www.tensorflow.org/api_docs/python/tf/keras/Sequential#predict"
   ]
  },
  {
   "cell_type": "code",
   "execution_count": null,
   "id": "2df7175b-82db-4b49-b2f1-6ce6b6b235ac",
   "metadata": {},
   "outputs": [],
   "source": []
  }
 ],
 "metadata": {
  "kernelspec": {
   "display_name": "Python 3",
   "language": "python",
   "name": "python3"
  },
  "language_info": {
   "codemirror_mode": {
    "name": "ipython",
    "version": 3
   },
   "file_extension": ".py",
   "mimetype": "text/x-python",
   "name": "python",
   "nbconvert_exporter": "python",
   "pygments_lexer": "ipython3",
   "version": "3.8.5"
  }
 },
 "nbformat": 4,
 "nbformat_minor": 5
}
