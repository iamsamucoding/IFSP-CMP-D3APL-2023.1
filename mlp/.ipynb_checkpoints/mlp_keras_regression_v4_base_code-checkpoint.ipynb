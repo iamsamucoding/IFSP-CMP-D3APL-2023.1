{
 "cells": [
  {
   "cell_type": "markdown",
   "id": "09142599-d99c-4b84-ae6b-4ee2abc7df3a",
   "metadata": {},
   "source": [
    "**D3APL: Aplicações em Ciência de Dados** <br/>\n",
    "IFSP Campinas\n",
    "\n",
    "Prof. Dr. Samuel Martins (Samuka) <br/><br/>\n",
    "\n",
    "<a rel=\"license\" href=\"http://creativecommons.org/licenses/by-nc-sa/4.0/\"><img alt=\"Creative Commons License\" style=\"border-width:0\" src=\"https://i.creativecommons.org/l/by-nc-sa/4.0/88x31.png\" /></a><br />This work is licensed under a <a rel=\"license\" href=\"http://creativecommons.org/licenses/by-nc-sa/4.0/\">Creative Commons Attribution-NonCommercial-ShareAlike 4.0 International License</a>."
   ]
  },
  {
   "cell_type": "markdown",
   "id": "dbed1c92-5c77-4898-8cbb-e847af6f72cc",
   "metadata": {},
   "source": [
    "# Regression Multilayer Perceptron (MLP) with Keras - V4\n",
    "In this notebook, we will see how to wrap a Keras Model to be used in Sklearn environment. <br/>\n",
    "We'll see:\n",
    "- Pipeline: Normalization + MLP"
   ]
  },
  {
   "cell_type": "markdown",
   "id": "d2fb8137-7b1b-42e9-b2e9-75711269596c",
   "metadata": {},
   "source": [
    "## 1. Set up"
   ]
  },
  {
   "cell_type": "markdown",
   "id": "a3542eb6-d992-499f-9ac6-8771676123c6",
   "metadata": {},
   "source": [
    "#### 1.1 TensorFlow + Keras"
   ]
  },
  {
   "cell_type": "code",
   "execution_count": null,
   "id": "ab093db2-4853-44eb-b588-da0a71ad6dba",
   "metadata": {},
   "outputs": [],
   "source": [
    "import tensorflow as tf\n",
    "from tensorflow import keras"
   ]
  },
  {
   "cell_type": "markdown",
   "id": "4e17fb00-de23-48bd-ab8a-1b6cc9089043",
   "metadata": {},
   "source": [
    "### 1.2 Fixing the seed for reproducibility (optional)\n",
    "That's a try for reprodubility in Keras. See more on: <br/>\n",
    "https://machinelearningmastery.com/reproducible-results-neural-networks-keras/ <br/>\n",
    "https://www.tensorflow.org/api_docs/python/tf/random/set_seed"
   ]
  },
  {
   "cell_type": "code",
   "execution_count": null,
   "id": "4440090b-9df4-425a-944f-6838e2629149",
   "metadata": {},
   "outputs": [],
   "source": [
    "from numpy.random import seed\n",
    "from tensorflow.random import set_seed\n",
    "\n",
    "seed(42)\n",
    "set_seed(42)"
   ]
  },
  {
   "cell_type": "markdown",
   "id": "47b3b9b6-207c-4b5a-a243-e68b490c7c1b",
   "metadata": {},
   "source": [
    "#### 1.3 Other imports"
   ]
  },
  {
   "cell_type": "code",
   "execution_count": null,
   "id": "dd9377a2-d2d5-4c3b-825a-f389e6091be2",
   "metadata": {},
   "outputs": [],
   "source": [
    "import numpy as np\n",
    "import matplotlib.pyplot as plt"
   ]
  },
  {
   "cell_type": "markdown",
   "id": "231de637-e2aa-4d28-840a-d8c503f63b75",
   "metadata": {},
   "source": [
    "#### 1.4 Loading California Housing Dataset via Scikit-learn\n",
    "https://scikit-learn.org/stable/modules/generated/sklearn.datasets.fetch_california_housing.html"
   ]
  },
  {
   "cell_type": "code",
   "execution_count": null,
   "id": "43d8c6ee-e171-44b1-ba0a-b1baca99c5d3",
   "metadata": {},
   "outputs": [],
   "source": [
    "from sklearn.datasets import fetch_california_housing\n",
    "\n",
    "housing = fetch_california_housing()\n",
    "housing"
   ]
  },
  {
   "cell_type": "code",
   "execution_count": null,
   "id": "7af01078-3198-47ec-913a-6806fd3910b9",
   "metadata": {},
   "outputs": [],
   "source": [
    "# extracting the feature matrix and labels\n",
    "X = housing.data\n",
    "y = housing.target"
   ]
  },
  {
   "cell_type": "code",
   "execution_count": null,
   "id": "370d5a99-2328-467f-8f67-9f540674d6b3",
   "metadata": {},
   "outputs": [],
   "source": [
    "print(f'X.shape = {X.shape}')\n",
    "print(f'y.shape = {y.shape}')"
   ]
  },
  {
   "cell_type": "markdown",
   "id": "e7376982-3480-4050-89d6-cfd79e3d7611",
   "metadata": {},
   "source": [
    "#### 1.5 Spliting Data into Train and Test Sets"
   ]
  },
  {
   "cell_type": "code",
   "execution_count": null,
   "id": "f3d47354-906f-4acf-bebf-bcf4ff6331f1",
   "metadata": {},
   "outputs": [],
   "source": [
    "from sklearn.model_selection import train_test_split\n",
    "\n",
    "X_train, X_test, y_train, y_test = train_test_split(X, y, train_size=0.8, random_state=42)"
   ]
  },
  {
   "cell_type": "code",
   "execution_count": null,
   "id": "6e978312-5735-49fd-a59c-24d64444d896",
   "metadata": {},
   "outputs": [],
   "source": [
    "print(f'X_train.shape = {X_train.shape}')\n",
    "print(f'y_train.shape = {y_train.shape}\\n')\n",
    "\n",
    "print(f'X_test.shape = {X_test.shape}')\n",
    "print(f'y_test.shape = {y_test.shape}\\n')"
   ]
  },
  {
   "cell_type": "markdown",
   "id": "4ed90771-4316-4286-89b7-8bbe077db038",
   "metadata": {},
   "source": [
    "## 2. Wrapping Keras Model to Sklearn"
   ]
  },
  {
   "cell_type": "markdown",
   "id": "692f75c8-57b8-4d7f-914b-1369e60cdb19",
   "metadata": {},
   "source": [
    "### 2.1 Defining the Network Architecture\n",
    "Proposed architecture for Multiclass Classification:\n",
    "- Input Layer: 8 neurons\n",
    "- Hidden Layer: 30 neurons, ReLu\n",
    "- Output Layer: 1 neuron (no activation)**\n",
    "\n",
    "\n",
    "In short: [8], [30 ReLU], [1]"
   ]
  },
  {
   "cell_type": "markdown",
   "id": "4da9ced7-ea7e-4fac-bd1c-bc82851067a9",
   "metadata": {
    "tags": []
   },
   "source": [
    "#### **Wrapping with Hyperparameters to use Scikit-Learn Pipelines**"
   ]
  },
  {
   "cell_type": "markdown",
   "id": "bfc7989e-da43-4e06-8883-f2a016c027fe",
   "metadata": {},
   "source": [
    "##### **A function that builds a Keras Model**\n",
    "Create a function that returns a **Keras model**, taking as _parameters_ things you want to verify using _cross-valdiation_ and _model selection_.\n",
    "\n",
    "https://stackoverflow.com/a/44134591/7069696 <br/>\n",
    "https://machinelearningmastery.com/use-keras-deep-learning-models-scikit-learn-python/"
   ]
  },
  {
   "cell_type": "code",
   "execution_count": null,
   "id": "687743f5-0176-4caa-9155-7bbec8b42de1",
   "metadata": {},
   "outputs": [],
   "source": [
    "from tensorflow.keras import Sequential\n",
    "from tensorflow.keras.layers import Dense\n",
    "\n",
    "def build_model():\n",
    "    model = Sequential([\n",
    "        Dense(30, activation='relu', input_shape=(8,)),  # it automatically creates an input layer with `input_shape` neurons\n",
    "        Dense(1)\n",
    "    ])\n",
    "    \n",
    "    model.compile(loss='mean_squared_error', optimizer='sgd')\n",
    "    \n",
    "    return model"
   ]
  },
  {
   "cell_type": "markdown",
   "id": "58babd52-0967-48dc-8558-e89907940f35",
   "metadata": {},
   "source": [
    "##### **Wrapping**\n",
    "**Current alternative - SciKeras** <br/>\n",
    "https://github.com/adriangb/scikeras <br/>\n",
    "https://www.adriangb.com/scikeras/stable/migration.html"
   ]
  },
  {
   "cell_type": "code",
   "execution_count": null,
   "id": "6f43374a-f235-4dcd-84f0-589b8358587a",
   "metadata": {},
   "outputs": [],
   "source": [
    "from scikeras.wrappers import KerasRegressor\n",
    "\n",
    "# pass the function that creates a keras model, and inform the other parameters used for training, such as `epochs`, `batch_size`, etc.\n",
    "model = KerasRegressor(model=build_model, epochs=20)\n",
    "model"
   ]
  },
  {
   "cell_type": "markdown",
   "id": "16b1b6ce-3283-46ee-83d1-cce66271eddb",
   "metadata": {
    "tags": []
   },
   "source": [
    "### 2.2 Pipeline\n",
    "https://stackoverflow.com/a/47520976/7069696"
   ]
  },
  {
   "cell_type": "markdown",
   "id": "cdfd556a-370b-4e42-9fc6-059b16990442",
   "metadata": {},
   "source": [
    "In case of GPU drivers, we can monitor its use by [_gpustat_](https://github.com/wookayin/gpustat).\n",
    "\n",
    "On terminal, use: `gpustat -cpi`\n"
   ]
  },
  {
   "cell_type": "code",
   "execution_count": null,
   "id": "eba6fac7-aef4-4d39-900a-71e4086acb87",
   "metadata": {},
   "outputs": [],
   "source": []
  },
  {
   "cell_type": "code",
   "execution_count": null,
   "id": "fd15b612-28b2-431d-936b-c3e1687ac9a4",
   "metadata": {},
   "outputs": [],
   "source": [
    "pipeline.fit(X_train, y_train)"
   ]
  },
  {
   "cell_type": "markdown",
   "id": "5de84a48-8c7b-4b16-afe6-66a262444ff0",
   "metadata": {},
   "source": [
    "### 2.4 Evaluating and Predicting New Samples"
   ]
  },
  {
   "cell_type": "markdown",
   "id": "0ea28a2d-9561-4704-bb14-809a98a8c955",
   "metadata": {},
   "source": [
    "#### **Prediction**\n",
    "https://www.tensorflow.org/api_docs/python/tf/keras/Sequential#predict"
   ]
  },
  {
   "cell_type": "code",
   "execution_count": null,
   "id": "45524a40-cbd7-4ce8-b5c9-04103ab2e04c",
   "metadata": {},
   "outputs": [],
   "source": [
    "print(f'X_test.min() = {X_test.min()}')\n",
    "print(f'X_test.max() = {X_test.max()}')"
   ]
  },
  {
   "cell_type": "code",
   "execution_count": null,
   "id": "356b77de-5171-459e-8932-2d4c6452ffeb",
   "metadata": {},
   "outputs": [],
   "source": []
  },
  {
   "cell_type": "code",
   "execution_count": null,
   "id": "4150be3c-272d-435c-867c-cd41e9497a9e",
   "metadata": {},
   "outputs": [],
   "source": []
  },
  {
   "cell_type": "markdown",
   "id": "f9812258-a05d-41f3-9311-907844fe4231",
   "metadata": {},
   "source": [
    "#### **Manual Prediction/Evaluation**"
   ]
  },
  {
   "cell_type": "code",
   "execution_count": null,
   "id": "d1bbae89-4422-4c32-8418-beee6ae334a7",
   "metadata": {},
   "outputs": [],
   "source": []
  },
  {
   "cell_type": "code",
   "execution_count": null,
   "id": "6ce24e94-2de9-43a3-a4c5-2c10f8426202",
   "metadata": {},
   "outputs": [],
   "source": []
  },
  {
   "cell_type": "code",
   "execution_count": null,
   "id": "7d6fdd8f-6956-4e6c-9206-41813c964e23",
   "metadata": {},
   "outputs": [],
   "source": []
  },
  {
   "cell_type": "code",
   "execution_count": null,
   "id": "61fb5231-e7b5-4822-871a-3e7dc6796f38",
   "metadata": {},
   "outputs": [],
   "source": []
  }
 ],
 "metadata": {
  "kernelspec": {
   "display_name": "Python 3",
   "language": "python",
   "name": "python3"
  },
  "language_info": {
   "codemirror_mode": {
    "name": "ipython",
    "version": 3
   },
   "file_extension": ".py",
   "mimetype": "text/x-python",
   "name": "python",
   "nbconvert_exporter": "python",
   "pygments_lexer": "ipython3",
   "version": "3.8.5"
  }
 },
 "nbformat": 4,
 "nbformat_minor": 5
}
