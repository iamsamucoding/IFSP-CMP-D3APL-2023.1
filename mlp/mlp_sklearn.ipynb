{
 "cells": [
  {
   "cell_type": "markdown",
   "id": "dee11e74-cdb3-437a-a24b-e15c760e1b7c",
   "metadata": {},
   "source": [
    "**D3APL: Aplicações em Ciência de Dados** <br/>\n",
    "IFSP Campinas\n",
    "\n",
    "Prof. Dr. Samuel Martins (Samuka) <br/><br/>\n",
    "\n",
    "<a rel=\"license\" href=\"http://creativecommons.org/licenses/by-nc-sa/4.0/\"><img alt=\"Creative Commons License\" style=\"border-width:0\" src=\"https://i.creativecommons.org/l/by-nc-sa/4.0/88x31.png\" /></a><br />This work is licensed under a <a rel=\"license\" href=\"http://creativecommons.org/licenses/by-nc-sa/4.0/\">Creative Commons Attribution-NonCommercial-ShareAlike 4.0 International License</a>."
   ]
  },
  {
   "cell_type": "markdown",
   "id": "f8ea0759-e8cf-4f80-834f-bd2c5cea6f83",
   "metadata": {},
   "source": [
    "# Multilayer Perceptron (MLP) with Scikit-learn"
   ]
  },
  {
   "cell_type": "markdown",
   "id": "6f9a910d-98d3-4bfa-8d86-e113e99845a9",
   "metadata": {},
   "source": [
    "## 1. Set up"
   ]
  },
  {
   "cell_type": "markdown",
   "id": "5f513a89-e309-4aae-8c70-5e5b3bf1d229",
   "metadata": {},
   "source": [
    "#### 1.1 Imports"
   ]
  },
  {
   "cell_type": "code",
   "execution_count": 1,
   "id": "4fd679ba-2fc2-4c54-af18-497b054c3342",
   "metadata": {},
   "outputs": [],
   "source": [
    "import numpy as np\n",
    "from sklearn import datasets\n",
    "from sklearn.model_selection import train_test_split\n",
    "import matplotlib.pyplot as plt"
   ]
  },
  {
   "cell_type": "markdown",
   "id": "fdffb2ff-9029-41ba-8489-97e99c5f3844",
   "metadata": {},
   "source": [
    "#### 1.2 Loading MNIST Dataset\n",
    "https://scikit-learn.org/stable/modules/generated/sklearn.datasets.load_digits.html#sklearn.datasets.load_digits"
   ]
  },
  {
   "cell_type": "code",
   "execution_count": 2,
   "id": "3d277432-237a-4e5f-b720-266d7e1d15d3",
   "metadata": {},
   "outputs": [
    {
     "data": {
      "text/plain": [
       "{'data': array([[ 0.,  0.,  5., ...,  0.,  0.,  0.],\n",
       "        [ 0.,  0.,  0., ..., 10.,  0.,  0.],\n",
       "        [ 0.,  0.,  0., ..., 16.,  9.,  0.],\n",
       "        ...,\n",
       "        [ 0.,  0.,  1., ...,  6.,  0.,  0.],\n",
       "        [ 0.,  0.,  2., ..., 12.,  0.,  0.],\n",
       "        [ 0.,  0., 10., ..., 12.,  1.,  0.]]),\n",
       " 'target': array([0, 1, 2, ..., 8, 9, 8]),\n",
       " 'frame': None,\n",
       " 'feature_names': ['pixel_0_0',\n",
       "  'pixel_0_1',\n",
       "  'pixel_0_2',\n",
       "  'pixel_0_3',\n",
       "  'pixel_0_4',\n",
       "  'pixel_0_5',\n",
       "  'pixel_0_6',\n",
       "  'pixel_0_7',\n",
       "  'pixel_1_0',\n",
       "  'pixel_1_1',\n",
       "  'pixel_1_2',\n",
       "  'pixel_1_3',\n",
       "  'pixel_1_4',\n",
       "  'pixel_1_5',\n",
       "  'pixel_1_6',\n",
       "  'pixel_1_7',\n",
       "  'pixel_2_0',\n",
       "  'pixel_2_1',\n",
       "  'pixel_2_2',\n",
       "  'pixel_2_3',\n",
       "  'pixel_2_4',\n",
       "  'pixel_2_5',\n",
       "  'pixel_2_6',\n",
       "  'pixel_2_7',\n",
       "  'pixel_3_0',\n",
       "  'pixel_3_1',\n",
       "  'pixel_3_2',\n",
       "  'pixel_3_3',\n",
       "  'pixel_3_4',\n",
       "  'pixel_3_5',\n",
       "  'pixel_3_6',\n",
       "  'pixel_3_7',\n",
       "  'pixel_4_0',\n",
       "  'pixel_4_1',\n",
       "  'pixel_4_2',\n",
       "  'pixel_4_3',\n",
       "  'pixel_4_4',\n",
       "  'pixel_4_5',\n",
       "  'pixel_4_6',\n",
       "  'pixel_4_7',\n",
       "  'pixel_5_0',\n",
       "  'pixel_5_1',\n",
       "  'pixel_5_2',\n",
       "  'pixel_5_3',\n",
       "  'pixel_5_4',\n",
       "  'pixel_5_5',\n",
       "  'pixel_5_6',\n",
       "  'pixel_5_7',\n",
       "  'pixel_6_0',\n",
       "  'pixel_6_1',\n",
       "  'pixel_6_2',\n",
       "  'pixel_6_3',\n",
       "  'pixel_6_4',\n",
       "  'pixel_6_5',\n",
       "  'pixel_6_6',\n",
       "  'pixel_6_7',\n",
       "  'pixel_7_0',\n",
       "  'pixel_7_1',\n",
       "  'pixel_7_2',\n",
       "  'pixel_7_3',\n",
       "  'pixel_7_4',\n",
       "  'pixel_7_5',\n",
       "  'pixel_7_6',\n",
       "  'pixel_7_7'],\n",
       " 'target_names': array([0, 1, 2, 3, 4, 5, 6, 7, 8, 9]),\n",
       " 'images': array([[[ 0.,  0.,  5., ...,  1.,  0.,  0.],\n",
       "         [ 0.,  0., 13., ..., 15.,  5.,  0.],\n",
       "         [ 0.,  3., 15., ..., 11.,  8.,  0.],\n",
       "         ...,\n",
       "         [ 0.,  4., 11., ..., 12.,  7.,  0.],\n",
       "         [ 0.,  2., 14., ..., 12.,  0.,  0.],\n",
       "         [ 0.,  0.,  6., ...,  0.,  0.,  0.]],\n",
       " \n",
       "        [[ 0.,  0.,  0., ...,  5.,  0.,  0.],\n",
       "         [ 0.,  0.,  0., ...,  9.,  0.,  0.],\n",
       "         [ 0.,  0.,  3., ...,  6.,  0.,  0.],\n",
       "         ...,\n",
       "         [ 0.,  0.,  1., ...,  6.,  0.,  0.],\n",
       "         [ 0.,  0.,  1., ...,  6.,  0.,  0.],\n",
       "         [ 0.,  0.,  0., ..., 10.,  0.,  0.]],\n",
       " \n",
       "        [[ 0.,  0.,  0., ..., 12.,  0.,  0.],\n",
       "         [ 0.,  0.,  3., ..., 14.,  0.,  0.],\n",
       "         [ 0.,  0.,  8., ..., 16.,  0.,  0.],\n",
       "         ...,\n",
       "         [ 0.,  9., 16., ...,  0.,  0.,  0.],\n",
       "         [ 0.,  3., 13., ..., 11.,  5.,  0.],\n",
       "         [ 0.,  0.,  0., ..., 16.,  9.,  0.]],\n",
       " \n",
       "        ...,\n",
       " \n",
       "        [[ 0.,  0.,  1., ...,  1.,  0.,  0.],\n",
       "         [ 0.,  0., 13., ...,  2.,  1.,  0.],\n",
       "         [ 0.,  0., 16., ..., 16.,  5.,  0.],\n",
       "         ...,\n",
       "         [ 0.,  0., 16., ..., 15.,  0.,  0.],\n",
       "         [ 0.,  0., 15., ..., 16.,  0.,  0.],\n",
       "         [ 0.,  0.,  2., ...,  6.,  0.,  0.]],\n",
       " \n",
       "        [[ 0.,  0.,  2., ...,  0.,  0.,  0.],\n",
       "         [ 0.,  0., 14., ..., 15.,  1.,  0.],\n",
       "         [ 0.,  4., 16., ..., 16.,  7.,  0.],\n",
       "         ...,\n",
       "         [ 0.,  0.,  0., ..., 16.,  2.,  0.],\n",
       "         [ 0.,  0.,  4., ..., 16.,  2.,  0.],\n",
       "         [ 0.,  0.,  5., ..., 12.,  0.,  0.]],\n",
       " \n",
       "        [[ 0.,  0., 10., ...,  1.,  0.,  0.],\n",
       "         [ 0.,  2., 16., ...,  1.,  0.,  0.],\n",
       "         [ 0.,  0., 15., ..., 15.,  0.,  0.],\n",
       "         ...,\n",
       "         [ 0.,  4., 16., ..., 16.,  6.,  0.],\n",
       "         [ 0.,  8., 16., ..., 16.,  8.,  0.],\n",
       "         [ 0.,  1.,  8., ..., 12.,  1.,  0.]]]),\n",
       " 'DESCR': \".. _digits_dataset:\\n\\nOptical recognition of handwritten digits dataset\\n--------------------------------------------------\\n\\n**Data Set Characteristics:**\\n\\n    :Number of Instances: 1797\\n    :Number of Attributes: 64\\n    :Attribute Information: 8x8 image of integer pixels in the range 0..16.\\n    :Missing Attribute Values: None\\n    :Creator: E. Alpaydin (alpaydin '@' boun.edu.tr)\\n    :Date: July; 1998\\n\\nThis is a copy of the test set of the UCI ML hand-written digits datasets\\nhttps://archive.ics.uci.edu/ml/datasets/Optical+Recognition+of+Handwritten+Digits\\n\\nThe data set contains images of hand-written digits: 10 classes where\\neach class refers to a digit.\\n\\nPreprocessing programs made available by NIST were used to extract\\nnormalized bitmaps of handwritten digits from a preprinted form. From a\\ntotal of 43 people, 30 contributed to the training set and different 13\\nto the test set. 32x32 bitmaps are divided into nonoverlapping blocks of\\n4x4 and the number of on pixels are counted in each block. This generates\\nan input matrix of 8x8 where each element is an integer in the range\\n0..16. This reduces dimensionality and gives invariance to small\\ndistortions.\\n\\nFor info on NIST preprocessing routines, see M. D. Garris, J. L. Blue, G.\\nT. Candela, D. L. Dimmick, J. Geist, P. J. Grother, S. A. Janet, and C.\\nL. Wilson, NIST Form-Based Handprint Recognition System, NISTIR 5469,\\n1994.\\n\\n.. topic:: References\\n\\n  - C. Kaynak (1995) Methods of Combining Multiple Classifiers and Their\\n    Applications to Handwritten Digit Recognition, MSc Thesis, Institute of\\n    Graduate Studies in Science and Engineering, Bogazici University.\\n  - E. Alpaydin, C. Kaynak (1998) Cascading Classifiers, Kybernetika.\\n  - Ken Tang and Ponnuthurai N. Suganthan and Xi Yao and A. Kai Qin.\\n    Linear dimensionalityreduction using relevance weighted LDA. School of\\n    Electrical and Electronic Engineering Nanyang Technological University.\\n    2005.\\n  - Claudio Gentile. A New Approximate Maximal Margin Classification\\n    Algorithm. NIPS. 2000.\\n\"}"
      ]
     },
     "execution_count": 2,
     "metadata": {},
     "output_type": "execute_result"
    }
   ],
   "source": [
    "digits = datasets.load_digits()\n",
    "digits"
   ]
  },
  {
   "cell_type": "markdown",
   "id": "4961a3fb-34a8-498f-933f-228d35550c25",
   "metadata": {},
   "source": [
    "#### **images vs data**"
   ]
  },
  {
   "cell_type": "markdown",
   "id": "0577e923-c537-4da4-aff1-4cca8eec7303",
   "metadata": {},
   "source": [
    "<b>data{ndarray, dataframe} of shape (1797, 64)</b> <br/>\n",
    "&nbsp;&nbsp;&nbsp;&nbsp; The flattened data matrix. If as_frame=True, data will be a pandas DataFrame.\n",
    "\n",
    "The image's pixels are flattened into a **feature vector (1D array)**.\n"
   ]
  },
  {
   "cell_type": "markdown",
   "id": "d7d1daa1-05e2-4b89-89c6-313db7589512",
   "metadata": {},
   "source": [
    "<b>images: {ndarray} of shape (1797, 8, 8)</b> <br/>\n",
    "&nbsp;&nbsp;&nbsp;&nbsp; The raw image data.\n",
    "\n",
    "Original image resolution."
   ]
  },
  {
   "cell_type": "markdown",
   "id": "219c6eb7-4d69-47a5-acc8-477a94d9110d",
   "metadata": {},
   "source": [
    "#### **Displaying some images**"
   ]
  },
  {
   "cell_type": "code",
   "execution_count": 3,
   "id": "5eea32dc-cdc7-4c8c-b32f-0d1968c8e4ab",
   "metadata": {},
   "outputs": [
    {
     "data": {
      "image/png": "[encoded data removed]",
      "text/plain": [
       "<Figure size 1000x300 with 4 Axes>"
      ]
     },
     "metadata": {},
     "output_type": "display_data"
    }
   ],
   "source": [
    "_, axes = plt.subplots(nrows=1, ncols=4, figsize=(10, 3))\n",
    "for ax, image, label in zip(axes, digits.images, digits.target):\n",
    "    ax.set_axis_off()\n",
    "    ax.imshow(image, cmap=plt.cm.gray_r, interpolation=\"nearest\")\n",
    "    ax.set_title(\"Image: %i\" % label)"
   ]
  },
  {
   "cell_type": "markdown",
   "id": "679238e4-dc75-476e-857c-7ec23554edf2",
   "metadata": {},
   "source": [
    "#### 1.3 Getting the data and labels"
   ]
  },
  {
   "cell_type": "code",
   "execution_count": 4,
   "id": "a90564f9-f148-4618-8e9f-b5dccee6f30c",
   "metadata": {},
   "outputs": [
    {
     "name": "stdout",
     "output_type": "stream",
     "text": [
      "X.shape = (1797, 64)\n",
      "y.shape = (1797,)\n"
     ]
    }
   ],
   "source": [
    "X = digits['data']\n",
    "y = digits['target']\n",
    "\n",
    "print(f'X.shape = {X.shape}')\n",
    "print(f'y.shape = {y.shape}')"
   ]
  },
  {
   "cell_type": "markdown",
   "id": "ddf992e7-2e1a-42f7-9bf5-77124bfc23f5",
   "metadata": {},
   "source": [
    "#### 1.4 Splitting data into train and test"
   ]
  },
  {
   "cell_type": "code",
   "execution_count": 5,
   "id": "3cbb2915-c87f-46fc-b9cc-50bcf8aa4a25",
   "metadata": {},
   "outputs": [],
   "source": [
    "X_train, X_test, y_train, y_test = train_test_split(X, y, test_size=0.2, random_state=42)"
   ]
  },
  {
   "cell_type": "code",
   "execution_count": 6,
   "id": "c8119e04-ee37-4a32-ad5f-fe6bf52786a6",
   "metadata": {},
   "outputs": [
    {
     "name": "stdout",
     "output_type": "stream",
     "text": [
      "# Training set\n",
      "X_train.shape = (1437, 64)\n",
      "y_train.shape = (1437,)\n",
      "\n",
      "# Testing set\n",
      "X_test.shape = (360, 64)\n",
      "y_test.shape = (360,)\n"
     ]
    }
   ],
   "source": [
    "print('# Training set')\n",
    "print(f'X_train.shape = {X_train.shape}')\n",
    "print(f'y_train.shape = {y_train.shape}\\n')\n",
    "\n",
    "print('# Testing set')\n",
    "print(f'X_test.shape = {X_test.shape}')\n",
    "print(f'y_test.shape = {y_test.shape}')"
   ]
  },
  {
   "cell_type": "markdown",
   "id": "fb9a51a0-2aa2-4b28-9021-ad032a591114",
   "metadata": {},
   "source": [
    "#### 1.5 Feature scaling"
   ]
  },
  {
   "cell_type": "code",
   "execution_count": 8,
   "id": "4eea8835-0574-4aa7-b789-39e4635f98fc",
   "metadata": {},
   "outputs": [
    {
     "data": {
      "text/plain": [
       "(0.0, 16.0)"
      ]
     },
     "execution_count": 8,
     "metadata": {},
     "output_type": "execute_result"
    }
   ],
   "source": [
    "X.min(), X.max()"
   ]
  },
  {
   "cell_type": "code",
   "execution_count": 9,
   "id": "af7d4d28-2fa5-421a-883e-9a300841290e",
   "metadata": {
    "tags": []
   },
   "outputs": [],
   "source": [
    "from sklearn.preprocessing import StandardScaler\n",
    "\n",
    "scaler = StandardScaler()\n",
    "\n",
    "X_train = scaler.fit_transform(X_train)\n",
    "X_test = scaler.transform(X_test)"
   ]
  },
  {
   "cell_type": "code",
   "execution_count": 10,
   "id": "6a0f1218-02de-4738-aa63-b2cc9315eb23",
   "metadata": {
    "tags": []
   },
   "outputs": [
    {
     "data": {
      "text/plain": [
       "(-2.9998022720318125, 37.89459064299289)"
      ]
     },
     "execution_count": 10,
     "metadata": {},
     "output_type": "execute_result"
    }
   ],
   "source": [
    "X_train.min(), X_train.max()"
   ]
  },
  {
   "cell_type": "markdown",
   "id": "c08365a0-6e2c-45e7-9f97-a29390b80829",
   "metadata": {},
   "source": [
    "## 2. Training MLP\n",
    "https://scikit-learn.org/stable/modules/generated/sklearn.neural_network.MLPClassifier.html"
   ]
  },
  {
   "cell_type": "markdown",
   "id": "75037f22-c4e4-4d32-9e56-4680f3cd4559",
   "metadata": {},
   "source": [
    "### 2.1 Imports"
   ]
  },
  {
   "cell_type": "code",
   "execution_count": 11,
   "id": "7def37f6-af4b-4811-8e79-aa34d3a29845",
   "metadata": {},
   "outputs": [],
   "source": [
    "from sklearn.neural_network import MLPClassifier"
   ]
  },
  {
   "cell_type": "markdown",
   "id": "184024b0-ab31-49e1-b1f8-30f77adcf0bf",
   "metadata": {},
   "source": [
    "### 2.2 Training"
   ]
  },
  {
   "cell_type": "code",
   "execution_count": 12,
   "id": "f16a0bee-e1ad-4acd-b985-96f57982e95b",
   "metadata": {},
   "outputs": [],
   "source": [
    "# MLP with 2 hidden layers, each with 16 neurons\n",
    "mlp = MLPClassifier(hidden_layer_sizes=(16, 16), solver='sgd', max_iter=1000)"
   ]
  },
  {
   "cell_type": "code",
   "execution_count": 13,
   "id": "f8da5e69-64ad-4566-8886-42ef5a1c57d7",
   "metadata": {},
   "outputs": [
    {
     "data": {
      "text/html": [
       "<style>#sk-container-id-1 {color: black;background-color: white;}#sk-container-id-1 pre{padding: 0;}#sk-container-id-1 div.sk-toggleable {background-color: white;}#sk-container-id-1 label.sk-toggleable__label {cursor: pointer;display: block;width: 100%;margin-bottom: 0;padding: 0.3em;box-sizing: border-box;text-align: center;}#sk-container-id-1 label.sk-toggleable__label-arrow:before {content: \"▸\";float: left;margin-right: 0.25em;color: #696969;}#sk-container-id-1 label.sk-toggleable__label-arrow:hover:before {color: black;}#sk-container-id-1 div.sk-estimator:hover label.sk-toggleable__label-arrow:before {color: black;}#sk-container-id-1 div.sk-toggleable__content {max-height: 0;max-width: 0;overflow: hidden;text-align: left;background-color: #f0f8ff;}#sk-container-id-1 div.sk-toggleable__content pre {margin: 0.2em;color: black;border-radius: 0.25em;background-color: #f0f8ff;}#sk-container-id-1 input.sk-toggleable__control:checked~div.sk-toggleable__content {max-height: 200px;max-width: 100%;overflow: auto;}#sk-container-id-1 input.sk-toggleable__control:checked~label.sk-toggleable__label-arrow:before {content: \"▾\";}#sk-container-id-1 div.sk-estimator input.sk-toggleable__control:checked~label.sk-toggleable__label {background-color: #d4ebff;}#sk-container-id-1 div.sk-label input.sk-toggleable__control:checked~label.sk-toggleable__label {background-color: #d4ebff;}#sk-container-id-1 input.sk-hidden--visually {border: 0;clip: rect(1px 1px 1px 1px);clip: rect(1px, 1px, 1px, 1px);height: 1px;margin: -1px;overflow: hidden;padding: 0;position: absolute;width: 1px;}#sk-container-id-1 div.sk-estimator {font-family: monospace;background-color: #f0f8ff;border: 1px dotted black;border-radius: 0.25em;box-sizing: border-box;margin-bottom: 0.5em;}#sk-container-id-1 div.sk-estimator:hover {background-color: #d4ebff;}#sk-container-id-1 div.sk-parallel-item::after {content: \"\";width: 100%;border-bottom: 1px solid gray;flex-grow: 1;}#sk-container-id-1 div.sk-label:hover label.sk-toggleable__label {background-color: #d4ebff;}#sk-container-id-1 div.sk-serial::before {content: \"\";position: absolute;border-left: 1px solid gray;box-sizing: border-box;top: 0;bottom: 0;left: 50%;z-index: 0;}#sk-container-id-1 div.sk-serial {display: flex;flex-direction: column;align-items: center;background-color: white;padding-right: 0.2em;padding-left: 0.2em;position: relative;}#sk-container-id-1 div.sk-item {position: relative;z-index: 1;}#sk-container-id-1 div.sk-parallel {display: flex;align-items: stretch;justify-content: center;background-color: white;position: relative;}#sk-container-id-1 div.sk-item::before, #sk-container-id-1 div.sk-parallel-item::before {content: \"\";position: absolute;border-left: 1px solid gray;box-sizing: border-box;top: 0;bottom: 0;left: 50%;z-index: -1;}#sk-container-id-1 div.sk-parallel-item {display: flex;flex-direction: column;z-index: 1;position: relative;background-color: white;}#sk-container-id-1 div.sk-parallel-item:first-child::after {align-self: flex-end;width: 50%;}#sk-container-id-1 div.sk-parallel-item:last-child::after {align-self: flex-start;width: 50%;}#sk-container-id-1 div.sk-parallel-item:only-child::after {width: 0;}#sk-container-id-1 div.sk-dashed-wrapped {border: 1px dashed gray;margin: 0 0.4em 0.5em 0.4em;box-sizing: border-box;padding-bottom: 0.4em;background-color: white;}#sk-container-id-1 div.sk-label label {font-family: monospace;font-weight: bold;display: inline-block;line-height: 1.2em;}#sk-container-id-1 div.sk-label-container {text-align: center;}#sk-container-id-1 div.sk-container {/* jupyter's `normalize.less` sets `[hidden] { display: none; }` but bootstrap.min.css set `[hidden] { display: none !important; }` so we also need the `!important` here to be able to override the default hidden behavior on the sphinx rendered scikit-learn.org. See: https://github.com/scikit-learn/scikit-learn/issues/21755 */display: inline-block !important;position: relative;}#sk-container-id-1 div.sk-text-repr-fallback {display: none;}</style><div id=\"sk-container-id-1\" class=\"sk-top-container\"><div class=\"sk-text-repr-fallback\"><pre>MLPClassifier(hidden_layer_sizes=(16, 16), max_iter=1000, solver=&#x27;sgd&#x27;)</pre><b>In a Jupyter environment, please rerun this cell to show the HTML representation or trust the notebook. <br />On GitHub, the HTML representation is unable to render, please try loading this page with nbviewer.org.</b></div><div class=\"sk-container\" hidden><div class=\"sk-item\"><div class=\"sk-estimator sk-toggleable\"><input class=\"sk-toggleable__control sk-hidden--visually\" id=\"sk-estimator-id-1\" type=\"checkbox\" checked><label for=\"sk-estimator-id-1\" class=\"sk-toggleable__label sk-toggleable__label-arrow\">MLPClassifier</label><div class=\"sk-toggleable__content\"><pre>MLPClassifier(hidden_layer_sizes=(16, 16), max_iter=1000, solver=&#x27;sgd&#x27;)</pre></div></div></div></div></div>"
      ],
      "text/plain": [
       "MLPClassifier(hidden_layer_sizes=(16, 16), max_iter=1000, solver='sgd')"
      ]
     },
     "execution_count": 13,
     "metadata": {},
     "output_type": "execute_result"
    }
   ],
   "source": [
    "mlp.fit(X_train, y_train)"
   ]
  },
  {
   "cell_type": "markdown",
   "id": "a26369ed-782c-446d-a656-f83a13a779b5",
   "metadata": {},
   "source": [
    "### 2.3 Getting the number of layers"
   ]
  },
  {
   "cell_type": "code",
   "execution_count": 14,
   "id": "035820b0-b120-4670-bd9d-520f21e2e869",
   "metadata": {
    "tags": []
   },
   "outputs": [
    {
     "data": {
      "text/plain": [
       "(16, 16)"
      ]
     },
     "execution_count": 14,
     "metadata": {},
     "output_type": "execute_result"
    }
   ],
   "source": [
    "mlp.hidden_layer_sizes"
   ]
  },
  {
   "cell_type": "code",
   "execution_count": 15,
   "id": "b1497494-6eb8-4bc4-979e-b563935f647f",
   "metadata": {},
   "outputs": [
    {
     "name": "stdout",
     "output_type": "stream",
     "text": [
      "Number of layers: 4\n",
      "Number of hidden layers: 2\n"
     ]
    }
   ],
   "source": [
    "print(f'Number of layers: {mlp.n_layers_}')\n",
    "print(f'Number of hidden layers: {len(mlp.hidden_layer_sizes)}')"
   ]
  },
  {
   "cell_type": "markdown",
   "id": "9f74822f-c21e-4efa-8a4e-fbc2d3644ea0",
   "metadata": {},
   "source": [
    "### 2.4 Info"
   ]
  },
  {
   "cell_type": "markdown",
   "id": "4a85ca6a-ebd3-4d7f-8a98-907fe1494899",
   "metadata": {},
   "source": [
    "#### **Number of neurons in the hidden layers**"
   ]
  },
  {
   "cell_type": "code",
   "execution_count": 16,
   "id": "442c50e2-f02a-41b4-9ecc-6d7f274e5d62",
   "metadata": {},
   "outputs": [
    {
     "name": "stdout",
     "output_type": "stream",
     "text": [
      "Number of neurons in the hidden layers: (16, 16)\n"
     ]
    }
   ],
   "source": [
    "print(f'Number of neurons in the hidden layers: {mlp.hidden_layer_sizes}')"
   ]
  },
  {
   "cell_type": "markdown",
   "id": "17aaae7a-8943-4fa7-b85c-f134628c1a81",
   "metadata": {},
   "source": [
    "#### **Number of neurons in the output layer**"
   ]
  },
  {
   "cell_type": "code",
   "execution_count": 17,
   "id": "81e9f950-e826-43ee-b858-6b1855d06434",
   "metadata": {},
   "outputs": [
    {
     "name": "stdout",
     "output_type": "stream",
     "text": [
      "Number of neurons in the output layers: 10\n"
     ]
    }
   ],
   "source": [
    "print(f'Number of neurons in the output layers: {mlp.n_outputs_}')"
   ]
  },
  {
   "cell_type": "markdown",
   "id": "b59cdded-db28-45b7-b409-a250e534d1c9",
   "metadata": {},
   "source": [
    "#### **Learned weights of each layer**"
   ]
  },
  {
   "cell_type": "code",
   "execution_count": 19,
   "id": "2e385906-c8c0-48bc-91d2-8b8a9b7d8014",
   "metadata": {},
   "outputs": [
    {
     "name": "stdout",
     "output_type": "stream",
     "text": [
      "3\n"
     ]
    }
   ],
   "source": [
    "# one matrix per layer except the input layer\n",
    "print(len(mlp.coefs_))"
   ]
  },
  {
   "cell_type": "code",
   "execution_count": 20,
   "id": "96d5d281-f152-484a-ad87-2ed777e5ea4e",
   "metadata": {},
   "outputs": [
    {
     "name": "stdout",
     "output_type": "stream",
     "text": [
      "Layer 2 Weight Matrix: (64, 16)\n"
     ]
    }
   ],
   "source": [
    "# weights of Layer 2 (hidden layer)\n",
    "print(f'Layer 2 Weight Matrix: {mlp.coefs_[0].shape}')\n"
   ]
  },
  {
   "cell_type": "code",
   "execution_count": 21,
   "id": "f7815778-7990-4d84-835a-414f54c34e99",
   "metadata": {},
   "outputs": [
    {
     "name": "stdout",
     "output_type": "stream",
     "text": [
      "Layer 3 Weight Matrix: (16, 16)\n"
     ]
    }
   ],
   "source": [
    "# weights of Layer 3 (hidden layer)\n",
    "print(f'Layer 3 Weight Matrix: {mlp.coefs_[1].shape}')\n"
   ]
  },
  {
   "cell_type": "code",
   "execution_count": 22,
   "id": "520d3fd4-7d89-49f4-bd0d-fbed6efd0278",
   "metadata": {},
   "outputs": [
    {
     "name": "stdout",
     "output_type": "stream",
     "text": [
      "Layer 4 Weight Matrix: (16, 10)\n"
     ]
    }
   ],
   "source": [
    "# weights of Layer 4 (output layer)\n",
    "print(f'Layer 4 Weight Matrix: {mlp.coefs_[2].shape}')\n"
   ]
  },
  {
   "cell_type": "markdown",
   "id": "103334bf-e812-4b4d-b2bc-01872251cba1",
   "metadata": {},
   "source": [
    "#### **Biases of each layer**"
   ]
  },
  {
   "cell_type": "code",
   "execution_count": 24,
   "id": "f95e3729-eeeb-489d-8688-26b350587a28",
   "metadata": {},
   "outputs": [
    {
     "data": {
      "text/plain": [
       "3"
      ]
     },
     "execution_count": 24,
     "metadata": {},
     "output_type": "execute_result"
    }
   ],
   "source": [
    "# one array per layer except the input layer\n",
    "len(mlp.intercepts_)"
   ]
  },
  {
   "cell_type": "code",
   "execution_count": 26,
   "id": "215788e3-d285-4036-b555-226fc5f2d59a",
   "metadata": {},
   "outputs": [
    {
     "name": "stdout",
     "output_type": "stream",
     "text": [
      "Layer 2 Biases: (16,)\n"
     ]
    }
   ],
   "source": [
    "# biases of Layer 2 (hidden layer)\n",
    "print(f'Layer 2 Biases: {mlp.intercepts_[0].shape}')\n"
   ]
  },
  {
   "cell_type": "code",
   "execution_count": 28,
   "id": "d972e568-4914-4a21-b852-5365d9aa11fe",
   "metadata": {},
   "outputs": [
    {
     "name": "stdout",
     "output_type": "stream",
     "text": [
      "Layer 3 Biases: (16,)\n"
     ]
    }
   ],
   "source": [
    "# biases of Layer 3 (hidden layer)\n",
    "print(f'Layer 3 Biases: {mlp.intercepts_[1].shape}')\n"
   ]
  },
  {
   "cell_type": "code",
   "execution_count": 29,
   "id": "0d94bc54-8499-4368-a069-8696936c33f0",
   "metadata": {},
   "outputs": [
    {
     "name": "stdout",
     "output_type": "stream",
     "text": [
      "Layer 4 Biases: (10,)\n"
     ]
    }
   ],
   "source": [
    "# biases of Layer 4 (output layer)\n",
    "print(f'Layer 4 Biases: {mlp.intercepts_[2].shape}')\n"
   ]
  },
  {
   "cell_type": "markdown",
   "id": "7365976b-4d0e-46e8-ab99-b90a899e7efe",
   "metadata": {},
   "source": [
    "## 3. Experiments"
   ]
  },
  {
   "cell_type": "markdown",
   "id": "707eafe8-c207-49fd-bb43-fe957b7c512a",
   "metadata": {},
   "source": [
    "### 3.1 Predictions"
   ]
  },
  {
   "cell_type": "code",
   "execution_count": 30,
   "id": "c4c57973-6126-4f59-95b7-ce9bebe5c1a7",
   "metadata": {},
   "outputs": [],
   "source": [
    "y_test_pred = mlp.predict(X_test)"
   ]
  },
  {
   "cell_type": "code",
   "execution_count": 31,
   "id": "f6013235-5fae-47dc-9ab1-60390cdadba2",
   "metadata": {},
   "outputs": [],
   "source": [
    "from sklearn.metrics import classification_report"
   ]
  },
  {
   "cell_type": "code",
   "execution_count": 32,
   "id": "f6697e36-89d5-4cde-b4f0-63ea45ae030f",
   "metadata": {},
   "outputs": [
    {
     "name": "stdout",
     "output_type": "stream",
     "text": [
      "              precision    recall  f1-score   support\n",
      "\n",
      "           0       0.97      0.94      0.95        33\n",
      "           1       0.97      1.00      0.98        28\n",
      "           2       1.00      0.94      0.97        33\n",
      "           3       0.92      0.97      0.94        34\n",
      "           4       0.98      1.00      0.99        46\n",
      "           5       0.91      0.89      0.90        47\n",
      "           6       0.97      0.97      0.97        35\n",
      "           7       1.00      0.97      0.99        34\n",
      "           8       0.97      0.97      0.97        30\n",
      "           9       0.90      0.93      0.91        40\n",
      "\n",
      "    accuracy                           0.96       360\n",
      "   macro avg       0.96      0.96      0.96       360\n",
      "weighted avg       0.96      0.96      0.96       360\n",
      "\n"
     ]
    }
   ],
   "source": [
    "print(classification_report(y_test, y_test_pred))"
   ]
  },
  {
   "cell_type": "markdown",
   "id": "80722232-339b-4550-93cf-33dc1ec84f21",
   "metadata": {},
   "source": [
    "### 3.2 Visualizing Errors"
   ]
  },
  {
   "cell_type": "code",
   "execution_count": 33,
   "id": "7747be44-68d6-492d-b0f2-ed6940754381",
   "metadata": {},
   "outputs": [],
   "source": [
    "test_errors_mask = y_test != y_test_pred"
   ]
  },
  {
   "cell_type": "code",
   "execution_count": 34,
   "id": "b8402c06-cfd2-4c6e-b9d2-f002f86bf67f",
   "metadata": {},
   "outputs": [
    {
     "data": {
      "text/plain": [
       "array([[  9],\n",
       "       [ 52],\n",
       "       [ 60],\n",
       "       [ 71],\n",
       "       [ 97],\n",
       "       [133],\n",
       "       [149],\n",
       "       [159],\n",
       "       [193],\n",
       "       [234],\n",
       "       [239],\n",
       "       [244],\n",
       "       [245],\n",
       "       [249],\n",
       "       [269],\n",
       "       [339]])"
      ]
     },
     "execution_count": 34,
     "metadata": {},
     "output_type": "execute_result"
    }
   ],
   "source": [
    "test_errors_indices = np.argwhere(test_errors_mask)\n",
    "test_errors_indices"
   ]
  },
  {
   "cell_type": "code",
   "execution_count": 35,
   "id": "480a69d1-8364-4dbc-a73e-d67005759d03",
   "metadata": {},
   "outputs": [
    {
     "data": {
      "text/plain": [
       "array([  9,  52,  60,  71,  97, 133, 149, 159, 193, 234, 239, 244, 245,\n",
       "       249, 269, 339])"
      ]
     },
     "execution_count": 35,
     "metadata": {},
     "output_type": "execute_result"
    }
   ],
   "source": [
    "test_errors_indices = test_errors_indices.ravel()\n",
    "test_errors_indices"
   ]
  },
  {
   "cell_type": "code",
   "execution_count": 39,
   "id": "dbcb621d-6a0c-4f79-b00a-e5841bb1bc57",
   "metadata": {},
   "outputs": [
    {
     "name": "stdout",
     "output_type": "stream",
     "text": [
      "Number of misclassified test image: 16\n"
     ]
    }
   ],
   "source": [
    "print(f'Number of misclassified test image: {test_errors_indices.size}')"
   ]
  },
  {
   "cell_type": "code",
   "execution_count": 43,
   "id": "3200c2fb-1d71-4719-bd67-a7a5bf1a768d",
   "metadata": {
    "tags": []
   },
   "outputs": [
    {
     "data": {
      "text/plain": [
       "<bound method StandardScaler.inverse_transform of StandardScaler()>"
      ]
     },
     "execution_count": 43,
     "metadata": {},
     "output_type": "execute_result"
    }
   ],
   "source": [
    "scaler.inverse_transform"
   ]
  },
  {
   "cell_type": "code",
   "execution_count": 46,
   "id": "023960a7-7587-4fd2-8f14-fd2664634a73",
   "metadata": {},
   "outputs": [],
   "source": [
    "img_idx = 71\n",
    "\n",
    "img_error = X_test[img_idx]\n",
    "\n",
    "# inverting normalization\n",
    "img_error = scaler.inverse_transform([img_error])\n",
    "\n",
    "# image resolution: 8 x 8\n",
    "img_error = np.reshape(img_error, (8, 8))\n"
   ]
  },
  {
   "cell_type": "code",
   "execution_count": 47,
   "id": "18d39771-b01f-4d4b-aafd-29d8814d855f",
   "metadata": {},
   "outputs": [
    {
     "data": {
      "text/plain": [
       "Text(0.5, 1.0, 'Test Image 71 - True: 5, Predicted: 9')"
      ]
     },
     "execution_count": 47,
     "metadata": {},
     "output_type": "execute_result"
    },
    {
     "data": {
      "image/png": "[encoded data removed]",
      "text/plain": [
       "<Figure size 640x480 with 1 Axes>"
      ]
     },
     "metadata": {},
     "output_type": "display_data"
    }
   ],
   "source": [
    "plt.imshow(img_error, cmap=plt.cm.gray_r, interpolation=\"nearest\")\n",
    "plt.title(f'Test Image {img_idx} - True: {y_test[img_idx]}, Predicted: {y_test_pred[img_idx]}')"
   ]
  },
  {
   "cell_type": "code",
   "execution_count": null,
   "id": "598a2294-6661-4aac-a938-d29ef9cd109e",
   "metadata": {},
   "outputs": [],
   "source": []
  }
 ],
 "metadata": {
  "kernelspec": {
   "display_name": "Python 3 (ipykernel)",
   "language": "python",
   "name": "python3"
  },
  "language_info": {
   "codemirror_mode": {
    "name": "ipython",
    "version": 3
   },
   "file_extension": ".py",
   "mimetype": "text/x-python",
   "name": "python",
   "nbconvert_exporter": "python",
   "pygments_lexer": "ipython3",
   "version": "3.9.5"
  }
 },
 "nbformat": 4,
 "nbformat_minor": 5
}
