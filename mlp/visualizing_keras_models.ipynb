{
 "cells": [
  {
   "cell_type": "markdown",
   "id": "09142599-d99c-4b84-ae6b-4ee2abc7df3a",
   "metadata": {},
   "source": [
    "**D3APL: Aplicações em Ciência de Dados** <br/>\n",
    "IFSP Campinas\n",
    "\n",
    "Prof. Dr. Samuel Martins (Samuka) <br/><br/>\n",
    "\n",
    "<a rel=\"license\" href=\"http://creativecommons.org/licenses/by-nc-sa/4.0/\"><img alt=\"Creative Commons License\" style=\"border-width:0\" src=\"https://i.creativecommons.org/l/by-nc-sa/4.0/88x31.png\" /></a><br />This work is licensed under a <a rel=\"license\" href=\"http://creativecommons.org/licenses/by-nc-sa/4.0/\">Creative Commons Attribution-NonCommercial-ShareAlike 4.0 International License</a>."
   ]
  },
  {
   "cell_type": "markdown",
   "id": "dbed1c92-5c77-4898-8cbb-e847af6f72cc",
   "metadata": {},
   "source": [
    "# Visualizing the Architecture of a Keras Model"
   ]
  },
  {
   "cell_type": "markdown",
   "id": "d2fb8137-7b1b-42e9-b2e9-75711269596c",
   "metadata": {},
   "source": [
    "## 1. Toy Models for Visualization"
   ]
  },
  {
   "cell_type": "markdown",
   "id": "ea2dfa7e-fd1f-47aa-9a15-2898bc34f4ac",
   "metadata": {},
   "source": [
    "### 1.1. MLP for Multiclass Classification\n",
    "- Input Layer: 784 neurons (number of pixels)\n",
    "- Hidden Layer 1: 256 neurons, ReLu, _He initialization_, L2-regularization\n",
    "- Hidden Layer 2: 128 neurons, ReLu, _He initialization_, L2-regularization\n",
    "- Output Layer: 10 neurons, Softmax, _Glorot initialization_ (default), L2-regularization"
   ]
  },
  {
   "cell_type": "code",
   "execution_count": null,
   "id": "b1bfc715-8e7a-4685-b05c-498430d4e03d",
   "metadata": {},
   "outputs": [],
   "source": [
    "from tensorflow.keras import Sequential\n",
    "from tensorflow.keras.layers import InputLayer, Dense\n",
    "\n",
    "clf = Sequential([\n",
    "    InputLayer(input_shape=(784,), name='Input'),\n",
    "    Dense(300, activation=\"relu\", name='Hidden_1'),\n",
    "    Dense(100, activation=\"relu\", name='Hidden_2'),\n",
    "    Dense(10, activation=\"softmax\", name='Output')\n",
    "], name='Multiclass Classification MLP')\n",
    "\n",
    "clf.compile(loss='sparse_categorical_crossentropy', optimizer='sgd', metrics=['accuracy'])"
   ]
  },
  {
   "cell_type": "markdown",
   "id": "e852502e-adef-4497-a416-5069dd7f4436",
   "metadata": {},
   "source": [
    "### 1.2. MLP for Regression\n",
    "- Input Layer: 8 neurons\n",
    "- Hidden Layer: 30 neurons, ReLu, _Glorot initialization_ (default), no regularization\n",
    "- Output Layer: 1 neuron (no activation), _Glorot initialization_ (default), no regularization"
   ]
  },
  {
   "cell_type": "code",
   "execution_count": null,
   "id": "39794edb-7017-4f0c-b8d4-bd9559e58814",
   "metadata": {},
   "outputs": [],
   "source": [
    "from tensorflow.keras import Sequential\n",
    "from tensorflow.keras.layers import Dense\n",
    "\n",
    "reg = Sequential([\n",
    "    Dense(30, activation='relu', input_shape=(8,), name='Hidden'),\n",
    "    Dense(1, name='Output')\n",
    "], name='Regression MLP')\n",
    "\n",
    "reg.compile(loss='mean_squared_error', optimizer='sgd')"
   ]
  },
  {
   "cell_type": "markdown",
   "id": "5b5031bd-b7eb-4ee2-a923-cc75cacad2f9",
   "metadata": {},
   "source": [
    "## 2. Architecture Visualization"
   ]
  },
  {
   "cell_type": "markdown",
   "id": "c75623b1-5f07-4aab-a32a-3961c6687b49",
   "metadata": {},
   "source": [
    "### 2.1 Native Keras method: `summary()`"
   ]
  },
  {
   "cell_type": "markdown",
   "id": "e423726a-8fb5-4d97-8af3-61014444fecd",
   "metadata": {},
   "source": [
    "**Classification MLP**"
   ]
  },
  {
   "cell_type": "code",
   "execution_count": null,
   "id": "bf17da45-e8e4-414f-9259-8dbaa3d343a1",
   "metadata": {},
   "outputs": [],
   "source": [
    "clf.summary()"
   ]
  },
  {
   "cell_type": "markdown",
   "id": "bf6296cf-9111-4fdb-8300-064c8baaf3bc",
   "metadata": {},
   "source": [
    "_None_ means this dimension is variable (for example, the number of training samples, or batch size). <br/>\n",
    "https://stackoverflow.com/a/47241264/7069696"
   ]
  },
  {
   "cell_type": "markdown",
   "id": "6e1c3c92-533d-48cc-b5de-a4c3b47cdd20",
   "metadata": {},
   "source": [
    "**Regression MLP**"
   ]
  },
  {
   "cell_type": "code",
   "execution_count": null,
   "id": "0a17cba8-166e-4829-a89d-177c6832016f",
   "metadata": {},
   "outputs": [],
   "source": [
    "reg.summary()"
   ]
  },
  {
   "cell_type": "markdown",
   "id": "4a615db9-8eb7-4127-bc5c-06ceec0dea82",
   "metadata": {},
   "source": [
    "### 2.2 Native Keras Function: `plot_model`\n",
    "https://www.tensorflow.org/api_docs/python/tf/keras/utils/plot_model"
   ]
  },
  {
   "cell_type": "markdown",
   "id": "d96aef02-e68e-47b3-a903-95ebafe16b4a",
   "metadata": {},
   "source": [
    "Requirements:\n",
    "- `graphviz` software for graph visualization\n",
    "  + `sudo apt-get install graphviz`\n",
    "  + `pip install graphviz`\n",
    "- `pip install pydot`"
   ]
  },
  {
   "cell_type": "code",
   "execution_count": null,
   "id": "0fa8e008-05a2-47ed-b74f-53ffaf9cfede",
   "metadata": {},
   "outputs": [],
   "source": [
    "from tensorflow.keras.utils import plot_model"
   ]
  },
  {
   "cell_type": "markdown",
   "id": "d8c13900-f3bb-4a4b-9d4b-78f10b2fb43b",
   "metadata": {},
   "source": [
    "**Classification MLP**"
   ]
  },
  {
   "cell_type": "code",
   "execution_count": null,
   "id": "e55f264e-6530-443c-84c2-4198955151f1",
   "metadata": {},
   "outputs": [],
   "source": [
    "# vertical\n",
    "plot_model(clf, show_shapes=True, show_layer_activations=True)"
   ]
  },
  {
   "cell_type": "code",
   "execution_count": null,
   "id": "2026c0c2-e931-4229-9416-768027ece402",
   "metadata": {},
   "outputs": [],
   "source": [
    "# horizontal\n",
    "plot_model(clf, show_shapes=True, show_layer_activations=True, rankdir='LR')"
   ]
  },
  {
   "cell_type": "markdown",
   "id": "c74ace51-4703-4679-ad8e-8ec622a18a80",
   "metadata": {},
   "source": [
    "**Regression MLP**"
   ]
  },
  {
   "cell_type": "code",
   "execution_count": null,
   "id": "a8ea7dfa-c719-46e2-b343-c1ddd48adcd0",
   "metadata": {},
   "outputs": [],
   "source": [
    "# horizontal\n",
    "plot_model(reg, show_shapes=True, show_layer_activations=True, rankdir='LR')"
   ]
  },
  {
   "cell_type": "markdown",
   "id": "b82677cd-8a69-445b-b286-555f46456921",
   "metadata": {},
   "source": [
    "### 2.3 keras-visualizer\n",
    "https://github.com/lordmahyar/keras-visualizer <br/>\n",
    "https://towardsdatascience.com/visualizing-keras-models-4d0063c8805e\n",
    "\n",
    "Requirements:\n",
    "- `graphviz` software for graph visualization\n",
    "  + `sudo apt-get install graphviz`\n",
    "  + `pip install graphviz`\n",
    "- `pip install keras-visualizer`"
   ]
  },
  {
   "cell_type": "markdown",
   "id": "de069f47-9bff-45da-9df4-c151963d90e9",
   "metadata": {},
   "source": [
    "**Classification MLP**"
   ]
  },
  {
   "cell_type": "code",
   "execution_count": null,
   "id": "e9f170c0-73d2-405b-9e47-d76894db1edc",
   "metadata": {},
   "outputs": [],
   "source": [
    "from keras_visualizer import visualizer"
   ]
  },
  {
   "cell_type": "code",
   "execution_count": null,
   "id": "9617a1a8-5187-4b74-989f-92758b975383",
   "metadata": {},
   "outputs": [],
   "source": [
    "# it requires to save the visualization in the disk\n",
    "visualizer(clf, filename='./screenshots/classification_mlp', format='png', view=True)"
   ]
  },
  {
   "cell_type": "markdown",
   "id": "06789e2e-ca0e-4e38-9e68-5b91c9ce402c",
   "metadata": {},
   "source": [
    "**NB:** The visualization **is not totally correct**. Note that the activation function at the output layer was printed as _ReLU_ but it is actually _softmax_. <br/>\n",
    "https://github.com/lordmahyar/keras-visualizer/issues/2"
   ]
  },
  {
   "cell_type": "markdown",
   "id": "7c90a4d0-7451-4727-812d-08c2fa867bdd",
   "metadata": {},
   "source": [
    "**Regression MLP**"
   ]
  },
  {
   "cell_type": "code",
   "execution_count": null,
   "id": "f300c121-eb3a-4796-981c-e235547cfe77",
   "metadata": {},
   "outputs": [],
   "source": [
    "visualizer(reg, filename='./screenshots/regression_mlp', format='png', view=True)"
   ]
  },
  {
   "cell_type": "markdown",
   "id": "6becd717-f36e-43a2-9d37-12ce70f16c17",
   "metadata": {},
   "source": [
    "**NB:** The same problem happens here!."
   ]
  },
  {
   "cell_type": "markdown",
   "id": "a3542eb6-d992-499f-9ac6-8771676123c6",
   "metadata": {},
   "source": [
    "### 2.4 visualkeras\n",
    "https://github.com/paulgavrikov/visualkeras <br/>\n",
    "https://analyticsindiamag.com/how-to-visualize-deep-learning-models-using-visualkeras/#:~:text=Visualkeras%20is%20a%20python%20package,style%20architecture%20of%20neural%20networks.\n",
    "\n",
    "More indicated for Deep Neural Networks, especially CNNs.\n",
    "\n",
    "Requirements:\n",
    "- `pip install visualkeras`"
   ]
  },
  {
   "cell_type": "markdown",
   "id": "dbea8a2c-6f15-4086-abe9-17fb094c7621",
   "metadata": {},
   "source": [
    "**Classification MLP**"
   ]
  },
  {
   "cell_type": "code",
   "execution_count": null,
   "id": "05999ff8-583a-4025-9e4c-24d49c9f8a56",
   "metadata": {},
   "outputs": [],
   "source": [
    "import visualkeras"
   ]
  },
  {
   "cell_type": "code",
   "execution_count": null,
   "id": "bdb444f8-2ace-44bc-bb6a-f8c66e2dc1ad",
   "metadata": {},
   "outputs": [],
   "source": [
    "visualkeras.layered_view(clf).show() # display using your system viewer"
   ]
  },
  {
   "cell_type": "code",
   "execution_count": null,
   "id": "9cd5c10d-c29f-405e-b7c9-a2d89ae7c164",
   "metadata": {},
   "outputs": [],
   "source": [
    "visualkeras.layered_view(clf, legend=True, draw_volume=False, scale_z=1).show() # display using your system viewer"
   ]
  },
  {
   "cell_type": "code",
   "execution_count": null,
   "id": "3cb62443-77ac-4155-ac76-db3c0055cdbb",
   "metadata": {},
   "outputs": [],
   "source": [
    "visualkeras.layered_view(clf, legend=True, draw_volume=False, to_file='./screenshots/classification_mlp_visualkeras.png').show() # write and show"
   ]
  },
  {
   "cell_type": "markdown",
   "id": "c5b8510e-79f8-4bfb-a289-640eada30661",
   "metadata": {},
   "source": [
    "**Regression MLP**"
   ]
  },
  {
   "cell_type": "code",
   "execution_count": null,
   "id": "bc6bdcf5-059a-48d9-a143-5a89f8b604cd",
   "metadata": {},
   "outputs": [],
   "source": [
    "visualkeras.layered_view(reg, legend=True, draw_volume=False, scale_z=1).show() # display using your system viewer"
   ]
  },
  {
   "cell_type": "markdown",
   "id": "1a7ea379-ed93-49f7-a8b4-318e3ce40ca5",
   "metadata": {},
   "source": [
    "### 2.5 Netron\n",
    "https://netron.app/\n",
    "\n",
    "Save the model into a file and load it on Netron."
   ]
  },
  {
   "cell_type": "code",
   "execution_count": null,
   "id": "fb5435c2-b15f-4400-98e6-54fb9fbd2d14",
   "metadata": {},
   "outputs": [],
   "source": [
    "clf.save('./models/toy_classification_mlp.h5')\n",
    "clf.save('./models/toy_regression_mlp.h5')"
   ]
  },
  {
   "cell_type": "markdown",
   "id": "e4f923ca-8388-449f-b615-f1de37524f32",
   "metadata": {},
   "source": [
    "### 2.6 Other tools\n",
    "- https://github.com/ashishpatel26/Tools-to-Design-or-Visualize-Architecture-of-Neural-Network"
   ]
  }
 ],
 "metadata": {
  "kernelspec": {
   "display_name": "Python 3",
   "language": "python",
   "name": "python3"
  },
  "language_info": {
   "codemirror_mode": {
    "name": "ipython",
    "version": 3
   },
   "file_extension": ".py",
   "mimetype": "text/x-python",
   "name": "python",
   "nbconvert_exporter": "python",
   "pygments_lexer": "ipython3",
   "version": "3.8.5"
  }
 },
 "nbformat": 4,
 "nbformat_minor": 5
}
